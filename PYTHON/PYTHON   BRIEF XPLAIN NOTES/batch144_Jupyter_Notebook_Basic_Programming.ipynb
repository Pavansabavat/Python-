{
 "cells": [
  {
   "cell_type": "markdown",
   "metadata": {
    "id": "vZupmzy3zuzE"
   },
   "source": [
    "## Introduction to Python"
   ]
  },
  {
   "cell_type": "markdown",
   "metadata": {
    "id": "KxT1s-8gzuzH"
   },
   "source": [
    "### Agenda:\n",
    "+ ### What is Jupyter Notebook?\n",
    "+ ### How to Use Jupyter Notebook?\n",
    "+ ### Short cuts in Jupyter Notebook!\n",
    "+ ### What is Python?\n",
    "+ ### What is Variable?\n",
    "+ ### What is datatype?\n",
    "+ ### Whar are Literals?\n",
    "+ ### Whar is Operator?"
   ]
  },
  {
   "cell_type": "markdown",
   "metadata": {
    "id": "KC5sbaKmzuzI"
   },
   "source": [
    "# What is Jupyter?\n",
    "Jupyter is an IDE typically used to develop data analysis and data science solutions. Jupyter, in its early days was called IPython(Hence the extension - ipynb) but it was changed to Jupyter to reflect the inclusion of support for other programming languages. It actually provides support for 40+ languages. The name Jupyter is an amalgamation of the major programming languages it supports - `JUlia PYTon E R`"
   ]
  },
  {
   "cell_type": "markdown",
   "metadata": {
    "id": "vKAC29JMzuzI"
   },
   "source": [
    "### Reason to use Jupyter\n",
    "There are two major reasons we're using Jupyter over other IDEs\n",
    "- Jupyter has the provision to include rich media(images, hyperlinks, plots, graphs, audio, text formatting etc..)\n",
    "- Debugging in Jupyter is much more easier compared to other IDEs/Editors"
   ]
  },
  {
   "cell_type": "markdown",
   "metadata": {
    "id": "zQV77YLPzuzJ"
   },
   "source": [
    "# Few keyboard shortcuts:\n",
    "- `Esc` + `M`: Convert a coding cell into markdown\n",
    "- `Esc` + `Y`: Convert a markdown cell into the code mode\n",
    "- `Shift` + `Enter`: To execute/run the current cell\n",
    "- `Esc` + `A`: To add a new cell atop the current cell\n",
    "- `Esc` + `B`: To add a new cell below the current cell\n",
    "- `Esc` + `DD`: To delete the current cell"
   ]
  },
  {
   "cell_type": "markdown",
   "metadata": {
    "id": "HYzmN4vmzuzJ"
   },
   "source": [
    "# Headings\n",
    "Headings are important in documents as they lead the reader in on what is the topic being dealt. Jupyter makes use of Hashes(#) to indicate Headings.\n",
    "\n",
    "Syntax:\n",
    "    #s text"
   ]
  },
  {
   "cell_type": "markdown",
   "metadata": {
    "id": "Y5x6uU7ZzuzK"
   },
   "source": [
    "# H1\n",
    "## H2\n",
    "### H3\n",
    "#### H4\n",
    "##### H5\n",
    "###### H6"
   ]
  },
  {
   "cell_type": "markdown",
   "metadata": {
    "id": "8l2UcPeazuzL"
   },
   "source": [
    "# Blockquote\n",
    "Blockquotes can be considered as sub-articles or specialized sections in the article where terms which need further explanantion are explained.\n",
    "\n",
    "Syntax:\n",
    "\n",
    "    > text"
   ]
  },
  {
   "cell_type": "markdown",
   "metadata": {
    "id": "vQcVih_EzuzL"
   },
   "source": [
    "Line1  \n",
    "Line2  \n",
    "> Term1  \n",
    "\n",
    "Line3  \n",
    "Line4  \n",
    "Line5  \n",
    "> Term21  \n",
    "> Term22\n",
    "\n",
    "Line6"
   ]
  },
  {
   "cell_type": "markdown",
   "metadata": {
    "id": "nGtFGSlqzuzM"
   },
   "source": [
    "# Text Highlighting\n",
    "Text in jupyter can be highlighted by enclosing it in backticks(`)"
   ]
  },
  {
   "cell_type": "markdown",
   "metadata": {
    "id": "kjakL8-3zuzM"
   },
   "source": [
    "# Text emphasis\n",
    "We can emphasize a text in jupyter by either putting it in bold or italics\n",
    "\n",
    "**Bold** is bolded and *italics* is italicized"
   ]
  },
  {
   "cell_type": "markdown",
   "metadata": {
    "id": "cxIJvw4-zuzN"
   },
   "source": [
    "# What is python?\n",
    "- Python is an interpreted, high-level, multipurpose programming language. The version of python we'll using is python 3"
   ]
  },
  {
   "cell_type": "markdown",
   "metadata": {
    "id": "dWJBEJ5DzuzN"
   },
   "source": [
    "### Some interesting aspects in python:\n",
    "- Python is a great language to start programming with because of it's ease of use and its english-like syntax\n",
    "- Python uses indentations to define scope whereas other programming languges might use flower brackets\n",
    "- Python uses new lines to indicate the end of line in a program instead of using semi colons"
   ]
  },
  {
   "cell_type": "markdown",
   "metadata": {
    "id": "-3Q0fYBNzuzN"
   },
   "source": [
    "# Why do we use Python?\n",
    "Python and R are the two most ubiquitous languages used in data secience. Python wins over R in the sense that python can be scaled up with data while that's not possible with R. One more win for python is that , python provides us with many libraries and modules to handle data and work with many kinds of machine learning algorithms. Python can handle auditory, visual, textual kinds of information, to name a few. It also provides extensive support for deep learning"
   ]
  },
  {
   "cell_type": "markdown",
   "metadata": {
    "id": "NmlKnQsSzuzO"
   },
   "source": [
    "# Literals and Variables\n",
    "\n",
    "### Literals\n",
    "A literal is nothing but a data types which conveys information. there are many kinds of literals in python where the four main datatypes are:\n",
    "- integral values: `int`\n",
    "- decimal values: `float`\n",
    "- true or false statements: `bool`\n",
    "- text data: `str`   \n",
    "Apart from these, there are many other datas type which we'll we looking at later"
   ]
  },
  {
   "cell_type": "code",
   "execution_count": null,
   "metadata": {
    "id": "tZhBM6RezuzO"
   },
   "outputs": [],
   "source": [
    "a = 2\n",
    "print(type(a))\n",
    "b = 0.5\n",
    "print(type(c))\n",
    "c = \"xyz\"\n",
    "print(type(c))"
   ]
  },
  {
   "cell_type": "code",
   "execution_count": null,
   "metadata": {
    "id": "fLSJli_szuzP"
   },
   "outputs": [],
   "source": []
  },
  {
   "cell_type": "markdown",
   "metadata": {
    "id": "PQd_Tx4pzuzP"
   },
   "source": [
    "### Variable\n",
    "Variables are nothing but place holders to store the literal values. Variables can be accessed by their names and some rules have to be followed while naming variables\n",
    "\n",
    "Naming conventions for variables:\n",
    "- A variable name can only contain alphabets, numbers and under score\n",
    "- A variable name can only start with an underscore or an alphabet\n",
    "- A variable name can't be the same as any keyword(keywords are sequences of characters which have some special meaning to them)\n",
    "- A variable name can't have any spaces between the various parts of the variable. If we want to distinguish them, we can use and underscore or make the variable name CamelCase\n",
    "> variable_name\n",
    "> VariableName\n",
    "- It is suggested that we make our variable names as descriptive as possible\n",
    "> a = 21\n",
    "> age = 21\n",
    "\n",
    "Storing a literal into a variable is called as assigning the variable with a literal and is accomplished using the equality(`=`) symbol"
   ]
  },
  {
   "cell_type": "code",
   "execution_count": null,
   "metadata": {
    "id": "1tmApgeazuzQ"
   },
   "outputs": [],
   "source": [
    "a = 10\n",
    "b = 3.14\n",
    "c = True\n",
    "d = 'Hello'"
   ]
  },
  {
   "cell_type": "code",
   "execution_count": null,
   "metadata": {
    "id": "zhIcnKC9zuzQ"
   },
   "outputs": [],
   "source": [
    "a"
   ]
  },
  {
   "cell_type": "code",
   "execution_count": null,
   "metadata": {
    "id": "Y9gBE6qTzuzQ"
   },
   "outputs": [],
   "source": [
    "b"
   ]
  },
  {
   "cell_type": "code",
   "execution_count": null,
   "metadata": {
    "id": "XBTyav1zzuzQ"
   },
   "outputs": [],
   "source": [
    "a, b, c = 10, 20, 30"
   ]
  },
  {
   "cell_type": "markdown",
   "metadata": {
    "id": "ZTz-TuOtzuzR"
   },
   "source": [
    "# First Python Program"
   ]
  },
  {
   "cell_type": "code",
   "execution_count": null,
   "metadata": {
    "id": "WskcHc2PzuzR"
   },
   "outputs": [],
   "source": [
    "\n",
    "print(\"Welcome to Python\")\n",
    "print(\"Python is fun\")"
   ]
  },
  {
   "cell_type": "markdown",
   "metadata": {
    "id": "d0AjADQKzuzR"
   },
   "source": [
    "### Some of the rules in python\n",
    "**Indentation matters in Python.** Note that the statements are entered from the first column in the new line. The Python interpreter will report an error if the program is typed as follows:\n",
    "\n",
    "\tprint(\"Welcome to Python\")\n",
    "print(\"Python is fun\")\n",
    "\n",
    "**Don’t put any punctuation at the end of a statement**. For example, the Python interpreter will report errors for the following code:\n",
    "\n",
    "print(\"Welcome to Python\").\n",
    "print(\"Python is fun\"),\n",
    "\n",
    "**Python programs are case sensitive.** It would be wrong, for example, to replace print in the program with Print."
   ]
  },
  {
   "cell_type": "code",
   "execution_count": null,
   "metadata": {
    "id": "ouOf0im-zuzR"
   },
   "outputs": [],
   "source": []
  },
  {
   "cell_type": "markdown",
   "metadata": {
    "id": "sEbuNRAdzuzR"
   },
   "source": [
    "# Writing comments in python\n",
    "Comment is not a python statement and thus is ignored by python interpreter. But, it is plain text that documents what the program is and how it is constructed.\n",
    "\n",
    "It is always good to write a comment that describes purpose of each statement included in a program.\n",
    "\n",
    "It increases readability of the program.\n",
    "\n",
    "In Python, one can write comments as:\n",
    "1. Single line comment starting with a pound (#) sign\n",
    "2. Paragraph comment that starts and ends with three consecutive single quotes (''') or three consecutive double quotes (\"\"\")."
   ]
  },
  {
   "cell_type": "code",
   "execution_count": null,
   "metadata": {
    "id": "Bi0GWDJpzuzS"
   },
   "outputs": [],
   "source": [
    "#commenting by '#'\n",
    "#print(\"Johny Johny Yes Papa\")"
   ]
  },
  {
   "cell_type": "code",
   "execution_count": null,
   "metadata": {
    "id": "6PBs2f20zuzS"
   },
   "outputs": [],
   "source": [
    "\"\"\"\n",
    "Paragraph comment that starts and ends with three \n",
    "consecutive single quotes (''') or \n",
    "three consecutive double quotes.\n",
    "\"\"\"\n",
    "print(\"Johny Johny Yes Papa\")\n",
    "print(\"Eating sugar no papa\")\n",
    "print(\"Telling lies no papa\")\n",
    "print(\"Open your mouth ha ha ha\")"
   ]
  },
  {
   "cell_type": "code",
   "execution_count": null,
   "metadata": {
    "id": "IQttS5k6zuzS"
   },
   "outputs": [],
   "source": []
  },
  {
   "cell_type": "markdown",
   "metadata": {
    "id": "Fy3YywTWzuzS"
   },
   "source": [
    "# Python Keywords\n",
    "**Keywords are the pre-defined or built-in words whose meaning is already known to python interpreter.**\n",
    "\n",
    "Keywords are the reserved words in python\n",
    "\n",
    "We can't use a keyword as variable name, function name or any other identifier\n",
    "\n",
    "All the keywords except True, False and None are in lowercase and they must be written as is. "
   ]
  },
  {
   "cell_type": "code",
   "execution_count": null,
   "metadata": {
    "id": "fiGo3rz2zuzS"
   },
   "outputs": [],
   "source": [
    "\n",
    "import keyword\n",
    "\n",
    "print(keyword.kwlist)\n",
    "\n",
    "print(\"Total number of keywords \", len(keyword.kwlist))"
   ]
  },
  {
   "cell_type": "code",
   "execution_count": null,
   "metadata": {
    "id": "PpRdJTpbzuzS"
   },
   "outputs": [],
   "source": [
    "True"
   ]
  },
  {
   "cell_type": "code",
   "execution_count": null,
   "metadata": {
    "id": "S_LQBsOazuzT"
   },
   "outputs": [],
   "source": [
    "False"
   ]
  },
  {
   "cell_type": "markdown",
   "metadata": {
    "id": "CrXsNvbhzuzT"
   },
   "source": [
    "# Identifiers\n",
    "**Identifiers are the user-defined names given to various program elements such as variable, function, class...etc.**\n",
    "\n",
    "**Rules for Writing Identifiers:**\n",
    "\n",
    "1. Identifiers can be a combination of letters in lowercase (a to z) or uppercase (A to Z) or digits (0 to 9) or an underscore (_).\n",
    "\n",
    "2. An identifier cannot start with a digit. 1variable is invalid, but variable1 is perfectly fine.\n",
    "\n",
    "3. Keywords cannot be used as identifiers.\n",
    "\n",
    "4. No special symbol can be used\n",
    "\n",
    "5. An identifier can be of any length.\n",
    "\n",
    "**Note-1**: \n",
    "* Python is a case-sensitive language. This means, the identifiers amount, AMOUNT, and aMouNT are not the same. \n",
    "* Always name identifiers that make sense. For example, num is meaningful compared to x\n",
    "* Multiple words can be separated using an underscore. Ex.,compound_interest\n",
    "* We can also use camel-case style of writing, i.e., capitalize every first letter of the word except the initial word without any spaces. For example: camelCaseExample"
   ]
  },
  {
   "cell_type": "code",
   "execution_count": null,
   "metadata": {
    "id": "boRF4VaAzuzT"
   },
   "outputs": [],
   "source": [
    "global = 1"
   ]
  },
  {
   "cell_type": "code",
   "execution_count": null,
   "metadata": {
    "id": "GzjtKHWkzuzT"
   },
   "outputs": [],
   "source": [
    "a@ = 10             "
   ]
  },
  {
   "cell_type": "markdown",
   "metadata": {
    "id": "h3yJl_VIzuzT"
   },
   "source": [
    "### Note: 2.\n",
    "Python is dynamically typed language. i.e., a variable can hold different types of literals at different times. This is not possible with static-typed languages like C, C++ and Java."
   ]
  },
  {
   "cell_type": "code",
   "execution_count": null,
   "metadata": {
    "id": "3wsCeHMLzuzU"
   },
   "outputs": [],
   "source": [
    "a=10\n",
    "print(type(a))\n",
    "\n",
    "a=23.45\n",
    "print(type(a))\n",
    "\n",
    "a=True\n",
    "print(type(a))\n",
    "\n",
    "a='Hello'\n",
    "print(type(a))"
   ]
  },
  {
   "cell_type": "code",
   "execution_count": null,
   "metadata": {
    "id": "vhXUT-uyzuzU"
   },
   "outputs": [],
   "source": []
  },
  {
   "cell_type": "markdown",
   "metadata": {
    "id": "xFUo4fYozuzU"
   },
   "source": [
    "### Note: 3.\n",
    "In Python, multiple variables are assigned with corresponding values within single assignment statement."
   ]
  },
  {
   "cell_type": "code",
   "execution_count": null,
   "metadata": {
    "id": "fQKwIeFrzuzU"
   },
   "outputs": [],
   "source": [
    "a,b,c=45,67,99\n",
    "print(a)\n",
    "print(b)\n",
    "print(c)"
   ]
  },
  {
   "cell_type": "code",
   "execution_count": null,
   "metadata": {
    "id": "6P5_qYpMzuzU"
   },
   "outputs": [],
   "source": [
    "a,b=10,20\n",
    "temp=a\n",
    "a=b\n",
    "b=temp\n",
    "print(a,b)"
   ]
  },
  {
   "cell_type": "markdown",
   "metadata": {
    "id": "_M-o8zwYzuzU"
   },
   "source": [
    "### Note: 4. Type Conversion\n",
    "You can convert one variable type to another type using type(value)"
   ]
  },
  {
   "cell_type": "code",
   "execution_count": null,
   "metadata": {
    "id": "GEmPKDN6zuzU"
   },
   "outputs": [],
   "source": [
    "int('23') \n",
    "float('23.45')\n",
    "str(23)\n",
    "bool(0)"
   ]
  },
  {
   "cell_type": "code",
   "execution_count": null,
   "metadata": {
    "id": "zRTWGm6RzuzV"
   },
   "outputs": [],
   "source": []
  },
  {
   "cell_type": "code",
   "execution_count": null,
   "metadata": {
    "id": "dpWyb4MVzuzV"
   },
   "outputs": [],
   "source": []
  },
  {
   "cell_type": "markdown",
   "metadata": {
    "id": "YbCOEoPLzuzV"
   },
   "source": [
    "# Operators and Expressions\n",
    "\n",
    "Operator is a predefined symbol that performs operation using operands.\n",
    "e.g., + is an operator that performs addition using two operands.\n",
    "\n",
    "Expression is collection of operands (literals/variables) and operators that when evaluated gives some result.\n",
    "e.g., (2+3)-5 is an expression that returns result 0. \n",
    "\n",
    "For each operator, please know:\n",
    "1. arity: no.of operands an operator acts upon\n",
    "2. operation: activity\n",
    "3. precedence: priority of evaluation\n",
    "4. Associativity: Order of evaluation"
   ]
  },
  {
   "cell_type": "markdown",
   "metadata": {
    "id": "qtSr5ab-zuzV"
   },
   "source": [
    "### Arithmatics operators"
   ]
  },
  {
   "cell_type": "code",
   "execution_count": null,
   "metadata": {
    "id": "F6DWjohbzuzV",
    "outputId": "32cdcb29-4209-4b57-be94-c9b5dcf04832"
   },
   "outputs": [
    {
     "name": "stdout",
     "output_type": "stream",
     "text": [
      "x + y = 19\n",
      "x - y = 11\n",
      "x * y = 60\n",
      "x / y = 3.75\n",
      "x // y = 3\n",
      "x ** y = 50625\n",
      "x % y  = 3\n"
     ]
    }
   ],
   "source": [
    "x = 15\n",
    "y = 4\n",
    "print('x + y =',x+y)\n",
    "print('x - y =',x-y)\n",
    "print('x * y =',x*y)\n",
    "print('x / y =',x/y)\n",
    "print('x // y =',x//y)\n",
    "print('x ** y =',x**y)\n",
    "print('x % y  =',x%y)"
   ]
  },
  {
   "cell_type": "markdown",
   "metadata": {
    "id": "luYu8IkQzuzW"
   },
   "source": [
    "### Logical Operators"
   ]
  },
  {
   "cell_type": "code",
   "execution_count": null,
   "metadata": {
    "id": "4_dI7eCIzuzW",
    "outputId": "7f6d35ee-e0d9-4176-b873-fd029f381379"
   },
   "outputs": [
    {
     "name": "stdout",
     "output_type": "stream",
     "text": [
      "x and y is False\n",
      "x or y is True\n",
      "not x is False\n"
     ]
    }
   ],
   "source": [
    "x = True\n",
    "y = False\n",
    "print('x and y is',x and y)\n",
    "print('x or y is',x or y)\n",
    "print('not x is',not x)"
   ]
  },
  {
   "cell_type": "code",
   "execution_count": null,
   "metadata": {
    "id": "6NpyB9ybzuzW"
   },
   "outputs": [],
   "source": [
    "x = True\n",
    "y = False\n",
    "print('x and y is',x and y)\n",
    "print('x or y is',x or y)\n",
    "print('not x is',not x)"
   ]
  },
  {
   "cell_type": "code",
   "execution_count": null,
   "metadata": {
    "id": "_lrKs7E7zuzW",
    "outputId": "02f51775-d89e-40b8-de51-9cfa3c6fec63"
   },
   "outputs": [
    {
     "data": {
      "text/plain": [
       "'0b10'"
      ]
     },
     "execution_count": 3,
     "metadata": {},
     "output_type": "execute_result"
    }
   ],
   "source": [
    "bin(2)"
   ]
  },
  {
   "cell_type": "markdown",
   "metadata": {
    "id": "WzIxCY3SzuzW"
   },
   "source": [
    "### Bitwise operators"
   ]
  },
  {
   "cell_type": "code",
   "execution_count": 1,
   "metadata": {
    "id": "6WAumGOnzuzW",
    "outputId": "9bde2966-3ccc-4ca1-d254-2d1d77f82aff"
   },
   "outputs": [
    {
     "name": "stdout",
     "output_type": "stream",
     "text": [
      "x & y = 2\n",
      "x | y = 7\n",
      "x ^ y = 5\n",
      "~x = -3\n",
      "x<<2 = 8\n",
      "x >> 2 = 0\n"
     ]
    }
   ],
   "source": [
    "x = 2\n",
    "y = 7\n",
    "print('x & y =',x&y)\n",
    "print('x | y =',x|y)\n",
    "print('x ^ y =',x^y)\n",
    "print('~x =',~x)\n",
    "print('x<<2 =',x<<2)\n",
    "print('x >> 2 =',x>>2)"
   ]
  },
  {
   "cell_type": "markdown",
   "metadata": {
    "id": "b952HnbpzuzX"
   },
   "source": [
    "### Identity operators"
   ]
  },
  {
   "cell_type": "code",
   "execution_count": null,
   "metadata": {
    "id": "YWPczwsAzuzX",
    "outputId": "b367e84f-ba3d-4d43-e60a-ee50be625276"
   },
   "outputs": [
    {
     "name": "stdout",
     "output_type": "stream",
     "text": [
      "True\n",
      "True\n",
      "False\n"
     ]
    }
   ],
   "source": [
    "x1 = 5\n",
    "y1 = 5\n",
    "x2 = 'Hello'\n",
    "y2 = 'Hello'\n",
    "x3 = [1,2,3]\n",
    "y3 = [1,2,3]\n",
    "print(x1 is y1)\n",
    "print(x2 is y2)\n",
    "print(x3 is y3)"
   ]
  },
  {
   "cell_type": "markdown",
   "metadata": {
    "id": "oV41QUUgzuzX"
   },
   "source": [
    "###  Assignment operators"
   ]
  },
  {
   "cell_type": "code",
   "execution_count": null,
   "metadata": {
    "id": "gb_H7h56zuzX",
    "outputId": "0ec8b92b-5cd9-4781-a341-e9369067a410"
   },
   "outputs": [
    {
     "name": "stdout",
     "output_type": "stream",
     "text": [
      "x= 15\n",
      "x += y = 19\n",
      "x -= y = 15\n",
      "x *= y = 60\n",
      "x /= y = 15.0\n",
      "x //= y = 3.0\n",
      "x **= y = 81.0\n",
      "x &= y = 0\n",
      "x | =y = 4\n",
      "x ^= y = 0\n",
      "x<<=2 = 0\n",
      "x >>= 2 = 0\n"
     ]
    }
   ],
   "source": [
    "x = 15\n",
    "y = 4\n",
    "print('x=',x)\n",
    "x+=y\n",
    "print('x += y =',x)\n",
    "x-=y\n",
    "print('x -= y =',x)\n",
    "x*=y\n",
    "print('x *= y =',x)\n",
    "x/=y\n",
    "print('x /= y =',x)\n",
    "x//=y\n",
    "print('x //= y =',x)\n",
    "x**=y\n",
    "print('x **= y =',x)\n",
    "\n",
    "x=int(x)\n",
    "x&=y\n",
    "print('x &= y =',x)\n",
    "x|=y\n",
    "print('x | =y =',x)\n",
    "x^=y\n",
    "print('x ^= y =',x)\n",
    "x<<=2\n",
    "print('x<<=2 =',x)\n",
    "x>>=2\n",
    "print('x >>= 2 =',x)"
   ]
  },
  {
   "cell_type": "markdown",
   "metadata": {
    "id": "5T8aX-MGzuzX"
   },
   "source": [
    "### Membership operators:\n",
    "`in` and `not in` are the membership operators in Python. They are used to test whether a value or variable is found in a sequence (string, list, tuple, set and dictionary)."
   ]
  },
  {
   "cell_type": "code",
   "execution_count": null,
   "metadata": {
    "id": "jMTAzphGzuzY",
    "outputId": "29732606-c950-4f61-f05f-16cae2b28da8"
   },
   "outputs": [
    {
     "name": "stdout",
     "output_type": "stream",
     "text": [
      "True\n",
      "True\n",
      "True\n",
      "False\n"
     ]
    }
   ],
   "source": [
    "x = 'Hello world'\n",
    "y = {1:'a',2:'b'}\n",
    "\n",
    "print('H' in x)\n",
    "print('hello' not in x)\n",
    "print(1 in y)\n",
    "print('a' in y)"
   ]
  },
  {
   "cell_type": "code",
   "execution_count": null,
   "metadata": {
    "id": "4tzKGHOOzuzY"
   },
   "outputs": [],
   "source": []
  }
 ],
 "metadata": {
  "colab": {
   "name": "batch144_Jupyter Notebook_Basic Programming.ipynb",
   "provenance": []
  },
  "kernelspec": {
   "display_name": "Python 3 (ipykernel)",
   "language": "python",
   "name": "python3"
  },
  "language_info": {
   "codemirror_mode": {
    "name": "ipython",
    "version": 3
   },
   "file_extension": ".py",
   "mimetype": "text/x-python",
   "name": "python",
   "nbconvert_exporter": "python",
   "pygments_lexer": "ipython3",
   "version": "3.9.7"
  }
 },
 "nbformat": 4,
 "nbformat_minor": 1
}
