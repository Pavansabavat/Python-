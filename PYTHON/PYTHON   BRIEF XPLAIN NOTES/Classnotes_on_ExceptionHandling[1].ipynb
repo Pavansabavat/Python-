{
 "cells": [
  {
   "cell_type": "markdown",
   "metadata": {},
   "source": [
    "# Today's Agenda\n",
    "\n",
    "#### Exception Handling\n",
    "> ### What is error?\n",
    "> ### What is the difference between error and exception?\n",
    "> ### What is try, except and finally\n",
    "> ### Why should we handle exceptions?"
   ]
  },
  {
   "cell_type": "code",
   "execution_count": null,
   "metadata": {},
   "outputs": [],
   "source": [
    "names_list = []\n",
    "corresponding_marks = []\n",
    "try:\n",
    "    file = open(\"students_marks.txt\", \"r\")\n",
    "    for i in file:\n",
    "        i = i.strip()\n",
    "        name,mark = i.split(\": \")\n",
    "        names_list.append(name)\n",
    "        corresponding_marks.append(int(mark))\n",
    "        \n",
    "finally:\n",
    "    file.close()"
   ]
  },
  {
   "cell_type": "code",
   "execution_count": null,
   "metadata": {},
   "outputs": [],
   "source": [
    "names_list"
   ]
  },
  {
   "cell_type": "code",
   "execution_count": null,
   "metadata": {},
   "outputs": [],
   "source": [
    "corresponding_marks"
   ]
  },
  {
   "cell_type": "code",
   "execution_count": null,
   "metadata": {},
   "outputs": [],
   "source": [
    "def stdsWithMrksBtw(studentsList,marksList,minMarks,maxMarks):\n",
    "    dict_students = {}\n",
    "    for i in range(len(marksList)):\n",
    "        if((marksList[i] >= minMarks) and (marksList[i] <= maxMarks)):\n",
    "            #print(studentsList[i],marksList[i])\n",
    "            dict_students[studentsList[i]] = marksList[i]\n",
    "    return dict_students\n",
    "    "
   ]
  },
  {
   "cell_type": "code",
   "execution_count": null,
   "metadata": {},
   "outputs": [],
   "source": [
    "def stdsWithMrksBtw_withBug(studentsList,marksList,minMarks,maxMarks):\n",
    "    dict_students = {}\n",
    "    for i in range(len(marksList)):\n",
    "        if((marksList[i] >= minMarks) or (marksList[i] <= maxMarks)):\n",
    "            #print(studentsList[i],marksList[i])\n",
    "            dict_students[studentsList[i]] = marksList[i]\n",
    "    return dict_students"
   ]
  },
  {
   "cell_type": "code",
   "execution_count": null,
   "metadata": {},
   "outputs": [],
   "source": [
    "print(stdsWithMrksBtw(names_list,corresponding_marks,35,80))"
   ]
  },
  {
   "cell_type": "code",
   "execution_count": null,
   "metadata": {},
   "outputs": [],
   "source": [
    "print(stdsWithMrksBtw_withBug(names_list,corresponding_marks,35,80))"
   ]
  },
  {
   "cell_type": "code",
   "execution_count": null,
   "metadata": {},
   "outputs": [],
   "source": [
    "def stdsWithMrksBtwAsList(studentsList,marksList,minMarks,maxMarks):\n",
    "    output_list = []\n",
    "    for i in range(len(marksList)):\n",
    "        if((marksList[i] >= minMarks) and (marksList[i] <= maxMarks)):\n",
    "            tuple_variable = (studentsList[i],marksList[i])\n",
    "            output_list.append(tuple_variable)\n",
    "    return output_list\n",
    "            "
   ]
  },
  {
   "cell_type": "code",
   "execution_count": null,
   "metadata": {},
   "outputs": [],
   "source": [
    "print(stdsWithMrksBtwAsList(names_list,corresponding_marks,35,80))"
   ]
  },
  {
   "cell_type": "markdown",
   "metadata": {},
   "source": [
    "# Exception Handling"
   ]
  },
  {
   "cell_type": "code",
   "execution_count": null,
   "metadata": {},
   "outputs": [],
   "source": []
  },
  {
   "cell_type": "markdown",
   "metadata": {},
   "source": [
    "#### Exception handling enables a program to deal with exceptions and continue its normal execution.\n",
    "\n",
    "#### When writing a program, we, more often than not, will encounter errors.\n",
    "\n",
    "#### Error caused by not following the proper structure (syntax) of the language is called syntax error or parsing error."
   ]
  },
  {
   "cell_type": "code",
   "execution_count": null,
   "metadata": {},
   "outputs": [],
   "source": [
    "a = 2\n",
    "if (a < 3):\n",
    "    print(a)"
   ]
  },
  {
   "cell_type": "code",
   "execution_count": null,
   "metadata": {},
   "outputs": [],
   "source": []
  },
  {
   "cell_type": "code",
   "execution_count": null,
   "metadata": {},
   "outputs": [],
   "source": []
  },
  {
   "cell_type": "markdown",
   "metadata": {},
   "source": [
    "`Errors` can also occur at runtime and these are called exceptions. They occur, for example, when a file we try to open does not exist (FileNotFoundError), dividing a number by zero (ZeroDivisionError), module we try to import is not found (ImportError) etc.\n",
    "\n",
    "Whenever these type of runtime error occur, Python creates an exception object. If not handled properly, it prints a traceback to that error along with some details about why that error occurred."
   ]
  },
  {
   "cell_type": "code",
   "execution_count": null,
   "metadata": {},
   "outputs": [],
   "source": [
    "a = 2\n",
    "b = int(input(\"enter a integer value\"))\n",
    "c = a/b\n",
    "print(c)"
   ]
  },
  {
   "cell_type": "code",
   "execution_count": null,
   "metadata": {},
   "outputs": [],
   "source": [
    "a = 2\n",
    "b = int(input(\"enter a integer value\"))\n",
    "try:\n",
    "    c = a/b\n",
    "    print(c)\n",
    "except ZeroDivisionError:\n",
    "    print(\"Oops!!! You entered zero. No division can be performed\")"
   ]
  },
  {
   "cell_type": "markdown",
   "metadata": {},
   "source": [
    "The lengthy error message is called a stack traceback or traceback. The traceback gives information on the statement that caused the error by tracing back to the function calls that led to this statement. The line numbers of the function calls are displayed in the error message for tracing the errors.\n",
    "\n",
    "How can you deal with an exception so that the program can catch the error and prompt the user to enter a correct number? This can be done using Python’s exception handling syntax.\n",
    "\n",
    "In Python, exceptions can be handled using a **try statement**. A critical operation which can raise exception is placed inside the try clause and the code that handles exception is written in **except clause**.It is up to us, what operations we perform once we have caught the exception."
   ]
  },
  {
   "cell_type": "code",
   "execution_count": null,
   "metadata": {},
   "outputs": [],
   "source": [
    "a = 2\n",
    "b = int(input(\"enter a integer value\"))\n",
    "try:\n",
    "    c = a/b\n",
    "    print(c)\n",
    "except ZeroDivisionError:\n",
    "    print(\"Oops!!! You entered zero. No division can be performed\")"
   ]
  },
  {
   "cell_type": "code",
   "execution_count": null,
   "metadata": {},
   "outputs": [],
   "source": [
    "import sys\n",
    "randomList = ['a', 0,4, '1.3',2]\n",
    "for entry in randomList:\n",
    "    try:\n",
    "        print(\"The entry is\", entry)\n",
    "        r = 1/int(entry)\n",
    "        break\n",
    "    except:\n",
    "        print(\"Oops!\",sys.exc_info()[0],\"occured.\")\n",
    "        print(\"Next entry.\")\n",
    "        print()\n",
    "print(\"The reciprocal of\",entry,\"is\",r)"
   ]
  },
  {
   "cell_type": "code",
   "execution_count": null,
   "metadata": {},
   "outputs": [],
   "source": [
    "def tryHandling(value):\n",
    "    if (value == 0):\n",
    "        return False\n",
    "    elif((type(value) == str) or (type(value) == float) ):\n",
    "        return False\n",
    "    \n",
    "    else:\n",
    "        return True\n",
    "\n",
    "        \n",
    "randomList = ['a', 0,4, '1.3',2]\n",
    "\n",
    "for entry in randomList:\n",
    "    if(tryHandling(entry)):\n",
    "        r = 1/(int(entry))\n",
    "        print(r)\n",
    "    else:\n",
    "        print(\"{} value is not acceptable\".format(entry))"
   ]
  },
  {
   "cell_type": "markdown",
   "metadata": {},
   "source": [
    "## 2. Catching specific exceptions"
   ]
  },
  {
   "cell_type": "markdown",
   "metadata": {},
   "source": [
    "This is not a good programming practice as it will catch all exceptions and handle every case in the same way. We can specify which exceptions an except clause will catch. A try clause can have any number of except clause to handle them differently but only one will be executed in case an exception occurs. We can use a tuple of values to specify multiple exceptions in an except clause. Here is an example pseudo code.\n",
    "\n",
    "**Note: pass** statement In Python programming, **pass** is a null statement. The difference between a comment and **pass** statement in Python is that, while the interpreter ignores a comment entirely, pass is not ignored. However, nothing happens when pass is executed. It results into no operation (NOP).\n",
    "\n",
    "Suppose we have a loop or a function that is not implemented yet, but we want to implement it in the future. They cannot have an empty body. The interpreter would complain. So, we use the pass statement to construct a body that does nothing."
   ]
  },
  {
   "cell_type": "code",
   "execution_count": null,
   "metadata": {},
   "outputs": [],
   "source": [
    "def xyz():\n",
    "    pass"
   ]
  },
  {
   "cell_type": "code",
   "execution_count": null,
   "metadata": {},
   "outputs": [],
   "source": [
    "class Example:\n",
    "    pass"
   ]
  },
  {
   "cell_type": "markdown",
   "metadata": {},
   "source": [
    "## 3. Raising exceptions"
   ]
  },
  {
   "cell_type": "markdown",
   "metadata": {},
   "source": [
    "exceptions are raised when corresponding errors occur at run time, but we can forcefully raise it using the keyword raise.\n",
    "\n",
    "We can also optionally pass in value to the exception to clarify why that exception was raised.\n",
    "\n",
    "- raise KeyboardInterrupt\n",
    "- raise MemoryError(\"This is an argument\")"
   ]
  },
  {
   "cell_type": "markdown",
   "metadata": {},
   "source": [
    "## Chemistry Ph example\n"
   ]
  },
  {
   "cell_type": "code",
   "execution_count": null,
   "metadata": {},
   "outputs": [],
   "source": [
    "value = float(input(\"enter a value in the range of (0 - 14): \"))\n",
    "try:\n",
    "    if ((value <0) or (value >14)):\n",
    "        raise ValueError(\"You gave invalid input !!!\")\n",
    "    else:\n",
    "        print(\"The entered ph value is :\",value)\n",
    "except ValueError as ve:\n",
    "    print(ve)"
   ]
  },
  {
   "cell_type": "code",
   "execution_count": null,
   "metadata": {},
   "outputs": [],
   "source": []
  },
  {
   "cell_type": "code",
   "execution_count": null,
   "metadata": {},
   "outputs": [],
   "source": [
    "a = int(input(\"Enter first number: \"))\n",
    "b = int(input(\"Enter a second number: \"))\n",
    "\n",
    "try:\n",
    "    if b == 0:\n",
    "        raise ValueError(\"You gave zero !!!\")\n",
    "except ValueError as ve:\n",
    "    print(ve)"
   ]
  },
  {
   "cell_type": "markdown",
   "metadata": {},
   "source": [
    "## 4. try ... finally"
   ]
  },
  {
   "cell_type": "markdown",
   "metadata": {},
   "source": [
    "The try statement in Python can have an optional **finally** clause. This clause is executed no matter what, and is generally used to release external resources.\n",
    "\n",
    "For example, we may be connected to a remote data center through the network or working with a file or working with a Graphical User Interface (GUI).\n",
    "\n",
    "In all these circumstances, we must clean up the resource once used, whether it was successful or not. These actions (closing a file, GUI or disconnecting from network) are performed in the finally clause to guarantee execution."
   ]
  },
  {
   "cell_type": "code",
   "execution_count": null,
   "metadata": {},
   "outputs": [],
   "source": [
    "try:\n",
    "    number1, number2 = eval(input(\"Enter two numbers, separated by a comma: \"))\n",
    "    result = number1 / number2\n",
    "    print(\"Result is\", result)\n",
    "except ZeroDivisionError:\n",
    "    print(\"Division by zero!\")\n",
    "except SyntaxError:\n",
    "    print(\"A comma may be missing in the input\")\n",
    "except:\n",
    "    print(\"Something wrong in the input\")\n",
    "else:\n",
    "    print(\"No exceptions\")\n",
    "finally:\n",
    "    print(\"Whatever circumstances, I will be executed\")"
   ]
  },
  {
   "cell_type": "markdown",
   "metadata": {},
   "source": [
    "## 5. Custom Exceptions\n",
    "sometimes you may need to create custom exceptions that serves your purpose.\n",
    "\n",
    "In Python, users can define such exceptions by creating a new class. This exception class has to be derived, either directly or indirectly, from Exception class. Most of the built-in exceptions are also derived form this class.\n"
   ]
  },
  {
   "cell_type": "code",
   "execution_count": null,
   "metadata": {},
   "outputs": [],
   "source": [
    "# define Python user-defined exceptions\n",
    "class Error(Exception):\n",
    "   \"\"\"Base class for other exceptions\"\"\"\n",
    "   pass\n",
    "\n",
    "class ValueTooSmallError(Error):\n",
    "   \"\"\"Raised when the input value is too small\"\"\"\n",
    "   pass\n",
    "\n",
    "class ValueTooLargeError(Error):\n",
    "   \"\"\"Raised when the input value is too large\"\"\"\n",
    "   pass\n",
    "\n",
    "# our main program\n",
    "# user guesses a number until he/she gets it right\n",
    "\n",
    "# you need to guess this number\n",
    "number = 10\n",
    "\n",
    "while True:\n",
    "    try:\n",
    "        i_num = int(input(\"Enter a number: \"))\n",
    "        if i_num < number:\n",
    "            raise ValueTooSmallError\n",
    "        elif i_num > number:\n",
    "            raise ValueTooLargeError\n",
    "        break\n",
    "    except ValueTooSmallError:\n",
    "        print(\"This value is too small, try again!\")\n",
    "        print()\n",
    "    except ValueTooLargeError:\n",
    "        print(\"This value is too large, try again!\")\n",
    "        print()\n",
    "print(\"Congratulations! You guessed it correctly.\")"
   ]
  },
  {
   "cell_type": "code",
   "execution_count": null,
   "metadata": {},
   "outputs": [],
   "source": []
  }
 ],
 "metadata": {
  "kernelspec": {
   "display_name": "Python 3 (ipykernel)",
   "language": "python",
   "name": "python3"
  },
  "language_info": {
   "codemirror_mode": {
    "name": "ipython",
    "version": 3
   },
   "file_extension": ".py",
   "mimetype": "text/x-python",
   "name": "python",
   "nbconvert_exporter": "python",
   "pygments_lexer": "ipython3",
   "version": "3.9.7"
  }
 },
 "nbformat": 4,
 "nbformat_minor": 4
}
