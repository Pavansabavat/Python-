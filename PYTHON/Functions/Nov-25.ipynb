{
 "cells": [
  {
   "cell_type": "markdown",
   "id": "e25e1eb3",
   "metadata": {},
   "source": [
    "# "
   ]
  },
  {
   "cell_type": "code",
   "execution_count": null,
   "id": "f88cc481",
   "metadata": {},
   "outputs": [],
   "source": []
  },
  {
   "cell_type": "code",
   "execution_count": 1,
   "id": "a4cbcf76",
   "metadata": {},
   "outputs": [],
   "source": [
    "def f1(x=10):\n",
    "    print(x)"
   ]
  },
  {
   "cell_type": "code",
   "execution_count": 2,
   "id": "e7d09718",
   "metadata": {},
   "outputs": [
    {
     "name": "stdout",
     "output_type": "stream",
     "text": [
      "10\n"
     ]
    }
   ],
   "source": [
    "f1()"
   ]
  },
  {
   "cell_type": "code",
   "execution_count": 3,
   "id": "f87c0053",
   "metadata": {},
   "outputs": [],
   "source": [
    "def f1(*x):\n",
    "    print(x)"
   ]
  },
  {
   "cell_type": "code",
   "execution_count": 5,
   "id": "5540cca1",
   "metadata": {},
   "outputs": [
    {
     "name": "stdout",
     "output_type": "stream",
     "text": [
      "(1, 2, 3, 4, 5)\n"
     ]
    }
   ],
   "source": [
    "f1(1,2,3,4,5)"
   ]
  },
  {
   "cell_type": "code",
   "execution_count": 6,
   "id": "31bc29f1",
   "metadata": {},
   "outputs": [],
   "source": [
    "def f2(*x):\n",
    "    for y in x:\n",
    "        print(y)"
   ]
  },
  {
   "cell_type": "code",
   "execution_count": 7,
   "id": "97e2b630",
   "metadata": {},
   "outputs": [
    {
     "name": "stdout",
     "output_type": "stream",
     "text": [
      "1\n",
      "2\n",
      "3\n",
      "4\n",
      "5\n",
      "6\n",
      "b\n"
     ]
    }
   ],
   "source": [
    "f2(1,2,3,4,5,6,\"b\")"
   ]
  },
  {
   "cell_type": "code",
   "execution_count": 9,
   "id": "98b0cde1",
   "metadata": {},
   "outputs": [],
   "source": [
    "def f3(*x):\n",
    "    for y in x:\n",
    "        if y%2==0:\n",
    "            print(y)"
   ]
  },
  {
   "cell_type": "code",
   "execution_count": 10,
   "id": "74629b72",
   "metadata": {},
   "outputs": [
    {
     "name": "stdout",
     "output_type": "stream",
     "text": [
      "2\n",
      "4\n",
      "6\n",
      "8\n",
      "10\n"
     ]
    }
   ],
   "source": [
    "f3(1,2,3,4,5,6,7,8,9,10)"
   ]
  },
  {
   "cell_type": "code",
   "execution_count": 11,
   "id": "3dca5be5",
   "metadata": {},
   "outputs": [],
   "source": [
    "def even(*x):\n",
    "    print(x)\n",
    "    l=[]\n",
    "    for y in x:\n",
    "        if y%2==0:\n",
    "            l.append(y)\n",
    "    return l"
   ]
  },
  {
   "cell_type": "code",
   "execution_count": 12,
   "id": "251aa8fd",
   "metadata": {},
   "outputs": [],
   "source": [
    "even_num=even"
   ]
  },
  {
   "cell_type": "code",
   "execution_count": 13,
   "id": "7b337186",
   "metadata": {},
   "outputs": [
    {
     "name": "stdout",
     "output_type": "stream",
     "text": [
      "(1, 2, 3, 4, 5, 6, 7, 8, 9, 10, 11, 200)\n"
     ]
    },
    {
     "data": {
      "text/plain": [
       "[2, 4, 6, 8, 10, 200]"
      ]
     },
     "execution_count": 13,
     "metadata": {},
     "output_type": "execute_result"
    }
   ],
   "source": [
    "even_num(1,2,3,4,5,6,7,8,9,10,11,200)"
   ]
  },
  {
   "cell_type": "code",
   "execution_count": 14,
   "id": "49972cfa",
   "metadata": {},
   "outputs": [
    {
     "name": "stdout",
     "output_type": "stream",
     "text": [
      "(1, 2, 3, 4, 5, 6, 7, 8, 9, 10, 11, 200)\n"
     ]
    }
   ],
   "source": [
    "z=even(1,2,3,4,5,6,7,8,9,10,11,200)"
   ]
  },
  {
   "cell_type": "code",
   "execution_count": 15,
   "id": "5c42798a",
   "metadata": {},
   "outputs": [
    {
     "data": {
      "text/plain": [
       "[2, 4, 6, 8, 10, 200]"
      ]
     },
     "execution_count": 15,
     "metadata": {},
     "output_type": "execute_result"
    }
   ],
   "source": [
    "z"
   ]
  },
  {
   "cell_type": "code",
   "execution_count": null,
   "id": "126e2805",
   "metadata": {},
   "outputs": [],
   "source": []
  },
  {
   "cell_type": "code",
   "execution_count": null,
   "id": "bb314312",
   "metadata": {},
   "outputs": [],
   "source": []
  },
  {
   "cell_type": "code",
   "execution_count": null,
   "id": "cf58f375",
   "metadata": {},
   "outputs": [],
   "source": []
  },
  {
   "cell_type": "raw",
   "id": "fb9105f4",
   "metadata": {},
   "source": [
    "# Odd"
   ]
  },
  {
   "cell_type": "code",
   "execution_count": 21,
   "id": "ed0135f7",
   "metadata": {},
   "outputs": [],
   "source": [
    "def odd(x):\n",
    "    m=[]\n",
    "    for y in range(len(x)):\n",
    "        if y%2!=0:\n",
    "            m.append(x[y])\n",
    "    return m"
   ]
  },
  {
   "cell_type": "code",
   "execution_count": 22,
   "id": "b40207c2",
   "metadata": {},
   "outputs": [],
   "source": [
    "b=odd(\"abcdefghijk\")"
   ]
  },
  {
   "cell_type": "code",
   "execution_count": 23,
   "id": "28ecbc3d",
   "metadata": {},
   "outputs": [
    {
     "data": {
      "text/plain": [
       "['b', 'd', 'f', 'h', 'j']"
      ]
     },
     "execution_count": 23,
     "metadata": {},
     "output_type": "execute_result"
    }
   ],
   "source": [
    "b"
   ]
  },
  {
   "cell_type": "code",
   "execution_count": null,
   "id": "7a4f5159",
   "metadata": {},
   "outputs": [],
   "source": []
  },
  {
   "cell_type": "raw",
   "id": "19d103e3",
   "metadata": {},
   "source": [
    "# even "
   ]
  },
  {
   "cell_type": "code",
   "execution_count": 24,
   "id": "80a643e5",
   "metadata": {},
   "outputs": [],
   "source": [
    "def even(x):\n",
    "    l=[]\n",
    "    for y in range(len(x)):\n",
    "        if y%2==0:\n",
    "            l.append(x[y])\n",
    "    return l"
   ]
  },
  {
   "cell_type": "code",
   "execution_count": 25,
   "id": "f4e99d08",
   "metadata": {},
   "outputs": [],
   "source": [
    "z=even(\"abcdefghijk\")"
   ]
  },
  {
   "cell_type": "code",
   "execution_count": 26,
   "id": "93d81a72",
   "metadata": {},
   "outputs": [
    {
     "data": {
      "text/plain": [
       "['a', 'c', 'e', 'g', 'i', 'k']"
      ]
     },
     "execution_count": 26,
     "metadata": {},
     "output_type": "execute_result"
    }
   ],
   "source": [
    "z"
   ]
  },
  {
   "cell_type": "code",
   "execution_count": null,
   "id": "2ce6c18d",
   "metadata": {},
   "outputs": [],
   "source": []
  },
  {
   "cell_type": "code",
   "execution_count": 11,
   "id": "2dd3a55e",
   "metadata": {},
   "outputs": [],
   "source": [
    "def f1(x):\n",
    "    l=[]\n",
    "    for y in range(len(x)):\n",
    "        if y%2==0:\n",
    "            l.append(x[y].upper())\n",
    "        elif y%2!=0:\n",
    "            l.append(x[y].lower())\n",
    "    return \"\".join(l)"
   ]
  },
  {
   "cell_type": "code",
   "execution_count": 12,
   "id": "ee247214",
   "metadata": {},
   "outputs": [],
   "source": [
    "a=f1(\"abcdefghik\")"
   ]
  },
  {
   "cell_type": "code",
   "execution_count": 13,
   "id": "0accb507",
   "metadata": {},
   "outputs": [
    {
     "data": {
      "text/plain": [
       "'AbCdEfGhIk'"
      ]
     },
     "execution_count": 13,
     "metadata": {},
     "output_type": "execute_result"
    }
   ],
   "source": [
    "a"
   ]
  },
  {
   "cell_type": "code",
   "execution_count": 46,
   "id": "d4873151",
   "metadata": {},
   "outputs": [],
   "source": [
    "def multi(x,y):\n",
    "    for n in range(x,y+1):\n",
    "        print(\"{} * {} = {}\".format(x,n,x*n))"
   ]
  },
  {
   "cell_type": "code",
   "execution_count": 49,
   "id": "afa7ef21",
   "metadata": {},
   "outputs": [
    {
     "name": "stdout",
     "output_type": "stream",
     "text": [
      "2 * 2 = 4\n",
      "2 * 3 = 6\n",
      "2 * 4 = 8\n",
      "2 * 5 = 10\n",
      "2 * 6 = 12\n",
      "2 * 7 = 14\n"
     ]
    }
   ],
   "source": [
    "multi(2,7)"
   ]
  },
  {
   "cell_type": "code",
   "execution_count": null,
   "id": "7d9cb4c0",
   "metadata": {},
   "outputs": [],
   "source": []
  },
  {
   "cell_type": "code",
   "execution_count": 1,
   "id": "6b43a85d",
   "metadata": {},
   "outputs": [],
   "source": [
    "def f():\n",
    "    print(\"hello\")"
   ]
  },
  {
   "cell_type": "code",
   "execution_count": 2,
   "id": "898b258c",
   "metadata": {},
   "outputs": [
    {
     "name": "stdout",
     "output_type": "stream",
     "text": [
      "hello\n"
     ]
    }
   ],
   "source": [
    "f()"
   ]
  },
  {
   "cell_type": "code",
   "execution_count": 8,
   "id": "ed817ad9",
   "metadata": {},
   "outputs": [],
   "source": [
    "def f1(*x):\n",
    "    print(x)"
   ]
  },
  {
   "cell_type": "code",
   "execution_count": 9,
   "id": "42fb64e6",
   "metadata": {},
   "outputs": [
    {
     "name": "stdout",
     "output_type": "stream",
     "text": [
      "(1, 2, 3, 4, 5, 6, 7, 8, 9)\n"
     ]
    }
   ],
   "source": [
    "f1(1,2,3,4,5,6,7,8,9)"
   ]
  },
  {
   "cell_type": "code",
   "execution_count": 20,
   "id": "bb16cbe8",
   "metadata": {},
   "outputs": [],
   "source": [
    "def f1(*x):\n",
    "    print(x)"
   ]
  },
  {
   "cell_type": "code",
   "execution_count": 22,
   "id": "9f46c58e",
   "metadata": {},
   "outputs": [
    {
     "name": "stdout",
     "output_type": "stream",
     "text": [
      "(1, 2)\n"
     ]
    }
   ],
   "source": [
    "f1(1,2)"
   ]
  },
  {
   "cell_type": "code",
   "execution_count": null,
   "id": "bed2db19",
   "metadata": {},
   "outputs": [],
   "source": []
  }
 ],
 "metadata": {
  "kernelspec": {
   "display_name": "Python 3 (ipykernel)",
   "language": "python",
   "name": "python3"
  },
  "language_info": {
   "codemirror_mode": {
    "name": "ipython",
    "version": 3
   },
   "file_extension": ".py",
   "mimetype": "text/x-python",
   "name": "python",
   "nbconvert_exporter": "python",
   "pygments_lexer": "ipython3",
   "version": "3.9.13"
  }
 },
 "nbformat": 4,
 "nbformat_minor": 5
}
