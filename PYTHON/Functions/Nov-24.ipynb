{
 "cells": [
  {
   "cell_type": "markdown",
   "id": "03c22441",
   "metadata": {},
   "source": [
    "# FUNCTIONS\n",
    "function is a name given to a piece of code\n",
    "1) Built in function                                                                                                           \n",
    "2) User define function"
   ]
  },
  {
   "cell_type": "markdown",
   "id": "02b2748d",
   "metadata": {},
   "source": [
    "# syntax\n",
    "first we have to define the function                                                                                          \n",
    "then we have to call the function"
   ]
  },
  {
   "cell_type": "markdown",
   "id": "f7c232eb",
   "metadata": {},
   "source": [
    "# Advantages of using functions:\n",
    "1) Reusablee                                                                                                                   \n",
    "2) We can make huge code into small pieces(chunks)"
   ]
  },
  {
   "cell_type": "code",
   "execution_count": 1,
   "id": "c8808143",
   "metadata": {},
   "outputs": [],
   "source": [
    "def f1():\n",
    "    print(\"hi\")"
   ]
  },
  {
   "cell_type": "code",
   "execution_count": 2,
   "id": "7d354d52",
   "metadata": {},
   "outputs": [
    {
     "name": "stdout",
     "output_type": "stream",
     "text": [
      "hi\n"
     ]
    }
   ],
   "source": [
    "f1()"
   ]
  },
  {
   "cell_type": "code",
   "execution_count": 3,
   "id": "439ee038",
   "metadata": {},
   "outputs": [],
   "source": [
    "def sum():\n",
    "    x=2\n",
    "    y=9\n",
    "    print(x+y)"
   ]
  },
  {
   "cell_type": "code",
   "execution_count": 4,
   "id": "6ffec9cc",
   "metadata": {},
   "outputs": [
    {
     "name": "stdout",
     "output_type": "stream",
     "text": [
      "11\n"
     ]
    }
   ],
   "source": [
    "sum()"
   ]
  },
  {
   "cell_type": "code",
   "execution_count": 8,
   "id": "b1db7e14",
   "metadata": {},
   "outputs": [],
   "source": [
    "def sum1():\n",
    "    num1=int(input())\n",
    "    num2=int(input())\n",
    "    print(num1+num2)"
   ]
  },
  {
   "cell_type": "code",
   "execution_count": 9,
   "id": "57d12727",
   "metadata": {},
   "outputs": [
    {
     "name": "stdout",
     "output_type": "stream",
     "text": [
      "3\n",
      "3\n",
      "6\n"
     ]
    }
   ],
   "source": [
    "sum1()"
   ]
  },
  {
   "cell_type": "code",
   "execution_count": null,
   "id": "01aedcf1",
   "metadata": {},
   "outputs": [],
   "source": []
  },
  {
   "cell_type": "markdown",
   "id": "fc67f969",
   "metadata": {},
   "source": [
    "# Adavance concept:\n",
    "1) Parameters                                                                                                                \n",
    "2) Arguments"
   ]
  },
  {
   "cell_type": "markdown",
   "id": "fb5e2387",
   "metadata": {},
   "source": [
    "# Parameters:\n",
    "--- Simple Parameters                                                                                                       \n",
    "--- default parameters"
   ]
  },
  {
   "cell_type": "markdown",
   "id": "b2175128",
   "metadata": {},
   "source": [
    "# Arguments:\n",
    "--- positional arguments                                                                                                       \n",
    "--- keyword arguments"
   ]
  },
  {
   "cell_type": "code",
   "execution_count": 9,
   "id": "e3aeb38c",
   "metadata": {},
   "outputs": [],
   "source": [
    "def sum(x,y):\n",
    "    print(x+y)"
   ]
  },
  {
   "cell_type": "code",
   "execution_count": 10,
   "id": "cc564930",
   "metadata": {},
   "outputs": [
    {
     "name": "stdout",
     "output_type": "stream",
     "text": [
      "30\n"
     ]
    }
   ],
   "source": [
    "sum(10,20)"
   ]
  },
  {
   "cell_type": "code",
   "execution_count": 11,
   "id": "9570efbb",
   "metadata": {},
   "outputs": [],
   "source": [
    "def sum(x1,x2,x3,x4):\n",
    "    print(x1+x2+x3+x4)"
   ]
  },
  {
   "cell_type": "code",
   "execution_count": 12,
   "id": "7de34515",
   "metadata": {},
   "outputs": [
    {
     "name": "stdout",
     "output_type": "stream",
     "text": [
      "10\n"
     ]
    }
   ],
   "source": [
    "sum(1,2,3,4)"
   ]
  },
  {
   "cell_type": "code",
   "execution_count": 13,
   "id": "01b38b4f",
   "metadata": {},
   "outputs": [],
   "source": [
    "def sum3(x1=1,x2=2,x3=3,x4=4):\n",
    "    print(x1+x2+x3+x4)"
   ]
  },
  {
   "cell_type": "code",
   "execution_count": 14,
   "id": "e8bba757",
   "metadata": {},
   "outputs": [
    {
     "name": "stdout",
     "output_type": "stream",
     "text": [
      "10\n"
     ]
    }
   ],
   "source": [
    "sum3()"
   ]
  },
  {
   "cell_type": "code",
   "execution_count": 15,
   "id": "c281daaa",
   "metadata": {},
   "outputs": [],
   "source": [
    "def sum4(x1=1,x2=2,x3=3,x4=4):\n",
    "    print(x1+x2+x3+x4)"
   ]
  },
  {
   "cell_type": "code",
   "execution_count": 17,
   "id": "60e129ed",
   "metadata": {},
   "outputs": [
    {
     "name": "stdout",
     "output_type": "stream",
     "text": [
      "24\n"
     ]
    }
   ],
   "source": [
    "sum4(6,6,6,6)"
   ]
  },
  {
   "cell_type": "code",
   "execution_count": 13,
   "id": "fd0f2fe3",
   "metadata": {},
   "outputs": [],
   "source": [
    "def bio(name,age,height):\n",
    "    print(\"my name is {}\".format(name))\n",
    "    print(\"my age is {}\".format(age))\n",
    "    print(\"my height is {}\".format(height))"
   ]
  },
  {
   "cell_type": "code",
   "execution_count": 14,
   "id": "3093983e",
   "metadata": {},
   "outputs": [
    {
     "name": "stdout",
     "output_type": "stream",
     "text": [
      "my name is 26\n",
      "my age is bharath\n",
      "my height is 161\n"
     ]
    }
   ],
   "source": [
    "bio(26,\"bharath\",161)"
   ]
  },
  {
   "cell_type": "code",
   "execution_count": 21,
   "id": "1416c863",
   "metadata": {},
   "outputs": [],
   "source": [
    "def bio1(name,age,height):\n",
    "    print(\"my name is {}\".format(name))\n",
    "    print(\"my age is {}\".format(age))\n",
    "    print(\"my height is {}\".format(height))"
   ]
  },
  {
   "cell_type": "code",
   "execution_count": 22,
   "id": "387e8de8",
   "metadata": {},
   "outputs": [
    {
     "name": "stdout",
     "output_type": "stream",
     "text": [
      "my name is bharath\n",
      "my age is 26\n",
      "my height is 161\n"
     ]
    }
   ],
   "source": [
    "bio1(age=26,name=\"bharath\",height=161)"
   ]
  },
  {
   "cell_type": "code",
   "execution_count": 15,
   "id": "fb040088",
   "metadata": {},
   "outputs": [],
   "source": [
    "def bio(name,age,height):\n",
    "    \"\"\"this is a bio data of bharath\"\"\"\n",
    "    print(\"my name is {}\".format(name))\n",
    "    print(\"my age is {}\".format(age))\n",
    "    print(\"my height is {}\".format(height))"
   ]
  },
  {
   "cell_type": "code",
   "execution_count": 16,
   "id": "df54b007",
   "metadata": {},
   "outputs": [
    {
     "data": {
      "text/plain": [
       "'this is a bio data of bharath'"
      ]
     },
     "execution_count": 16,
     "metadata": {},
     "output_type": "execute_result"
    }
   ],
   "source": [
    "bio.__doc__"
   ]
  },
  {
   "cell_type": "code",
   "execution_count": 17,
   "id": "a53521c6",
   "metadata": {},
   "outputs": [],
   "source": [
    "def calculation(a,sign,b):\n",
    "    \"\"\"this is an calculator\"\"\"\n",
    "    if sign==\"+\":\n",
    "        print(\"{}+{}={}\".format(a,b,a+b))\n",
    "    elif sign==\"-\":\n",
    "        print(\"{}-{}={}\".format(a,b,a-b))"
   ]
  },
  {
   "cell_type": "code",
   "execution_count": 29,
   "id": "81464fa8",
   "metadata": {},
   "outputs": [
    {
     "name": "stdout",
     "output_type": "stream",
     "text": [
      "2+5=7\n"
     ]
    }
   ],
   "source": [
    "calculation(2,\"+\",5)"
   ]
  },
  {
   "cell_type": "code",
   "execution_count": 30,
   "id": "02509e4a",
   "metadata": {},
   "outputs": [
    {
     "data": {
      "text/plain": [
       "'this is an calculator'"
      ]
     },
     "execution_count": 30,
     "metadata": {},
     "output_type": "execute_result"
    }
   ],
   "source": [
    "calculation.__doc__"
   ]
  },
  {
   "cell_type": "code",
   "execution_count": 32,
   "id": "36247958",
   "metadata": {},
   "outputs": [],
   "source": [
    "def calculation1(a=20,sign=\"-\",b=2):\n",
    "    \"\"\"this is an calculator\"\"\"\n",
    "    if sign==\"+\":\n",
    "        print(\"{}+{}={}\".format(a,b,a+b))\n",
    "    elif sign==\"-\":\n",
    "        print(\"{}-{}={}\".format(a,b,a-b))\n",
    "    "
   ]
  },
  {
   "cell_type": "code",
   "execution_count": 33,
   "id": "365a3634",
   "metadata": {},
   "outputs": [
    {
     "name": "stdout",
     "output_type": "stream",
     "text": [
      "20-2=18\n"
     ]
    }
   ],
   "source": [
    "calculation1()"
   ]
  },
  {
   "cell_type": "code",
   "execution_count": 38,
   "id": "558e52b8",
   "metadata": {},
   "outputs": [],
   "source": [
    "def calculation3(a,sign,b):\n",
    "    \"\"\"this is an calculator\"\"\"\n",
    "    if sign==\"+\":\n",
    "        print(\"{}+{}={}\".format(a,b,a+b))\n",
    "    elif sign==\"-\":\n",
    "        print(\"{}-{}={}\".format(a,b,a-b))"
   ]
  },
  {
   "cell_type": "code",
   "execution_count": 40,
   "id": "6b86961a",
   "metadata": {},
   "outputs": [
    {
     "name": "stdout",
     "output_type": "stream",
     "text": [
      "10+2=12\n"
     ]
    }
   ],
   "source": [
    "calculation3(sign=\"+\",a=10,b=2)"
   ]
  },
  {
   "cell_type": "code",
   "execution_count": null,
   "id": "64fb7bde",
   "metadata": {},
   "outputs": [],
   "source": []
  },
  {
   "cell_type": "code",
   "execution_count": null,
   "id": "0b35042d",
   "metadata": {},
   "outputs": [],
   "source": []
  },
  {
   "cell_type": "markdown",
   "id": "4bc3b137",
   "metadata": {},
   "source": [
    "practice:"
   ]
  },
  {
   "cell_type": "code",
   "execution_count": 1,
   "id": "afb00bfe",
   "metadata": {},
   "outputs": [],
   "source": [
    "def f1():\n",
    "    print(\"hi\")"
   ]
  },
  {
   "cell_type": "code",
   "execution_count": 3,
   "id": "b5bd21e1",
   "metadata": {},
   "outputs": [
    {
     "name": "stdout",
     "output_type": "stream",
     "text": [
      "hi\n"
     ]
    }
   ],
   "source": [
    "f1()"
   ]
  },
  {
   "cell_type": "code",
   "execution_count": 5,
   "id": "dbdf83ce",
   "metadata": {},
   "outputs": [],
   "source": [
    "def f1(x,y,z):\n",
    "    print(x+y+z)"
   ]
  },
  {
   "cell_type": "code",
   "execution_count": 7,
   "id": "b15071fe",
   "metadata": {},
   "outputs": [
    {
     "name": "stdout",
     "output_type": "stream",
     "text": [
      "9\n"
     ]
    }
   ],
   "source": [
    "f1(2,3,4)"
   ]
  },
  {
   "cell_type": "code",
   "execution_count": 8,
   "id": "6ee2cff9",
   "metadata": {},
   "outputs": [],
   "source": [
    "def f2(x=1,y=2,z=3):\n",
    "    print(x*y*z)"
   ]
  },
  {
   "cell_type": "code",
   "execution_count": 9,
   "id": "dda18504",
   "metadata": {},
   "outputs": [
    {
     "name": "stdout",
     "output_type": "stream",
     "text": [
      "6\n"
     ]
    }
   ],
   "source": [
    "f2()"
   ]
  },
  {
   "cell_type": "code",
   "execution_count": 10,
   "id": "25e3ea0c",
   "metadata": {},
   "outputs": [],
   "source": [
    "def function(*x):\n",
    "    \n",
    "    for y in x:\n",
    "        print(y)"
   ]
  },
  {
   "cell_type": "code",
   "execution_count": 14,
   "id": "d8dcf5ba",
   "metadata": {},
   "outputs": [
    {
     "name": "stdout",
     "output_type": "stream",
     "text": [
      "1\n",
      "a\n",
      "b\n",
      "c\n",
      "d\n",
      "3\n",
      "4\n",
      "5\n",
      "6\n"
     ]
    }
   ],
   "source": [
    "function(1,\"a\",\"b\",\"c\",\"d\",3,4,5,6)"
   ]
  },
  {
   "cell_type": "code",
   "execution_count": 17,
   "id": "d35b1e46",
   "metadata": {},
   "outputs": [],
   "source": [
    "def f3(*x):\n",
    "    for y in x:\n",
    "        if y%2==0:\n",
    "            print(\"even numbers are : \",y)"
   ]
  },
  {
   "cell_type": "code",
   "execution_count": 18,
   "id": "23488ec6",
   "metadata": {},
   "outputs": [
    {
     "name": "stdout",
     "output_type": "stream",
     "text": [
      "even numbers are :  10\n",
      "even numbers are :  20\n",
      "even numbers are :  30\n",
      "even numbers are :  40\n",
      "even numbers are :  50\n"
     ]
    }
   ],
   "source": [
    "f3(10,15,20,25,30,35,40,45,50)"
   ]
  },
  {
   "cell_type": "code",
   "execution_count": 19,
   "id": "437f81b3",
   "metadata": {},
   "outputs": [],
   "source": [
    "def f4(*y):\n",
    "    \n",
    "    for x in y:\n",
    "        if x%2!=0:\n",
    "            print(x)"
   ]
  },
  {
   "cell_type": "code",
   "execution_count": 20,
   "id": "0983a335",
   "metadata": {},
   "outputs": [
    {
     "name": "stdout",
     "output_type": "stream",
     "text": [
      "15\n",
      "25\n",
      "35\n",
      "3\n",
      "9\n"
     ]
    }
   ],
   "source": [
    "f4(10,15,20,25,30,35,3,6,9,12)"
   ]
  },
  {
   "cell_type": "code",
   "execution_count": 38,
   "id": "cc8ffe58",
   "metadata": {},
   "outputs": [],
   "source": [
    "def function(x,y):\n",
    "    for a in range(x,y+1):\n",
    "        print(x)"
   ]
  },
  {
   "cell_type": "code",
   "execution_count": 39,
   "id": "40494182",
   "metadata": {},
   "outputs": [
    {
     "name": "stdout",
     "output_type": "stream",
     "text": [
      "2\n",
      "2\n",
      "2\n",
      "2\n",
      "2\n",
      "2\n"
     ]
    }
   ],
   "source": [
    "function(2,7)"
   ]
  },
  {
   "cell_type": "code",
   "execution_count": 56,
   "id": "2f49154b",
   "metadata": {},
   "outputs": [],
   "source": [
    "def bhar(*x):\n",
    "    l=[]\n",
    "    for y in x:\n",
    "        if y%2==0:\n",
    "            l.append(y)\n",
    "    return l"
   ]
  },
  {
   "cell_type": "code",
   "execution_count": 58,
   "id": "c1dcfb84",
   "metadata": {},
   "outputs": [],
   "source": [
    "k=bhar(2,3,4,5,6,10,100,101,105,106,200,202,201,205)"
   ]
  },
  {
   "cell_type": "code",
   "execution_count": 59,
   "id": "47c64cdd",
   "metadata": {},
   "outputs": [
    {
     "data": {
      "text/plain": [
       "[2, 4, 6, 10, 100, 106, 200, 202]"
      ]
     },
     "execution_count": 59,
     "metadata": {},
     "output_type": "execute_result"
    }
   ],
   "source": [
    "k"
   ]
  },
  {
   "cell_type": "code",
   "execution_count": 60,
   "id": "e9172c77",
   "metadata": {},
   "outputs": [
    {
     "data": {
      "text/plain": [
       "[90, 10, 10]"
      ]
     },
     "execution_count": 60,
     "metadata": {},
     "output_type": "execute_result"
    }
   ],
   "source": [
    "z=bhar(90,10,43,10,27)\n",
    "z"
   ]
  },
  {
   "cell_type": "code",
   "execution_count": 45,
   "id": "b48a006b",
   "metadata": {},
   "outputs": [
    {
     "name": "stdout",
     "output_type": "stream",
     "text": [
      "2 * 2 = 4 \n",
      "2 * 3 = 6 \n",
      "2 * 4 = 8 \n",
      "2 * 5 = 10 \n",
      "2 * 6 = 12 \n",
      "2 * 7 = 14 \n",
      "2 * 8 = 16 \n",
      "2 * 9 = 18 \n"
     ]
    }
   ],
   "source": [
    "bhar(2,9)"
   ]
  },
  {
   "cell_type": "code",
   "execution_count": null,
   "id": "5a736897",
   "metadata": {},
   "outputs": [],
   "source": []
  },
  {
   "cell_type": "code",
   "execution_count": 61,
   "id": "54a7fa83",
   "metadata": {},
   "outputs": [],
   "source": [
    "def kuns(*x):\n",
    "    k=[]\n",
    "    print(x)\n",
    "    for y in x:\n",
    "        if y%2==0:\n",
    "            k.append(y)\n",
    "    return k"
   ]
  },
  {
   "cell_type": "code",
   "execution_count": 62,
   "id": "f1c6d35d",
   "metadata": {},
   "outputs": [
    {
     "name": "stdout",
     "output_type": "stream",
     "text": [
      "(99, 58, 20, 33, 22, 55, 44, 66, 77, 88, 99, 100)\n"
     ]
    },
    {
     "data": {
      "text/plain": [
       "[58, 20, 22, 44, 66, 88, 100]"
      ]
     },
     "execution_count": 62,
     "metadata": {},
     "output_type": "execute_result"
    }
   ],
   "source": [
    "kuns(99,58,20,33,22,55,44,66,77,88,99,100)"
   ]
  },
  {
   "cell_type": "code",
   "execution_count": 64,
   "id": "4360e16b",
   "metadata": {},
   "outputs": [
    {
     "name": "stdout",
     "output_type": "stream",
     "text": [
      "(10, 15, 20, 25, 30, 45, 40, 50, 60, 60, 70)\n"
     ]
    },
    {
     "data": {
      "text/plain": [
       "[10, 20, 30, 40, 50, 60, 60, 70]"
      ]
     },
     "execution_count": 64,
     "metadata": {},
     "output_type": "execute_result"
    }
   ],
   "source": [
    "kuns(10,15,20,25,30,45,40,50,60,60,70)"
   ]
  },
  {
   "cell_type": "code",
   "execution_count": null,
   "id": "8879f87c",
   "metadata": {},
   "outputs": [],
   "source": []
  },
  {
   "cell_type": "code",
   "execution_count": 65,
   "id": "f07fffdb",
   "metadata": {},
   "outputs": [],
   "source": [
    "def kanna(x):\n",
    "    z=[]\n",
    "    for y in range (len(x)):\n",
    "        if y%2==0:\n",
    "            z.append(x[y])\n",
    "    return z"
   ]
  },
  {
   "cell_type": "code",
   "execution_count": 66,
   "id": "18ce6438",
   "metadata": {},
   "outputs": [],
   "source": [
    "bharath=kanna"
   ]
  },
  {
   "cell_type": "code",
   "execution_count": 67,
   "id": "3a383e55",
   "metadata": {},
   "outputs": [
    {
     "data": {
      "text/plain": [
       "['a', 'c', 'e', 'g', 'i', 'k', 'm', 'o', 'k', 's', 'u', 'x', 'z']"
      ]
     },
     "execution_count": 67,
     "metadata": {},
     "output_type": "execute_result"
    }
   ],
   "source": [
    "bharath(\"abcdefghijklmnopkrstuvxyz\")"
   ]
  },
  {
   "cell_type": "markdown",
   "id": "79770542",
   "metadata": {},
   "source": []
  },
  {
   "cell_type": "code",
   "execution_count": 75,
   "id": "f3a21ac7",
   "metadata": {},
   "outputs": [],
   "source": [
    "def fun(k):\n",
    "    a=[]\n",
    "    \n",
    "    for b in range (len(k)):\n",
    "        if b%2!=0:\n",
    "            a.append(k[b])\n",
    "    return a"
   ]
  },
  {
   "cell_type": "code",
   "execution_count": 76,
   "id": "1f87e477",
   "metadata": {},
   "outputs": [],
   "source": [
    "l=fun"
   ]
  },
  {
   "cell_type": "code",
   "execution_count": 77,
   "id": "b1e8325f",
   "metadata": {},
   "outputs": [
    {
     "data": {
      "text/plain": [
       "['b', 'd', 'f', 'h', 'j', 'l']"
      ]
     },
     "execution_count": 77,
     "metadata": {},
     "output_type": "execute_result"
    }
   ],
   "source": [
    "l(\"abcdefghijklm\")"
   ]
  },
  {
   "cell_type": "code",
   "execution_count": null,
   "id": "91354d6c",
   "metadata": {},
   "outputs": [],
   "source": []
  },
  {
   "cell_type": "markdown",
   "id": "6c78f129",
   "metadata": {},
   "source": [
    "m"
   ]
  },
  {
   "cell_type": "code",
   "execution_count": 92,
   "id": "87d0ab10",
   "metadata": {},
   "outputs": [],
   "source": [
    "def funct(x):\n",
    "    z=[]\n",
    "    for y in range(len(x)):\n",
    "        if y%2==0:\n",
    "            z.append(x[y].upper())\n",
    "        elif y%2!=0:\n",
    "            z.append(x[y].lower())\n",
    "    return \" \".join(z)"
   ]
  },
  {
   "cell_type": "code",
   "execution_count": 93,
   "id": "ea733e62",
   "metadata": {},
   "outputs": [],
   "source": [
    "kuns=funct"
   ]
  },
  {
   "cell_type": "code",
   "execution_count": 94,
   "id": "fc3f01f7",
   "metadata": {},
   "outputs": [
    {
     "name": "stdout",
     "output_type": "stream",
     "text": [
      "A b C d E f G h I j K l M n O p Q r S u V w X y Z\n"
     ]
    }
   ],
   "source": [
    "print(kuns(\"abcdefghijklmnopqrsuvwxyz\"))"
   ]
  },
  {
   "cell_type": "markdown",
   "id": "32c531c0",
   "metadata": {},
   "source": []
  },
  {
   "cell_type": "code",
   "execution_count": 96,
   "id": "288e0b73",
   "metadata": {},
   "outputs": [],
   "source": [
    "def f1(x):\n",
    "    p=[]\n",
    "    for y in range(len(x)):\n",
    "        if y%2==0:\n",
    "            p.append(x[y].lower())\n",
    "        elif y%2!=0:\n",
    "            p.append(x[y].upper())\n",
    "    return \"\".join(p)"
   ]
  },
  {
   "cell_type": "code",
   "execution_count": 97,
   "id": "469afbd6",
   "metadata": {},
   "outputs": [
    {
     "data": {
      "text/plain": [
       "'iNnOmAtIcS KuKaTpAlLy'"
      ]
     },
     "execution_count": 97,
     "metadata": {},
     "output_type": "execute_result"
    }
   ],
   "source": [
    "f1(\"innomatics kukatpally\")"
   ]
  },
  {
   "cell_type": "markdown",
   "id": "f958fd2e",
   "metadata": {},
   "source": [
    "Generators"
   ]
  },
  {
   "cell_type": "code",
   "execution_count": 98,
   "id": "aa1b3735",
   "metadata": {},
   "outputs": [],
   "source": [
    "def f1():\n",
    "    return \"hiii\",1,2,3,4\n",
    "    return \"byee\""
   ]
  },
  {
   "cell_type": "code",
   "execution_count": 100,
   "id": "34fc47c2",
   "metadata": {},
   "outputs": [
    {
     "data": {
      "text/plain": [
       "('hiii', 1, 2, 3, 4)"
      ]
     },
     "execution_count": 100,
     "metadata": {},
     "output_type": "execute_result"
    }
   ],
   "source": [
    "f1()"
   ]
  },
  {
   "cell_type": "code",
   "execution_count": 101,
   "id": "e99ccba1",
   "metadata": {},
   "outputs": [],
   "source": [
    "def f2():\n",
    "    yield \"hii\"\n",
    "    yield 1\n",
    "    yield 2\n",
    "    yield \"byeeeeeeeeeeeeeeeeeee\""
   ]
  },
  {
   "cell_type": "code",
   "execution_count": 104,
   "id": "9d13a002",
   "metadata": {},
   "outputs": [],
   "source": [
    "hai=f2()"
   ]
  },
  {
   "cell_type": "code",
   "execution_count": 105,
   "id": "d01f9dbd",
   "metadata": {},
   "outputs": [
    {
     "data": {
      "text/plain": [
       "'hii'"
      ]
     },
     "execution_count": 105,
     "metadata": {},
     "output_type": "execute_result"
    }
   ],
   "source": [
    "next(hai)"
   ]
  },
  {
   "cell_type": "code",
   "execution_count": 106,
   "id": "3d769f7d",
   "metadata": {},
   "outputs": [
    {
     "data": {
      "text/plain": [
       "1"
      ]
     },
     "execution_count": 106,
     "metadata": {},
     "output_type": "execute_result"
    }
   ],
   "source": [
    "next(hai)"
   ]
  },
  {
   "cell_type": "code",
   "execution_count": 107,
   "id": "958c3ec7",
   "metadata": {},
   "outputs": [
    {
     "data": {
      "text/plain": [
       "2"
      ]
     },
     "execution_count": 107,
     "metadata": {},
     "output_type": "execute_result"
    }
   ],
   "source": [
    "next(hai)"
   ]
  },
  {
   "cell_type": "code",
   "execution_count": 108,
   "id": "ce1877a1",
   "metadata": {},
   "outputs": [
    {
     "data": {
      "text/plain": [
       "'byeeeeeeeeeeeeeeeeeee'"
      ]
     },
     "execution_count": 108,
     "metadata": {},
     "output_type": "execute_result"
    }
   ],
   "source": [
    "next(hai)"
   ]
  },
  {
   "cell_type": "code",
   "execution_count": 110,
   "id": "9bf41347",
   "metadata": {},
   "outputs": [
    {
     "name": "stdout",
     "output_type": "stream",
     "text": [
      "hii\n",
      "1\n",
      "2\n",
      "byeeeeeeeeeeeeeeeeeee\n"
     ]
    }
   ],
   "source": [
    "for y in f2():\n",
    "    print(y)"
   ]
  },
  {
   "cell_type": "code",
   "execution_count": 112,
   "id": "5e499802",
   "metadata": {},
   "outputs": [
    {
     "name": "stdout",
     "output_type": "stream",
     "text": [
      "(2, 'a')\n",
      "(3, 'b')\n",
      "(4, 'c')\n",
      "(5, 'd')\n",
      "(6, 'e')\n",
      "(7, 'f')\n",
      "(8, 'g')\n",
      "(9, 'j')\n",
      "(10, 'i')\n"
     ]
    }
   ],
   "source": [
    "x=\"abcdefgji\"\n",
    "for y in enumerate(x,2):\n",
    "    print(y)"
   ]
  },
  {
   "cell_type": "code",
   "execution_count": 114,
   "id": "9fa5c032",
   "metadata": {},
   "outputs": [
    {
     "name": "stdout",
     "output_type": "stream",
     "text": [
      "(50, 1)\n",
      "(51, 2)\n",
      "(52, 3)\n",
      "(53, 4)\n",
      "(54, 5)\n",
      "(55, 6)\n",
      "(56, 7)\n",
      "(57, 8)\n",
      "(58, 9)\n",
      "(59, 10)\n"
     ]
    }
   ],
   "source": [
    "z=[1,2,3,4,5,6,7,8,9,10]\n",
    "for y in enumerate(z,50):\n",
    "    print(y)"
   ]
  },
  {
   "cell_type": "code",
   "execution_count": 115,
   "id": "72e8551d",
   "metadata": {},
   "outputs": [],
   "source": [
    "bha=lambda x,y,z:x+y+z"
   ]
  },
  {
   "cell_type": "code",
   "execution_count": 116,
   "id": "3d126ee9",
   "metadata": {},
   "outputs": [
    {
     "data": {
      "text/plain": [
       "3"
      ]
     },
     "execution_count": 116,
     "metadata": {},
     "output_type": "execute_result"
    }
   ],
   "source": [
    "bha(1,1,1)"
   ]
  },
  {
   "cell_type": "code",
   "execution_count": 117,
   "id": "9f1f378b",
   "metadata": {},
   "outputs": [],
   "source": [
    "h=lambda y=2,x=2:x+y "
   ]
  },
  {
   "cell_type": "code",
   "execution_count": 118,
   "id": "d32b1c86",
   "metadata": {},
   "outputs": [
    {
     "data": {
      "text/plain": [
       "4"
      ]
     },
     "execution_count": 118,
     "metadata": {},
     "output_type": "execute_result"
    }
   ],
   "source": [
    "h()"
   ]
  },
  {
   "cell_type": "code",
   "execution_count": null,
   "id": "8c400807",
   "metadata": {},
   "outputs": [],
   "source": []
  },
  {
   "cell_type": "code",
   "execution_count": null,
   "id": "40f7bdce",
   "metadata": {},
   "outputs": [],
   "source": []
  },
  {
   "cell_type": "code",
   "execution_count": null,
   "id": "8fb163c7",
   "metadata": {},
   "outputs": [],
   "source": []
  },
  {
   "cell_type": "code",
   "execution_count": null,
   "id": "34273166",
   "metadata": {},
   "outputs": [],
   "source": []
  },
  {
   "cell_type": "code",
   "execution_count": null,
   "id": "6ed34cd3",
   "metadata": {},
   "outputs": [],
   "source": []
  },
  {
   "cell_type": "code",
   "execution_count": null,
   "id": "d77228ab",
   "metadata": {},
   "outputs": [],
   "source": []
  },
  {
   "cell_type": "code",
   "execution_count": null,
   "id": "5edce70e",
   "metadata": {},
   "outputs": [],
   "source": []
  },
  {
   "cell_type": "code",
   "execution_count": null,
   "id": "0ffa801e",
   "metadata": {},
   "outputs": [],
   "source": []
  },
  {
   "cell_type": "code",
   "execution_count": null,
   "id": "3f57e4a7",
   "metadata": {},
   "outputs": [],
   "source": []
  },
  {
   "cell_type": "code",
   "execution_count": null,
   "id": "5cd1a7b9",
   "metadata": {},
   "outputs": [],
   "source": []
  },
  {
   "cell_type": "code",
   "execution_count": null,
   "id": "b2165ede",
   "metadata": {},
   "outputs": [],
   "source": []
  },
  {
   "cell_type": "code",
   "execution_count": null,
   "id": "ab0b65f0",
   "metadata": {},
   "outputs": [],
   "source": []
  },
  {
   "cell_type": "code",
   "execution_count": null,
   "id": "3fddbc2a",
   "metadata": {},
   "outputs": [],
   "source": []
  },
  {
   "cell_type": "code",
   "execution_count": null,
   "id": "962265d9",
   "metadata": {},
   "outputs": [],
   "source": []
  },
  {
   "cell_type": "code",
   "execution_count": null,
   "id": "f9145563",
   "metadata": {},
   "outputs": [],
   "source": []
  },
  {
   "cell_type": "code",
   "execution_count": null,
   "id": "9f00bf71",
   "metadata": {},
   "outputs": [],
   "source": []
  },
  {
   "cell_type": "code",
   "execution_count": null,
   "id": "fcf91c30",
   "metadata": {},
   "outputs": [],
   "source": []
  },
  {
   "cell_type": "code",
   "execution_count": null,
   "id": "e870a0ce",
   "metadata": {},
   "outputs": [],
   "source": []
  },
  {
   "cell_type": "code",
   "execution_count": null,
   "id": "d25f8741",
   "metadata": {},
   "outputs": [],
   "source": []
  },
  {
   "cell_type": "code",
   "execution_count": null,
   "id": "f9c86fb1",
   "metadata": {},
   "outputs": [],
   "source": []
  },
  {
   "cell_type": "code",
   "execution_count": null,
   "id": "b8116cec",
   "metadata": {},
   "outputs": [],
   "source": []
  },
  {
   "cell_type": "code",
   "execution_count": null,
   "id": "31c53810",
   "metadata": {},
   "outputs": [],
   "source": []
  },
  {
   "cell_type": "code",
   "execution_count": null,
   "id": "2bdd37f6",
   "metadata": {},
   "outputs": [],
   "source": []
  },
  {
   "cell_type": "code",
   "execution_count": null,
   "id": "8bd4f870",
   "metadata": {},
   "outputs": [],
   "source": []
  },
  {
   "cell_type": "code",
   "execution_count": null,
   "id": "35f7e91a",
   "metadata": {},
   "outputs": [],
   "source": []
  },
  {
   "cell_type": "code",
   "execution_count": null,
   "id": "9277007a",
   "metadata": {},
   "outputs": [],
   "source": []
  },
  {
   "cell_type": "code",
   "execution_count": null,
   "id": "15daddaa",
   "metadata": {},
   "outputs": [],
   "source": []
  },
  {
   "cell_type": "code",
   "execution_count": null,
   "id": "192c6df5",
   "metadata": {},
   "outputs": [],
   "source": []
  }
 ],
 "metadata": {
  "kernelspec": {
   "display_name": "Python 3 (ipykernel)",
   "language": "python",
   "name": "python3"
  },
  "language_info": {
   "codemirror_mode": {
    "name": "ipython",
    "version": 3
   },
   "file_extension": ".py",
   "mimetype": "text/x-python",
   "name": "python",
   "nbconvert_exporter": "python",
   "pygments_lexer": "ipython3",
   "version": "3.9.13"
  }
 },
 "nbformat": 4,
 "nbformat_minor": 5
}
