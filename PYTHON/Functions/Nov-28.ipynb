{
 "cells": [
  {
   "cell_type": "markdown",
   "id": "620e0754",
   "metadata": {},
   "source": [
    "# Generator:"
   ]
  },
  {
   "cell_type": "code",
   "execution_count": 1,
   "id": "b1062802",
   "metadata": {},
   "outputs": [],
   "source": [
    "def f1():\n",
    "    return \"hi\",1,2,3\n",
    "    return \"bye\""
   ]
  },
  {
   "cell_type": "code",
   "execution_count": 4,
   "id": "54adb7f1",
   "metadata": {},
   "outputs": [],
   "source": [
    "x=f1()"
   ]
  },
  {
   "cell_type": "code",
   "execution_count": 5,
   "id": "b92a21d8",
   "metadata": {},
   "outputs": [
    {
     "data": {
      "text/plain": [
       "('hi', 1, 2, 3)"
      ]
     },
     "execution_count": 5,
     "metadata": {},
     "output_type": "execute_result"
    }
   ],
   "source": [
    "x"
   ]
  },
  {
   "cell_type": "code",
   "execution_count": 6,
   "id": "0b881175",
   "metadata": {},
   "outputs": [],
   "source": [
    "def f2():\n",
    "    yield \"hi\"\n",
    "    yield 1\n",
    "    yield 2\n",
    "    yield \"bye\""
   ]
  },
  {
   "cell_type": "code",
   "execution_count": 7,
   "id": "b51258fa",
   "metadata": {},
   "outputs": [],
   "source": [
    "q=f2()"
   ]
  },
  {
   "cell_type": "code",
   "execution_count": 8,
   "id": "6ce94f66",
   "metadata": {},
   "outputs": [
    {
     "data": {
      "text/plain": [
       "<generator object f2 at 0x00000127DC54BBA0>"
      ]
     },
     "execution_count": 8,
     "metadata": {},
     "output_type": "execute_result"
    }
   ],
   "source": [
    "q"
   ]
  },
  {
   "cell_type": "code",
   "execution_count": 9,
   "id": "e2018d13",
   "metadata": {},
   "outputs": [
    {
     "data": {
      "text/plain": [
       "'hi'"
      ]
     },
     "execution_count": 9,
     "metadata": {},
     "output_type": "execute_result"
    }
   ],
   "source": [
    "next(q)"
   ]
  },
  {
   "cell_type": "code",
   "execution_count": 10,
   "id": "7f7767a4",
   "metadata": {},
   "outputs": [
    {
     "data": {
      "text/plain": [
       "1"
      ]
     },
     "execution_count": 10,
     "metadata": {},
     "output_type": "execute_result"
    }
   ],
   "source": [
    "next(q)"
   ]
  },
  {
   "cell_type": "code",
   "execution_count": 11,
   "id": "d448df43",
   "metadata": {},
   "outputs": [
    {
     "data": {
      "text/plain": [
       "2"
      ]
     },
     "execution_count": 11,
     "metadata": {},
     "output_type": "execute_result"
    }
   ],
   "source": [
    "next(q)"
   ]
  },
  {
   "cell_type": "code",
   "execution_count": 13,
   "id": "3e59295b",
   "metadata": {},
   "outputs": [
    {
     "data": {
      "text/plain": [
       "'bye'"
      ]
     },
     "execution_count": 13,
     "metadata": {},
     "output_type": "execute_result"
    }
   ],
   "source": [
    "next(q)"
   ]
  },
  {
   "cell_type": "code",
   "execution_count": 14,
   "id": "db65003b",
   "metadata": {},
   "outputs": [
    {
     "ename": "StopIteration",
     "evalue": "",
     "output_type": "error",
     "traceback": [
      "\u001b[1;31m---------------------------------------------------------------------------\u001b[0m",
      "\u001b[1;31mStopIteration\u001b[0m                             Traceback (most recent call last)",
      "\u001b[1;32m~\\AppData\\Local\\Temp\\ipykernel_34968\\1369537116.py\u001b[0m in \u001b[0;36m<module>\u001b[1;34m\u001b[0m\n\u001b[1;32m----> 1\u001b[1;33m \u001b[0mnext\u001b[0m\u001b[1;33m(\u001b[0m\u001b[0mq\u001b[0m\u001b[1;33m)\u001b[0m\u001b[1;33m\u001b[0m\u001b[1;33m\u001b[0m\u001b[0m\n\u001b[0m",
      "\u001b[1;31mStopIteration\u001b[0m: "
     ]
    }
   ],
   "source": [
    "next(q)"
   ]
  },
  {
   "cell_type": "code",
   "execution_count": 12,
   "id": "9a032b2a",
   "metadata": {},
   "outputs": [
    {
     "name": "stdout",
     "output_type": "stream",
     "text": [
      "hi\n",
      "1\n",
      "2\n",
      "bye\n"
     ]
    }
   ],
   "source": [
    "for y in f2():\n",
    "    print(y)"
   ]
  },
  {
   "cell_type": "markdown",
   "id": "6a168ae4",
   "metadata": {},
   "source": [
    "# Enumerators"
   ]
  },
  {
   "cell_type": "code",
   "execution_count": 18,
   "id": "23ca9f3b",
   "metadata": {},
   "outputs": [
    {
     "name": "stdout",
     "output_type": "stream",
     "text": [
      "(0, 'a')\n",
      "(1, 'b')\n",
      "(2, 'c')\n",
      "(3, 'd')\n",
      "(4, 'e')\n",
      "(5, 'f')\n",
      "(6, 'g')\n",
      "(7, 'h')\n"
     ]
    }
   ],
   "source": [
    "x=\"abcdefgh\"\n",
    "for y in enumerate(x,0):\n",
    "    print(y)"
   ]
  },
  {
   "cell_type": "code",
   "execution_count": 19,
   "id": "e89d7cf6",
   "metadata": {},
   "outputs": [
    {
     "name": "stdout",
     "output_type": "stream",
     "text": [
      "(50, 'a')\n",
      "(51, 'b')\n",
      "(52, 'c')\n",
      "(53, 'd')\n",
      "(54, 'e')\n",
      "(55, 'f')\n",
      "(56, 'g')\n",
      "(57, 'h')\n"
     ]
    }
   ],
   "source": [
    "x=\"abcdefgh\"\n",
    "for y in enumerate(x,50):\n",
    "    print(y)"
   ]
  },
  {
   "cell_type": "code",
   "execution_count": 20,
   "id": "d00e2221",
   "metadata": {},
   "outputs": [
    {
     "name": "stdout",
     "output_type": "stream",
     "text": [
      "(100, 1)\n",
      "(101, 2)\n",
      "(102, 3)\n",
      "(103, 4)\n",
      "(104, 5)\n",
      "(105, 6)\n",
      "(106, 7)\n",
      "(107, 8)\n",
      "(108, 9)\n"
     ]
    }
   ],
   "source": [
    "x=[1,2,3,4,5,6,7,8,9]\n",
    "for y in enumerate(x,100):\n",
    "    print(y)"
   ]
  },
  {
   "cell_type": "markdown",
   "id": "9892c2ed",
   "metadata": {},
   "source": [
    "# Anonymous:\n",
    " Lambda"
   ]
  },
  {
   "cell_type": "code",
   "execution_count": 22,
   "id": "e0700bd1",
   "metadata": {},
   "outputs": [],
   "source": [
    "q=lambda x,y,z:x+y-z"
   ]
  },
  {
   "cell_type": "code",
   "execution_count": 24,
   "id": "1b8db9ea",
   "metadata": {},
   "outputs": [],
   "source": [
    "x=q(1,5,3)"
   ]
  },
  {
   "cell_type": "code",
   "execution_count": 25,
   "id": "b4d0b772",
   "metadata": {},
   "outputs": [
    {
     "data": {
      "text/plain": [
       "3"
      ]
     },
     "execution_count": 25,
     "metadata": {},
     "output_type": "execute_result"
    }
   ],
   "source": [
    "x"
   ]
  },
  {
   "cell_type": "code",
   "execution_count": 31,
   "id": "607f508c",
   "metadata": {},
   "outputs": [],
   "source": [
    "p=lambda z,x=10,y=20:x+y-z"
   ]
  },
  {
   "cell_type": "code",
   "execution_count": 32,
   "id": "0c6fea26",
   "metadata": {},
   "outputs": [
    {
     "data": {
      "text/plain": [
       "29"
      ]
     },
     "execution_count": 32,
     "metadata": {},
     "output_type": "execute_result"
    }
   ],
   "source": [
    "r=p(1)\n",
    "r"
   ]
  },
  {
   "cell_type": "markdown",
   "id": "910c7284",
   "metadata": {},
   "source": [
    "# Map"
   ]
  },
  {
   "cell_type": "code",
   "execution_count": 6,
   "id": "617629fb",
   "metadata": {},
   "outputs": [],
   "source": [
    "def f3(x):\n",
    "    return x**2"
   ]
  },
  {
   "cell_type": "code",
   "execution_count": 7,
   "id": "e53fcb22",
   "metadata": {},
   "outputs": [],
   "source": [
    "y=map (f3,[1,2,3,4,5,6,7,8])"
   ]
  },
  {
   "cell_type": "code",
   "execution_count": 8,
   "id": "0fd1984c",
   "metadata": {},
   "outputs": [
    {
     "data": {
      "text/plain": [
       "[1, 4, 9, 16, 25, 36, 49, 64]"
      ]
     },
     "execution_count": 8,
     "metadata": {},
     "output_type": "execute_result"
    }
   ],
   "source": [
    "list(y)"
   ]
  },
  {
   "cell_type": "code",
   "execution_count": 9,
   "id": "d84ee03b",
   "metadata": {},
   "outputs": [
    {
     "data": {
      "text/plain": [
       "[1, 8, 27, 64, 125, 216, 343, 512, 729, 1000, 1331]"
      ]
     },
     "execution_count": 9,
     "metadata": {},
     "output_type": "execute_result"
    }
   ],
   "source": [
    "y=[1,2,3,4,5,6,7,8,9,10,11]\n",
    "def function(x):\n",
    "    return x**3\n",
    "var=map(function,y)\n",
    "list(var)"
   ]
  },
  {
   "cell_type": "code",
   "execution_count": 10,
   "id": "d938980b",
   "metadata": {},
   "outputs": [],
   "source": [
    "variable1=[70,71,72,73,74,75]\n",
    "def function(x):\n",
    "    return x+1"
   ]
  },
  {
   "cell_type": "code",
   "execution_count": 11,
   "id": "327bd616",
   "metadata": {},
   "outputs": [
    {
     "data": {
      "text/plain": [
       "[71, 72, 73, 74, 75, 76]"
      ]
     },
     "execution_count": 11,
     "metadata": {},
     "output_type": "execute_result"
    }
   ],
   "source": [
    "variable2=map(function,variable1)\n",
    "list(variable2)"
   ]
  },
  {
   "cell_type": "code",
   "execution_count": 12,
   "id": "0b580c8e",
   "metadata": {},
   "outputs": [
    {
     "name": "stdout",
     "output_type": "stream",
     "text": [
      "[1, 4, 9, 16, 25, 36, 49, 64, 81, 100, 121, 144, 169, 196, 225, 256, 289, 324, 361, 400, 441, 484, 529, 576]\n"
     ]
    }
   ],
   "source": [
    "q=map(f3,range(1,25))\n",
    "print(list(q))"
   ]
  },
  {
   "cell_type": "code",
   "execution_count": null,
   "id": "86c19267",
   "metadata": {},
   "outputs": [],
   "source": []
  },
  {
   "cell_type": "code",
   "execution_count": 41,
   "id": "ad1aa2c2",
   "metadata": {},
   "outputs": [
    {
     "data": {
      "text/plain": [
       "[5, 7, 10]"
      ]
     },
     "execution_count": 41,
     "metadata": {},
     "output_type": "execute_result"
    }
   ],
   "source": [
    "list(map(len,[\"abcdr\",\"kfrtgfg\",\"wrdfgikpoi\"]))"
   ]
  },
  {
   "cell_type": "code",
   "execution_count": 42,
   "id": "2f1a5f90",
   "metadata": {},
   "outputs": [],
   "source": [
    "x=map(lambda x:x**2,[1,2,3,4,5,6,7,8,9,10])"
   ]
  },
  {
   "cell_type": "code",
   "execution_count": 43,
   "id": "2dd32b1e",
   "metadata": {},
   "outputs": [
    {
     "data": {
      "text/plain": [
       "[1, 4, 9, 16, 25, 36, 49, 64, 81, 100]"
      ]
     },
     "execution_count": 43,
     "metadata": {},
     "output_type": "execute_result"
    }
   ],
   "source": [
    "list(x)"
   ]
  },
  {
   "cell_type": "code",
   "execution_count": 45,
   "id": "fbd0ecde",
   "metadata": {},
   "outputs": [
    {
     "data": {
      "text/plain": [
       "[1, 16, 243]"
      ]
     },
     "execution_count": 45,
     "metadata": {},
     "output_type": "execute_result"
    }
   ],
   "source": [
    "x=map(lambda x,y:x**y,[1,2,3],[3,4,5])\n",
    "list(x)"
   ]
  },
  {
   "cell_type": "code",
   "execution_count": 46,
   "id": "57536bd8",
   "metadata": {},
   "outputs": [
    {
     "data": {
      "text/plain": [
       "[1]"
      ]
     },
     "execution_count": 46,
     "metadata": {},
     "output_type": "execute_result"
    }
   ],
   "source": [
    "p=map(lambda x,y: x**y,[1,2,3],[1])\n",
    "list(p)"
   ]
  },
  {
   "cell_type": "raw",
   "id": "7ed3b388",
   "metadata": {},
   "source": [
    " #with the help of map and lamda function x=\"abdef\" into uppercase"
   ]
  },
  {
   "cell_type": "code",
   "execution_count": 53,
   "id": "3d536a6e",
   "metadata": {},
   "outputs": [
    {
     "data": {
      "text/plain": [
       "'ABCDEF'"
      ]
     },
     "execution_count": 53,
     "metadata": {},
     "output_type": "execute_result"
    }
   ],
   "source": [
    "z=map(lambda x:x.upper(),\"abcdef\")\n",
    "\"\".join(list(z))"
   ]
  },
  {
   "cell_type": "code",
   "execution_count": 56,
   "id": "6b8ba467",
   "metadata": {},
   "outputs": [
    {
     "data": {
      "text/plain": [
       "[int, str, float, complex]"
      ]
     },
     "execution_count": 56,
     "metadata": {},
     "output_type": "execute_result"
    }
   ],
   "source": [
    "w=map(lambda x:type(x),(1,\"a\",2.2,3+1j))\n",
    "list(w)"
   ]
  },
  {
   "cell_type": "code",
   "execution_count": null,
   "id": "da79c504",
   "metadata": {},
   "outputs": [],
   "source": []
  }
 ],
 "metadata": {
  "kernelspec": {
   "display_name": "Python 3 (ipykernel)",
   "language": "python",
   "name": "python3"
  },
  "language_info": {
   "codemirror_mode": {
    "name": "ipython",
    "version": 3
   },
   "file_extension": ".py",
   "mimetype": "text/x-python",
   "name": "python",
   "nbconvert_exporter": "python",
   "pygments_lexer": "ipython3",
   "version": "3.9.13"
  }
 },
 "nbformat": 4,
 "nbformat_minor": 5
}
