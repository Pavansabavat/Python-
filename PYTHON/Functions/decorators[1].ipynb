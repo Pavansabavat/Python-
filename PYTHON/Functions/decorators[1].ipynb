{
 "cells": [
  {
   "cell_type": "code",
   "execution_count": 1,
   "id": "6ef661f6",
   "metadata": {},
   "outputs": [],
   "source": [
    "def f1():\n",
    "    print(\"welcome\")"
   ]
  },
  {
   "cell_type": "code",
   "execution_count": 2,
   "id": "c6142e7c",
   "metadata": {},
   "outputs": [
    {
     "name": "stdout",
     "output_type": "stream",
     "text": [
      "welcome\n"
     ]
    }
   ],
   "source": [
    "f1()"
   ]
  },
  {
   "cell_type": "code",
   "execution_count": 3,
   "id": "76dd7c7e",
   "metadata": {},
   "outputs": [],
   "source": [
    "def decor(function):\n",
    "    def wrapper():\n",
    "        print(\"hi\")\n",
    "        function()\n",
    "        print(\"bye\")\n",
    "    return wrapper()"
   ]
  },
  {
   "cell_type": "code",
   "execution_count": 4,
   "id": "4b673877",
   "metadata": {},
   "outputs": [
    {
     "name": "stdout",
     "output_type": "stream",
     "text": [
      "hi\n",
      "welcome\n",
      "bye\n"
     ]
    }
   ],
   "source": [
    "x=decor(f1)"
   ]
  },
  {
   "cell_type": "code",
   "execution_count": 20,
   "id": "47fab6fb",
   "metadata": {},
   "outputs": [],
   "source": [
    "def fun():\n",
    "    print('iam  going to hyderabad ')\n",
    "    "
   ]
  },
  {
   "cell_type": "code",
   "execution_count": 6,
   "id": "4252b665",
   "metadata": {},
   "outputs": [
    {
     "name": "stdout",
     "output_type": "stream",
     "text": [
      "Hello world  to ython\n"
     ]
    }
   ],
   "source": [
    "code='Hello world  to python'\n",
    "print(code)"
   ]
  },
  {
   "cell_type": "code",
   "execution_count": 22,
   "id": "41fc5c49",
   "metadata": {},
   "outputs": [
    {
     "name": "stdout",
     "output_type": "stream",
     "text": [
      "hi\n",
      "welcome\n",
      "bye\n"
     ]
    }
   ],
   "source": [
    "x()"
   ]
  },
  {
   "cell_type": "code",
   "execution_count": 17,
   "id": "f05dd0d3",
   "metadata": {},
   "outputs": [
    {
     "name": "stdout",
     "output_type": "stream",
     "text": [
      "hi\n",
      "welcome\n",
      "bye\n"
     ]
    }
   ],
   "source": [
    "decor(f1)"
   ]
  },
  {
   "cell_type": "code",
   "execution_count": 1,
   "id": "0d04d34b",
   "metadata": {},
   "outputs": [],
   "source": [
    "import time"
   ]
  },
  {
   "cell_type": "code",
   "execution_count": 6,
   "id": "fbb0cfae",
   "metadata": {},
   "outputs": [
    {
     "name": "stdout",
     "output_type": "stream",
     "text": [
      "0.4120962619781494\n"
     ]
    }
   ],
   "source": [
    "st=time.time()\n",
    "c=[]\n",
    "for y in range(1,1000000):\n",
    "    c.append(y)\n",
    "et=time.time()\n",
    "print(et-st)"
   ]
  },
  {
   "cell_type": "code",
   "execution_count": 11,
   "id": "8311d157",
   "metadata": {},
   "outputs": [],
   "source": [
    "def deco1(fun1):\n",
    "    def wrap():\n",
    "        st=time.time()\n",
    "        fun1()\n",
    "        et=time.time()\n",
    "        return print(et-st)\n",
    "    return wrap()"
   ]
  },
  {
   "cell_type": "code",
   "execution_count": 14,
   "id": "2e8a3294",
   "metadata": {},
   "outputs": [],
   "source": [
    "def f2():\n",
    "    c=[]\n",
    "    for y in range(1,10000000 ):\n",
    "        c.append(y)\n",
    "    return c"
   ]
  },
  {
   "cell_type": "code",
   "execution_count": 15,
   "id": "7c8fe0e1",
   "metadata": {},
   "outputs": [
    {
     "name": "stdout",
     "output_type": "stream",
     "text": [
      "2.9618117809295654\n"
     ]
    }
   ],
   "source": [
    "deco1(f2)   "
   ]
  },
  {
   "cell_type": "code",
   "execution_count": null,
   "id": "732da488",
   "metadata": {},
   "outputs": [],
   "source": []
  }
 ],
 "metadata": {
  "kernelspec": {
   "display_name": "Python 3 (ipykernel)",
   "language": "python",
   "name": "python3"
  },
  "language_info": {
   "codemirror_mode": {
    "name": "ipython",
    "version": 3
   },
   "file_extension": ".py",
   "mimetype": "text/x-python",
   "name": "python",
   "nbconvert_exporter": "python",
   "pygments_lexer": "ipython3",
   "version": "3.9.13"
  }
 },
 "nbformat": 4,
 "nbformat_minor": 5
}
