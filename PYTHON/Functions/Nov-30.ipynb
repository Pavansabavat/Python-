{
 "cells": [
  {
   "cell_type": "markdown",
   "id": "689891d4",
   "metadata": {},
   "source": [
    "# decorator:"
   ]
  },
  {
   "cell_type": "code",
   "execution_count": 1,
   "id": "d0144feb",
   "metadata": {},
   "outputs": [],
   "source": [
    "def f1():\n",
    "    print(\"welcome\")"
   ]
  },
  {
   "cell_type": "code",
   "execution_count": 2,
   "id": "08382566",
   "metadata": {},
   "outputs": [
    {
     "name": "stdout",
     "output_type": "stream",
     "text": [
      "welcome\n"
     ]
    }
   ],
   "source": [
    "f1()"
   ]
  },
  {
   "cell_type": "code",
   "execution_count": 3,
   "id": "6bd0f769",
   "metadata": {},
   "outputs": [],
   "source": [
    "def decor(fun):\n",
    "    def wrapper():\n",
    "        print(\"hi\")\n",
    "        fun()\n",
    "        print(\"bye\")\n",
    "    return wrapper()"
   ]
  },
  {
   "cell_type": "code",
   "execution_count": 4,
   "id": "18832c1d",
   "metadata": {},
   "outputs": [],
   "source": [
    "x=decor"
   ]
  },
  {
   "cell_type": "code",
   "execution_count": 5,
   "id": "341e3e46",
   "metadata": {},
   "outputs": [
    {
     "name": "stdout",
     "output_type": "stream",
     "text": [
      "hi\n",
      "welcome\n",
      "bye\n"
     ]
    }
   ],
   "source": [
    "x(f1)"
   ]
  },
  {
   "cell_type": "code",
   "execution_count": 6,
   "id": "b0b860fe",
   "metadata": {},
   "outputs": [],
   "source": [
    "import time"
   ]
  },
  {
   "cell_type": "code",
   "execution_count": 7,
   "id": "99b3fa2e",
   "metadata": {},
   "outputs": [],
   "source": [
    "def deco1(inno):\n",
    "    def wrap():\n",
    "        st=time.time()\n",
    "        inno()\n",
    "        et=time.time()\n",
    "        return print(et-st)\n",
    "    return wrap()"
   ]
  },
  {
   "cell_type": "code",
   "execution_count": 10,
   "id": "b5e887b7",
   "metadata": {},
   "outputs": [],
   "source": [
    "def matics():\n",
    "    c=[]\n",
    "    for y in range(1,10000):\n",
    "        c.append(y)\n",
    "    return c"
   ]
  },
  {
   "cell_type": "code",
   "execution_count": 11,
   "id": "79bb6704",
   "metadata": {},
   "outputs": [
    {
     "name": "stdout",
     "output_type": "stream",
     "text": [
      "0.001005411148071289\n"
     ]
    }
   ],
   "source": [
    "deco1(matics)"
   ]
  },
  {
   "cell_type": "code",
   "execution_count": null,
   "id": "4048aea3",
   "metadata": {},
   "outputs": [],
   "source": []
  },
  {
   "cell_type": "code",
   "execution_count": 12,
   "id": "24eba2ad",
   "metadata": {},
   "outputs": [],
   "source": [
    "def deco2(function1):\n",
    "    def wrapping():\n",
    "        starttime=time.time()\n",
    "        function1()\n",
    "        endtime=time.time()\n",
    "        return print(endtime-starttime)\n",
    "    return wrapping()"
   ]
  },
  {
   "cell_type": "code",
   "execution_count": 18,
   "id": "69e14015",
   "metadata": {},
   "outputs": [],
   "source": [
    "def function2():\n",
    "    a=[]\n",
    "    for b in range (1,100000000):\n",
    "        a.append(b)\n",
    "    return a"
   ]
  },
  {
   "cell_type": "code",
   "execution_count": 19,
   "id": "6d132265",
   "metadata": {},
   "outputs": [
    {
     "name": "stdout",
     "output_type": "stream",
     "text": [
      "9.294250249862671\n"
     ]
    }
   ],
   "source": [
    "deco2(function2)"
   ]
  },
  {
   "cell_type": "code",
   "execution_count": null,
   "id": "d0df68bc",
   "metadata": {},
   "outputs": [],
   "source": []
  }
 ],
 "metadata": {
  "kernelspec": {
   "display_name": "Python 3 (ipykernel)",
   "language": "python",
   "name": "python3"
  },
  "language_info": {
   "codemirror_mode": {
    "name": "ipython",
    "version": 3
   },
   "file_extension": ".py",
   "mimetype": "text/x-python",
   "name": "python",
   "nbconvert_exporter": "python",
   "pygments_lexer": "ipython3",
   "version": "3.9.13"
  }
 },
 "nbformat": 4,
 "nbformat_minor": 5
}
