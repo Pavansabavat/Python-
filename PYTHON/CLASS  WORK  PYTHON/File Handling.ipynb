{
 "cells": [
  {
   "cell_type": "markdown",
   "id": "736ef8d1",
   "metadata": {},
   "source": [
    "## opening file in same folder"
   ]
  },
  {
   "cell_type": "code",
   "execution_count": 8,
   "id": "01d105f3",
   "metadata": {},
   "outputs": [
    {
     "name": "stdout",
     "output_type": "stream",
     "text": [
      "pavan\n",
      "\n",
      "tillu\n",
      "\n",
      "jp reddy\n",
      "\n",
      "mike\n",
      "\n",
      "kgf\n",
      "\n",
      "rrr\n",
      "\n",
      "syco\n",
      "\n",
      "mike\n",
      "\n"
     ]
    }
   ],
   "source": [
    "f=open(\"pavan.txt\",\"r\")\n",
    "for line in f:\n",
    "    print(line)"
   ]
  },
  {
   "cell_type": "code",
   "execution_count": 9,
   "id": "e813eb11",
   "metadata": {},
   "outputs": [
    {
     "name": "stdout",
     "output_type": "stream",
     "text": [
      "def add(x,y):\n",
      "\n",
      "    return x+y\n",
      "\n",
      "\n",
      "\n",
      "def subtract(x,y):\n",
      "\n",
      "    return x-y\n",
      "\n",
      "def multiply(x,y):\n",
      "\n",
      "    return x*y\n",
      "\n",
      "def division(x,y):\n",
      "\n",
      "    return x/y\n",
      "\n"
     ]
    }
   ],
   "source": [
    "f=open(\"mymath.py\",\"r\")\n",
    "for i in f:\n",
    "    print(i)"
   ]
  },
  {
   "cell_type": "code",
   "execution_count": 10,
   "id": "780ebd3c",
   "metadata": {},
   "outputs": [
    {
     "name": "stdout",
     "output_type": "stream",
     "text": [
      "def yourtaxSlab(taxable_income):\n",
      "\n",
      "    if(taxable_income>=10):\n",
      "\n",
      "        tax=taxable_income*0.3\n",
      "\n",
      "    else:\n",
      "\n",
      "        if(taxable_income<10 and taxable_income>=5):\n",
      "\n",
      "            tax=taxable_income*0.2\n",
      "\n",
      "        else:\n",
      "\n",
      "            if(taxable_income<5and taxable_income>=2.5):\n",
      "\n",
      "                tax=taxable_income*0.05\n",
      "\n",
      "            else:\n",
      "\n",
      "                tax=0\n",
      "\n",
      "    return tax\n",
      "\n",
      "        \n",
      "\n",
      "def printgrade (score):\n",
      "\n",
      "    if score <0  or score > 100:\n",
      "\n",
      "        print(\"invalid score\")\n",
      "\n",
      "    if score >=90.0:\n",
      "\n",
      "        print(\"A\")\n",
      "\n",
      "    elif score >=80.0:\n",
      "\n",
      "        print(\"B\")\n",
      "\n",
      "    elif score >=70.0:\n",
      "\n",
      "        print(\"C\")\n",
      "\n",
      "    elif score>=60.0:\n",
      "\n",
      "        print(\"D\")\n",
      "\n",
      "    else:\n",
      "\n",
      "        print('F')\n",
      "\n",
      "        \n",
      "\n"
     ]
    }
   ],
   "source": [
    "f=open(\"mytaxgrade.py\",\"r\")\n",
    "for i in f:\n",
    "    print(i)"
   ]
  },
  {
   "cell_type": "markdown",
   "id": "f204213e",
   "metadata": {},
   "source": [
    "### it wont  open for microsoft files"
   ]
  },
  {
   "cell_type": "markdown",
   "id": "f9cbd8e2",
   "metadata": {},
   "source": [
    "## openeing file with another folder"
   ]
  },
  {
   "cell_type": "code",
   "execution_count": 3,
   "id": "6b24ac5b",
   "metadata": {},
   "outputs": [
    {
     "ename": "FileNotFoundError",
     "evalue": "[Errno 2] No such file or directory: 'C:\\\\Users\\\\DELL\\\\PYTHON NOTES\\\\tinku.txt'",
     "output_type": "error",
     "traceback": [
      "\u001b[1;31m---------------------------------------------------------------------------\u001b[0m",
      "\u001b[1;31mFileNotFoundError\u001b[0m                         Traceback (most recent call last)",
      "\u001b[1;32m~\\AppData\\Local\\Temp/ipykernel_18056/2456379029.py\u001b[0m in \u001b[0;36m<module>\u001b[1;34m\u001b[0m\n\u001b[1;32m----> 1\u001b[1;33m \u001b[0mf\u001b[0m\u001b[1;33m=\u001b[0m\u001b[0mopen\u001b[0m\u001b[1;33m(\u001b[0m\u001b[1;34mr\"C:\\Users\\DELL\\PYTHON NOTES\\tinku.txt\"\u001b[0m\u001b[1;33m,\u001b[0m\u001b[1;34m\"r\"\u001b[0m\u001b[1;33m)\u001b[0m\u001b[1;33m\u001b[0m\u001b[1;33m\u001b[0m\u001b[0m\n\u001b[0m\u001b[0;32m      2\u001b[0m \u001b[1;32mfor\u001b[0m \u001b[0mline\u001b[0m \u001b[1;32min\u001b[0m \u001b[0mf\u001b[0m\u001b[1;33m:\u001b[0m\u001b[1;33m\u001b[0m\u001b[1;33m\u001b[0m\u001b[0m\n\u001b[0;32m      3\u001b[0m     \u001b[0mprint\u001b[0m\u001b[1;33m(\u001b[0m\u001b[0mline\u001b[0m\u001b[1;33m)\u001b[0m\u001b[1;33m\u001b[0m\u001b[1;33m\u001b[0m\u001b[0m\n",
      "\u001b[1;31mFileNotFoundError\u001b[0m: [Errno 2] No such file or directory: 'C:\\\\Users\\\\DELL\\\\PYTHON NOTES\\\\tinku.txt'"
     ]
    }
   ],
   "source": [
    "f=open(r\"C:\\Users\\DELL\\PYTHON NOTES\\tinku.txt\",\"r\")\n",
    "for line in f:\n",
    "    print(line) "
   ]
  },
  {
   "cell_type": "markdown",
   "id": "8646257d",
   "metadata": {},
   "source": [
    "## writing to a file "
   ]
  },
  {
   "cell_type": "code",
   "execution_count": 12,
   "id": "2faa8edf",
   "metadata": {},
   "outputs": [],
   "source": [
    "outfile=open(\"pavan.txt\",\"w\")\n",
    "outfile.write(\"pavan\\n\")\n",
    "outfile.write(\"tillu\\n\")\n",
    "outfile.write(\"jp reddy\\n\")\n",
    "outfile.write(\"mike\\n\")\n",
    "outfile.close()"
   ]
  },
  {
   "cell_type": "code",
   "execution_count": 13,
   "id": "49e249f0",
   "metadata": {},
   "outputs": [
    {
     "name": "stdout",
     "output_type": "stream",
     "text": [
      "['pavan\\n', 'tillu\\n', 'jp reddy\\n', 'mike\\n']\n"
     ]
    }
   ],
   "source": [
    "outfile1=open(\"pavan.txt\",\"r\")\n",
    "#outfile1.read()\n",
    "print(outfile1.readlines())"
   ]
  },
  {
   "cell_type": "code",
   "execution_count": 14,
   "id": "eeb1652c",
   "metadata": {},
   "outputs": [
    {
     "name": "stdout",
     "output_type": "stream",
     "text": [
      "pavan\n",
      "tillu\n",
      "jp reddy\n",
      "mike\n",
      "\n"
     ]
    }
   ],
   "source": [
    "outfile1=open(\"pavan.txt\",\"r\")\n",
    "#outfile1.read()\n",
    "print(outfile1.read())"
   ]
  },
  {
   "cell_type": "markdown",
   "id": "6a5aa126",
   "metadata": {},
   "source": [
    "### creating an empty file"
   ]
  },
  {
   "cell_type": "code",
   "execution_count": 15,
   "id": "33335f50",
   "metadata": {},
   "outputs": [],
   "source": [
    "with open(\"tillu.txt\",\"w\")as f:\n",
    "    f.close()"
   ]
  },
  {
   "cell_type": "markdown",
   "id": "6eadfe5a",
   "metadata": {},
   "source": [
    "### appending a file without erasing data"
   ]
  },
  {
   "cell_type": "markdown",
   "id": "ab9aadaf",
   "metadata": {},
   "source": [
    "#### use try not to kil the program"
   ]
  },
  {
   "cell_type": "code",
   "execution_count": 16,
   "id": "a96db3fe",
   "metadata": {},
   "outputs": [],
   "source": [
    "try:\n",
    "    outfile=open(\"pavan.txt\",\"a\")\n",
    "    outfile.write(\"kgf\\n\")\n",
    "    outfile.write(\"rrr\\n\")\n",
    "    outfile.write(\"syco\\n\")\n",
    "    outfile.write(\"mike\\n\")\n",
    "finally:\n",
    "    outfile.close()"
   ]
  },
  {
   "cell_type": "markdown",
   "id": "9e5b7875",
   "metadata": {},
   "source": [
    "#### diff ways to read a text file"
   ]
  },
  {
   "cell_type": "code",
   "execution_count": 17,
   "id": "b4df70c6",
   "metadata": {},
   "outputs": [
    {
     "name": "stdout",
     "output_type": "stream",
     "text": [
      "pavan\n",
      "tillu\n",
      "jp reddy\n",
      "mike\n",
      "kgf\n",
      "rrr\n",
      "syco\n",
      "mike\n",
      "\n"
     ]
    }
   ],
   "source": [
    "try:\n",
    "    infile=open(\"pavan.txt\",\"r\")\n",
    "    print(infile.read())\n",
    "finally:\n",
    "    infile.close()"
   ]
  },
  {
   "cell_type": "markdown",
   "id": "329ab46c",
   "metadata": {},
   "source": [
    "###   2 method using read(int)\n",
    "###  slicing method is used"
   ]
  },
  {
   "cell_type": "code",
   "execution_count": 18,
   "id": "1aec892d",
   "metadata": {},
   "outputs": [
    {
     "name": "stdout",
     "output_type": "stream",
     "text": [
      "pavan\n",
      "tillu\n",
      "jp reddy\n",
      "mike\n",
      "kgf\n",
      "r\n"
     ]
    }
   ],
   "source": [
    "try:\n",
    "    infile=open(\"pavan.txt\",\"r\")\n",
    "    s1=infile.read(31)\n",
    "    print(s1)\n",
    "finally:\n",
    "    infile.close()"
   ]
  },
  {
   "cell_type": "markdown",
   "id": "3d589609",
   "metadata": {},
   "source": [
    "### method 3"
   ]
  },
  {
   "cell_type": "code",
   "execution_count": 19,
   "id": "41966ea3",
   "metadata": {},
   "outputs": [
    {
     "name": "stdout",
     "output_type": "stream",
     "text": [
      "pavan\n",
      "\n",
      "tillu\n",
      "jp reddy\n"
     ]
    }
   ],
   "source": [
    "try:\n",
    "    infile=open(\"pavan.txt\",\"r\")\n",
    "    line1=infile.readline()\n",
    "    line2=infile.readline()\n",
    "    line3=infile.readline()\n",
    "    #line3=infile.readline()\n",
    "    #print(line1)\n",
    "    print(line1)\n",
    "    print(line2,end=\"\")\n",
    "    print(line3,end=\"\")\n",
    "    \n",
    "finally:\n",
    "    infile.close()"
   ]
  },
  {
   "cell_type": "markdown",
   "id": "1af4e96e",
   "metadata": {},
   "source": [
    "## using readlines\n",
    "    readlines  output is in list"
   ]
  },
  {
   "cell_type": "code",
   "execution_count": 20,
   "id": "94cbc985",
   "metadata": {},
   "outputs": [
    {
     "name": "stdout",
     "output_type": "stream",
     "text": [
      "['pavan\\n', 'tillu\\n', 'jp reddy\\n', 'mike\\n', 'kgf\\n', 'rrr\\n', 'syco\\n', 'mike\\n']\n"
     ]
    }
   ],
   "source": [
    "try:\n",
    "    infile=open(\"pavan.txt\",\"r\")\n",
    "    print(infile.readlines())\n",
    "finally:\n",
    "    infile.close()"
   ]
  },
  {
   "cell_type": "markdown",
   "id": "004da47d",
   "metadata": {},
   "source": [
    "### reading a file by using loop's"
   ]
  },
  {
   "cell_type": "code",
   "execution_count": 21,
   "id": "e17a56dd",
   "metadata": {},
   "outputs": [
    {
     "name": "stdout",
     "output_type": "stream",
     "text": [
      "pavan\n",
      "tillu\n",
      "jp reddy\n",
      "mike\n",
      "kgf\n",
      "rrr\n",
      "syco\n",
      "mike\n"
     ]
    }
   ],
   "source": [
    "try:\n",
    "    infile=open(\"pavan.txt\",\"r\")\n",
    "    for line in infile:\n",
    "        print(line,end=\"\")\n",
    "        \n",
    "finally:\n",
    "    infile.close()"
   ]
  },
  {
   "cell_type": "code",
   "execution_count": 4,
   "id": "e4f2cede",
   "metadata": {},
   "outputs": [
    {
     "ename": "FileNotFoundError",
     "evalue": "[Errno 2] No such file or directory: 'abcxyz.txt'",
     "output_type": "error",
     "traceback": [
      "\u001b[1;31m---------------------------------------------------------------------------\u001b[0m",
      "\u001b[1;31mFileNotFoundError\u001b[0m                         Traceback (most recent call last)",
      "\u001b[1;32m~\\AppData\\Local\\Temp/ipykernel_18056/33798425.py\u001b[0m in \u001b[0;36m<module>\u001b[1;34m\u001b[0m\n\u001b[1;32m----> 1\u001b[1;33m \u001b[0mtestcase1\u001b[0m\u001b[1;33m=\u001b[0m\u001b[0mopen\u001b[0m\u001b[1;33m(\u001b[0m\u001b[1;34m\"abcxyz.txt\"\u001b[0m\u001b[1;33m,\u001b[0m\u001b[1;34m\"r\"\u001b[0m\u001b[1;33m)\u001b[0m\u001b[1;33m\u001b[0m\u001b[1;33m\u001b[0m\u001b[0m\n\u001b[0m",
      "\u001b[1;31mFileNotFoundError\u001b[0m: [Errno 2] No such file or directory: 'abcxyz.txt'"
     ]
    }
   ],
   "source": [
    "testcase1=open(\"abcxyz.txt\",\"r\")"
   ]
  },
  {
   "cell_type": "markdown",
   "id": "97675a81",
   "metadata": {},
   "source": [
    "### Testing file  existence"
   ]
  },
  {
   "cell_type": "code",
   "execution_count": null,
   "id": "4ccb009e",
   "metadata": {},
   "outputs": [],
   "source": [
    "import os.path\n",
    "if os.path.isfile(\"abcxyz.txt\"):\n",
    "    print(\"abcxyz.txt exists\")\n",
    "    testcase1=open(\"abcxyz.txt\",\"r\")\n",
    "else:\n",
    "    print(\"txt file is not present\")"
   ]
  },
  {
   "cell_type": "code",
   "execution_count": null,
   "id": "f03f11c0",
   "metadata": {},
   "outputs": [],
   "source": [
    "import os.path\n",
    "if os.path.isfile(\"pavan.txt\"):\n",
    "    print(\"pavan.txt exists\")\n",
    "    testcase1=open(\"pavan.txt\",\"r\")\n",
    "else:\n",
    "    print(\"txt file is not present\")"
   ]
  },
  {
   "cell_type": "markdown",
   "id": "a4664512",
   "metadata": {},
   "source": [
    "###  another way"
   ]
  },
  {
   "cell_type": "code",
   "execution_count": null,
   "id": "dc321739",
   "metadata": {},
   "outputs": [],
   "source": [
    "try:\n",
    "    infile=open(\"pavan1.txt\",\"r\")\n",
    "except FileNotFoundError:\n",
    "    print(\"there is no such file exists\")\n",
    "finally:\n",
    "    infile.close()"
   ]
  },
  {
   "cell_type": "code",
   "execution_count": 23,
   "id": "c84f651f",
   "metadata": {},
   "outputs": [
    {
     "name": "stdout",
     "output_type": "stream",
     "text": [
      "[48, 23, 78, 26]\n"
     ]
    }
   ],
   "source": [
    "import random\n",
    "students_name=[\"pavan kumar\",\"psyco\",\"manoj\",\"arjun reddy\"]\n",
    "marks=[]\n",
    "for i in range(len(students_name)):\n",
    "    marks.append(random.randint(0,100))\n",
    "print(marks)"
   ]
  },
  {
   "cell_type": "code",
   "execution_count": 24,
   "id": "fe110d33",
   "metadata": {},
   "outputs": [
    {
     "name": "stdout",
     "output_type": "stream",
     "text": [
      "pavan kumar 48\n",
      "psyco 23\n",
      "manoj 78\n",
      "arjun reddy 26\n"
     ]
    }
   ],
   "source": [
    "for i in range(len(students_name)):\n",
    "    d=students_name[i]+\" \"+str(marks[i])\n",
    "    print(d)"
   ]
  },
  {
   "cell_type": "code",
   "execution_count": 25,
   "id": "62914d73",
   "metadata": {},
   "outputs": [
    {
     "data": {
      "text/plain": [
       "'arjun reddy 26'"
      ]
     },
     "execution_count": 25,
     "metadata": {},
     "output_type": "execute_result"
    }
   ],
   "source": [
    "d"
   ]
  },
  {
   "cell_type": "code",
   "execution_count": 26,
   "id": "6245dcfb",
   "metadata": {},
   "outputs": [],
   "source": [
    "with open(\"jntu.txt\",'w') as f:\n",
    "    for i in range(len(students_name)):\n",
    "        d=students_name[i]+\" \"+str(marks[i])+\"\\n\"\n",
    "        f.write(d)\n",
    "    f.close()"
   ]
  },
  {
   "cell_type": "code",
   "execution_count": 27,
   "id": "cf4aae44",
   "metadata": {},
   "outputs": [
    {
     "name": "stdout",
     "output_type": "stream",
     "text": [
      "pavan kumar 48\n",
      "\n",
      "psyco 23\n",
      "\n",
      "manoj 78\n",
      "\n",
      "arjun reddy 26\n",
      "\n"
     ]
    }
   ],
   "source": [
    "f=open(\"jntu.txt\",\"r\")\n",
    "for i in f:\n",
    "    print(i)\n"
   ]
  },
  {
   "cell_type": "markdown",
   "id": "4a6a1d32",
   "metadata": {},
   "source": [
    "### changing file as dictionary mode"
   ]
  },
  {
   "cell_type": "code",
   "execution_count": 28,
   "id": "5b22576a",
   "metadata": {
    "scrolled": true
   },
   "outputs": [
    {
     "name": "stdout",
     "output_type": "stream",
     "text": [
      "stripline output: pavan kumar 48\n",
      "splitlines output: ['pavan', 'kumar', '48']\n",
      "stripline output: psyco 23\n",
      "splitlines output: ['psyco', '23']\n",
      "stripline output: manoj 78\n",
      "splitlines output: ['manoj', '78']\n",
      "stripline output: arjun reddy 26\n",
      "splitlines output: ['arjun', 'reddy', '26']\n"
     ]
    }
   ],
   "source": [
    "try:\n",
    "    infile=open('jntu.txt',\"r\")\n",
    "    for line in infile:\n",
    "        stripline=line.strip()\n",
    "        print(\"stripline output:\",stripline)\n",
    "        splitlines=stripline.split(\" \")\n",
    "        print(\"splitlines output:\",splitlines)\n",
    "finally:\n",
    "    infile.close()"
   ]
  },
  {
   "cell_type": "code",
   "execution_count": 29,
   "id": "99817287",
   "metadata": {},
   "outputs": [
    {
     "ename": "IndentationError",
     "evalue": "expected an indented block (Temp/ipykernel_5596/1069178862.py, line 7)",
     "output_type": "error",
     "traceback": [
      "\u001b[1;36m  File \u001b[1;32m\"C:\\Users\\DELL\\AppData\\Local\\Temp/ipykernel_5596/1069178862.py\"\u001b[1;36m, line \u001b[1;32m7\u001b[0m\n\u001b[1;33m    student_details={}\u001b[0m\n\u001b[1;37m    ^\u001b[0m\n\u001b[1;31mIndentationError\u001b[0m\u001b[1;31m:\u001b[0m expected an indented block\n"
     ]
    }
   ],
   "source": [
    "students_dict={}\n",
    "id_number= 1\n",
    "try:\n",
    "    infile=open('jntu.txt',\"r\")\n",
    "    \n",
    "    for line in file:\n",
    "    student_details={}\n",
    "    stripline=line.strip()\n",
    "#   print(\"stripline output:\",stripline)\n",
    "    splitlines=stripline.split(\" \")\n",
    "    student_details[\"first name\"]=splitlines[0]\n",
    "    student_details[\"second name\"]=splitlines[1]\n",
    "    student_details['marks']=splitlines[2]\n",
    "    students_dict[str(id_number)]=student_details\n",
    "    id_number +=1\n",
    "    \n",
    "#         print(\"splitlines output:\",splitlines)\n",
    "finally:\n",
    "    infile.close()"
   ]
  },
  {
   "cell_type": "code",
   "execution_count": null,
   "id": "9c8c72d9",
   "metadata": {},
   "outputs": [],
   "source": [
    "print(students_dict)"
   ]
  },
  {
   "cell_type": "markdown",
   "id": "17018ad3",
   "metadata": {},
   "source": [
    "## continue on 2nd day  "
   ]
  },
  {
   "cell_type": "code",
   "execution_count": 1,
   "id": "82b18017",
   "metadata": {},
   "outputs": [],
   "source": [
    "names2=[\"pavan\",\"nikhil\",\"ruchitha\",\"reddy\",\"murali\",\"shetty\",\"pranay\",\"raju\",\"naresh\",\"narasimha\",\"rocky\",\"seeta\",\"harshitha\"]"
   ]
  },
  {
   "cell_type": "code",
   "execution_count": 2,
   "id": "3e13ac58",
   "metadata": {},
   "outputs": [
    {
     "data": {
      "text/plain": [
       "13"
      ]
     },
     "execution_count": 2,
     "metadata": {},
     "output_type": "execute_result"
    }
   ],
   "source": [
    "len(names2)"
   ]
  },
  {
   "cell_type": "code",
   "execution_count": 3,
   "id": "3a386a3e",
   "metadata": {},
   "outputs": [],
   "source": [
    "import random\n",
    "marks=[]\n",
    "for i in range(len(names2)):\n",
    "    marks_attained=random.randint(0,100)\n",
    "    marks.append(marks_attained)"
   ]
  },
  {
   "cell_type": "code",
   "execution_count": 4,
   "id": "55e100bd",
   "metadata": {},
   "outputs": [
    {
     "data": {
      "text/plain": [
       "[10, 83, 87, 23, 26, 66, 49, 93, 27, 90, 76, 8, 78]"
      ]
     },
     "execution_count": 4,
     "metadata": {},
     "output_type": "execute_result"
    }
   ],
   "source": [
    "marks"
   ]
  },
  {
   "cell_type": "code",
   "execution_count": 5,
   "id": "4ad5a725",
   "metadata": {},
   "outputs": [],
   "source": [
    "try:\n",
    "    file=open(\"names2.txt\",\"w\")\n",
    "    for i in range(len(names2)):\n",
    "        var=names2[i]+\":\"+\" \"+str(marks[i])+\"\\n\"\n",
    "        file.write(var)\n",
    "finally:\n",
    "    file.close()"
   ]
  },
  {
   "cell_type": "code",
   "execution_count": 6,
   "id": "2cf32513",
   "metadata": {},
   "outputs": [],
   "source": [
    "def minimunmarks(samplelist):\n",
    "    maxvaluable=max(samplelist)\n",
    "    return maxvalue"
   ]
  },
  {
   "cell_type": "code",
   "execution_count": 7,
   "id": "6061f171",
   "metadata": {},
   "outputs": [],
   "source": [
    "def segragration(names2,marks,cutoff):\n",
    "    passed_students={}\n",
    "    failed_students={}\n",
    "    for i in range(len(marks)):\n",
    "        if marks[i]>=cutoff:\n",
    "            passed_students[names2[i]]=marks[i]\n",
    "        else:\n",
    "            failed_students[names2[i]]=marks[i]\n",
    "                \n",
    "    return passed_students,failed_students"
   ]
  },
  {
   "cell_type": "code",
   "execution_count": 8,
   "id": "1f92ffed",
   "metadata": {},
   "outputs": [
    {
     "name": "stdout",
     "output_type": "stream",
     "text": [
      "{'nikhil': 83, 'ruchitha': 87, 'shetty': 66, 'pranay': 49, 'raju': 93, 'narasimha': 90, 'rocky': 76, 'harshitha': 78}\n",
      "{'pavan': 10, 'reddy': 23, 'murali': 26, 'naresh': 27, 'seeta': 8}\n"
     ]
    }
   ],
   "source": [
    "students_passed_dict,failed_students_dict=segragration(names2,marks,35)\n",
    "print(students_passed_dict)\n",
    "print(failed_students_dict)"
   ]
  },
  {
   "cell_type": "code",
   "execution_count": 9,
   "id": "0112c356",
   "metadata": {},
   "outputs": [
    {
     "name": "stdout",
     "output_type": "stream",
     "text": [
      "{'nikhil': 83, 'ruchitha': 87, 'shetty': 66, 'pranay': 49, 'raju': 93, 'narasimha': 90, 'rocky': 76, 'harshitha': 78}\n"
     ]
    }
   ],
   "source": [
    "print(students_passed_dict)"
   ]
  },
  {
   "cell_type": "code",
   "execution_count": 10,
   "id": "a7af3255",
   "metadata": {},
   "outputs": [
    {
     "name": "stdout",
     "output_type": "stream",
     "text": [
      "{'pavan': 10, 'reddy': 23, 'murali': 26, 'naresh': 27, 'seeta': 8}\n"
     ]
    }
   ],
   "source": [
    "print(failed_students_dict)"
   ]
  },
  {
   "cell_type": "code",
   "execution_count": 11,
   "id": "cefb3382",
   "metadata": {},
   "outputs": [],
   "source": [
    "names_list=[]\n",
    "secured_marks=[]\n",
    "try:\n",
    "    file=open(\"names2.txt\",\"r\")\n",
    "    for i in file:\n",
    "        i=i.strip()\n",
    "        names,marks =i.split(\": \")\n",
    "        names_list.append(names)\n",
    "        secured_marks.append(int(marks))\n",
    "        \n",
    "finally:\n",
    "    file.close()"
   ]
  },
  {
   "cell_type": "code",
   "execution_count": 12,
   "id": "2efdc328",
   "metadata": {},
   "outputs": [
    {
     "name": "stdout",
     "output_type": "stream",
     "text": [
      "['pavan', 'nikhil', 'ruchitha', 'reddy', 'murali', 'shetty', 'pranay', 'raju', 'naresh', 'narasimha', 'rocky', 'seeta', 'harshitha']\n"
     ]
    }
   ],
   "source": [
    "print(names_list)"
   ]
  },
  {
   "cell_type": "code",
   "execution_count": 13,
   "id": "1e05fc39",
   "metadata": {},
   "outputs": [
    {
     "name": "stdout",
     "output_type": "stream",
     "text": [
      "[10, 83, 87, 23, 26, 66, 49, 93, 27, 90, 76, 8, 78]\n"
     ]
    }
   ],
   "source": [
    "print(secured_marks)"
   ]
  },
  {
   "cell_type": "code",
   "execution_count": 14,
   "id": "e499f2a7",
   "metadata": {},
   "outputs": [
    {
     "data": {
      "text/plain": [
       "({'nikhil': 83,\n",
       "  'ruchitha': 87,\n",
       "  'shetty': 66,\n",
       "  'pranay': 49,\n",
       "  'raju': 93,\n",
       "  'narasimha': 90,\n",
       "  'rocky': 76,\n",
       "  'harshitha': 78},\n",
       " {'pavan': 10, 'reddy': 23, 'murali': 26, 'naresh': 27, 'seeta': 8})"
      ]
     },
     "execution_count": 14,
     "metadata": {},
     "output_type": "execute_result"
    }
   ],
   "source": [
    "segragration(names_list,secured_marks,35)"
   ]
  },
  {
   "cell_type": "code",
   "execution_count": 15,
   "id": "92840ef7",
   "metadata": {},
   "outputs": [],
   "source": [
    "def nameWithmaxMarks(students_list,marks_list):\n",
    "    maxValue=max(marks_list)\n",
    "#     print(maxValue)\n",
    "    maxValue_index=marks_list.index(maxValue)\n",
    "#     print(maxValue_index)\n",
    "    student_name=students_list[maxValue_index]\n",
    "    return student_name,maxValue\n"
   ]
  },
  {
   "cell_type": "code",
   "execution_count": 16,
   "id": "56826d5b",
   "metadata": {},
   "outputs": [
    {
     "name": "stdout",
     "output_type": "stream",
     "text": [
      "('raju', 93)\n"
     ]
    }
   ],
   "source": [
    "print(nameWithmaxMarks(names_list,secured_marks))"
   ]
  },
  {
   "cell_type": "code",
   "execution_count": 17,
   "id": "961035fb",
   "metadata": {},
   "outputs": [
    {
     "name": "stdout",
     "output_type": "stream",
     "text": [
      "55.07692307692308\n"
     ]
    }
   ],
   "source": [
    "average_class_marks=sum(secured_marks)/len(secured_marks)\n",
    "print(average_class_marks)"
   ]
  },
  {
   "cell_type": "markdown",
   "id": "3b0446c6",
   "metadata": {},
   "source": [
    "### using float"
   ]
  },
  {
   "cell_type": "code",
   "execution_count": 18,
   "id": "66042025",
   "metadata": {},
   "outputs": [
    {
     "data": {
      "text/plain": [
       "({'nikhil': 83,\n",
       "  'ruchitha': 87,\n",
       "  'shetty': 66,\n",
       "  'pranay': 49,\n",
       "  'raju': 93,\n",
       "  'narasimha': 90,\n",
       "  'rocky': 76,\n",
       "  'harshitha': 78},\n",
       " {'pavan': 10, 'reddy': 23, 'murali': 26, 'naresh': 27, 'seeta': 8})"
      ]
     },
     "execution_count": 18,
     "metadata": {},
     "output_type": "execute_result"
    }
   ],
   "source": [
    "segragration(names_list,secured_marks,35)"
   ]
  },
  {
   "cell_type": "code",
   "execution_count": 19,
   "id": "45bf9ced",
   "metadata": {},
   "outputs": [],
   "source": [
    "names_list=[]\n",
    "secured_marks=[]\n",
    "cutoff=25\n",
    "try:\n",
    "    file=open(\"names2.txt\",\"r\")\n",
    "    for i in file:\n",
    "        i=i.strip()\n",
    "        names,marks =i.split(\": \")\n",
    "        names_list.append(names)\n",
    "        secured_marks.append(float(marks))\n",
    "        \n",
    "finally:\n",
    "    file.close()"
   ]
  },
  {
   "cell_type": "code",
   "execution_count": 20,
   "id": "edc67d80",
   "metadata": {},
   "outputs": [
    {
     "name": "stdout",
     "output_type": "stream",
     "text": [
      "['pavan', 'nikhil', 'ruchitha', 'reddy', 'murali', 'shetty', 'pranay', 'raju', 'naresh', 'narasimha', 'rocky', 'seeta', 'harshitha']\n"
     ]
    }
   ],
   "source": [
    "print(names_list)"
   ]
  },
  {
   "cell_type": "code",
   "execution_count": 21,
   "id": "ea54493e",
   "metadata": {},
   "outputs": [
    {
     "name": "stdout",
     "output_type": "stream",
     "text": [
      "[10.0, 83.0, 87.0, 23.0, 26.0, 66.0, 49.0, 93.0, 27.0, 90.0, 76.0, 8.0, 78.0]\n"
     ]
    }
   ],
   "source": [
    "print(secured_marks)"
   ]
  },
  {
   "cell_type": "code",
   "execution_count": 22,
   "id": "7e062166",
   "metadata": {},
   "outputs": [
    {
     "data": {
      "text/plain": [
       "({'nikhil': 83.0,\n",
       "  'ruchitha': 87.0,\n",
       "  'murali': 26.0,\n",
       "  'shetty': 66.0,\n",
       "  'pranay': 49.0,\n",
       "  'raju': 93.0,\n",
       "  'naresh': 27.0,\n",
       "  'narasimha': 90.0,\n",
       "  'rocky': 76.0,\n",
       "  'harshitha': 78.0},\n",
       " {'pavan': 10.0, 'reddy': 23.0, 'seeta': 8.0})"
      ]
     },
     "execution_count": 22,
     "metadata": {},
     "output_type": "execute_result"
    }
   ],
   "source": [
    "segragration(names_list,secured_marks,cutoff)"
   ]
  },
  {
   "cell_type": "code",
   "execution_count": 23,
   "id": "7e656853",
   "metadata": {},
   "outputs": [],
   "source": [
    "def nameWithmaxMarks(students,marks):\n",
    "    maxValue=max(marks)\n",
    "    maxValue_index=marks.index(maxValue)\n",
    "    student_name=students[maxValue_index]\n",
    "    return (student_name,maxValue)  "
   ]
  },
  {
   "cell_type": "code",
   "execution_count": 24,
   "id": "6cbb2110",
   "metadata": {},
   "outputs": [
    {
     "name": "stdout",
     "output_type": "stream",
     "text": [
      "('raju', 93.0)\n"
     ]
    }
   ],
   "source": [
    "print(nameWithmaxMarks(names_list,secured_marks))"
   ]
  },
  {
   "cell_type": "code",
   "execution_count": 32,
   "id": "af03fb0e",
   "metadata": {},
   "outputs": [
    {
     "name": "stdout",
     "output_type": "stream",
     "text": [
      "55.07692307692308\n"
     ]
    }
   ],
   "source": [
    "average_marks=sum(secured_marks)/len(secured_marks)\n",
    "print(average_marks)"
   ]
  },
  {
   "cell_type": "markdown",
   "id": "5d7333d6",
   "metadata": {},
   "source": [
    "## continue  3 day"
   ]
  },
  {
   "cell_type": "code",
   "execution_count": 26,
   "id": "e3ec0334",
   "metadata": {},
   "outputs": [],
   "source": [
    "def btwn(student,marks,minmarks,maxmarks):\n",
    "    dict_students={}\n",
    "    for i in range(len(marks)):\n",
    "        if((marks[i]>=minmarks) and (marks[i]<=maxmarks)):\n",
    "             dict_students[student[i]]=marks[i]\n",
    "    return dict_students\n",
    "    "
   ]
  },
  {
   "cell_type": "code",
   "execution_count": 27,
   "id": "64f82f14",
   "metadata": {},
   "outputs": [
    {
     "name": "stdout",
     "output_type": "stream",
     "text": [
      "{'shetty': 66.0, 'rocky': 76.0, 'harshitha': 78.0}\n"
     ]
    }
   ],
   "source": [
    "print(btwn(names_list,secured_marks,50,80))"
   ]
  },
  {
   "cell_type": "code",
   "execution_count": 28,
   "id": "35d24434",
   "metadata": {},
   "outputs": [],
   "source": [
    "def btwn_WithBug(student,marks,minmarks,maxmarks):\n",
    "    dict_students={}\n",
    "    for i in range(len(marks)):\n",
    "        if((marks[i]>=minmarks) or (marks[i]<=maxmarks)):\n",
    "             dict_students[student[i]]=marks[i]\n",
    "    return dict_students\n",
    "         "
   ]
  },
  {
   "cell_type": "code",
   "execution_count": 29,
   "id": "a95bbd9d",
   "metadata": {},
   "outputs": [
    {
     "name": "stdout",
     "output_type": "stream",
     "text": [
      "{'pavan': 10.0, 'nikhil': 83.0, 'ruchitha': 87.0, 'reddy': 23.0, 'murali': 26.0, 'shetty': 66.0, 'pranay': 49.0, 'raju': 93.0, 'naresh': 27.0, 'narasimha': 90.0, 'rocky': 76.0, 'seeta': 8.0, 'harshitha': 78.0}\n"
     ]
    }
   ],
   "source": [
    "print(btwn_WithBug(names_list,secured_marks,50,80))"
   ]
  },
  {
   "cell_type": "markdown",
   "id": "0907fb39",
   "metadata": {},
   "source": [
    "#### changing o/p to tuple of list ((  it is in dictionary))"
   ]
  },
  {
   "cell_type": "code",
   "execution_count": 30,
   "id": "4ffd6821",
   "metadata": {},
   "outputs": [],
   "source": [
    "def btwn(student,marks,minmarks,maxmarks):\n",
    "    output_list=[]\n",
    "    for i in range(len(marks)):\n",
    "        if((marks[i]>=minmarks) and (marks[i]<=maxmarks)):\n",
    "            tuples=(student[i],marks[i])\n",
    "            output_list.append(tuples)\n",
    "    return output_list\n",
    "         "
   ]
  },
  {
   "cell_type": "code",
   "execution_count": 31,
   "id": "dc1c8a0c",
   "metadata": {},
   "outputs": [
    {
     "name": "stdout",
     "output_type": "stream",
     "text": [
      "[('shetty', 66.0), ('pranay', 49.0), ('rocky', 76.0), ('harshitha', 78.0)]\n"
     ]
    }
   ],
   "source": [
    "print(btwn(names_list,secured_marks,35,80))"
   ]
  },
  {
   "cell_type": "code",
   "execution_count": null,
   "id": "fae65d19",
   "metadata": {},
   "outputs": [],
   "source": []
  },
  {
   "cell_type": "code",
   "execution_count": null,
   "id": "7f28cb40",
   "metadata": {},
   "outputs": [],
   "source": []
  },
  {
   "cell_type": "code",
   "execution_count": null,
   "id": "2a4add7e",
   "metadata": {},
   "outputs": [],
   "source": []
  },
  {
   "cell_type": "code",
   "execution_count": null,
   "id": "5b286c31",
   "metadata": {},
   "outputs": [],
   "source": []
  }
 ],
 "metadata": {
  "kernelspec": {
   "display_name": "Python 3 (ipykernel)",
   "language": "python",
   "name": "python3"
  },
  "language_info": {
   "codemirror_mode": {
    "name": "ipython",
    "version": 3
   },
   "file_extension": ".py",
   "mimetype": "text/x-python",
   "name": "python",
   "nbconvert_exporter": "python",
   "pygments_lexer": "ipython3",
   "version": "3.9.7"
  }
 },
 "nbformat": 4,
 "nbformat_minor": 5
}
