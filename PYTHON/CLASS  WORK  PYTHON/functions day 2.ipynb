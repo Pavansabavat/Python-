{
 "cells": [
  {
   "cell_type": "code",
   "execution_count": 2,
   "id": "fc161897",
   "metadata": {},
   "outputs": [
    {
     "name": "stdout",
     "output_type": "stream",
     "text": [
      "D\n",
      "None\n"
     ]
    }
   ],
   "source": [
    "import mytaxgrade\n",
    "\n",
    "print(mytaxgrade.printgrade(65))"
   ]
  },
  {
   "cell_type": "code",
   "execution_count": 3,
   "id": "c08bfad7",
   "metadata": {},
   "outputs": [],
   "source": [
    "import mytaxgrade as tillu"
   ]
  },
  {
   "cell_type": "code",
   "execution_count": 4,
   "id": "c82b4707",
   "metadata": {},
   "outputs": [
    {
     "name": "stdout",
     "output_type": "stream",
     "text": [
      "B\n"
     ]
    }
   ],
   "source": [
    "tillu.printgrade(80) "
   ]
  },
  {
   "cell_type": "code",
   "execution_count": 5,
   "id": "9df6850c",
   "metadata": {},
   "outputs": [
    {
     "data": {
      "text/plain": [
       "1.1199999999999999"
      ]
     },
     "execution_count": 5,
     "metadata": {},
     "output_type": "execute_result"
    }
   ],
   "source": [
    "tillu.yourtaxSlab(5.6) "
   ]
  },
  {
   "cell_type": "code",
   "execution_count": 6,
   "id": "f8cce027",
   "metadata": {},
   "outputs": [
    {
     "data": {
      "text/plain": [
       "0.23500000000000001"
      ]
     },
     "execution_count": 6,
     "metadata": {},
     "output_type": "execute_result"
    }
   ],
   "source": [
    "mytaxgrade.yourtaxSlab(4.7)"
   ]
  },
  {
   "cell_type": "markdown",
   "id": "9806101c",
   "metadata": {},
   "source": [
    " ## scopes of variables"
   ]
  },
  {
   "cell_type": "markdown",
   "id": "186cefd0",
   "metadata": {},
   "source": [
    "### outside  value is  defined by using global"
   ]
  },
  {
   "cell_type": "code",
   "execution_count": 61,
   "id": "230ad598",
   "metadata": {},
   "outputs": [
    {
     "name": "stdout",
     "output_type": "stream",
     "text": [
      "6\n",
      "11\n"
     ]
    }
   ],
   "source": [
    "a1=1\n",
    "def f1():\n",
    "    global a1\n",
    "    a1+=5\n",
    "    print(a1)\n",
    "    \n",
    "f1()\n",
    "f1()"
   ]
  },
  {
   "cell_type": "code",
   "execution_count": 63,
   "id": "71e4eaa9",
   "metadata": {},
   "outputs": [
    {
     "data": {
      "text/plain": [
       "11"
      ]
     },
     "execution_count": 63,
     "metadata": {},
     "output_type": "execute_result"
    }
   ],
   "source": [
    "a1"
   ]
  },
  {
   "cell_type": "markdown",
   "id": "84e07cfd",
   "metadata": {},
   "source": [
    " ### inside value  is defined by using local"
   ]
  },
  {
   "cell_type": "code",
   "execution_count": 64,
   "id": "dd339169",
   "metadata": {},
   "outputs": [
    {
     "name": "stdout",
     "output_type": "stream",
     "text": [
      "6\n",
      "6\n"
     ]
    }
   ],
   "source": [
    "a1=1\n",
    "def f1():\n",
    "    a4=6\n",
    "    print(a4)\n",
    "    return(a4)\n",
    "a5=f1()\n",
    "print(a5)"
   ]
  },
  {
   "cell_type": "code",
   "execution_count": 67,
   "id": "ce1799ab",
   "metadata": {},
   "outputs": [
    {
     "name": "stdout",
     "output_type": "stream",
     "text": [
      "3\n",
      "3\n"
     ]
    }
   ],
   "source": [
    "a3=1\n",
    "def f1():\n",
    "    a4=3\n",
    "    print(a4)\n",
    "    return(a4)\n",
    "a6=f1()\n",
    "print(a6)"
   ]
  },
  {
   "cell_type": "code",
   "execution_count": 68,
   "id": "85d690cc",
   "metadata": {},
   "outputs": [],
   "source": [
    "p=1\n",
    "def pavan():\n",
    "    global p\n",
    "    print(p)"
   ]
  },
  {
   "cell_type": "markdown",
   "id": "7d75d961",
   "metadata": {},
   "source": [
    "## Recursion"
   ]
  },
  {
   "cell_type": "code",
   "execution_count": 69,
   "id": "28d9b929",
   "metadata": {},
   "outputs": [],
   "source": [
    "def factorial (num):\n",
    "    if num==1:\n",
    "        return 1\n",
    "    else:\n",
    "        return num*factorial(num-1)"
   ]
  },
  {
   "cell_type": "code",
   "execution_count": 70,
   "id": "8517c65a",
   "metadata": {},
   "outputs": [
    {
     "name": "stdout",
     "output_type": "stream",
     "text": [
      "enter  n value:5\n",
      "factorial value: 120\n"
     ]
    }
   ],
   "source": [
    "n=int(input(\"enter  n value:\"))\n",
    "ans=factorial(n)\n",
    "print(\"factorial value:\",ans)"
   ]
  },
  {
   "cell_type": "markdown",
   "id": "7d5843ec",
   "metadata": {},
   "source": [
    "### fib means fibonacci\n",
    "### fib (5)=f(4)+f(3)\n",
    " ####  5! =5*4*3*2*1\n",
    "#### fib(n)=(n-1)+(n-2)"
   ]
  },
  {
   "cell_type": "code",
   "execution_count": 78,
   "id": "d9aa6de9",
   "metadata": {},
   "outputs": [
    {
     "name": "stdout",
     "output_type": "stream",
     "text": [
      "0 1 1 2 3 5 8 13 21 34 55 89 144 233 377 "
     ]
    }
   ],
   "source": [
    "def fib(n):\n",
    "    if n<=1:\n",
    "        return n\n",
    "    else:\n",
    "        return fib(n-1)+fib(n-2)\n",
    "for num in range(15):\n",
    "    print(fib(num),end=' ')"
   ]
  },
  {
   "cell_type": "code",
   "execution_count": 83,
   "id": "e21e36d3",
   "metadata": {},
   "outputs": [
    {
     "data": {
      "text/plain": [
       "34"
      ]
     },
     "execution_count": 83,
     "metadata": {},
     "output_type": "execute_result"
    }
   ],
   "source": [
    "fib(9)"
   ]
  },
  {
   "cell_type": "markdown",
   "id": "1eb83ce4",
   "metadata": {},
   "source": [
    "## zip function"
   ]
  },
  {
   "cell_type": "code",
   "execution_count": 15,
   "id": "24b3ed01",
   "metadata": {},
   "outputs": [
    {
     "data": {
      "text/plain": [
       "[('a', 'e'), ('b', 'f'), ('c', 'g'), ('d', 'h')]"
      ]
     },
     "execution_count": 15,
     "metadata": {},
     "output_type": "execute_result"
    }
   ],
   "source": [
    "list(zip(\"abcd\",\"efgh\"))"
   ]
  },
  {
   "cell_type": "code",
   "execution_count": 16,
   "id": "b247cf24",
   "metadata": {},
   "outputs": [],
   "source": [
    "a1=list(zip(\"abc\",\"ef\"))"
   ]
  },
  {
   "cell_type": "code",
   "execution_count": 17,
   "id": "f21b3df2",
   "metadata": {},
   "outputs": [
    {
     "data": {
      "text/plain": [
       "[('a', 'e'), ('b', 'f')]"
      ]
     },
     "execution_count": 17,
     "metadata": {},
     "output_type": "execute_result"
    }
   ],
   "source": [
    "a1"
   ]
  },
  {
   "cell_type": "code",
   "execution_count": 18,
   "id": "dfaf959d",
   "metadata": {},
   "outputs": [
    {
     "name": "stdout",
     "output_type": "stream",
     "text": [
      "list of zip [('a', 'e'), ('b', 'f'), ('c', 'g'), ('d', 'h')]\n",
      "dict of zip {'a': 'e', 'b': 'f', 'c': 'g', 'd': 'h'}\n",
      "tuple of zip (('a', 'e'), ('b', 'f'), ('c', 'g'), ('d', 'h'))\n"
     ]
    }
   ],
   "source": [
    "print(\"list of zip\",list(zip(\"abcd\",\"efgh\")))\n",
    "print(\"dict of zip\",dict(zip(\"abcd\",\"efgh\"))) \n",
    "print(\"tuple of zip\",tuple(zip(\"abcd\",\"efgh\")))"
   ]
  },
  {
   "cell_type": "markdown",
   "id": "c659b091",
   "metadata": {},
   "source": [
    "## lambda function"
   ]
  },
  {
   "cell_type": "code",
   "execution_count": 19,
   "id": "5c556b1f",
   "metadata": {},
   "outputs": [
    {
     "data": {
      "text/plain": [
       "256"
      ]
     },
     "execution_count": 19,
     "metadata": {},
     "output_type": "execute_result"
    }
   ],
   "source": [
    "def square1(x):\n",
    "    return x**4\n",
    "square1(4)"
   ]
  },
  {
   "cell_type": "code",
   "execution_count": 20,
   "id": "49569f0f",
   "metadata": {},
   "outputs": [
    {
     "data": {
      "text/plain": [
       "625"
      ]
     },
     "execution_count": 20,
     "metadata": {},
     "output_type": "execute_result"
    }
   ],
   "source": [
    "square=lambda x:x**4\n",
    "square(5)"
   ]
  },
  {
   "cell_type": "code",
   "execution_count": 21,
   "id": "9c47a117",
   "metadata": {},
   "outputs": [
    {
     "data": {
      "text/plain": [
       "256"
      ]
     },
     "execution_count": 21,
     "metadata": {},
     "output_type": "execute_result"
    }
   ],
   "source": [
    "x=lambda x:x**4\n",
    "x(4)"
   ]
  },
  {
   "cell_type": "code",
   "execution_count": 84,
   "id": "c923105a",
   "metadata": {},
   "outputs": [
    {
     "data": {
      "text/plain": [
       "256"
      ]
     },
     "execution_count": 84,
     "metadata": {},
     "output_type": "execute_result"
    }
   ],
   "source": [
    "d=lambda x:x**4\n",
    "d(4)"
   ]
  },
  {
   "cell_type": "code",
   "execution_count": 23,
   "id": "c4c3f0d5",
   "metadata": {},
   "outputs": [
    {
     "data": {
      "text/plain": [
       "30"
      ]
     },
     "execution_count": 23,
     "metadata": {},
     "output_type": "execute_result"
    }
   ],
   "source": [
    "d=lambda x,y:x+y\n",
    "d(10,20)"
   ]
  },
  {
   "cell_type": "code",
   "execution_count": 24,
   "id": "dadb2f4a",
   "metadata": {},
   "outputs": [
    {
     "data": {
      "text/plain": [
       "203.0"
      ]
     },
     "execution_count": 24,
     "metadata": {},
     "output_type": "execute_result"
    }
   ],
   "source": [
    "d=lambda x,y,z,c:x*y+z/c\n",
    "d(10,20,30,10)"
   ]
  },
  {
   "cell_type": "code",
   "execution_count": 25,
   "id": "348b2c9f",
   "metadata": {},
   "outputs": [
    {
     "name": "stdout",
     "output_type": "stream",
     "text": [
      "even\n",
      "odd number\n"
     ]
    }
   ],
   "source": [
    "s= lambda a:\"even\" if a%2==0 else \"odd number\"\n",
    "print(s(10))\n",
    "print(s(9))"
   ]
  },
  {
   "cell_type": "code",
   "execution_count": 26,
   "id": "d79a9a3f",
   "metadata": {},
   "outputs": [
    {
     "data": {
      "text/plain": [
       "'hello tillu'"
      ]
     },
     "execution_count": 26,
     "metadata": {},
     "output_type": "execute_result"
    }
   ],
   "source": [
    "f=lambda:\"hello tillu\"\n",
    "f()"
   ]
  },
  {
   "cell_type": "code",
   "execution_count": 27,
   "id": "823abd66",
   "metadata": {},
   "outputs": [
    {
     "data": {
      "text/plain": [
       "20"
      ]
     },
     "execution_count": 27,
     "metadata": {},
     "output_type": "execute_result"
    }
   ],
   "source": [
    "s=lambda x,y,z:(x*y)+z\n",
    "s(3,6,2)"
   ]
  },
  {
   "cell_type": "code",
   "execution_count": 88,
   "id": "db9d128f",
   "metadata": {},
   "outputs": [],
   "source": [
    "d= lambda x,y,z=7,a=9:x+y+z+a"
   ]
  },
  {
   "cell_type": "code",
   "execution_count": 29,
   "id": "3eff5765",
   "metadata": {},
   "outputs": [
    {
     "data": {
      "text/plain": [
       "30"
      ]
     },
     "execution_count": 29,
     "metadata": {},
     "output_type": "execute_result"
    }
   ],
   "source": [
    "d(6,8)"
   ]
  },
  {
   "cell_type": "code",
   "execution_count": 30,
   "id": "fe21449b",
   "metadata": {},
   "outputs": [
    {
     "data": {
      "text/plain": [
       "14"
      ]
     },
     "execution_count": 30,
     "metadata": {},
     "output_type": "execute_result"
    }
   ],
   "source": [
    "d(2,3,4,5)"
   ]
  },
  {
   "cell_type": "code",
   "execution_count": 31,
   "id": "c3d40ffe",
   "metadata": {},
   "outputs": [
    {
     "data": {
      "text/plain": [
       "12"
      ]
     },
     "execution_count": 31,
     "metadata": {},
     "output_type": "execute_result"
    }
   ],
   "source": [
    "d1= lambda x,y=5,z=4, a=6: x+y+z+a \n",
    "d1(1,1)"
   ]
  },
  {
   "cell_type": "markdown",
   "id": "aa27c6ac",
   "metadata": {},
   "source": [
    "<!-- ##  *args & **kwargs -->"
   ]
  },
  {
   "cell_type": "markdown",
   "id": "3ee39e1f",
   "metadata": {},
   "source": [
    "## *args & **kwargs"
   ]
  },
  {
   "cell_type": "markdown",
   "id": "44a0b74b",
   "metadata": {},
   "source": [
    "## *args"
   ]
  },
  {
   "cell_type": "code",
   "execution_count": 32,
   "id": "9732aa03",
   "metadata": {},
   "outputs": [],
   "source": [
    "def name(*pavan):\n",
    "    print(pavan)"
   ]
  },
  {
   "cell_type": "code",
   "execution_count": 33,
   "id": "0560095c",
   "metadata": {},
   "outputs": [],
   "source": [
    "def randomsum(*pavan):\n",
    "    sum1=0\n",
    "    for i in range(len(pavan)):\n",
    "        sum1+=pavan[i]\n",
    "    return sum1"
   ]
  },
  {
   "cell_type": "code",
   "execution_count": 34,
   "id": "67583986",
   "metadata": {},
   "outputs": [],
   "source": [
    "def printargs(*pavan):\n",
    "    print(pavan)"
   ]
  },
  {
   "cell_type": "code",
   "execution_count": 35,
   "id": "2943dd2f",
   "metadata": {},
   "outputs": [
    {
     "name": "stdout",
     "output_type": "stream",
     "text": [
      "2 3 4\n"
     ]
    }
   ],
   "source": [
    "print(2,3,4)"
   ]
  },
  {
   "cell_type": "code",
   "execution_count": 36,
   "id": "53677b8e",
   "metadata": {},
   "outputs": [
    {
     "data": {
      "text/plain": [
       "14"
      ]
     },
     "execution_count": 36,
     "metadata": {},
     "output_type": "execute_result"
    }
   ],
   "source": [
    "randomsum(2,3,4,5)"
   ]
  },
  {
   "cell_type": "code",
   "execution_count": 37,
   "id": "ee11bb18",
   "metadata": {},
   "outputs": [],
   "source": [
    "def randomsum(*pavan):\n",
    "    s=2\n",
    "    for i in range(len(pavan)):\n",
    "        s*=pavan[i]\n",
    "    return s"
   ]
  },
  {
   "cell_type": "code",
   "execution_count": 38,
   "id": "0c5c7c7f",
   "metadata": {},
   "outputs": [
    {
     "data": {
      "text/plain": [
       "20"
      ]
     },
     "execution_count": 38,
     "metadata": {},
     "output_type": "execute_result"
    }
   ],
   "source": [
    "randomsum(2,5)"
   ]
  },
  {
   "cell_type": "code",
   "execution_count": 39,
   "id": "a4bac494",
   "metadata": {},
   "outputs": [],
   "source": [
    "def randomsum(*pavan):\n",
    "    s=10\n",
    "    for i in range(len(pavan)):\n",
    "        s/=pavan[i]\n",
    "    return s"
   ]
  },
  {
   "cell_type": "code",
   "execution_count": 40,
   "id": "3d252df9",
   "metadata": {},
   "outputs": [
    {
     "data": {
      "text/plain": [
       "0.2"
      ]
     },
     "execution_count": 40,
     "metadata": {},
     "output_type": "execute_result"
    }
   ],
   "source": [
    "randomsum(5,10)"
   ]
  },
  {
   "cell_type": "code",
   "execution_count": 41,
   "id": "ed1cd68a",
   "metadata": {},
   "outputs": [],
   "source": [
    "def tillu(*args):\n",
    "    z=args[0]\n",
    "    print(z)\n"
   ]
  },
  {
   "cell_type": "code",
   "execution_count": 42,
   "id": "17f9b115",
   "metadata": {},
   "outputs": [
    {
     "name": "stdout",
     "output_type": "stream",
     "text": [
      "2\n"
     ]
    }
   ],
   "source": [
    "tillu(2,6)"
   ]
  },
  {
   "cell_type": "code",
   "execution_count": 43,
   "id": "43f1e37f",
   "metadata": {},
   "outputs": [],
   "source": [
    "def tillu(x,y,*args):\n",
    "    print(*args)\n",
    "    z=x+y+sum(args)\n",
    "    print(z)"
   ]
  },
  {
   "cell_type": "code",
   "execution_count": 44,
   "id": "958180b0",
   "metadata": {},
   "outputs": [
    {
     "name": "stdout",
     "output_type": "stream",
     "text": [
      "4\n",
      "9\n"
     ]
    }
   ],
   "source": [
    "tillu(2,3,4)"
   ]
  },
  {
   "cell_type": "markdown",
   "id": "6f70f1d1",
   "metadata": {},
   "source": [
    "##  **kwargs go as dictionary format"
   ]
  },
  {
   "cell_type": "code",
   "execution_count": 45,
   "id": "404477be",
   "metadata": {},
   "outputs": [],
   "source": [
    "def name(**kwargs):\n",
    "    print(kwargs)"
   ]
  },
  {
   "cell_type": "code",
   "execution_count": 46,
   "id": "d83136d4",
   "metadata": {},
   "outputs": [
    {
     "name": "stdout",
     "output_type": "stream",
     "text": [
      "{'x': 8, 'y': 2, 'z': 6, 'c': 8}\n"
     ]
    }
   ],
   "source": [
    "name(x=8,y=2,z=6,c=8)"
   ]
  },
  {
   "cell_type": "code",
   "execution_count": 47,
   "id": "6f422bb1",
   "metadata": {},
   "outputs": [],
   "source": [
    "def name1(**kwargs):\n",
    "    print(kwargs.keys())\n",
    "    print(kwargs.values())"
   ]
  },
  {
   "cell_type": "code",
   "execution_count": 48,
   "id": "eb7f5c06",
   "metadata": {},
   "outputs": [
    {
     "name": "stdout",
     "output_type": "stream",
     "text": [
      "dict_keys(['x', 'y', 'z', 'c', 'f', 'g'])\n",
      "dict_values([8, 2, 6, 8, 5, 8])\n"
     ]
    }
   ],
   "source": [
    "name1(x=8,y=2,z=6,c=8,f=5,g=8)"
   ]
  },
  {
   "cell_type": "code",
   "execution_count": null,
   "id": "5d86c46b",
   "metadata": {},
   "outputs": [],
   "source": []
  },
  {
   "cell_type": "code",
   "execution_count": null,
   "id": "7ad45f6f",
   "metadata": {},
   "outputs": [],
   "source": []
  }
 ],
 "metadata": {
  "kernelspec": {
   "display_name": "Python 3 (ipykernel)",
   "language": "python",
   "name": "python3"
  },
  "language_info": {
   "codemirror_mode": {
    "name": "ipython",
    "version": 3
   },
   "file_extension": ".py",
   "mimetype": "text/x-python",
   "name": "python",
   "nbconvert_exporter": "python",
   "pygments_lexer": "ipython3",
   "version": "3.9.7"
  }
 },
 "nbformat": 4,
 "nbformat_minor": 5
}
