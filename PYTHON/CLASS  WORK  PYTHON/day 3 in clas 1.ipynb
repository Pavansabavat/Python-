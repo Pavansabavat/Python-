{
 "cells": [
  {
   "cell_type": "markdown",
   "id": "2a608ae0",
   "metadata": {},
   "source": [
    "STRINGS  CHP = 2"
   ]
  },
  {
   "cell_type": "markdown",
   "id": "31849996",
   "metadata": {},
   "source": [
    "conversion of string in a binary is a decoding\n",
    ">> converting  binary  to string is encoding\n",
    " >>> we cannot add some  integer to string"
   ]
  },
  {
   "cell_type": "code",
   "execution_count": 2,
   "id": "1c65896d",
   "metadata": {},
   "outputs": [
    {
     "name": "stdout",
     "output_type": "stream",
     "text": [
      "====================\n"
     ]
    }
   ],
   "source": [
    "a=\"=\"\n",
    "print(a*20)"
   ]
  },
  {
   "cell_type": "markdown",
   "id": "4d5dfc9e",
   "metadata": {},
   "source": [
    "string  indexing"
   ]
  },
  {
   "cell_type": "code",
   "execution_count": 3,
   "id": "7d10f4d3",
   "metadata": {},
   "outputs": [
    {
     "data": {
      "text/plain": [
       "14"
      ]
     },
     "execution_count": 3,
     "metadata": {},
     "output_type": "execute_result"
    }
   ],
   "source": [
    "x=\"python program\"\n",
    "len(x)"
   ]
  },
  {
   "cell_type": "code",
   "execution_count": 4,
   "id": "1f3e37cb",
   "metadata": {},
   "outputs": [
    {
     "data": {
      "text/plain": [
       "'n'"
      ]
     },
     "execution_count": 4,
     "metadata": {},
     "output_type": "execute_result"
    }
   ],
   "source": [
    "x[-9]"
   ]
  },
  {
   "cell_type": "code",
   "execution_count": 5,
   "id": "e9573113",
   "metadata": {},
   "outputs": [
    {
     "data": {
      "text/plain": [
       "'h'"
      ]
     },
     "execution_count": 5,
     "metadata": {},
     "output_type": "execute_result"
    }
   ],
   "source": [
    "x[3]"
   ]
  },
  {
   "cell_type": "code",
   "execution_count": 6,
   "id": "548b9845",
   "metadata": {},
   "outputs": [
    {
     "name": "stdout",
     "output_type": "stream",
     "text": [
      "h\n",
      "m\n"
     ]
    }
   ],
   "source": [
    "print(x[3]) \n",
    "print(x[-1])\n"
   ]
  },
  {
   "cell_type": "code",
   "execution_count": 7,
   "id": "4ed60cfe",
   "metadata": {},
   "outputs": [
    {
     "data": {
      "text/plain": [
       "('yhn', 'orr')"
      ]
     },
     "execution_count": 7,
     "metadata": {},
     "output_type": "execute_result"
    }
   ],
   "source": [
    "x[1]+x[3]+x[5],x[4]+x[-3]+x[8]"
   ]
  },
  {
   "cell_type": "code",
   "execution_count": 8,
   "id": "fffc61d6",
   "metadata": {},
   "outputs": [
    {
     "data": {
      "text/plain": [
       "'on pro'"
      ]
     },
     "execution_count": 8,
     "metadata": {},
     "output_type": "execute_result"
    }
   ],
   "source": [
    "x[4]+x[5]+x[6]+x[7]+x[8]+x[9]"
   ]
  },
  {
   "cell_type": "code",
   "execution_count": 9,
   "id": "37c805ee",
   "metadata": {},
   "outputs": [
    {
     "data": {
      "text/plain": [
       "('o r', 'npo')"
      ]
     },
     "execution_count": 9,
     "metadata": {},
     "output_type": "execute_result"
    }
   ],
   "source": [
    "x[4:10:2],x[5:10:2]"
   ]
  },
  {
   "cell_type": "code",
   "execution_count": 10,
   "id": "ff2e9563",
   "metadata": {},
   "outputs": [
    {
     "data": {
      "text/plain": [
       "'op'"
      ]
     },
     "execution_count": 10,
     "metadata": {},
     "output_type": "execute_result"
    }
   ],
   "source": [
    "x[4:10:3]"
   ]
  },
  {
   "cell_type": "markdown",
   "id": "077d8bbb",
   "metadata": {},
   "source": [
    "in 4:14:3,3   2  and 3 is spacings\n",
    "> string slicing"
   ]
  },
  {
   "cell_type": "code",
   "execution_count": 11,
   "id": "9464c85d",
   "metadata": {},
   "outputs": [
    {
     "data": {
      "text/plain": [
       "'o rga'"
      ]
     },
     "execution_count": 11,
     "metadata": {},
     "output_type": "execute_result"
    }
   ],
   "source": [
    " x[4:14:2]"
   ]
  },
  {
   "cell_type": "code",
   "execution_count": 12,
   "id": "d813fa3c",
   "metadata": {},
   "outputs": [
    {
     "data": {
      "text/plain": [
       "'opgm'"
      ]
     },
     "execution_count": 12,
     "metadata": {},
     "output_type": "execute_result"
    }
   ],
   "source": [
    "x[4:14:3]"
   ]
  },
  {
   "cell_type": "code",
   "execution_count": 13,
   "id": "d72e756d",
   "metadata": {},
   "outputs": [],
   "source": [
    "x=\"python program\"\n",
    "y=\"good program\""
   ]
  },
  {
   "cell_type": "code",
   "execution_count": 14,
   "id": "7ca6ab52",
   "metadata": {},
   "outputs": [
    {
     "data": {
      "text/plain": [
       "'python good'"
      ]
     },
     "execution_count": 14,
     "metadata": {},
     "output_type": "execute_result"
    }
   ],
   "source": [
    "x[0:7]+y[0:4]"
   ]
  },
  {
   "cell_type": "code",
   "execution_count": 15,
   "id": "f0c86183",
   "metadata": {},
   "outputs": [
    {
     "data": {
      "text/plain": [
       "'python prood'"
      ]
     },
     "execution_count": 15,
     "metadata": {},
     "output_type": "execute_result"
    }
   ],
   "source": [
    "x[0:9]+y[1:4]"
   ]
  },
  {
   "cell_type": "code",
   "execution_count": 16,
   "id": "2328a832",
   "metadata": {},
   "outputs": [
    {
     "data": {
      "text/plain": [
       "False"
      ]
     },
     "execution_count": 16,
     "metadata": {},
     "output_type": "execute_result"
    }
   ],
   "source": [
    "x[0:14]==y[0:13]"
   ]
  },
  {
   "cell_type": "code",
   "execution_count": 17,
   "id": "594ba440",
   "metadata": {},
   "outputs": [
    {
     "data": {
      "text/plain": [
       "'python programgood program'"
      ]
     },
     "execution_count": 17,
     "metadata": {},
     "output_type": "execute_result"
    }
   ],
   "source": [
    "x+ y"
   ]
  },
  {
   "cell_type": "code",
   "execution_count": 18,
   "id": "fb037464",
   "metadata": {},
   "outputs": [
    {
     "data": {
      "text/plain": [
       "'rgorp'"
      ]
     },
     "execution_count": 18,
     "metadata": {},
     "output_type": "execute_result"
    }
   ],
   "source": [
    "x[-3:-8:-1]"
   ]
  },
  {
   "cell_type": "code",
   "execution_count": 19,
   "id": "ff879047",
   "metadata": {},
   "outputs": [
    {
     "data": {
      "text/plain": [
       "'ag'"
      ]
     },
     "execution_count": 19,
     "metadata": {},
     "output_type": "execute_result"
    }
   ],
   "source": [
    "x[-2:-5:-2]"
   ]
  },
  {
   "cell_type": "code",
   "execution_count": 20,
   "id": "fb3abad6",
   "metadata": {},
   "outputs": [
    {
     "data": {
      "text/plain": [
       "'ropnh'"
      ]
     },
     "execution_count": 20,
     "metadata": {},
     "output_type": "execute_result"
    }
   ],
   "source": [
    "x[-3:-13:-2]"
   ]
  },
  {
   "cell_type": "code",
   "execution_count": 80,
   "id": "0f6ebea8",
   "metadata": {},
   "outputs": [
    {
     "data": {
      "text/plain": [
       "'margorp doo'"
      ]
     },
     "execution_count": 80,
     "metadata": {},
     "output_type": "execute_result"
    }
   ],
   "source": [
    "x[-1:0:-1]"
   ]
  },
  {
   "cell_type": "code",
   "execution_count": 81,
   "id": "5607abfb",
   "metadata": {},
   "outputs": [
    {
     "data": {
      "text/plain": [
       "'good progr'"
      ]
     },
     "execution_count": 81,
     "metadata": {},
     "output_type": "execute_result"
    }
   ],
   "source": [
    "x[ :10]"
   ]
  },
  {
   "cell_type": "code",
   "execution_count": 82,
   "id": "9b6ee43a",
   "metadata": {},
   "outputs": [
    {
     "data": {
      "text/plain": [
       "'program'"
      ]
     },
     "execution_count": 82,
     "metadata": {},
     "output_type": "execute_result"
    }
   ],
   "source": [
    "x[5:]"
   ]
  },
  {
   "cell_type": "markdown",
   "id": "43e2a445",
   "metadata": {},
   "source": [
    "##METHODS  ARE BIULT IN FUNCTIONS"
   ]
  },
  {
   "cell_type": "code",
   "execution_count": 89,
   "id": "d7efa60e",
   "metadata": {},
   "outputs": [
    {
     "data": {
      "text/plain": [
       "'INNOMATICS'"
      ]
     },
     "execution_count": 89,
     "metadata": {},
     "output_type": "execute_result"
    }
   ],
   "source": [
    "x=\"innomatics\"\n",
    "x.upper()"
   ]
  },
  {
   "cell_type": "code",
   "execution_count": 90,
   "id": "690c074d",
   "metadata": {},
   "outputs": [
    {
     "data": {
      "text/plain": [
       "'innomatics'"
      ]
     },
     "execution_count": 90,
     "metadata": {},
     "output_type": "execute_result"
    }
   ],
   "source": [
    "x.lower()"
   ]
  },
  {
   "cell_type": "code",
   "execution_count": 94,
   "id": "ea3ad596",
   "metadata": {},
   "outputs": [
    {
     "data": {
      "text/plain": [
       "'INOOYHNH'"
      ]
     },
     "execution_count": 94,
     "metadata": {},
     "output_type": "execute_result"
    }
   ],
   "source": [
    "x=\"inooYHnh\"\n",
    "x.upper()"
   ]
  },
  {
   "cell_type": "code",
   "execution_count": 99,
   "id": "83989967",
   "metadata": {},
   "outputs": [
    {
     "data": {
      "text/plain": [
       "'Innomtics'"
      ]
     },
     "execution_count": 99,
     "metadata": {},
     "output_type": "execute_result"
    }
   ],
   "source": [
    "x='innoMtiCS'\n",
    "x.capitalize()"
   ]
  },
  {
   "cell_type": "code",
   "execution_count": 103,
   "id": "a8e888f5",
   "metadata": {},
   "outputs": [
    {
     "name": "stdout",
     "output_type": "stream",
     "text": [
      "2\n",
      "1\n"
     ]
    }
   ],
   "source": [
    "x=\"innomatics\"\n",
    "print(x.count('n'))\n",
    "print(x.count('c'))"
   ]
  },
  {
   "cell_type": "code",
   "execution_count": 107,
   "id": "16c7f65b",
   "metadata": {},
   "outputs": [
    {
     "data": {
      "text/plain": [
       "1"
      ]
     },
     "execution_count": 107,
     "metadata": {},
     "output_type": "execute_result"
    }
   ],
   "source": [
    "x=\"iNnomatics\"\n",
    "x.count('N')"
   ]
  },
  {
   "cell_type": "code",
   "execution_count": 109,
   "id": "1f0e9801",
   "metadata": {},
   "outputs": [
    {
     "data": {
      "text/plain": [
       "'Innomatics'"
      ]
     },
     "execution_count": 109,
     "metadata": {},
     "output_type": "execute_result"
    }
   ],
   "source": [
    "x=\"innomatics\"\n",
    "x.title()"
   ]
  },
  {
   "cell_type": "code",
   "execution_count": 110,
   "id": "31cce45f",
   "metadata": {},
   "outputs": [
    {
     "data": {
      "text/plain": [
       "'Pavan Nayak'"
      ]
     },
     "execution_count": 110,
     "metadata": {},
     "output_type": "execute_result"
    }
   ],
   "source": [
    "x=\"pavan nayak\"\n",
    "x.title()"
   ]
  },
  {
   "cell_type": "code",
   "execution_count": 116,
   "id": "58a8549b",
   "metadata": {},
   "outputs": [
    {
     "data": {
      "text/plain": [
       "True"
      ]
     },
     "execution_count": 116,
     "metadata": {},
     "output_type": "execute_result"
    }
   ],
   "source": [
    "x=\"pavan kumar\"\n",
    "x.endswith('ar')"
   ]
  },
  {
   "cell_type": "code",
   "execution_count": 120,
   "id": "537b5410",
   "metadata": {},
   "outputs": [
    {
     "data": {
      "text/plain": [
       "True"
      ]
     },
     "execution_count": 120,
     "metadata": {},
     "output_type": "execute_result"
    }
   ],
   "source": [
    "y=\"pavan nayak\"\n",
    "x.startswith('pa')"
   ]
  },
  {
   "cell_type": "code",
   "execution_count": 124,
   "id": "a9c8b721",
   "metadata": {},
   "outputs": [
    {
     "data": {
      "text/plain": [
       "False"
      ]
     },
     "execution_count": 124,
     "metadata": {},
     "output_type": "execute_result"
    }
   ],
   "source": [
    "y=\"dadas\"\n",
    "y.startswith('ds')"
   ]
  },
  {
   "cell_type": "code",
   "execution_count": null,
   "id": "d9e97ea2",
   "metadata": {},
   "outputs": [],
   "source": []
  }
 ],
 "metadata": {
  "kernelspec": {
   "display_name": "Python 3 (ipykernel)",
   "language": "python",
   "name": "python3"
  },
  "language_info": {
   "codemirror_mode": {
    "name": "ipython",
    "version": 3
   },
   "file_extension": ".py",
   "mimetype": "text/x-python",
   "name": "python",
   "nbconvert_exporter": "python",
   "pygments_lexer": "ipython3",
   "version": "3.9.7"
  }
 },
 "nbformat": 4,
 "nbformat_minor": 5
}
