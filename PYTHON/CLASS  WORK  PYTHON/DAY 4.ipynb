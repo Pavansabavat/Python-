{
 "cells": [
  {
   "cell_type": "markdown",
   "id": "6b842a26",
   "metadata": {},
   "source": [
    "##  split, strip,find,index,replace"
   ]
  },
  {
   "cell_type": "code",
   "execution_count": 2,
   "id": "24156562",
   "metadata": {},
   "outputs": [],
   "source": [
    "x=(\"pavan\")"
   ]
  },
  {
   "cell_type": "code",
   "execution_count": 3,
   "id": "74c21794",
   "metadata": {},
   "outputs": [
    {
     "data": {
      "text/plain": [
       "2"
      ]
     },
     "execution_count": 3,
     "metadata": {},
     "output_type": "execute_result"
    }
   ],
   "source": [
    "x.find('v')"
   ]
  },
  {
   "cell_type": "code",
   "execution_count": 4,
   "id": "387d9f27",
   "metadata": {},
   "outputs": [
    {
     "data": {
      "text/plain": [
       "'n'"
      ]
     },
     "execution_count": 4,
     "metadata": {},
     "output_type": "execute_result"
    }
   ],
   "source": [
    "x[-1]"
   ]
  },
  {
   "cell_type": "code",
   "execution_count": 5,
   "id": "8e8d1259",
   "metadata": {},
   "outputs": [],
   "source": [
    "x=\"innomatics\""
   ]
  },
  {
   "cell_type": "code",
   "execution_count": 6,
   "id": "9f272748",
   "metadata": {},
   "outputs": [
    {
     "data": {
      "text/plain": [
       "(1, 7)"
      ]
     },
     "execution_count": 6,
     "metadata": {},
     "output_type": "execute_result"
    }
   ],
   "source": [
    "x.index(\"nno\"),x.index(\"ics\")"
   ]
  },
  {
   "cell_type": "code",
   "execution_count": 7,
   "id": "1c94cd22",
   "metadata": {},
   "outputs": [
    {
     "ename": "ValueError",
     "evalue": "substring not found",
     "output_type": "error",
     "traceback": [
      "\u001b[1;31m---------------------------------------------------------------------------\u001b[0m",
      "\u001b[1;31mValueError\u001b[0m                                Traceback (most recent call last)",
      "\u001b[1;32m~\\AppData\\Local\\Temp/ipykernel_16724/3162096556.py\u001b[0m in \u001b[0;36m<module>\u001b[1;34m\u001b[0m\n\u001b[1;32m----> 1\u001b[1;33m \u001b[0mx\u001b[0m\u001b[1;33m.\u001b[0m\u001b[0mindex\u001b[0m\u001b[1;33m(\u001b[0m\u001b[1;34m\"xsd\"\u001b[0m\u001b[1;33m)\u001b[0m\u001b[1;33m\u001b[0m\u001b[1;33m\u001b[0m\u001b[0m\n\u001b[0m",
      "\u001b[1;31mValueError\u001b[0m: substring not found"
     ]
    }
   ],
   "source": [
    "x.index(\"xsd\")"
   ]
  },
  {
   "cell_type": "markdown",
   "id": "7d01c151",
   "metadata": {},
   "source": [
    "# is digit"
   ]
  },
  {
   "cell_type": "code",
   "execution_count": 8,
   "id": "a3d636d1",
   "metadata": {},
   "outputs": [],
   "source": [
    "x=\"pavan2\""
   ]
  },
  {
   "cell_type": "code",
   "execution_count": 9,
   "id": "6e5f7920",
   "metadata": {},
   "outputs": [
    {
     "data": {
      "text/plain": [
       "False"
      ]
     },
     "execution_count": 9,
     "metadata": {},
     "output_type": "execute_result"
    }
   ],
   "source": [
    "x.isdigit()"
   ]
  },
  {
   "cell_type": "code",
   "execution_count": 10,
   "id": "3ac7611b",
   "metadata": {},
   "outputs": [],
   "source": [
    "x=\"5\""
   ]
  },
  {
   "cell_type": "code",
   "execution_count": 11,
   "id": "29e668c7",
   "metadata": {},
   "outputs": [
    {
     "data": {
      "text/plain": [
       "True"
      ]
     },
     "execution_count": 11,
     "metadata": {},
     "output_type": "execute_result"
    }
   ],
   "source": [
    "x.isdigit()"
   ]
  },
  {
   "cell_type": "code",
   "execution_count": 12,
   "id": "b7e34772",
   "metadata": {},
   "outputs": [],
   "source": [
    "x=\"5.2\""
   ]
  },
  {
   "cell_type": "code",
   "execution_count": 13,
   "id": "54a25a5a",
   "metadata": {},
   "outputs": [
    {
     "data": {
      "text/plain": [
       "False"
      ]
     },
     "execution_count": 13,
     "metadata": {},
     "output_type": "execute_result"
    }
   ],
   "source": [
    "x.isdigit()"
   ]
  },
  {
   "cell_type": "markdown",
   "id": "eeb4f241",
   "metadata": {},
   "source": [
    "# replace"
   ]
  },
  {
   "cell_type": "code",
   "execution_count": 14,
   "id": "429d3ab7",
   "metadata": {},
   "outputs": [],
   "source": [
    "x=\"abc5\""
   ]
  },
  {
   "cell_type": "code",
   "execution_count": 15,
   "id": "5b507a59",
   "metadata": {},
   "outputs": [
    {
     "data": {
      "text/plain": [
       "('abcy', 'ayc5')"
      ]
     },
     "execution_count": 15,
     "metadata": {},
     "output_type": "execute_result"
    }
   ],
   "source": [
    "x.replace(\"5\",\"y\"),x.replace(\"b\",\"y\")"
   ]
  },
  {
   "cell_type": "code",
   "execution_count": 16,
   "id": "cb575e98",
   "metadata": {},
   "outputs": [
    {
     "name": "stdout",
     "output_type": "stream",
     "text": [
      "abc5\n"
     ]
    }
   ],
   "source": [
    "print(x)"
   ]
  },
  {
   "cell_type": "markdown",
   "id": "7b558227",
   "metadata": {},
   "source": [
    "# strips"
   ]
  },
  {
   "cell_type": "code",
   "execution_count": 17,
   "id": "02e9b44f",
   "metadata": {},
   "outputs": [],
   "source": [
    "x=\"   abc   def  ijk   \""
   ]
  },
  {
   "cell_type": "code",
   "execution_count": 18,
   "id": "cab3582e",
   "metadata": {},
   "outputs": [
    {
     "data": {
      "text/plain": [
       "'abc   def  ijk'"
      ]
     },
     "execution_count": 18,
     "metadata": {},
     "output_type": "execute_result"
    }
   ],
   "source": [
    "x.strip()"
   ]
  },
  {
   "cell_type": "code",
   "execution_count": 19,
   "id": "f0b94674",
   "metadata": {},
   "outputs": [
    {
     "name": "stdout",
     "output_type": "stream",
     "text": [
      "   abc   def  ijk   \n"
     ]
    }
   ],
   "source": [
    "print(x)"
   ]
  },
  {
   "cell_type": "code",
   "execution_count": 20,
   "id": "8c513355",
   "metadata": {},
   "outputs": [
    {
     "data": {
      "text/plain": [
       "20"
      ]
     },
     "execution_count": 20,
     "metadata": {},
     "output_type": "execute_result"
    }
   ],
   "source": [
    "len(x)"
   ]
  },
  {
   "cell_type": "code",
   "execution_count": 21,
   "id": "dd98997a",
   "metadata": {},
   "outputs": [],
   "source": [
    "x=x.strip()"
   ]
  },
  {
   "cell_type": "code",
   "execution_count": 22,
   "id": "63323762",
   "metadata": {},
   "outputs": [
    {
     "data": {
      "text/plain": [
       "14"
      ]
     },
     "execution_count": 22,
     "metadata": {},
     "output_type": "execute_result"
    }
   ],
   "source": [
    "len(x)"
   ]
  },
  {
   "cell_type": "code",
   "execution_count": 23,
   "id": "93754da4",
   "metadata": {},
   "outputs": [
    {
     "name": "stdout",
     "output_type": "stream",
     "text": [
      "abc   def  ijk\n"
     ]
    }
   ],
   "source": [
    "print(x)"
   ]
  },
  {
   "cell_type": "code",
   "execution_count": 24,
   "id": "af001f5c",
   "metadata": {},
   "outputs": [],
   "source": [
    "z=\"  pavan nayak  \""
   ]
  },
  {
   "cell_type": "code",
   "execution_count": 25,
   "id": "4179f953",
   "metadata": {},
   "outputs": [
    {
     "name": "stdout",
     "output_type": "stream",
     "text": [
      "abc   def  ijk\n"
     ]
    }
   ],
   "source": [
    "print(x.strip())"
   ]
  },
  {
   "cell_type": "code",
   "execution_count": 26,
   "id": "69be2996",
   "metadata": {},
   "outputs": [
    {
     "data": {
      "text/plain": [
       "14"
      ]
     },
     "execution_count": 26,
     "metadata": {},
     "output_type": "execute_result"
    }
   ],
   "source": [
    "len(x)"
   ]
  },
  {
   "cell_type": "code",
   "execution_count": 27,
   "id": "8e7176f7",
   "metadata": {},
   "outputs": [],
   "source": [
    "x=x.strip()"
   ]
  },
  {
   "cell_type": "code",
   "execution_count": 28,
   "id": "67bfbfab",
   "metadata": {},
   "outputs": [
    {
     "data": {
      "text/plain": [
       "15"
      ]
     },
     "execution_count": 28,
     "metadata": {},
     "output_type": "execute_result"
    }
   ],
   "source": [
    "len(z)"
   ]
  },
  {
   "cell_type": "code",
   "execution_count": 29,
   "id": "c27e94bc",
   "metadata": {},
   "outputs": [],
   "source": [
    "x=\"@@##pavan@-kumar@##\""
   ]
  },
  {
   "cell_type": "code",
   "execution_count": 30,
   "id": "02c3cb4f",
   "metadata": {},
   "outputs": [
    {
     "data": {
      "text/plain": [
       "'pavan@-kumar'"
      ]
     },
     "execution_count": 30,
     "metadata": {},
     "output_type": "execute_result"
    }
   ],
   "source": [
    "x.strip(\"@#\")"
   ]
  },
  {
   "cell_type": "code",
   "execution_count": 31,
   "id": "eccf22b6",
   "metadata": {},
   "outputs": [
    {
     "name": "stdout",
     "output_type": "stream",
     "text": [
      "  ##pavan -kumar ##\n",
      "@@##pavan@fkumar@##\n"
     ]
    }
   ],
   "source": [
    "x.replace(\"-\",\" \")\n",
    "print(x.replace(\"@\",\" \"))\n",
    "print(x.replace(\"-\",\"f\"))"
   ]
  },
  {
   "cell_type": "markdown",
   "id": "1a87379f",
   "metadata": {},
   "source": [
    "# split"
   ]
  },
  {
   "cell_type": "code",
   "execution_count": 32,
   "id": "364a8121",
   "metadata": {},
   "outputs": [],
   "source": [
    "x=\"pavan---kumar---227\"\n",
    "u=\"hello--- google\"\n",
    "v=\"njddhcgdsjbcj@@@bdngcydf@@@mh\""
   ]
  },
  {
   "cell_type": "code",
   "execution_count": 33,
   "id": "79732c56",
   "metadata": {},
   "outputs": [
    {
     "name": "stdout",
     "output_type": "stream",
     "text": [
      "['pavan', 'kumar', '227']\n",
      "['hello', ' google']\n",
      "['njddhcgdsjbcj', 'bdngcydf', 'mh']\n"
     ]
    }
   ],
   "source": [
    "print(x.split(\"---\"))\n",
    "print(u.split(\"---\"))\n",
    "print(v.split(\"@@@\"))"
   ]
  },
  {
   "cell_type": "code",
   "execution_count": 34,
   "id": "276b8cc4",
   "metadata": {},
   "outputs": [],
   "source": [
    "me=\"iam going to jntuh\""
   ]
  },
  {
   "cell_type": "code",
   "execution_count": 35,
   "id": "1bd5cc07",
   "metadata": {},
   "outputs": [
    {
     "name": "stdout",
     "output_type": "stream",
     "text": [
      "iam going to jntuh\n"
     ]
    }
   ],
   "source": [
    "print(\"iam going to jntuh\" )"
   ]
  },
  {
   "cell_type": "markdown",
   "id": "5fdeea4c",
   "metadata": {},
   "source": [
    "# format"
   ]
  },
  {
   "cell_type": "code",
   "execution_count": 36,
   "id": "18e23139",
   "metadata": {},
   "outputs": [],
   "source": [
    "x3=\"byee\""
   ]
  },
  {
   "cell_type": "code",
   "execution_count": 37,
   "id": "5cdafff0",
   "metadata": {},
   "outputs": [
    {
     "name": "stdout",
     "output_type": "stream",
     "text": [
      "iam going 2 home on date is'5-4-22','byee\n"
     ]
    }
   ],
   "source": [
    "print(\"iam going {0} home on date is'{1}','{2}\".format(2,\"5-4-22\",x3))"
   ]
  },
  {
   "cell_type": "code",
   "execution_count": 38,
   "id": "ceead700",
   "metadata": {},
   "outputs": [],
   "source": [
    "x=\"pavan kumar\""
   ]
  },
  {
   "cell_type": "code",
   "execution_count": 39,
   "id": "2aeae386",
   "metadata": {},
   "outputs": [
    {
     "name": "stdout",
     "output_type": "stream",
     "text": [
      "rrr\n"
     ]
    }
   ],
   "source": [
    "print(\"rrr\")"
   ]
  },
  {
   "cell_type": "code",
   "execution_count": 40,
   "id": "bfc75287",
   "metadata": {},
   "outputs": [
    {
     "name": "stdout",
     "output_type": "stream",
     "text": [
      "pavan kumar'35-4-56',date is'123','iam going to jntuh',\n"
     ]
    }
   ],
   "source": [
    "print(\"pavan kumar'{1}',date is'{0}','{2}',\".format(123,\"35-4-56\",me))"
   ]
  },
  {
   "cell_type": "code",
   "execution_count": 41,
   "id": "01d14258",
   "metadata": {},
   "outputs": [
    {
     "name": "stdout",
     "output_type": "stream",
     "text": [
      "pavan kumar iam going to jntuh,123,\n"
     ]
    }
   ],
   "source": [
    "print(\"pavan kumar {},{},\".format(me,'123'))"
   ]
  },
  {
   "cell_type": "code",
   "execution_count": 42,
   "id": "3fe81bf2",
   "metadata": {},
   "outputs": [
    {
     "name": "stdout",
     "output_type": "stream",
     "text": [
      "pavan kumar'123',date is'5-4-22','pavan kumar',\n",
      "pavan kumar'123',date is'5-4-22','3',\n"
     ]
    }
   ],
   "source": [
    "print(\"pavan kumar'{}',date is'{}','{}',\".format(123,\"5-4-22\",x))\n",
    "print(\"pavan kumar'{e}',date is'{j}','{y}',\".format(e='123',j='5-4-22',y=3))"
   ]
  },
  {
   "cell_type": "markdown",
   "id": "3601c387",
   "metadata": {},
   "source": [
    "# inputs"
   ]
  },
  {
   "cell_type": "code",
   "execution_count": 43,
   "id": "0aa9b095",
   "metadata": {},
   "outputs": [
    {
     "name": "stdout",
     "output_type": "stream",
     "text": [
      "your  name plzpavan\n",
      "your hobbiescricket\n"
     ]
    }
   ],
   "source": [
    "x=input(\"your  name plz\")\n",
    "y=input(\"your hobbies\")"
   ]
  },
  {
   "cell_type": "code",
   "execution_count": 44,
   "id": "67f599fe",
   "metadata": {},
   "outputs": [
    {
     "name": "stdout",
     "output_type": "stream",
     "text": [
      "pavan\n",
      "cricket\n"
     ]
    }
   ],
   "source": [
    "print(x)\n",
    "print(y)"
   ]
  },
  {
   "cell_type": "code",
   "execution_count": 45,
   "id": "7717c952",
   "metadata": {},
   "outputs": [
    {
     "name": "stdout",
     "output_type": "stream",
     "text": [
      "hi   i love u achuu\n"
     ]
    }
   ],
   "source": [
    "x=input(\"hi   i love u \")"
   ]
  },
  {
   "cell_type": "code",
   "execution_count": null,
   "id": "8151695f",
   "metadata": {},
   "outputs": [],
   "source": []
  },
  {
   "cell_type": "code",
   "execution_count": null,
   "id": "378081bc",
   "metadata": {},
   "outputs": [],
   "source": []
  }
 ],
 "metadata": {
  "kernelspec": {
   "display_name": "Python 3 (ipykernel)",
   "language": "python",
   "name": "python3"
  },
  "language_info": {
   "codemirror_mode": {
    "name": "ipython",
    "version": 3
   },
   "file_extension": ".py",
   "mimetype": "text/x-python",
   "name": "python",
   "nbconvert_exporter": "python",
   "pygments_lexer": "ipython3",
   "version": "3.9.7"
  }
 },
 "nbformat": 4,
 "nbformat_minor": 5
}
