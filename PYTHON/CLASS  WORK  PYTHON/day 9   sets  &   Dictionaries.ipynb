{
 "cells": [
  {
   "cell_type": "markdown",
   "id": "cf5838a9",
   "metadata": {},
   "source": [
    "## manipulating and accesing sets"
   ]
  },
  {
   "cell_type": "code",
   "execution_count": 9,
   "id": "adc17d13",
   "metadata": {},
   "outputs": [],
   "source": [
    "s1={1,2,3,4,5,6}"
   ]
  },
  {
   "cell_type": "code",
   "execution_count": 10,
   "id": "ba1a07b2",
   "metadata": {},
   "outputs": [
    {
     "name": "stdout",
     "output_type": "stream",
     "text": [
      "6\n",
      "21\n",
      "6\n",
      "1\n"
     ]
    }
   ],
   "source": [
    "print(len(s1))\n",
    "print(sum(s1))\n",
    "print(max(s1))\n",
    "print(min(s1))"
   ]
  },
  {
   "cell_type": "code",
   "execution_count": 11,
   "id": "e2fc3910",
   "metadata": {},
   "outputs": [],
   "source": [
    "s3=set(\"tillu nayak\")"
   ]
  },
  {
   "cell_type": "code",
   "execution_count": 12,
   "id": "6a2a69af",
   "metadata": {},
   "outputs": [
    {
     "name": "stdout",
     "output_type": "stream",
     "text": [
      "{'u', 'i', 't', 'l', 'a', 'n', 'y', 'k', ' '}\n"
     ]
    }
   ],
   "source": [
    "print(s3)"
   ]
  },
  {
   "cell_type": "code",
   "execution_count": 16,
   "id": "668fcc1f",
   "metadata": {},
   "outputs": [],
   "source": [
    "s1=set(s1)"
   ]
  },
  {
   "cell_type": "code",
   "execution_count": 17,
   "id": "1aae89c9",
   "metadata": {},
   "outputs": [
    {
     "data": {
      "text/plain": [
       "{1, 2, 3, 4, 5, 6}"
      ]
     },
     "execution_count": 17,
     "metadata": {},
     "output_type": "execute_result"
    }
   ],
   "source": [
    "s1"
   ]
  },
  {
   "cell_type": "code",
   "execution_count": 18,
   "id": "1259e3c2",
   "metadata": {},
   "outputs": [
    {
     "data": {
      "text/plain": [
       "{' ', 'a', 'i', 'k', 'l', 'n', 't', 'u', 'y'}"
      ]
     },
     "execution_count": 18,
     "metadata": {},
     "output_type": "execute_result"
    }
   ],
   "source": [
    "s3"
   ]
  },
  {
   "cell_type": "code",
   "execution_count": 19,
   "id": "d4c09881",
   "metadata": {},
   "outputs": [],
   "source": [
    "s2=set(\"tillu  pavan\")"
   ]
  },
  {
   "cell_type": "code",
   "execution_count": 20,
   "id": "c6c530d0",
   "metadata": {},
   "outputs": [
    {
     "name": "stdout",
     "output_type": "stream",
     "text": [
      "{'u', 'i', 't', 'v', 'l', 'a', 'n', ' ', 'p'}\n"
     ]
    }
   ],
   "source": [
    "print(s2)"
   ]
  },
  {
   "cell_type": "code",
   "execution_count": 21,
   "id": "be34bbe2",
   "metadata": {},
   "outputs": [
    {
     "name": "stdout",
     "output_type": "stream",
     "text": [
      "True\n",
      "False\n",
      "False\n",
      "True\n"
     ]
    }
   ],
   "source": [
    "print(4 in s1)\n",
    "print(7 in s1)\n",
    "print(10 in s1)\n",
    "print(14 not in s1)"
   ]
  },
  {
   "cell_type": "markdown",
   "id": "4bc20134",
   "metadata": {},
   "source": [
    "# Dictionary"
   ]
  },
  {
   "cell_type": "code",
   "execution_count": 53,
   "id": "08fcfd32",
   "metadata": {},
   "outputs": [],
   "source": [
    "d={\"1\":\"tillu\",\"2\":\"pavan\",\"3\":\"kumar\",\"4\":\"chawan\"}"
   ]
  },
  {
   "cell_type": "code",
   "execution_count": 54,
   "id": "c287e361",
   "metadata": {},
   "outputs": [
    {
     "data": {
      "text/plain": [
       "('kumar', 'chawan')"
      ]
     },
     "execution_count": 54,
     "metadata": {},
     "output_type": "execute_result"
    }
   ],
   "source": [
    "d[\"3\"],d[\"4\"]"
   ]
  },
  {
   "cell_type": "code",
   "execution_count": 55,
   "id": "394e7d89",
   "metadata": {},
   "outputs": [
    {
     "name": "stdout",
     "output_type": "stream",
     "text": [
      "<class 'dict'>\n"
     ]
    }
   ],
   "source": [
    "d={}\n",
    "print(type(d))"
   ]
  },
  {
   "cell_type": "markdown",
   "id": "edbd6f83",
   "metadata": {},
   "source": [
    "# adding modifying & retriving values"
   ]
  },
  {
   "cell_type": "code",
   "execution_count": 2,
   "id": "ccbdde86",
   "metadata": {},
   "outputs": [
    {
     "name": "stdout",
     "output_type": "stream",
     "text": [
      "{'111': 'pavan', '222': 'kumar', '333': 'nayak'}\n"
     ]
    }
   ],
   "source": [
    "students={\"111\":\"pavan\",\"222\":\"kumar\",\"333\":\"nayak\"}\n",
    "print(students)"
   ]
  },
  {
   "cell_type": "code",
   "execution_count": 3,
   "id": "d81bff78",
   "metadata": {},
   "outputs": [],
   "source": [
    "students[\"44\"]=\"tillu\""
   ]
  },
  {
   "cell_type": "code",
   "execution_count": 4,
   "id": "cf906611",
   "metadata": {},
   "outputs": [
    {
     "data": {
      "text/plain": [
       "{'111': 'pavan', '222': 'kumar', '333': 'nayak', '44': 'tillu'}"
      ]
     },
     "execution_count": 4,
     "metadata": {},
     "output_type": "execute_result"
    }
   ],
   "source": [
    "students"
   ]
  },
  {
   "cell_type": "code",
   "execution_count": 5,
   "id": "49a3ab71",
   "metadata": {},
   "outputs": [],
   "source": [
    "students[\"111\"]=\"mike\""
   ]
  },
  {
   "cell_type": "code",
   "execution_count": 6,
   "id": "03272f17",
   "metadata": {},
   "outputs": [
    {
     "data": {
      "text/plain": [
       "{'111': 'mike', '222': 'kumar', '333': 'nayak', '44': 'tillu'}"
      ]
     },
     "execution_count": 6,
     "metadata": {},
     "output_type": "execute_result"
    }
   ],
   "source": [
    "students"
   ]
  },
  {
   "cell_type": "code",
   "execution_count": 7,
   "id": "5eeb6021",
   "metadata": {},
   "outputs": [],
   "source": [
    "students[\"222\"]=\"chintoo\""
   ]
  },
  {
   "cell_type": "code",
   "execution_count": 8,
   "id": "f0842b29",
   "metadata": {},
   "outputs": [
    {
     "data": {
      "text/plain": [
       "{'111': 'mike', '222': 'chintoo', '333': 'nayak', '44': 'tillu'}"
      ]
     },
     "execution_count": 8,
     "metadata": {},
     "output_type": "execute_result"
    }
   ],
   "source": [
    "students"
   ]
  },
  {
   "cell_type": "code",
   "execution_count": 9,
   "id": "787135c0",
   "metadata": {},
   "outputs": [
    {
     "data": {
      "text/plain": [
       "'tillu'"
      ]
     },
     "execution_count": 9,
     "metadata": {},
     "output_type": "execute_result"
    }
   ],
   "source": [
    "students[\"44\"]"
   ]
  },
  {
   "cell_type": "code",
   "execution_count": 10,
   "id": "32436553",
   "metadata": {},
   "outputs": [
    {
     "ename": "KeyError",
     "evalue": "'48'",
     "output_type": "error",
     "traceback": [
      "\u001b[1;31m---------------------------------------------------------------------------\u001b[0m",
      "\u001b[1;31mKeyError\u001b[0m                                  Traceback (most recent call last)",
      "\u001b[1;32m~\\AppData\\Local\\Temp/ipykernel_22124/1187578919.py\u001b[0m in \u001b[0;36m<module>\u001b[1;34m\u001b[0m\n\u001b[1;32m----> 1\u001b[1;33m \u001b[0mstudents\u001b[0m\u001b[1;33m[\u001b[0m\u001b[1;34m\"48\"\u001b[0m\u001b[1;33m]\u001b[0m\u001b[1;33m\u001b[0m\u001b[1;33m\u001b[0m\u001b[0m\n\u001b[0m",
      "\u001b[1;31mKeyError\u001b[0m: '48'"
     ]
    }
   ],
   "source": [
    "students[\"48\"]"
   ]
  },
  {
   "cell_type": "code",
   "execution_count": 11,
   "id": "086aee7b",
   "metadata": {},
   "outputs": [
    {
     "data": {
      "text/plain": [
       "'mike'"
      ]
     },
     "execution_count": 11,
     "metadata": {},
     "output_type": "execute_result"
    }
   ],
   "source": [
    "students.get(\"111\")"
   ]
  },
  {
   "cell_type": "code",
   "execution_count": 12,
   "id": "12157d95",
   "metadata": {},
   "outputs": [],
   "source": [
    "students.get(\"48\")"
   ]
  },
  {
   "cell_type": "markdown",
   "id": "bde37ce6",
   "metadata": {},
   "source": [
    "##### if we doesnt get error  there  is no value assigned in dictionary"
   ]
  },
  {
   "cell_type": "markdown",
   "id": "df86167a",
   "metadata": {},
   "source": [
    "# getting all\n",
    " ####  key()\n",
    " ####   values()\n",
    "  ####  items()"
   ]
  },
  {
   "cell_type": "code",
   "execution_count": 13,
   "id": "90e3da47",
   "metadata": {},
   "outputs": [
    {
     "data": {
      "text/plain": [
       "dict_keys(['111', '222', '333', '44'])"
      ]
     },
     "execution_count": 13,
     "metadata": {},
     "output_type": "execute_result"
    }
   ],
   "source": [
    "students.keys()"
   ]
  },
  {
   "cell_type": "code",
   "execution_count": 14,
   "id": "5342284d",
   "metadata": {},
   "outputs": [
    {
     "data": {
      "text/plain": [
       "dict_values(['mike', 'chintoo', 'nayak', 'tillu'])"
      ]
     },
     "execution_count": 14,
     "metadata": {},
     "output_type": "execute_result"
    }
   ],
   "source": [
    "students.values()"
   ]
  },
  {
   "cell_type": "code",
   "execution_count": 15,
   "id": "5c345b12",
   "metadata": {},
   "outputs": [
    {
     "data": {
      "text/plain": [
       "dict_items([('111', 'mike'), ('222', 'chintoo'), ('333', 'nayak'), ('44', 'tillu')])"
      ]
     },
     "execution_count": 15,
     "metadata": {},
     "output_type": "execute_result"
    }
   ],
   "source": [
    "students.items()"
   ]
  },
  {
   "cell_type": "markdown",
   "id": "7a5a7934",
   "metadata": {},
   "source": [
    "# nested dictinary"
   ]
  },
  {
   "cell_type": "code",
   "execution_count": 16,
   "id": "7f26b1d9",
   "metadata": {},
   "outputs": [],
   "source": [
    "d={\"1\":{\"2\":\"beast\",\"3\":\"kgf\",\"4\":\"rrr\"},\"22\":[1,2,3]}"
   ]
  },
  {
   "cell_type": "code",
   "execution_count": 17,
   "id": "2b283795",
   "metadata": {},
   "outputs": [
    {
     "data": {
      "text/plain": [
       "[1, 2, 3]"
      ]
     },
     "execution_count": 17,
     "metadata": {},
     "output_type": "execute_result"
    }
   ],
   "source": [
    "d[\"22\"]"
   ]
  },
  {
   "cell_type": "code",
   "execution_count": 18,
   "id": "ce95b8e3",
   "metadata": {},
   "outputs": [
    {
     "data": {
      "text/plain": [
       "3"
      ]
     },
     "execution_count": 18,
     "metadata": {},
     "output_type": "execute_result"
    }
   ],
   "source": [
    "d[\"22\"][2]"
   ]
  },
  {
   "cell_type": "code",
   "execution_count": 19,
   "id": "18817a5d",
   "metadata": {},
   "outputs": [
    {
     "data": {
      "text/plain": [
       "{'2': 'beast', '3': 'kgf', '4': 'rrr'}"
      ]
     },
     "execution_count": 19,
     "metadata": {},
     "output_type": "execute_result"
    }
   ],
   "source": [
    "d[\"1\"]"
   ]
  },
  {
   "cell_type": "code",
   "execution_count": 20,
   "id": "72d6f944",
   "metadata": {},
   "outputs": [
    {
     "data": {
      "text/plain": [
       "2"
      ]
     },
     "execution_count": 20,
     "metadata": {},
     "output_type": "execute_result"
    }
   ],
   "source": [
    "d[\"22\"][1]"
   ]
  },
  {
   "cell_type": "code",
   "execution_count": 49,
   "id": "560981da",
   "metadata": {},
   "outputs": [
    {
     "data": {
      "text/plain": [
       "dict_keys(['2', '3', '4'])"
      ]
     },
     "execution_count": 49,
     "metadata": {},
     "output_type": "execute_result"
    }
   ],
   "source": [
    "d[\"1\"].keys()"
   ]
  },
  {
   "cell_type": "code",
   "execution_count": 50,
   "id": "5ba10cb2",
   "metadata": {},
   "outputs": [
    {
     "data": {
      "text/plain": [
       "'kgf'"
      ]
     },
     "execution_count": 50,
     "metadata": {},
     "output_type": "execute_result"
    }
   ],
   "source": [
    "d[\"1\"][\"3\"]"
   ]
  },
  {
   "cell_type": "code",
   "execution_count": 51,
   "id": "43335808",
   "metadata": {},
   "outputs": [
    {
     "data": {
      "text/plain": [
       "'beast'"
      ]
     },
     "execution_count": 51,
     "metadata": {},
     "output_type": "execute_result"
    }
   ],
   "source": [
    "d[\"1\"][\"2\"]"
   ]
  },
  {
   "cell_type": "markdown",
   "id": "82be844e",
   "metadata": {},
   "source": [
    "#  common operations"
   ]
  },
  {
   "cell_type": "markdown",
   "id": "ae26faa8",
   "metadata": {},
   "source": [
    "### .IN\n",
    "### .NOT IN\n",
    "### .==\n",
    "### .!="
   ]
  },
  {
   "cell_type": "code",
   "execution_count": 37,
   "id": "b7bc0816",
   "metadata": {},
   "outputs": [
    {
     "name": "stdout",
     "output_type": "stream",
     "text": [
      "{'111': 'mike', '222': 'chintoo', '333': 'nayak', '44': 'tillu'}\n"
     ]
    }
   ],
   "source": [
    "print(students)"
   ]
  },
  {
   "cell_type": "code",
   "execution_count": 38,
   "id": "4f4c5132",
   "metadata": {},
   "outputs": [
    {
     "name": "stdout",
     "output_type": "stream",
     "text": [
      "True\n",
      "False\n",
      "False\n",
      "True\n",
      "4\n"
     ]
    }
   ],
   "source": [
    "print(\"44\" in students)\n",
    "print(\"44\" not in students)\n",
    "print(\"44\" == students)\n",
    "print(\"44\" != students)\n",
    "print(len(students))"
   ]
  },
  {
   "cell_type": "code",
   "execution_count": 39,
   "id": "817ef11a",
   "metadata": {},
   "outputs": [
    {
     "name": "stdout",
     "output_type": "stream",
     "text": [
      "False\n"
     ]
    }
   ],
   "source": [
    "print(students==d)"
   ]
  },
  {
   "cell_type": "code",
   "execution_count": 40,
   "id": "8bf17b91",
   "metadata": {},
   "outputs": [
    {
     "name": "stdout",
     "output_type": "stream",
     "text": [
      "True\n"
     ]
    }
   ],
   "source": [
    "d3={\"red\":50 ,\"blue\":60}\n",
    "d4={\"blue\":60,\"red\":50}\n",
    "print(d3==d4)"
   ]
  },
  {
   "cell_type": "code",
   "execution_count": 41,
   "id": "0a7ccf17",
   "metadata": {},
   "outputs": [
    {
     "name": "stdout",
     "output_type": "stream",
     "text": [
      "False\n"
     ]
    }
   ],
   "source": [
    "d3={\"red\":51 ,\"blue\":90}\n",
    "d4={\"blue\":80,\"red\":50}\n",
    "print(d3==d4)"
   ]
  },
  {
   "cell_type": "code",
   "execution_count": 42,
   "id": "492ab3a2",
   "metadata": {},
   "outputs": [
    {
     "name": "stdout",
     "output_type": "stream",
     "text": [
      "False\n"
     ]
    }
   ],
   "source": [
    "d3={\"red\":51 ,\"blue\":90}\n",
    "d4={\"blue\":80,\"red\":50,\"blue\":788}\n",
    "print(d3==d4)"
   ]
  },
  {
   "cell_type": "markdown",
   "id": "de92e59c",
   "metadata": {},
   "source": [
    "# Removing values from a dictionaary"
   ]
  },
  {
   "cell_type": "code",
   "execution_count": 121,
   "id": "5739dcce",
   "metadata": {},
   "outputs": [],
   "source": [
    "e={'111': 'mike', '222': 'chintoo', '333': 'nayak', '44': 'tillu'}"
   ]
  },
  {
   "cell_type": "code",
   "execution_count": 124,
   "id": "763b7ae6",
   "metadata": {},
   "outputs": [
    {
     "data": {
      "text/plain": [
       "'nayak'"
      ]
     },
     "execution_count": 124,
     "metadata": {},
     "output_type": "execute_result"
    }
   ],
   "source": [
    "e.pop(\"333\")"
   ]
  },
  {
   "cell_type": "code",
   "execution_count": 125,
   "id": "efd59b95",
   "metadata": {},
   "outputs": [
    {
     "name": "stdout",
     "output_type": "stream",
     "text": [
      "{'111': 'mike', '222': 'chintoo', '44': 'tillu'}\n"
     ]
    }
   ],
   "source": [
    "print(e)"
   ]
  },
  {
   "cell_type": "code",
   "execution_count": 126,
   "id": "c45f8a2d",
   "metadata": {},
   "outputs": [
    {
     "data": {
      "text/plain": [
       "'mike'"
      ]
     },
     "execution_count": 126,
     "metadata": {},
     "output_type": "execute_result"
    }
   ],
   "source": [
    "e.pop(\"111\")"
   ]
  },
  {
   "cell_type": "code",
   "execution_count": 127,
   "id": "fd202ab8",
   "metadata": {},
   "outputs": [
    {
     "name": "stdout",
     "output_type": "stream",
     "text": [
      "{'222': 'chintoo', '44': 'tillu'}\n"
     ]
    }
   ],
   "source": [
    "print(e)"
   ]
  },
  {
   "cell_type": "code",
   "execution_count": 128,
   "id": "24f24b6b",
   "metadata": {},
   "outputs": [
    {
     "data": {
      "text/plain": [
       "('44', 'tillu')"
      ]
     },
     "execution_count": 128,
     "metadata": {},
     "output_type": "execute_result"
    }
   ],
   "source": [
    "e.popitem()"
   ]
  },
  {
   "cell_type": "code",
   "execution_count": 129,
   "id": "da0a0b5e",
   "metadata": {},
   "outputs": [
    {
     "data": {
      "text/plain": [
       "{'222': 'chintoo'}"
      ]
     },
     "execution_count": 129,
     "metadata": {},
     "output_type": "execute_result"
    }
   ],
   "source": [
    "e"
   ]
  },
  {
   "cell_type": "code",
   "execution_count": 131,
   "id": "498c62e8",
   "metadata": {},
   "outputs": [],
   "source": [
    "f={'111': 'mike', '222': 'chintoo', '333': 'nayak', '44': 'tillu'}"
   ]
  },
  {
   "cell_type": "code",
   "execution_count": 132,
   "id": "76ec2503",
   "metadata": {},
   "outputs": [
    {
     "data": {
      "text/plain": [
       "('44', 'tillu')"
      ]
     },
     "execution_count": 132,
     "metadata": {},
     "output_type": "execute_result"
    }
   ],
   "source": [
    "f.popitem()"
   ]
  },
  {
   "cell_type": "code",
   "execution_count": 148,
   "id": "3d16d562",
   "metadata": {},
   "outputs": [],
   "source": [
    "f={'111': 'mike', '222': 'chintoo', '333': 'nayak', '44': 'tillu'}"
   ]
  },
  {
   "cell_type": "code",
   "execution_count": 149,
   "id": "10c1f4ef",
   "metadata": {},
   "outputs": [],
   "source": [
    "del f[\"111\"]"
   ]
  },
  {
   "cell_type": "code",
   "execution_count": 150,
   "id": "2586d132",
   "metadata": {},
   "outputs": [
    {
     "name": "stdout",
     "output_type": "stream",
     "text": [
      "{'222': 'chintoo', '333': 'nayak', '44': 'tillu'}\n"
     ]
    }
   ],
   "source": [
    "print(f)"
   ]
  },
  {
   "cell_type": "markdown",
   "id": "36b12072",
   "metadata": {},
   "source": [
    "# from keys()"
   ]
  },
  {
   "cell_type": "code",
   "execution_count": 169,
   "id": "8b2367f3",
   "metadata": {},
   "outputs": [],
   "source": [
    "keys={'a','b','c','g'}\n",
    "values=10"
   ]
  },
  {
   "cell_type": "code",
   "execution_count": 170,
   "id": "0f65048f",
   "metadata": {},
   "outputs": [
    {
     "data": {
      "text/plain": [
       "{'a': 10, 'c': 10, 'g': 10, 'b': 10}"
      ]
     },
     "execution_count": 170,
     "metadata": {},
     "output_type": "execute_result"
    }
   ],
   "source": [
    "dict.fromkeys(keys,values)"
   ]
  },
  {
   "cell_type": "code",
   "execution_count": 171,
   "id": "b525fe50",
   "metadata": {},
   "outputs": [],
   "source": [
    "keys={'a','b','c','g'}\n",
    "values=10,20"
   ]
  },
  {
   "cell_type": "code",
   "execution_count": 172,
   "id": "62bc8d56",
   "metadata": {},
   "outputs": [
    {
     "data": {
      "text/plain": [
       "{'a': (10, 20), 'c': (10, 20), 'g': (10, 20), 'b': (10, 20)}"
      ]
     },
     "execution_count": 172,
     "metadata": {},
     "output_type": "execute_result"
    }
   ],
   "source": [
    "dict.fromkeys(keys,values)"
   ]
  },
  {
   "cell_type": "code",
   "execution_count": 173,
   "id": "f25187e3",
   "metadata": {},
   "outputs": [],
   "source": [
    "keys=['a','b','c','g']\n",
    "values=10"
   ]
  },
  {
   "cell_type": "code",
   "execution_count": 174,
   "id": "826ee520",
   "metadata": {},
   "outputs": [
    {
     "data": {
      "text/plain": [
       "{'a': 10, 'b': 10, 'c': 10, 'g': 10}"
      ]
     },
     "execution_count": 174,
     "metadata": {},
     "output_type": "execute_result"
    }
   ],
   "source": [
    "dict.fromkeys(keys,values)"
   ]
  },
  {
   "cell_type": "code",
   "execution_count": 175,
   "id": "225ebb55",
   "metadata": {},
   "outputs": [],
   "source": [
    "keys=['pavan','kumar','nayak',]\n",
    "values=\"a\",\"b\""
   ]
  },
  {
   "cell_type": "code",
   "execution_count": 176,
   "id": "5ceeda56",
   "metadata": {},
   "outputs": [
    {
     "data": {
      "text/plain": [
       "{'pavan': ('a', 'b'), 'kumar': ('a', 'b'), 'nayak': ('a', 'b')}"
      ]
     },
     "execution_count": 176,
     "metadata": {},
     "output_type": "execute_result"
    }
   ],
   "source": [
    "dict.fromkeys(keys,values)"
   ]
  },
  {
   "cell_type": "markdown",
   "id": "d17a58e6",
   "metadata": {},
   "source": [
    "# unpacking"
   ]
  },
  {
   "cell_type": "code",
   "execution_count": 184,
   "id": "656dd075",
   "metadata": {},
   "outputs": [],
   "source": [
    "fruitprices = {'apple':20,'grapes':1.55,'pineapple':89}\n",
    "vegetprices = {'brinjal':12,'onion':60}"
   ]
  },
  {
   "cell_type": "code",
   "execution_count": 186,
   "id": "e73f4798",
   "metadata": {},
   "outputs": [
    {
     "data": {
      "text/plain": [
       "{'apple': 20, 'grapes': 1.55, 'pineapple': 89, 'brinjal': 12, 'onion': 60}"
      ]
     },
     "execution_count": 186,
     "metadata": {},
     "output_type": "execute_result"
    }
   ],
   "source": [
    "{**fruitprices, **vegetprices}"
   ]
  },
  {
   "cell_type": "markdown",
   "id": "034e6186",
   "metadata": {},
   "source": [
    "# imp math\n",
    "### floor  gives before value \n",
    "#### ceil gives  after value"
   ]
  },
  {
   "cell_type": "code",
   "execution_count": 187,
   "id": "8f8343c5",
   "metadata": {},
   "outputs": [],
   "source": [
    "import math"
   ]
  },
  {
   "cell_type": "code",
   "execution_count": 190,
   "id": "ab7bf3c8",
   "metadata": {},
   "outputs": [
    {
     "name": "stdout",
     "output_type": "stream",
     "text": [
      "15\n",
      "16\n",
      "21\n",
      "22\n"
     ]
    }
   ],
   "source": [
    "print(math.floor(15.3))\n",
    "print(math.ceil(15.3))\n",
    "print(math.floor(21.2))\n",
    "print(math.ceil(21.3))"
   ]
  },
  {
   "cell_type": "code",
   "execution_count": null,
   "id": "d6d95135",
   "metadata": {},
   "outputs": [],
   "source": []
  }
 ],
 "metadata": {
  "kernelspec": {
   "display_name": "Python 3 (ipykernel)",
   "language": "python",
   "name": "python3"
  },
  "language_info": {
   "codemirror_mode": {
    "name": "ipython",
    "version": 3
   },
   "file_extension": ".py",
   "mimetype": "text/x-python",
   "name": "python",
   "nbconvert_exporter": "python",
   "pygments_lexer": "ipython3",
   "version": "3.9.7"
  }
 },
 "nbformat": 4,
 "nbformat_minor": 5
}
