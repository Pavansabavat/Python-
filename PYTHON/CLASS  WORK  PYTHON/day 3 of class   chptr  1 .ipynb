{
 "cells": [
  {
   "cell_type": "code",
   "execution_count": 15,
   "id": "0d4c5812",
   "metadata": {},
   "outputs": [
    {
     "name": "stdout",
     "output_type": "stream",
     "text": [
      "True\n"
     ]
    }
   ],
   "source": [
    "x=15\n",
    "y=12\n",
    "print(x>=y)and(x//y<y) "
   ]
  },
  {
   "cell_type": "code",
   "execution_count": 9,
   "id": "d2025a81",
   "metadata": {},
   "outputs": [
    {
     "name": "stdout",
     "output_type": "stream",
     "text": [
      "False\n"
     ]
    }
   ],
   "source": [
    "x=12\n",
    "y=23\n",
    "print(x>=y)and (x//y<y)"
   ]
  },
  {
   "cell_type": "code",
   "execution_count": 1,
   "id": "ac7e19ed",
   "metadata": {},
   "outputs": [
    {
     "name": "stdout",
     "output_type": "stream",
     "text": [
      "0b101\n",
      "0b1010\n"
     ]
    }
   ],
   "source": [
    "print(bin(5))\n",
    "print(bin(10))"
   ]
  },
  {
   "cell_type": "code",
   "execution_count": 21,
   "id": "c581cc15",
   "metadata": {},
   "outputs": [
    {
     "name": "stdout",
     "output_type": "stream",
     "text": [
      "0\n"
     ]
    }
   ],
   "source": [
    "x=10\n",
    "y=5\n",
    "print(x&y)"
   ]
  },
  {
   "cell_type": "code",
   "execution_count": null,
   "id": "8c8fefeb",
   "metadata": {},
   "outputs": [],
   "source": []
  }
 ],
 "metadata": {
  "kernelspec": {
   "display_name": "Python 3 (ipykernel)",
   "language": "python",
   "name": "python3"
  },
  "language_info": {
   "codemirror_mode": {
    "name": "ipython",
    "version": 3
   },
   "file_extension": ".py",
   "mimetype": "text/x-python",
   "name": "python",
   "nbconvert_exporter": "python",
   "pygments_lexer": "ipython3",
   "version": "3.9.7"
  }
 },
 "nbformat": 4,
 "nbformat_minor": 5
}
