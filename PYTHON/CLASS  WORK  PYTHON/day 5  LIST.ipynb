{
 "cells": [
  {
   "cell_type": "markdown",
   "id": "e70d5244",
   "metadata": {},
   "source": [
    "# LIST"
   ]
  },
  {
   "cell_type": "code",
   "execution_count": 7,
   "id": "bd2aa2db",
   "metadata": {},
   "outputs": [
    {
     "data": {
      "text/plain": [
       "list"
      ]
     },
     "execution_count": 7,
     "metadata": {},
     "output_type": "execute_result"
    }
   ],
   "source": [
    "x= [\"pavan\",\"kumar \",\"227\",]\n",
    "type(x)"
   ]
  },
  {
   "cell_type": "code",
   "execution_count": 11,
   "id": "a2d36e67",
   "metadata": {},
   "outputs": [
    {
     "name": "stdout",
     "output_type": "stream",
     "text": [
      "['hello']\n",
      "[225]\n",
      "['tillu']\n"
     ]
    }
   ],
   "source": [
    "type[x]\n",
    "print([x[1]])\n",
    "print([x[2]])\n",
    "print([x[0]])\n",
    "x[2]=225\n",
    "x[1]=\"hello\"\n",
    "x[0]=\"tillu\""
   ]
  },
  {
   "cell_type": "code",
   "execution_count": 10,
   "id": "4a0763e5",
   "metadata": {},
   "outputs": [
    {
     "name": "stdout",
     "output_type": "stream",
     "text": [
      "225\n"
     ]
    }
   ],
   "source": [
    "print(x[2])"
   ]
  },
  {
   "cell_type": "code",
   "execution_count": 45,
   "id": "2b8616ac",
   "metadata": {},
   "outputs": [
    {
     "name": "stdout",
     "output_type": "stream",
     "text": [
      "['tillu', 'hello', 225]\n",
      "element tillu 225\n",
      "element hello\n"
     ]
    }
   ],
   "source": [
    "print(x)\n",
    "print(\"element\",x[0],x[2])\n",
    "print(\"element\",x[1])"
   ]
  },
  {
   "cell_type": "code",
   "execution_count": 2,
   "id": "cff56dd9",
   "metadata": {},
   "outputs": [],
   "source": [
    "x1=[1,2,3,\"pavan\",\"abc\"]"
   ]
  },
  {
   "cell_type": "code",
   "execution_count": 3,
   "id": "3cedc431",
   "metadata": {},
   "outputs": [
    {
     "name": "stdout",
     "output_type": "stream",
     "text": [
      "[3, 'pavan']\n",
      "5\n",
      "['abc', 'pavan', 3, 2]\n"
     ]
    }
   ],
   "source": [
    "print(x1[2:4])\n",
    "print(len(x1))\n",
    "print(x1[5:0:-1])"
   ]
  },
  {
   "cell_type": "code",
   "execution_count": 4,
   "id": "49131c01",
   "metadata": {},
   "outputs": [
    {
     "name": "stdout",
     "output_type": "stream",
     "text": [
      "['pavan', 'abc']\n",
      "[1, 2, 3]\n"
     ]
    }
   ],
   "source": [
    "print(x1[3: ])\n",
    "print(x1[:3])"
   ]
  },
  {
   "cell_type": "code",
   "execution_count": 27,
   "id": "6fae39f5",
   "metadata": {},
   "outputs": [],
   "source": [
    "y1=[\"abc\",\"123\"]"
   ]
  },
  {
   "cell_type": "code",
   "execution_count": 28,
   "id": "a447d77e",
   "metadata": {},
   "outputs": [],
   "source": [
    "y2 =[1,2,\"3bfd\",y1,[4,5,6],y1]"
   ]
  },
  {
   "cell_type": "code",
   "execution_count": 29,
   "id": "c3802659",
   "metadata": {},
   "outputs": [
    {
     "data": {
      "text/plain": [
       "[1, 2, '3bfd', ['abc', '123'], [4, 5, 6], ['abc', '123']]"
      ]
     },
     "execution_count": 29,
     "metadata": {},
     "output_type": "execute_result"
    }
   ],
   "source": [
    "y2"
   ]
  },
  {
   "cell_type": "code",
   "execution_count": 30,
   "id": "8980695d",
   "metadata": {},
   "outputs": [
    {
     "data": {
      "text/plain": [
       "'123'"
      ]
     },
     "execution_count": 30,
     "metadata": {},
     "output_type": "execute_result"
    }
   ],
   "source": [
    "y2[5][1]"
   ]
  },
  {
   "cell_type": "code",
   "execution_count": 31,
   "id": "943150aa",
   "metadata": {},
   "outputs": [
    {
     "name": "stdout",
     "output_type": "stream",
     "text": [
      "pawan d\n",
      "pavan abc\n"
     ]
    }
   ],
   "source": [
    "y2[3]\n",
    "print(\"pawan\",y2[2][3])\n",
    "print(\"pavan\",y2[5][0])"
   ]
  },
  {
   "cell_type": "code",
   "execution_count": 32,
   "id": "c1a1687a",
   "metadata": {},
   "outputs": [
    {
     "name": "stdout",
     "output_type": "stream",
     "text": [
      "3\n",
      "4\n",
      "[1, 2, 3, 'abc', 'pavan']\n",
      "5\n",
      "pavan pavan\n"
     ]
    }
   ],
   "source": [
    "y3=[1,2,3]\n",
    "print(len(y3))\n",
    "y3.append(\"abc\")\n",
    "print(len(y3))\n",
    "y3.append(\"pavan\")\n",
    "print(y3)\n",
    "print(len(y3)) \n",
    "print(\"pavan\",y3[4])"
   ]
  },
  {
   "cell_type": "markdown",
   "id": "408b11c1",
   "metadata": {},
   "source": [
    "# extend"
   ]
  },
  {
   "cell_type": "code",
   "execution_count": 5,
   "id": "1d74efae",
   "metadata": {},
   "outputs": [],
   "source": [
    "l1=[\"a,b,c\"]\n",
    "l2=[4,5,6,7]\n",
    "l3=[\"a\",\"b\",\"c\"]\n",
    "l4=[1,2,3]"
   ]
  },
  {
   "cell_type": "code",
   "execution_count": 9,
   "id": "f389507e",
   "metadata": {},
   "outputs": [],
   "source": [
    "l2.extend(l1)"
   ]
  },
  {
   "cell_type": "code",
   "execution_count": 10,
   "id": "7611b38e",
   "metadata": {},
   "outputs": [
    {
     "data": {
      "text/plain": [
       "['a', 'b', 'c']"
      ]
     },
     "execution_count": 10,
     "metadata": {},
     "output_type": "execute_result"
    }
   ],
   "source": [
    "l3"
   ]
  },
  {
   "cell_type": "code",
   "execution_count": 11,
   "id": "8f1b402d",
   "metadata": {},
   "outputs": [
    {
     "data": {
      "text/plain": [
       "6"
      ]
     },
     "execution_count": 11,
     "metadata": {},
     "output_type": "execute_result"
    }
   ],
   "source": [
    "len(l2)"
   ]
  },
  {
   "cell_type": "code",
   "execution_count": 12,
   "id": "aa8102e9",
   "metadata": {},
   "outputs": [],
   "source": [
    "l3.append(l4)"
   ]
  },
  {
   "cell_type": "code",
   "execution_count": 13,
   "id": "5911bed1",
   "metadata": {},
   "outputs": [
    {
     "data": {
      "text/plain": [
       "['a', 'b', 'c', [1, 2, 3]]"
      ]
     },
     "execution_count": 13,
     "metadata": {},
     "output_type": "execute_result"
    }
   ],
   "source": [
    "l3"
   ]
  },
  {
   "cell_type": "code",
   "execution_count": 14,
   "id": "7e32ec9d",
   "metadata": {},
   "outputs": [],
   "source": [
    "l2.extend(l4)"
   ]
  },
  {
   "cell_type": "code",
   "execution_count": 15,
   "id": "c5203d7b",
   "metadata": {},
   "outputs": [
    {
     "data": {
      "text/plain": [
       "[4, 5, 6, 7, 'a,b,c', 'a,b,c', 1, 2, 3]"
      ]
     },
     "execution_count": 15,
     "metadata": {},
     "output_type": "execute_result"
    }
   ],
   "source": [
    "l2"
   ]
  },
  {
   "cell_type": "code",
   "execution_count": null,
   "id": "65e5baac",
   "metadata": {},
   "outputs": [],
   "source": []
  },
  {
   "cell_type": "markdown",
   "id": "d71c1252",
   "metadata": {},
   "source": [
    "# index listing"
   ]
  },
  {
   "cell_type": "code",
   "execution_count": 103,
   "id": "622785a7",
   "metadata": {},
   "outputs": [],
   "source": [
    "i1=[7,8,6,8,7,2,5,8,2,8,5,0,]"
   ]
  },
  {
   "cell_type": "code",
   "execution_count": 105,
   "id": "44e86e42",
   "metadata": {},
   "outputs": [
    {
     "name": "stdout",
     "output_type": "stream",
     "text": [
      "[7]\n",
      "[5]\n",
      "[0]\n",
      "[[7, 8, 6, 8, 7, 2]]\n"
     ]
    }
   ],
   "source": [
    "print([i1[4]])\n",
    "print([i1[-2]])\n",
    "print([i1[-1]])\n",
    "print([i1[0:6]])"
   ]
  },
  {
   "cell_type": "code",
   "execution_count": 99,
   "id": "4200fbec",
   "metadata": {},
   "outputs": [],
   "source": [
    "y1=[1,3,7]"
   ]
  },
  {
   "cell_type": "code",
   "execution_count": 3,
   "id": "bbad48b2",
   "metadata": {},
   "outputs": [],
   "source": [
    "y2=[1,\"b\",4,8,7,\"h\",\"j\"]"
   ]
  },
  {
   "cell_type": "code",
   "execution_count": 4,
   "id": "ede5f838",
   "metadata": {},
   "outputs": [
    {
     "data": {
      "text/plain": [
       "[1, 'b', 4, 8, 7, 'h', 'j']"
      ]
     },
     "execution_count": 4,
     "metadata": {},
     "output_type": "execute_result"
    }
   ],
   "source": [
    "y2"
   ]
  },
  {
   "cell_type": "code",
   "execution_count": 5,
   "id": "f68e8e67",
   "metadata": {},
   "outputs": [],
   "source": [
    "y3=[y2,y1]"
   ]
  },
  {
   "cell_type": "code",
   "execution_count": 6,
   "id": "5e68e19b",
   "metadata": {},
   "outputs": [
    {
     "data": {
      "text/plain": [
       "[[1, 'b', 4, 8, 7, 'h', 'j'], [1, 3, 7]]"
      ]
     },
     "execution_count": 6,
     "metadata": {},
     "output_type": "execute_result"
    }
   ],
   "source": [
    "y3"
   ]
  },
  {
   "cell_type": "code",
   "execution_count": 7,
   "id": "44da4b91",
   "metadata": {},
   "outputs": [],
   "source": [
    "y1=['a','r',1,2,4,7,9,]"
   ]
  },
  {
   "cell_type": "code",
   "execution_count": 8,
   "id": "53376f5c",
   "metadata": {},
   "outputs": [
    {
     "name": "stdout",
     "output_type": "stream",
     "text": [
      "['a', 'r', 1, 2, 4, 7, 9, ['a', 'r', 4]]\n"
     ]
    }
   ],
   "source": [
    "y1.append(['a','r',4])\n",
    "print(y1)"
   ]
  },
  {
   "cell_type": "code",
   "execution_count": 9,
   "id": "90efa61d",
   "metadata": {},
   "outputs": [],
   "source": [
    "l1=[8,9]\n",
    "l2=[10,11]"
   ]
  },
  {
   "cell_type": "code",
   "execution_count": 10,
   "id": "10450af1",
   "metadata": {},
   "outputs": [
    {
     "name": "stdout",
     "output_type": "stream",
     "text": [
      "[10, 11, 8, 9]\n"
     ]
    }
   ],
   "source": [
    "l2.extend(l1)\n",
    "print(l2)"
   ]
  },
  {
   "cell_type": "code",
   "execution_count": 12,
   "id": "880768cb",
   "metadata": {},
   "outputs": [],
   "source": [
    "l2=[1,2,4,9,6,6,]\n",
    "l3=[7,8,4,0]"
   ]
  },
  {
   "cell_type": "code",
   "execution_count": 13,
   "id": "d3010227",
   "metadata": {},
   "outputs": [
    {
     "name": "stdout",
     "output_type": "stream",
     "text": [
      "[1, 2, 4, 9, 6, 6, 7, 8, 4, 0]\n"
     ]
    }
   ],
   "source": [
    "print(l2+l3)"
   ]
  },
  {
   "cell_type": "code",
   "execution_count": 14,
   "id": "7caae770",
   "metadata": {},
   "outputs": [],
   "source": [
    "l2.extend(l3)"
   ]
  },
  {
   "cell_type": "code",
   "execution_count": 15,
   "id": "e46a1c37",
   "metadata": {},
   "outputs": [
    {
     "name": "stdout",
     "output_type": "stream",
     "text": [
      "[1, 2, 4, 9, 6, 6, 7, 8, 4, 0]\n"
     ]
    }
   ],
   "source": [
    "print(l2)"
   ]
  },
  {
   "cell_type": "code",
   "execution_count": 17,
   "id": "0a4bf92a",
   "metadata": {},
   "outputs": [],
   "source": [
    "l2[4]=55"
   ]
  },
  {
   "cell_type": "code",
   "execution_count": 27,
   "id": "8ef62323",
   "metadata": {},
   "outputs": [
    {
     "name": "stdout",
     "output_type": "stream",
     "text": [
      "[1, 2, 4, 9, 55, 6, 7, 8, 4, 0]\n"
     ]
    }
   ],
   "source": [
    "print(l2)"
   ]
  },
  {
   "cell_type": "markdown",
   "id": "c35ebcfc",
   "metadata": {},
   "source": [
    "# pop"
   ]
  },
  {
   "cell_type": "code",
   "execution_count": 37,
   "id": "ea27113c",
   "metadata": {},
   "outputs": [],
   "source": [
    "l4=[1,5,83,9343,4]\n",
    "h2=[56748957845,9]\n",
    "u2=[527353776,4675,474]"
   ]
  },
  {
   "cell_type": "code",
   "execution_count": 38,
   "id": "01709edf",
   "metadata": {},
   "outputs": [
    {
     "name": "stdout",
     "output_type": "stream",
     "text": [
      "4\n",
      "9\n",
      "474\n"
     ]
    }
   ],
   "source": [
    "print(l4.pop())\n",
    "print(h2.pop())\n",
    "print(u2.pop())"
   ]
  },
  {
   "cell_type": "markdown",
   "id": "8245bad8",
   "metadata": {},
   "source": [
    "# REMOVE"
   ]
  },
  {
   "cell_type": "code",
   "execution_count": 17,
   "id": "00854909",
   "metadata": {},
   "outputs": [],
   "source": [
    "y1=[5,4,9,5,3,7]\n",
    "t2=[5,4,99]"
   ]
  },
  {
   "cell_type": "code",
   "execution_count": 18,
   "id": "9925a5d8",
   "metadata": {},
   "outputs": [],
   "source": [
    "y1.remove(9)"
   ]
  },
  {
   "cell_type": "code",
   "execution_count": 19,
   "id": "87d86a39",
   "metadata": {},
   "outputs": [
    {
     "name": "stdout",
     "output_type": "stream",
     "text": [
      "[5, 4, 5, 3, 7]\n",
      "[5, 4, 99]\n"
     ]
    }
   ],
   "source": [
    "print(y1)\n",
    "print(t2)"
   ]
  },
  {
   "cell_type": "code",
   "execution_count": 20,
   "id": "9643670e",
   "metadata": {},
   "outputs": [
    {
     "data": {
      "text/plain": [
       "4"
      ]
     },
     "execution_count": 20,
     "metadata": {},
     "output_type": "execute_result"
    }
   ],
   "source": [
    "y1.pop(-3) \n",
    "t2.pop(-2)"
   ]
  },
  {
   "cell_type": "code",
   "execution_count": 100,
   "id": "efed20db",
   "metadata": {},
   "outputs": [],
   "source": [
    "y1.remove(4)"
   ]
  },
  {
   "cell_type": "code",
   "execution_count": 101,
   "id": "62d1d29e",
   "metadata": {},
   "outputs": [
    {
     "data": {
      "text/plain": [
       "[5, 3, 7]"
      ]
     },
     "execution_count": 101,
     "metadata": {},
     "output_type": "execute_result"
    }
   ],
   "source": [
    "y1"
   ]
  },
  {
   "cell_type": "markdown",
   "id": "def98187",
   "metadata": {},
   "source": [
    "# delete"
   ]
  },
  {
   "cell_type": "code",
   "execution_count": 139,
   "id": "4f04df06",
   "metadata": {},
   "outputs": [],
   "source": [
    "x=[5,7,8,4,5]\n",
    "y=[6,8,3,0,2,7,]"
   ]
  },
  {
   "cell_type": "code",
   "execution_count": 143,
   "id": "b347d2cf",
   "metadata": {},
   "outputs": [
    {
     "name": "stdout",
     "output_type": "stream",
     "text": [
      "[6, 8, 3, 7]\n"
     ]
    }
   ],
   "source": [
    "del x[3]\n",
    "del y[3]\n",
    "print(y)"
   ]
  },
  {
   "cell_type": "code",
   "execution_count": 144,
   "id": "e7cd6bfb",
   "metadata": {},
   "outputs": [
    {
     "name": "stdout",
     "output_type": "stream",
     "text": [
      "[5, 7, 8]\n",
      "[6, 8, 3, 7]\n"
     ]
    }
   ],
   "source": [
    "print(x)\n",
    "print(y)"
   ]
  },
  {
   "cell_type": "markdown",
   "id": "7bd4f563",
   "metadata": {},
   "source": [
    "# shallow copy"
   ]
  },
  {
   "cell_type": "code",
   "execution_count": 161,
   "id": "7fe8e4de",
   "metadata": {},
   "outputs": [],
   "source": [
    "a=['pavan',\"kumar\",\"tillu\"]"
   ]
  },
  {
   "cell_type": "code",
   "execution_count": 166,
   "id": "d44276ea",
   "metadata": {},
   "outputs": [],
   "source": [
    "d=a"
   ]
  },
  {
   "cell_type": "code",
   "execution_count": 167,
   "id": "595d1c2f",
   "metadata": {},
   "outputs": [
    {
     "data": {
      "text/plain": [
       "['tillu', 8, 8, 9, 'you']"
      ]
     },
     "execution_count": 167,
     "metadata": {},
     "output_type": "execute_result"
    }
   ],
   "source": [
    "d"
   ]
  },
  {
   "cell_type": "code",
   "execution_count": 169,
   "id": "a8ea3f18",
   "metadata": {},
   "outputs": [],
   "source": [
    "d[4]=\"pavan\""
   ]
  },
  {
   "cell_type": "code",
   "execution_count": 170,
   "id": "db4bf632",
   "metadata": {},
   "outputs": [
    {
     "data": {
      "text/plain": [
       "['tillu', 8, 8, 9, 'pavan']"
      ]
     },
     "execution_count": 170,
     "metadata": {},
     "output_type": "execute_result"
    }
   ],
   "source": [
    "d"
   ]
  },
  {
   "cell_type": "markdown",
   "id": "1e8e6cc3",
   "metadata": {},
   "source": [
    "#  import  copy"
   ]
  },
  {
   "cell_type": "code",
   "execution_count": 21,
   "id": "35ffc456",
   "metadata": {},
   "outputs": [],
   "source": [
    "import copy"
   ]
  },
  {
   "cell_type": "code",
   "execution_count": 22,
   "id": "bab01ae7",
   "metadata": {},
   "outputs": [],
   "source": [
    "o1=[1,2,3,5,6,7]"
   ]
  },
  {
   "cell_type": "code",
   "execution_count": 26,
   "id": "c1a871bb",
   "metadata": {},
   "outputs": [],
   "source": [
    "o2=copy.copy(o1)"
   ]
  },
  {
   "cell_type": "code",
   "execution_count": 27,
   "id": "deafd985",
   "metadata": {},
   "outputs": [
    {
     "name": "stdout",
     "output_type": "stream",
     "text": [
      "[1, 2, 3, 5, 6, 7]\n"
     ]
    }
   ],
   "source": [
    "print(o2)"
   ]
  },
  {
   "cell_type": "code",
   "execution_count": 28,
   "id": "48074390",
   "metadata": {},
   "outputs": [],
   "source": [
    "o2[3]=(\"pavan\")"
   ]
  },
  {
   "cell_type": "code",
   "execution_count": 29,
   "id": "e3caca58",
   "metadata": {},
   "outputs": [
    {
     "name": "stdout",
     "output_type": "stream",
     "text": [
      "[1, 2, 3, 'pavan', 6, 7]\n"
     ]
    }
   ],
   "source": [
    "print(o2)"
   ]
  },
  {
   "cell_type": "code",
   "execution_count": 30,
   "id": "c1122c1e",
   "metadata": {},
   "outputs": [
    {
     "data": {
      "text/plain": [
       "[1, 2, 3, 5, 6, 7]"
      ]
     },
     "execution_count": 30,
     "metadata": {},
     "output_type": "execute_result"
    }
   ],
   "source": [
    "o1"
   ]
  },
  {
   "cell_type": "code",
   "execution_count": 42,
   "id": "2e5796d6",
   "metadata": {},
   "outputs": [],
   "source": [
    "o3=[1,2,3,[\"pavan\",2558,\"kumar\"]]"
   ]
  },
  {
   "cell_type": "code",
   "execution_count": 56,
   "id": "48bd5165",
   "metadata": {},
   "outputs": [],
   "source": [
    "o3[3][2]=143"
   ]
  },
  {
   "cell_type": "code",
   "execution_count": 57,
   "id": "6e5e0934",
   "metadata": {},
   "outputs": [],
   "source": [
    "o4=copy.copy(o3)"
   ]
  },
  {
   "cell_type": "code",
   "execution_count": 58,
   "id": "c6f2566d",
   "metadata": {},
   "outputs": [
    {
     "name": "stdout",
     "output_type": "stream",
     "text": [
      "[1, 2, 3, ['pavan', 'achuu', 143]]\n"
     ]
    }
   ],
   "source": [
    "print(o4)"
   ]
  },
  {
   "cell_type": "code",
   "execution_count": 59,
   "id": "7eddaf1a",
   "metadata": {},
   "outputs": [],
   "source": [
    "o3[3][1]=\"achuu\""
   ]
  },
  {
   "cell_type": "code",
   "execution_count": 60,
   "id": "454f4773",
   "metadata": {},
   "outputs": [
    {
     "data": {
      "text/plain": [
       "[1, 2, 3, ['pavan', 'achuu', 143]]"
      ]
     },
     "execution_count": 60,
     "metadata": {},
     "output_type": "execute_result"
    }
   ],
   "source": [
    "o3"
   ]
  },
  {
   "cell_type": "code",
   "execution_count": 61,
   "id": "706ae360",
   "metadata": {},
   "outputs": [
    {
     "data": {
      "text/plain": [
       "[1, 2, 3, 'pavan', 6, 7]"
      ]
     },
     "execution_count": 61,
     "metadata": {},
     "output_type": "execute_result"
    }
   ],
   "source": [
    "o2"
   ]
  },
  {
   "cell_type": "code",
   "execution_count": 75,
   "id": "9b8c35dd",
   "metadata": {},
   "outputs": [],
   "source": [
    "o4=[2,3,5,65,[\"pavan\",2766,123]]"
   ]
  },
  {
   "cell_type": "code",
   "execution_count": 76,
   "id": "9aebef90",
   "metadata": {},
   "outputs": [],
   "source": [
    "o5=copy.deepcopy(o4)"
   ]
  },
  {
   "cell_type": "code",
   "execution_count": 77,
   "id": "add4ee2c",
   "metadata": {},
   "outputs": [],
   "source": [
    "o4[4][1]=\"nayak\""
   ]
  },
  {
   "cell_type": "code",
   "execution_count": 78,
   "id": "79698c1d",
   "metadata": {},
   "outputs": [
    {
     "data": {
      "text/plain": [
       "[2, 3, 5, 65, ['pavan', 2766, 123]]"
      ]
     },
     "execution_count": 78,
     "metadata": {},
     "output_type": "execute_result"
    }
   ],
   "source": [
    "o5"
   ]
  },
  {
   "cell_type": "code",
   "execution_count": null,
   "id": "28fa5b5d",
   "metadata": {},
   "outputs": [],
   "source": []
  },
  {
   "cell_type": "code",
   "execution_count": 79,
   "id": "1f5ef787",
   "metadata": {},
   "outputs": [
    {
     "name": "stdout",
     "output_type": "stream",
     "text": [
      "[2, 3, 5, 65, ['pavan', 'i miss u', 123]]\n",
      "[1, 2, 3, ['pavan', 'achuu', 143]]\n"
     ]
    }
   ],
   "source": [
    "o5[4][1]=\"i miss u\"\n",
    "print(o5)\n",
    "print(o3)"
   ]
  },
  {
   "cell_type": "markdown",
   "id": "8b0f9597",
   "metadata": {},
   "source": [
    "# clear"
   ]
  },
  {
   "cell_type": "code",
   "execution_count": 74,
   "id": "71ea730a",
   "metadata": {},
   "outputs": [],
   "source": [
    "a1=[35,8,62,8]"
   ]
  },
  {
   "cell_type": "code",
   "execution_count": 75,
   "id": "48a6f1a6",
   "metadata": {},
   "outputs": [],
   "source": [
    "a1.clear()"
   ]
  },
  {
   "cell_type": "code",
   "execution_count": 76,
   "id": "dc7485ef",
   "metadata": {},
   "outputs": [
    {
     "data": {
      "text/plain": [
       "[]"
      ]
     },
     "execution_count": 76,
     "metadata": {},
     "output_type": "execute_result"
    }
   ],
   "source": [
    "a1"
   ]
  },
  {
   "cell_type": "markdown",
   "id": "d7410f10",
   "metadata": {},
   "source": [
    "# count ,index, reverse"
   ]
  },
  {
   "cell_type": "code",
   "execution_count": 77,
   "id": "4aac79c4",
   "metadata": {},
   "outputs": [],
   "source": [
    "k2=[1,25,8,98,6,485,485,98]"
   ]
  },
  {
   "cell_type": "code",
   "execution_count": 78,
   "id": "49d3406c",
   "metadata": {},
   "outputs": [
    {
     "data": {
      "text/plain": [
       "2"
      ]
     },
     "execution_count": 78,
     "metadata": {},
     "output_type": "execute_result"
    }
   ],
   "source": [
    "k2.count(485)"
   ]
  },
  {
   "cell_type": "code",
   "execution_count": 79,
   "id": "f0afed5c",
   "metadata": {},
   "outputs": [
    {
     "data": {
      "text/plain": [
       "3"
      ]
     },
     "execution_count": 79,
     "metadata": {},
     "output_type": "execute_result"
    }
   ],
   "source": [
    "k2.index(98)"
   ]
  },
  {
   "cell_type": "code",
   "execution_count": 80,
   "id": "c4dc8c89",
   "metadata": {},
   "outputs": [],
   "source": [
    "k3=[1,2,5,97,3,6]"
   ]
  },
  {
   "cell_type": "code",
   "execution_count": 81,
   "id": "3fb750dd",
   "metadata": {},
   "outputs": [],
   "source": [
    "k3.reverse()"
   ]
  },
  {
   "cell_type": "code",
   "execution_count": 82,
   "id": "8f516832",
   "metadata": {},
   "outputs": [
    {
     "data": {
      "text/plain": [
       "[6, 3, 97, 5, 2, 1]"
      ]
     },
     "execution_count": 82,
     "metadata": {},
     "output_type": "execute_result"
    }
   ],
   "source": [
    "k3"
   ]
  },
  {
   "cell_type": "markdown",
   "id": "200df707",
   "metadata": {},
   "source": [
    "# sort"
   ]
  },
  {
   "cell_type": "code",
   "execution_count": 83,
   "id": "6089dbc7",
   "metadata": {},
   "outputs": [],
   "source": [
    "k5=[1,20,5,4,7,85,8]"
   ]
  },
  {
   "cell_type": "code",
   "execution_count": 84,
   "id": "73d1f6d2",
   "metadata": {},
   "outputs": [],
   "source": [
    "k5.sort()"
   ]
  },
  {
   "cell_type": "code",
   "execution_count": 85,
   "id": "87b60f93",
   "metadata": {},
   "outputs": [
    {
     "name": "stdout",
     "output_type": "stream",
     "text": [
      "[1, 4, 5, 7, 8, 20, 85]\n"
     ]
    }
   ],
   "source": [
    "print(k5)"
   ]
  },
  {
   "cell_type": "code",
   "execution_count": 86,
   "id": "4cf27bd0",
   "metadata": {},
   "outputs": [],
   "source": [
    "k5.sort(reverse=True)"
   ]
  },
  {
   "cell_type": "code",
   "execution_count": 87,
   "id": "b13b59ca",
   "metadata": {},
   "outputs": [
    {
     "data": {
      "text/plain": [
       "[85, 20, 8, 7, 5, 4, 1]"
      ]
     },
     "execution_count": 87,
     "metadata": {},
     "output_type": "execute_result"
    }
   ],
   "source": [
    "k5"
   ]
  },
  {
   "cell_type": "code",
   "execution_count": 88,
   "id": "e066685b",
   "metadata": {},
   "outputs": [],
   "source": [
    "k5.sort(reverse=False)"
   ]
  },
  {
   "cell_type": "code",
   "execution_count": 89,
   "id": "5008facd",
   "metadata": {},
   "outputs": [
    {
     "data": {
      "text/plain": [
       "[1, 4, 5, 7, 8, 20, 85]"
      ]
     },
     "execution_count": 89,
     "metadata": {},
     "output_type": "execute_result"
    }
   ],
   "source": [
    "k5"
   ]
  },
  {
   "cell_type": "code",
   "execution_count": 90,
   "id": "1818013a",
   "metadata": {},
   "outputs": [
    {
     "data": {
      "text/plain": [
       "'C:\\\\Users\\\\DELL'"
      ]
     },
     "execution_count": 90,
     "metadata": {},
     "output_type": "execute_result"
    }
   ],
   "source": [
    "pwd"
   ]
  },
  {
   "cell_type": "code",
   "execution_count": null,
   "id": "261f0931",
   "metadata": {},
   "outputs": [],
   "source": []
  },
  {
   "cell_type": "code",
   "execution_count": null,
   "id": "6e094848",
   "metadata": {},
   "outputs": [],
   "source": []
  }
 ],
 "metadata": {
  "kernelspec": {
   "display_name": "Python 3 (ipykernel)",
   "language": "python",
   "name": "python3"
  },
  "language_info": {
   "codemirror_mode": {
    "name": "ipython",
    "version": 3
   },
   "file_extension": ".py",
   "mimetype": "text/x-python",
   "name": "python",
   "nbconvert_exporter": "python",
   "pygments_lexer": "ipython3",
   "version": "3.9.7"
  }
 },
 "nbformat": 4,
 "nbformat_minor": 5
}
