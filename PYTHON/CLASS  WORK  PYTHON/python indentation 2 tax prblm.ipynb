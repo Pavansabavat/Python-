{
 "cells": [
  {
   "cell_type": "markdown",
   "id": "a6b5d845",
   "metadata": {},
   "source": [
    "# tax payment"
   ]
  },
  {
   "cell_type": "code",
   "execution_count": 1,
   "id": "cfec8479",
   "metadata": {},
   "outputs": [
    {
     "name": "stdout",
     "output_type": "stream",
     "text": [
      "enter the taxable income9.2\n",
      "slab i s20%and tax payable is 1.8399999999999999\n"
     ]
    }
   ],
   "source": [
    "taxable_income=float(input(\"enter the taxable income\"))\n",
    "# taxable_income=taxable_income/100000\n",
    "if(taxable_income>=10):\n",
    "    print('slab is{} and taxable payable is{}'.format('30%',taxable_income*0.3))\n",
    "elif(taxable_income<10 and taxable_income>=5):\n",
    "    print('slab i s{}and tax payable is {}'.format('20%', taxable_income*0.2))\n",
    "elif(taxable_income<5 and taxable_income>=2.5):\n",
    "    print('slab is {} and tax payable is {}'.format('5%',taxable_income*0.05))\n",
    "else:\n",
    "    print('slab is {} and tax payable is{}'.format('0%',0))"
   ]
  },
  {
   "cell_type": "code",
   "execution_count": 2,
   "id": "d58f6761",
   "metadata": {},
   "outputs": [
    {
     "name": "stdout",
     "output_type": "stream",
     "text": [
      "enter the taxable income2.2\n",
      "slab is 0% and tax payable is0\n"
     ]
    }
   ],
   "source": [
    "taxable_income=float(input(\"enter the taxable income\"))\n",
    "# taxable_income=taxable_income/100000\n",
    "if(taxable_income>=10):\n",
    "    print('slab is{} and taxable payable is{}'.format('30%',taxable_income*0.3))\n",
    "elif(taxable_income<10 and taxable_income>=5):\n",
    "    print('slab i s{}and tax payable is {}'.format('20%', taxable_income*0.2))\n",
    "elif(taxable_income<5 and taxable_income>=2.5):\n",
    "    print('slab is {} and tax payable is {}'.format('5%',taxable_income*0.05))\n",
    "else:\n",
    "    print('slab is {} and tax payable is{}'.format('0%',0))"
   ]
  },
  {
   "cell_type": "code",
   "execution_count": 4,
   "id": "571fd665",
   "metadata": {},
   "outputs": [
    {
     "name": "stdout",
     "output_type": "stream",
     "text": [
      "enter the taxable income:5.9\n",
      "slab is 10%and tax payable is 0.5900000000000001\n"
     ]
    }
   ],
   "source": [
    "# greater than10,20%\n",
    "# between 0.1-10, 10%\n",
    "taxable_income=float(input(\"enter the taxable income:\"))\n",
    "if(taxable_income>10):\n",
    "    print('slab is {} and taxable payable is{}'.format('20%',taxable_income*0.2))\n",
    "elif(taxable_income<10 and taxable_income>=0.1):\n",
    "    print('slab is {}and tax payable is {}'.format('10%', taxable_income*0.1))"
   ]
  },
  {
   "cell_type": "code",
   "execution_count": 8,
   "id": "9915cb28",
   "metadata": {},
   "outputs": [
    {
     "name": "stdout",
     "output_type": "stream",
     "text": [
      "enter the word you want to check:word\n",
      "the word, Word doesn't stats with a vowel\n"
     ]
    }
   ],
   "source": [
    "# taking the input\n",
    "word=input(\"enter the word you want to check:\")\n",
    "vowels=['a','e','i','o','u']\n",
    " # checking the condition\n",
    "if (word.lower() in vowels):\n",
    "     print('the word, {},starts with a vowel'.format(word.capitalize()))\n",
    "else:\n",
    "     print(\"the word, {} doesn't stats with a vowel\".format(word.capitalize()))"
   ]
  },
  {
   "cell_type": "code",
   "execution_count": 9,
   "id": "a94f7444",
   "metadata": {},
   "outputs": [
    {
     "name": "stdout",
     "output_type": "stream",
     "text": [
      "enter the word you want to check:enter\n",
      "the word, Enter doesn't stats with a vowel\n"
     ]
    }
   ],
   "source": [
    "word=input(\"enter the word you want to check:\")\n",
    "vowels=['a','e','i','o','u']\n",
    " # checking the condition\n",
    "if (word.lower() in vowels):\n",
    "     print('the word, {},starts with a vowel'.format(word.capitalize()))\n",
    "else:\n",
    "     print(\"the word, {} doesn't stats with a vowel\".format(word.capitalize()))"
   ]
  },
  {
   "cell_type": "code",
   "execution_count": 18,
   "id": "6eaf3e5a",
   "metadata": {},
   "outputs": [
    {
     "name": "stdout",
     "output_type": "stream",
     "text": [
      "enter the word you want to check for:end\n",
      "enter a number:12\n",
      "Both the conditions are satisfied\n"
     ]
    }
   ],
   "source": [
    "word=input(\"enter the word you want to check for:\")\n",
    "num=int(input('enter a number:'))\n",
    "vowels=['a','e','i','o','u']\n",
    "if (word[0].lower() in vowels) and (num%2==0):\n",
    "    print('Both the conditions are satisfied')\n",
    "elif(word[0].lower()in vowels) or (num%2==0):\n",
    "    print(\"Atleast one condition is satisfied\")\n",
    "else:\n",
    "     print('None of the conditions are satisfied')"
   ]
  },
  {
   "cell_type": "code",
   "execution_count": 3,
   "id": "e1319b51",
   "metadata": {},
   "outputs": [
    {
     "name": "stdout",
     "output_type": "stream",
     "text": [
      "enter the word you want to check for:you\n",
      "enter a number:4\n",
      "Both the conditions are satisfied\n"
     ]
    }
   ],
   "source": [
    "word=input(\"enter the word you want to check for:\")\n",
    "num=int(input('enter a number:'))\n",
    "vowels=['a','e','i','o','u']\n",
    "if (word[2].lower() in vowels) and (num%2==0):\n",
    "    print('Both the conditions are satisfied')\n",
    "elif(word[0].lower()in vowels) or (num%2==0):\n",
    "    print(\"Atleast one condition is satisfied\")\n",
    "else:\n",
    "     print('None of the conditions are satisfied')"
   ]
  },
  {
   "cell_type": "code",
   "execution_count": 13,
   "id": "be046f9f",
   "metadata": {},
   "outputs": [
    {
     "name": "stdout",
     "output_type": "stream",
     "text": [
      "i am pavan\n",
      "welcome to the class\n"
     ]
    }
   ],
   "source": [
    "students=[\"pavan\",\"kumar\",\"tillu\"]\n",
    "trainer=\"kalyan\"\n",
    "user=input(\"i am \")\n",
    "if user==trainer:\n",
    "    print(\"welcome to the class\")\n",
    "elif user in students:\n",
    "    print(\"welcome to the class\")\n",
    "else:\n",
    "    print(\"sorry you are not allowed\")"
   ]
  },
  {
   "cell_type": "code",
   "execution_count": 2,
   "id": "b7ac49b8",
   "metadata": {},
   "outputs": [
    {
     "name": "stdout",
     "output_type": "stream",
     "text": [
      "enter the word you want to check for:you\n",
      "enter a number:33\n",
      "None of the conditions are satisfied\n"
     ]
    }
   ],
   "source": [
    "word=input(\"enter the word you want to check for:\")\n",
    "num=int(input('enter a number:'))\n",
    "vowels=['a','e','i','o','u']\n",
    "if (word[2].lower() in vowels) and (num%2==0):\n",
    "    print('Both the conditions are satisfied')\n",
    "elif(word[0].lower()in vowels) or (num%2==0):\n",
    "    print(\"Atleast one condition is satisfied\")\n",
    "else:\n",
    "     print('None of the conditions are satisfied')"
   ]
  },
  {
   "cell_type": "code",
   "execution_count": null,
   "id": "b7ddda17",
   "metadata": {},
   "outputs": [],
   "source": []
  }
 ],
 "metadata": {
  "kernelspec": {
   "display_name": "Python 3 (ipykernel)",
   "language": "python",
   "name": "python3"
  },
  "language_info": {
   "codemirror_mode": {
    "name": "ipython",
    "version": 3
   },
   "file_extension": ".py",
   "mimetype": "text/x-python",
   "name": "python",
   "nbconvert_exporter": "python",
   "pygments_lexer": "ipython3",
   "version": "3.9.7"
  }
 },
 "nbformat": 4,
 "nbformat_minor": 5
}
