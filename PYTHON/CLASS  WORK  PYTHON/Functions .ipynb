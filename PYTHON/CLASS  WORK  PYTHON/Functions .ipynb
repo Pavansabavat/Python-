{
 "cells": [
  {
   "cell_type": "markdown",
   "id": "2b78c0a7",
   "metadata": {},
   "source": [
    "###  Function"
   ]
  },
  {
   "cell_type": "code",
   "execution_count": 9,
   "id": "9d24bc63",
   "metadata": {},
   "outputs": [],
   "source": [
    "def max(a,b):\n",
    "    if a>b:\n",
    "        big=a\n",
    "    else:\n",
    "        big=b  \n",
    "    return big"
   ]
  },
  {
   "cell_type": "code",
   "execution_count": 10,
   "id": "3d422644",
   "metadata": {},
   "outputs": [
    {
     "data": {
      "text/plain": [
       "8"
      ]
     },
     "execution_count": 10,
     "metadata": {},
     "output_type": "execute_result"
    }
   ],
   "source": [
    "max(7,8)"
   ]
  },
  {
   "cell_type": "code",
   "execution_count": 2,
   "id": "cc76b117",
   "metadata": {},
   "outputs": [
    {
     "name": "stdout",
     "output_type": "stream",
     "text": [
      "45\n"
     ]
    }
   ],
   "source": [
    "larger=max(31,45)\n",
    "print(larger)"
   ]
  },
  {
   "cell_type": "code",
   "execution_count": 3,
   "id": "24cde757",
   "metadata": {},
   "outputs": [
    {
     "name": "stdout",
     "output_type": "stream",
     "text": [
      "the larger number of 5 and 7 is 7\n"
     ]
    }
   ],
   "source": [
    "def max(num1 , num2):\n",
    "    if num1 > num2:\n",
    "        result=num1\n",
    "    else:\n",
    "        result=num2\n",
    "    return result\n",
    "\n",
    "def main ():\n",
    "    i=5\n",
    "    j=7\n",
    "    k=max(i,j)\n",
    "    print(\"the larger number of\",i,\"and\",j,\"is\",k)\n",
    "\n",
    "main()\n"
   ]
  },
  {
   "cell_type": "code",
   "execution_count": 3,
   "id": "8405dc1e",
   "metadata": {},
   "outputs": [
    {
     "name": "stdout",
     "output_type": "stream",
     "text": [
      "max = 110\n"
     ]
    }
   ],
   "source": [
    "## function with return value\n",
    "def max(a,b):\n",
    "    if a>b:\n",
    "        return a\n",
    "    else:\n",
    "        return b\n",
    "    \n",
    "ans=max(60,110)\n",
    "print('max =',ans)\n"
   ]
  },
  {
   "cell_type": "code",
   "execution_count": 4,
   "id": "f7988104",
   "metadata": {},
   "outputs": [
    {
     "name": "stdout",
     "output_type": "stream",
     "text": [
      "min = 60\n"
     ]
    }
   ],
   "source": [
    "def max(a,b):\n",
    "    if a>b:\n",
    "        return a\n",
    "    else:\n",
    "        return b\n",
    "    \n",
    "ans=min(60,110)\n",
    "print('min =',ans)\n"
   ]
  },
  {
   "cell_type": "code",
   "execution_count": 6,
   "id": "1eea09e9",
   "metadata": {},
   "outputs": [
    {
     "name": "stdout",
     "output_type": "stream",
     "text": [
      "maximum= 111\n"
     ]
    }
   ],
   "source": [
    "## function without return value\n",
    "def max(a,b):\n",
    "    if a>b:\n",
    "        big= a\n",
    "    else:\n",
    "        big=b\n",
    "    print(\"maximum=\",big)\n",
    "    \n",
    "max(60,111)"
   ]
  },
  {
   "cell_type": "code",
   "execution_count": 8,
   "id": "cb83a06a",
   "metadata": {},
   "outputs": [
    {
     "name": "stdout",
     "output_type": "stream",
     "text": [
      "None\n"
     ]
    }
   ],
   "source": [
    "def sum(num1,num2):\n",
    "    total=num1+num2\n",
    "    # return none\n",
    "print(sum(10,20))"
   ]
  },
  {
   "cell_type": "code",
   "execution_count": 1,
   "id": "b17e9ffe",
   "metadata": {},
   "outputs": [
    {
     "name": "stdout",
     "output_type": "stream",
     "text": [
      "-100\n"
     ]
    }
   ],
   "source": [
    "def sum(num1,num2):\n",
    "    total=num1+num2\n",
    "    return -100\n",
    "print(sum(10,20))"
   ]
  },
  {
   "cell_type": "code",
   "execution_count": 2,
   "id": "28d8a19e",
   "metadata": {},
   "outputs": [
    {
     "name": "stdout",
     "output_type": "stream",
     "text": [
      "30\n"
     ]
    }
   ],
   "source": [
    "def sum(num1,num2):\n",
    "    total=num1+num2\n",
    "    return total\n",
    "print(sum(10,20))"
   ]
  },
  {
   "cell_type": "code",
   "execution_count": 4,
   "id": "f3c5f3cc",
   "metadata": {},
   "outputs": [
    {
     "name": "stdout",
     "output_type": "stream",
     "text": [
      "A\n",
      "C\n",
      "B\n",
      "F\n",
      "invalid score\n"
     ]
    }
   ],
   "source": [
    "# print grade for the score\n",
    "def printgrade (score):\n",
    "    if score  <0  or score > 100:\n",
    "        print(\"invalid score\")\n",
    "        return\n",
    "    if score >=90.0:\n",
    "        print(\"A\")\n",
    "    elif score >=80.0:\n",
    "        print(\"B\")\n",
    "    elif score >=70.0:\n",
    "        print(\"C\")\n",
    "    elif score>=60.0:\n",
    "        print(\"D\")\n",
    "    else:\n",
    "        print('F')\n",
    "        \n",
    "printgrade(90)\n",
    "printgrade(77)\n",
    "printgrade(80)\n",
    "printgrade(57)\n",
    "printgrade(-100)"
   ]
  },
  {
   "cell_type": "code",
   "execution_count": 6,
   "id": "c7711dd4",
   "metadata": {},
   "outputs": [
    {
     "name": "stdout",
     "output_type": "stream",
     "text": [
      "invalid score\n",
      "A\n",
      "invalid score\n",
      "F\n"
     ]
    }
   ],
   "source": [
    "def printgrade (score):\n",
    "    if score <0  or score > 100:\n",
    "        print(\"invalid score\")\n",
    "    if score >=90.0:\n",
    "        print(\"A\")\n",
    "    elif score >=80.0:\n",
    "        print(\"B\")\n",
    "    elif score >=70.0:\n",
    "        print(\"C\")\n",
    "    elif score>=60.0:\n",
    "        print(\"D\")\n",
    "    else:\n",
    "        print('F')\n",
    "        \n",
    "# printgrade(90)\n",
    "# printgrade(77)\n",
    "# printgrade(80)\n",
    "printgrade(102)\n",
    "printgrade(-100)"
   ]
  },
  {
   "cell_type": "code",
   "execution_count": 7,
   "id": "db66d252",
   "metadata": {},
   "outputs": [],
   "source": [
    "f1=printgrade"
   ]
  },
  {
   "cell_type": "code",
   "execution_count": 8,
   "id": "6f21f956",
   "metadata": {},
   "outputs": [
    {
     "name": "stdout",
     "output_type": "stream",
     "text": [
      "A\n"
     ]
    }
   ],
   "source": [
    "f1(90)"
   ]
  },
  {
   "cell_type": "code",
   "execution_count": 9,
   "id": "ca1a1e35",
   "metadata": {},
   "outputs": [
    {
     "name": "stdout",
     "output_type": "stream",
     "text": [
      "30\n"
     ]
    }
   ],
   "source": [
    "def sum(num1,num2):\n",
    "    total=num1+num2\n",
    "    return total\n",
    "\n",
    "print(sum(10,20))"
   ]
  },
  {
   "cell_type": "code",
   "execution_count": 10,
   "id": "77ed3476",
   "metadata": {},
   "outputs": [],
   "source": [
    "f1=[sum,printgrade]"
   ]
  },
  {
   "cell_type": "code",
   "execution_count": 38,
   "id": "65d4a218",
   "metadata": {},
   "outputs": [
    {
     "data": {
      "text/plain": [
       "70"
      ]
     },
     "execution_count": 38,
     "metadata": {},
     "output_type": "execute_result"
    }
   ],
   "source": [
    "f1[0](20,50)"
   ]
  },
  {
   "cell_type": "code",
   "execution_count": 12,
   "id": "f692d897",
   "metadata": {},
   "outputs": [
    {
     "name": "stdout",
     "output_type": "stream",
     "text": [
      "A\n"
     ]
    }
   ],
   "source": [
    "f1[1](90)"
   ]
  },
  {
   "cell_type": "code",
   "execution_count": 39,
   "id": "333d3c1d",
   "metadata": {},
   "outputs": [
    {
     "name": "stdout",
     "output_type": "stream",
     "text": [
      "C\n",
      "F\n"
     ]
    },
    {
     "data": {
      "text/plain": [
       "(None, None)"
      ]
     },
     "execution_count": 39,
     "metadata": {},
     "output_type": "execute_result"
    }
   ],
   "source": [
    "f1[1](70),f1[1](49)"
   ]
  },
  {
   "cell_type": "code",
   "execution_count": 40,
   "id": "9202e449",
   "metadata": {},
   "outputs": [
    {
     "name": "stdout",
     "output_type": "stream",
     "text": [
      "83\n",
      "B\n"
     ]
    }
   ],
   "source": [
    "print(f1[0](15,68))\n",
    "f1[1](83)"
   ]
  },
  {
   "cell_type": "code",
   "execution_count": 15,
   "id": "3460dc59",
   "metadata": {},
   "outputs": [],
   "source": [
    "def sumfrominputs():\n",
    "    num1=float(input(\"enter first number\"))\n",
    "    num2=float(input(\"enter second number\"))\n",
    "    print(num1+num2)"
   ]
  },
  {
   "cell_type": "code",
   "execution_count": 16,
   "id": "c7ca490d",
   "metadata": {},
   "outputs": [
    {
     "name": "stdout",
     "output_type": "stream",
     "text": [
      "enter first number20\n",
      "enter second number23\n",
      "43.0\n"
     ]
    }
   ],
   "source": [
    "sumfrominputs()"
   ]
  },
  {
   "cell_type": "markdown",
   "id": "6f00aac2",
   "metadata": {},
   "source": [
    "## positinal  and key words arguments"
   ]
  },
  {
   "cell_type": "code",
   "execution_count": 48,
   "id": "ac13d40f",
   "metadata": {},
   "outputs": [],
   "source": [
    "def pavan(message,n):\n",
    "    for i in range(n):\n",
    "        print(message)"
   ]
  },
  {
   "cell_type": "code",
   "execution_count": 49,
   "id": "f96a6ee8",
   "metadata": {},
   "outputs": [
    {
     "name": "stdout",
     "output_type": "stream",
     "text": [
      "a\n",
      "a\n",
      "a\n"
     ]
    }
   ],
   "source": [
    "pavan(\"a\",3)"
   ]
  },
  {
   "cell_type": "code",
   "execution_count": 19,
   "id": "cf0cbaaf",
   "metadata": {},
   "outputs": [
    {
     "name": "stdout",
     "output_type": "stream",
     "text": [
      "hello\n",
      "hello\n"
     ]
    }
   ],
   "source": [
    "pavan(n=2,message=\"hello\")"
   ]
  },
  {
   "cell_type": "markdown",
   "id": "23b3987a",
   "metadata": {},
   "source": [
    "## moduleraising"
   ]
  },
  {
   "cell_type": "code",
   "execution_count": 20,
   "id": "4e1cfaa9",
   "metadata": {},
   "outputs": [
    {
     "name": "stdout",
     "output_type": "stream",
     "text": [
      "90\n"
     ]
    }
   ],
   "source": [
    "import mymath\n",
    "\n",
    "ans=mymath.add(70,20)\n",
    "print(ans)"
   ]
  },
  {
   "cell_type": "code",
   "execution_count": 21,
   "id": "1b270ca4",
   "metadata": {},
   "outputs": [
    {
     "name": "stdout",
     "output_type": "stream",
     "text": [
      "enter the taxable income:5.3\n",
      "slab is20%and tax payable is 1.06\n"
     ]
    }
   ],
   "source": [
    "\n",
    "taxable_income=float(input(\"enter the taxable income:\"))\n",
    "# taxable_income=taxable_income/100000\n",
    "if(taxable_income>=10):\n",
    "    print('slab is{} and taxable payable is{}'.format('30%',taxable_income*0.3))\n",
    "else:\n",
    "    if(taxable_income<10 and taxable_income>=5):\n",
    "        print('slab is{}and tax payable is {}'.format('20%', taxable_income*0.2))\n",
    "    else:\n",
    "        if(taxable_income>5 and taxable_income>=2.5):\n",
    "            print('slab is{} and tax payable is {}'.format('10%',taxable_income*0.05))\n",
    "        else:\n",
    "            print('slab is {} and tax payable is{}'.formart('0%',0))"
   ]
  },
  {
   "cell_type": "code",
   "execution_count": 22,
   "id": "abd31340",
   "metadata": {},
   "outputs": [],
   "source": [
    "def yourtaxSlab(taxable_income):\n",
    "    if(taxable_income>=10):\n",
    "        tax=taxable_income*0.3\n",
    "    else:\n",
    "        if(taxable_income<10 and taxable_income>=5):\n",
    "            tax=taxable_income*0.2\n",
    "        else:\n",
    "            if(taxable_income<5and txable_income>=2.5):\n",
    "                tax=taxable_income*0.05\n",
    "            else:\n",
    "                tax=0\n",
    "    return tax\n",
    "        "
   ]
  },
  {
   "cell_type": "code",
   "execution_count": 23,
   "id": "0ba4649b",
   "metadata": {},
   "outputs": [
    {
     "name": "stdout",
     "output_type": "stream",
     "text": [
      "1.2400000000000002\n"
     ]
    }
   ],
   "source": [
    "print(yourtaxSlab(6.2))"
   ]
  },
  {
   "cell_type": "code",
   "execution_count": 24,
   "id": "6aba1945",
   "metadata": {},
   "outputs": [
    {
     "name": "stdout",
     "output_type": "stream",
     "text": [
      "Overwriting mytaxgrade.py\n"
     ]
    }
   ],
   "source": [
    "%%writefile mytaxgrade.py\n",
    "def yourtaxSlab(taxable_income):\n",
    "    if(taxable_income>=10):\n",
    "        tax=taxable_income*0.3\n",
    "    else:\n",
    "        if(taxable_income<10 and taxable_income>=5):\n",
    "            tax=taxable_income*0.2\n",
    "        else:\n",
    "            if(taxable_income<5and taxable_income>=2.5):\n",
    "                tax=taxable_income*0.05\n",
    "            else:\n",
    "                tax=0\n",
    "    return tax\n",
    "        \n",
    "def printgrade (score):\n",
    "    if score <0  or score > 100:\n",
    "        print(\"invalid score\")\n",
    "    if score >=90.0:\n",
    "        print(\"A\")\n",
    "    elif score >=80.0:\n",
    "        print(\"B\")\n",
    "    elif score >=70.0:\n",
    "        print(\"C\")\n",
    "    elif score>=60.0:\n",
    "        print(\"D\")\n",
    "    else:\n",
    "        print('F')\n",
    "        "
   ]
  },
  {
   "cell_type": "code",
   "execution_count": 25,
   "id": "c90de2f0",
   "metadata": {},
   "outputs": [
    {
     "name": "stdout",
     "output_type": "stream",
     "text": [
      "D\n",
      "None\n"
     ]
    }
   ],
   "source": [
    "import mytaxgrade\n",
    "\n",
    "print(mytaxgrade.printgrade(65))"
   ]
  },
  {
   "cell_type": "code",
   "execution_count": 26,
   "id": "ebe47b79",
   "metadata": {},
   "outputs": [
    {
     "name": "stdout",
     "output_type": "stream",
     "text": [
      "1.1\n",
      "D\n"
     ]
    }
   ],
   "source": [
    "print(mytaxgrade.yourtaxSlab(5.5))\n",
    "mytaxgrade.printgrade(65)"
   ]
  },
  {
   "cell_type": "code",
   "execution_count": 27,
   "id": "d814a8c6",
   "metadata": {},
   "outputs": [
    {
     "name": "stdout",
     "output_type": "stream",
     "text": [
      "-11\n"
     ]
    }
   ],
   "source": [
    "import math\n",
    "ans=mymath.subtract(25,36)\n",
    "print(ans)"
   ]
  },
  {
   "cell_type": "code",
   "execution_count": 28,
   "id": "a0d8a007",
   "metadata": {},
   "outputs": [
    {
     "name": "stdout",
     "output_type": "stream",
     "text": [
      "168\n"
     ]
    }
   ],
   "source": [
    "import math\n",
    "ans=mymath.multiply(3,56)\n",
    "print(ans)"
   ]
  },
  {
   "cell_type": "code",
   "execution_count": 29,
   "id": "e6e79494",
   "metadata": {},
   "outputs": [
    {
     "name": "stdout",
     "output_type": "stream",
     "text": [
      "1.2400000000000002\n",
      "C\n"
     ]
    }
   ],
   "source": [
    "import mytaxgrade\n",
    "print(mytaxgrade.yourtaxSlab(6.2))\n",
    "mytaxgrade.printgrade(77)"
   ]
  }
 ],
 "metadata": {
  "kernelspec": {
   "display_name": "Python 3 (ipykernel)",
   "language": "python",
   "name": "python3"
  },
  "language_info": {
   "codemirror_mode": {
    "name": "ipython",
    "version": 3
   },
   "file_extension": ".py",
   "mimetype": "text/x-python",
   "name": "python",
   "nbconvert_exporter": "python",
   "pygments_lexer": "ipython3",
   "version": "3.9.7"
  }
 },
 "nbformat": 4,
 "nbformat_minor": 5
}
