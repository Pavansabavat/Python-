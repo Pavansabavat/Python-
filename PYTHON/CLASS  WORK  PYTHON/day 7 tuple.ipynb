{
 "cells": [
  {
   "cell_type": "markdown",
   "id": "322c3d0c",
   "metadata": {},
   "source": [
    "# Tuple"
   ]
  },
  {
   "cell_type": "markdown",
   "id": "973d3881",
   "metadata": {},
   "source": [
    "## if once u define a tuple we cannot change in tuple\n",
    "## so once we select we cannot  or edit data\n",
    "## it can be indexed"
   ]
  },
  {
   "cell_type": "code",
   "execution_count": 14,
   "id": "63464e74",
   "metadata": {},
   "outputs": [],
   "source": [
    "a=(1,2,3,\"pavan\" ,\"kumar\")\n",
    "b=[1,2,3,\"pavan\",\"kumar\"]"
   ]
  },
  {
   "cell_type": "code",
   "execution_count": 15,
   "id": "6107701d",
   "metadata": {},
   "outputs": [
    {
     "name": "stdout",
     "output_type": "stream",
     "text": [
      "<class 'tuple'>\n",
      "<class 'list'>\n"
     ]
    }
   ],
   "source": [
    "print(type(a))\n",
    "print(type(b))"
   ]
  },
  {
   "cell_type": "code",
   "execution_count": 16,
   "id": "cb8c53cb",
   "metadata": {},
   "outputs": [
    {
     "name": "stdout",
     "output_type": "stream",
     "text": [
      "(1, 2, 3, 'pavan', 'kumar')\n"
     ]
    }
   ],
   "source": [
    "print(a)"
   ]
  },
  {
   "cell_type": "markdown",
   "id": "55e73a10",
   "metadata": {},
   "source": [
    "#  how to add multile tuple"
   ]
  },
  {
   "cell_type": "code",
   "execution_count": 72,
   "id": "965514e3",
   "metadata": {},
   "outputs": [],
   "source": [
    "a1=\"a\",\"b\"\n",
    "b=\"d\",\"hj\""
   ]
  },
  {
   "cell_type": "code",
   "execution_count": 73,
   "id": "bd4ba9d7",
   "metadata": {},
   "outputs": [],
   "source": [
    "t1=a1+b"
   ]
  },
  {
   "cell_type": "code",
   "execution_count": 74,
   "id": "d1444204",
   "metadata": {},
   "outputs": [
    {
     "data": {
      "text/plain": [
       "('a', 'b', 'd', 'hj')"
      ]
     },
     "execution_count": 74,
     "metadata": {},
     "output_type": "execute_result"
    }
   ],
   "source": [
    "t1"
   ]
  },
  {
   "cell_type": "code",
   "execution_count": 75,
   "id": "9469bc03",
   "metadata": {},
   "outputs": [
    {
     "name": "stdout",
     "output_type": "stream",
     "text": [
      "('a', 'b', 'd', 'hj')\n",
      "(11, 665)\n",
      "(88, 665, 11)\n"
     ]
    }
   ],
   "source": [
    "print(t1[0:4])\n",
    "print(a[0:2])\n",
    "print(a[-1:-4:-1])"
   ]
  },
  {
   "cell_type": "code",
   "execution_count": 51,
   "id": "53078d4e",
   "metadata": {},
   "outputs": [],
   "source": [
    "b1=[1,2,3,['y','s','s'],(\"fg\",\"fd\",\"fdhg\")]"
   ]
  },
  {
   "cell_type": "code",
   "execution_count": 52,
   "id": "d18efa94",
   "metadata": {},
   "outputs": [
    {
     "name": "stdout",
     "output_type": "stream",
     "text": [
      "fdhg\n",
      "('fg', 'fd', 'fdhg')\n"
     ]
    }
   ],
   "source": [
    "print(b1[4][2])\n",
    "print(b1[4])"
   ]
  },
  {
   "cell_type": "code",
   "execution_count": 53,
   "id": "1c670398",
   "metadata": {},
   "outputs": [
    {
     "name": "stdout",
     "output_type": "stream",
     "text": [
      "[1, 2, 3, ['y', 's', 's'], ('fg', 'fd', 'fdhg')]\n"
     ]
    }
   ],
   "source": [
    "print(b1)"
   ]
  },
  {
   "cell_type": "code",
   "execution_count": 58,
   "id": "4baf651d",
   "metadata": {},
   "outputs": [
    {
     "data": {
      "text/plain": [
       "list"
      ]
     },
     "execution_count": 58,
     "metadata": {},
     "output_type": "execute_result"
    }
   ],
   "source": [
    "type(b1[3])"
   ]
  },
  {
   "cell_type": "code",
   "execution_count": 13,
   "id": "f0a8d939",
   "metadata": {},
   "outputs": [],
   "source": [
    "b1=(1,2,3)"
   ]
  },
  {
   "cell_type": "code",
   "execution_count": 14,
   "id": "1f0941d7",
   "metadata": {},
   "outputs": [],
   "source": [
    "t1=(\"a\",\"b\",\"g\")"
   ]
  },
  {
   "cell_type": "code",
   "execution_count": 15,
   "id": "3cdaad33",
   "metadata": {},
   "outputs": [
    {
     "data": {
      "text/plain": [
       "(1, 2, 3, 'a', 'b', 'g')"
      ]
     },
     "execution_count": 15,
     "metadata": {},
     "output_type": "execute_result"
    }
   ],
   "source": [
    "b1+t1"
   ]
  },
  {
   "cell_type": "code",
   "execution_count": 16,
   "id": "5a4599f3",
   "metadata": {},
   "outputs": [],
   "source": [
    "u2=(8768)"
   ]
  },
  {
   "cell_type": "code",
   "execution_count": 17,
   "id": "f0b45256",
   "metadata": {},
   "outputs": [
    {
     "data": {
      "text/plain": [
       "int"
      ]
     },
     "execution_count": 17,
     "metadata": {},
     "output_type": "execute_result"
    }
   ],
   "source": [
    "type(u2)"
   ]
  },
  {
   "cell_type": "code",
   "execution_count": 18,
   "id": "0364cb35",
   "metadata": {},
   "outputs": [],
   "source": [
    "u2=(998,)"
   ]
  },
  {
   "cell_type": "code",
   "execution_count": 19,
   "id": "ba830863",
   "metadata": {},
   "outputs": [
    {
     "data": {
      "text/plain": [
       "tuple"
      ]
     },
     "execution_count": 19,
     "metadata": {},
     "output_type": "execute_result"
    }
   ],
   "source": [
    "type(u2)"
   ]
  },
  {
   "cell_type": "code",
   "execution_count": 20,
   "id": "512187b3",
   "metadata": {},
   "outputs": [],
   "source": [
    "u3=(600,757)"
   ]
  },
  {
   "cell_type": "code",
   "execution_count": 21,
   "id": "d2bfe0b9",
   "metadata": {},
   "outputs": [
    {
     "data": {
      "text/plain": [
       "tuple"
      ]
     },
     "execution_count": 21,
     "metadata": {},
     "output_type": "execute_result"
    }
   ],
   "source": [
    "type(u3)"
   ]
  },
  {
   "cell_type": "code",
   "execution_count": 22,
   "id": "35ec770e",
   "metadata": {},
   "outputs": [
    {
     "ename": "TypeError",
     "evalue": "can only concatenate tuple (not \"int\") to tuple",
     "output_type": "error",
     "traceback": [
      "\u001b[1;31m---------------------------------------------------------------------------\u001b[0m",
      "\u001b[1;31mTypeError\u001b[0m                                 Traceback (most recent call last)",
      "\u001b[1;32m~\\AppData\\Local\\Temp/ipykernel_9404/2283538664.py\u001b[0m in \u001b[0;36m<module>\u001b[1;34m\u001b[0m\n\u001b[1;32m----> 1\u001b[1;33m \u001b[0mu3\u001b[0m\u001b[1;33m[\u001b[0m\u001b[1;33m:\u001b[0m\u001b[1;36m5\u001b[0m\u001b[1;33m]\u001b[0m\u001b[1;33m+\u001b[0m\u001b[1;33m(\u001b[0m\u001b[1;36m600\u001b[0m\u001b[1;33m)\u001b[0m\u001b[1;33m+\u001b[0m\u001b[0mu2\u001b[0m\u001b[1;33m[\u001b[0m\u001b[1;36m3\u001b[0m\u001b[1;33m:\u001b[0m\u001b[1;33m]\u001b[0m\u001b[1;33m\u001b[0m\u001b[1;33m\u001b[0m\u001b[0m\n\u001b[0m",
      "\u001b[1;31mTypeError\u001b[0m: can only concatenate tuple (not \"int\") to tuple"
     ]
    }
   ],
   "source": [
    "u3[:5]+(600)+u2[3:]"
   ]
  },
  {
   "cell_type": "code",
   "execution_count": 23,
   "id": "ad7e66fb",
   "metadata": {},
   "outputs": [],
   "source": [
    "a=[(\"pavan\",227),(\"tillu\",15)]"
   ]
  },
  {
   "cell_type": "code",
   "execution_count": 24,
   "id": "7d323ecc",
   "metadata": {},
   "outputs": [
    {
     "data": {
      "text/plain": [
       "'tillu'"
      ]
     },
     "execution_count": 24,
     "metadata": {},
     "output_type": "execute_result"
    }
   ],
   "source": [
    "a[1][0]"
   ]
  },
  {
   "cell_type": "code",
   "execution_count": 25,
   "id": "78799cc6",
   "metadata": {},
   "outputs": [
    {
     "ename": "TypeError",
     "evalue": "'tuple' object does not support item assignment",
     "output_type": "error",
     "traceback": [
      "\u001b[1;31m---------------------------------------------------------------------------\u001b[0m",
      "\u001b[1;31mTypeError\u001b[0m                                 Traceback (most recent call last)",
      "\u001b[1;32m~\\AppData\\Local\\Temp/ipykernel_9404/769792784.py\u001b[0m in \u001b[0;36m<module>\u001b[1;34m\u001b[0m\n\u001b[1;32m----> 1\u001b[1;33m \u001b[0ma\u001b[0m\u001b[1;33m[\u001b[0m\u001b[1;36m0\u001b[0m\u001b[1;33m]\u001b[0m\u001b[1;33m[\u001b[0m\u001b[1;36m1\u001b[0m\u001b[1;33m]\u001b[0m\u001b[1;33m=\u001b[0m\u001b[1;34m\"nayak\"\u001b[0m\u001b[1;33m\u001b[0m\u001b[1;33m\u001b[0m\u001b[0m\n\u001b[0m",
      "\u001b[1;31mTypeError\u001b[0m: 'tuple' object does not support item assignment"
     ]
    }
   ],
   "source": [
    "a[0][1]=\"nayak\""
   ]
  },
  {
   "cell_type": "code",
   "execution_count": 26,
   "id": "5be91a43",
   "metadata": {},
   "outputs": [],
   "source": [
    "a=[(\"pavan\",227),(\"tillu\",15),1,2,3,[2555,265,444]]"
   ]
  },
  {
   "cell_type": "code",
   "execution_count": 27,
   "id": "c79ca8c1",
   "metadata": {},
   "outputs": [],
   "source": [
    "a[2]=\"tillu\""
   ]
  },
  {
   "cell_type": "code",
   "execution_count": 28,
   "id": "8cbc1aab",
   "metadata": {},
   "outputs": [
    {
     "data": {
      "text/plain": [
       "[('pavan', 227), ('tillu', 15), 'tillu', 2, 3, [2555, 265, 444]]"
      ]
     },
     "execution_count": 28,
     "metadata": {},
     "output_type": "execute_result"
    }
   ],
   "source": [
    "a"
   ]
  },
  {
   "cell_type": "code",
   "execution_count": 29,
   "id": "84433bb7",
   "metadata": {},
   "outputs": [
    {
     "ename": "TypeError",
     "evalue": "'int' object does not support item assignment",
     "output_type": "error",
     "traceback": [
      "\u001b[1;31m---------------------------------------------------------------------------\u001b[0m",
      "\u001b[1;31mTypeError\u001b[0m                                 Traceback (most recent call last)",
      "\u001b[1;32m~\\AppData\\Local\\Temp/ipykernel_9404/493663723.py\u001b[0m in \u001b[0;36m<module>\u001b[1;34m\u001b[0m\n\u001b[1;32m----> 1\u001b[1;33m \u001b[0ma\u001b[0m\u001b[1;33m[\u001b[0m\u001b[1;36m3\u001b[0m\u001b[1;33m]\u001b[0m\u001b[1;33m[\u001b[0m\u001b[1;36m1\u001b[0m\u001b[1;33m]\u001b[0m \u001b[1;33m=\u001b[0m\u001b[1;34m\"xyz\"\u001b[0m\u001b[1;33m\u001b[0m\u001b[1;33m\u001b[0m\u001b[0m\n\u001b[0m",
      "\u001b[1;31mTypeError\u001b[0m: 'int' object does not support item assignment"
     ]
    }
   ],
   "source": [
    "a[3][1] =\"xyz\""
   ]
  },
  {
   "cell_type": "markdown",
   "id": "d6ec4805",
   "metadata": {},
   "source": [
    "# packing and unpacking of list"
   ]
  },
  {
   "cell_type": "code",
   "execution_count": 59,
   "id": "6785184d",
   "metadata": {},
   "outputs": [],
   "source": [
    "a=10\n",
    "b=55\n",
    "t1=(a,b)\n",
    "l1=[a,b]"
   ]
  },
  {
   "cell_type": "code",
   "execution_count": 60,
   "id": "f5f06156",
   "metadata": {},
   "outputs": [],
   "source": [
    "a=(11,665,88)"
   ]
  },
  {
   "cell_type": "code",
   "execution_count": 61,
   "id": "846b92c5",
   "metadata": {},
   "outputs": [
    {
     "name": "stdout",
     "output_type": "stream",
     "text": [
      "3\n",
      "764\n",
      "11\n",
      "665\n"
     ]
    }
   ],
   "source": [
    "print(len(a))\n",
    "print(sum(a))\n",
    "print(min(a))\n",
    "print(max(a))"
   ]
  },
  {
   "cell_type": "code",
   "execution_count": 63,
   "id": "1bc142f0",
   "metadata": {},
   "outputs": [],
   "source": [
    "a1=[14,965,98]"
   ]
  },
  {
   "cell_type": "code",
   "execution_count": 64,
   "id": "ad34a982",
   "metadata": {},
   "outputs": [
    {
     "name": "stdout",
     "output_type": "stream",
     "text": [
      "3\n",
      "1077\n",
      "14\n",
      "965\n"
     ]
    }
   ],
   "source": [
    "print(len(a1))\n",
    "print(sum(a1))\n",
    "print(min(a1))\n",
    "print(max(a1))"
   ]
  },
  {
   "cell_type": "code",
   "execution_count": null,
   "id": "79ad87fa",
   "metadata": {},
   "outputs": [],
   "source": []
  }
 ],
 "metadata": {
  "kernelspec": {
   "display_name": "Python 3 (ipykernel)",
   "language": "python",
   "name": "python3"
  },
  "language_info": {
   "codemirror_mode": {
    "name": "ipython",
    "version": 3
   },
   "file_extension": ".py",
   "mimetype": "text/x-python",
   "name": "python",
   "nbconvert_exporter": "python",
   "pygments_lexer": "ipython3",
   "version": "3.9.7"
  }
 },
 "nbformat": 4,
 "nbformat_minor": 5
}
