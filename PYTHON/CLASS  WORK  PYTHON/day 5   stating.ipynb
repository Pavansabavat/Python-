{
 "cells": [
  {
   "cell_type": "code",
   "execution_count": 2,
   "id": "151d9423",
   "metadata": {},
   "outputs": [],
   "source": [
    "a=\"  innonamtics   resarch labs  \""
   ]
  },
  {
   "cell_type": "code",
   "execution_count": 3,
   "id": "4743e60a",
   "metadata": {},
   "outputs": [
    {
     "data": {
      "text/plain": [
       "'innonamtics   resarch labs'"
      ]
     },
     "execution_count": 3,
     "metadata": {},
     "output_type": "execute_result"
    }
   ],
   "source": [
    "a.strip()"
   ]
  },
  {
   "cell_type": "code",
   "execution_count": 4,
   "id": "8feeb13d",
   "metadata": {},
   "outputs": [
    {
     "data": {
      "text/plain": [
       "'innon@mtics   res@rch l@bs'"
      ]
     },
     "execution_count": 4,
     "metadata": {},
     "output_type": "execute_result"
    }
   ],
   "source": [
    "a.replace(\"a\",\"@\").strip()"
   ]
  },
  {
   "cell_type": "code",
   "execution_count": 5,
   "id": "a91e6b21",
   "metadata": {},
   "outputs": [],
   "source": [
    "x=\"pavan na@yak\""
   ]
  },
  {
   "cell_type": "code",
   "execution_count": 6,
   "id": "741851aa",
   "metadata": {},
   "outputs": [
    {
     "data": {
      "text/plain": [
       "'pavan na@yak'"
      ]
     },
     "execution_count": 6,
     "metadata": {},
     "output_type": "execute_result"
    }
   ],
   "source": [
    "x.strip()"
   ]
  },
  {
   "cell_type": "code",
   "execution_count": 7,
   "id": "f301a01a",
   "metadata": {},
   "outputs": [
    {
     "data": {
      "text/plain": [
       "'pavan na@yak'"
      ]
     },
     "execution_count": 7,
     "metadata": {},
     "output_type": "execute_result"
    }
   ],
   "source": [
    "x.replace(\"k \",\"b\").strip()"
   ]
  },
  {
   "cell_type": "code",
   "execution_count": 8,
   "id": "388c3fea",
   "metadata": {},
   "outputs": [
    {
     "data": {
      "text/plain": [
       "['pavan naayak']"
      ]
     },
     "execution_count": 8,
     "metadata": {},
     "output_type": "execute_result"
    }
   ],
   "source": [
    "x.replace(\"@\" ,\"a\").strip(\" \").split(\" a\") "
   ]
  },
  {
   "cell_type": "code",
   "execution_count": 9,
   "id": "77095839",
   "metadata": {},
   "outputs": [
    {
     "name": "stdout",
     "output_type": "stream",
     "text": [
      "povon no@yok\n",
      "True\n"
     ]
    }
   ],
   "source": [
    "print(x.replace(\"a\",\"o\"))\n",
    "print(x.endswith(\"k\"))"
   ]
  },
  {
   "cell_type": "markdown",
   "id": "4130f9eb",
   "metadata": {},
   "source": [
    "### output of a split is list"
   ]
  },
  {
   "cell_type": "code",
   "execution_count": 39,
   "id": "f2ce4a16",
   "metadata": {},
   "outputs": [
    {
     "data": {
      "text/plain": [
       "False"
      ]
     },
     "execution_count": 39,
     "metadata": {},
     "output_type": "execute_result"
    }
   ],
   "source": [
    "x.replace(\"@\",\"a\").strip().split(\" \")[0].endswith(\"k\")"
   ]
  },
  {
   "cell_type": "code",
   "execution_count": 18,
   "id": "0c3ef7c6",
   "metadata": {},
   "outputs": [
    {
     "name": "stdout",
     "output_type": "stream",
     "text": [
      "innom@tics re@sr@c yyyuh  l@bs\n",
      "['innomutic', ' reu', 'ruc yyyuh  lub', '']\n",
      "False\n",
      "False\n"
     ]
    }
   ],
   "source": [
    "x=\" innomatics reasrac yyyuh  labs\"\n",
    "x.strip()\n",
    "print(x.replace(\"a\",\"@\").strip(\" \"))\n",
    "print(x.replace(\"a\",\"u\").strip(\" \").split(\"s\"))\n",
    "print(x.replace(\"a\",\" h\").endswith(\"u\"))\n",
    "print(x.replace(\"n\",\"h\").startswith(\"i\"))"
   ]
  },
  {
   "cell_type": "code",
   "execution_count": null,
   "id": "70018bfd",
   "metadata": {},
   "outputs": [],
   "source": []
  },
  {
   "cell_type": "code",
   "execution_count": null,
   "id": "533549ec",
   "metadata": {},
   "outputs": [],
   "source": []
  },
  {
   "cell_type": "code",
   "execution_count": null,
   "id": "46835f4c",
   "metadata": {},
   "outputs": [],
   "source": []
  }
 ],
 "metadata": {
  "kernelspec": {
   "display_name": "Python 3 (ipykernel)",
   "language": "python",
   "name": "python3"
  },
  "language_info": {
   "codemirror_mode": {
    "name": "ipython",
    "version": 3
   },
   "file_extension": ".py",
   "mimetype": "text/x-python",
   "name": "python",
   "nbconvert_exporter": "python",
   "pygments_lexer": "ipython3",
   "version": "3.9.7"
  }
 },
 "nbformat": 4,
 "nbformat_minor": 5
}
