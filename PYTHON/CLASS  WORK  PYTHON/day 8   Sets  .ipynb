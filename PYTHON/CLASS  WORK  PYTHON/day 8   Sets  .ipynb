{
 "cells": [
  {
   "cell_type": "markdown",
   "id": "bc1cc70e",
   "metadata": {},
   "source": [
    " ## In built functions of sets"
   ]
  },
  {
   "cell_type": "code",
   "execution_count": 3,
   "id": "d27cb3af",
   "metadata": {},
   "outputs": [],
   "source": [
    "s1={1,2,3}"
   ]
  },
  {
   "cell_type": "code",
   "execution_count": 4,
   "id": "95f5d435",
   "metadata": {},
   "outputs": [
    {
     "data": {
      "text/plain": [
       "set"
      ]
     },
     "execution_count": 4,
     "metadata": {},
     "output_type": "execute_result"
    }
   ],
   "source": [
    "type(s1)"
   ]
  },
  {
   "cell_type": "code",
   "execution_count": 5,
   "id": "7c34325b",
   "metadata": {},
   "outputs": [],
   "source": [
    "s2={}"
   ]
  },
  {
   "cell_type": "code",
   "execution_count": 6,
   "id": "bdfe18df",
   "metadata": {},
   "outputs": [
    {
     "data": {
      "text/plain": [
       "dict"
      ]
     },
     "execution_count": 6,
     "metadata": {},
     "output_type": "execute_result"
    }
   ],
   "source": [
    "type(s2)"
   ]
  },
  {
   "cell_type": "code",
   "execution_count": 11,
   "id": "b561f831",
   "metadata": {},
   "outputs": [
    {
     "name": "stdout",
     "output_type": "stream",
     "text": [
      "{1, 2, 3, 4, 5, 6, 7, 8, 9, 89}\n"
     ]
    }
   ],
   "source": [
    "s3={1,2,3,4,5,6,7,8,8,8,89,9,9,9}\n",
    "print(s3)"
   ]
  },
  {
   "cell_type": "code",
   "execution_count": 17,
   "id": "fd5aff9a",
   "metadata": {
    "scrolled": true
   },
   "outputs": [
    {
     "name": "stdout",
     "output_type": "stream",
     "text": [
      "{1, 2, 5, 6, 971, 58}\n"
     ]
    }
   ],
   "source": [
    "s4=set([1,2,5,6,971,58,58])\n",
    "print(s4)"
   ]
  },
  {
   "cell_type": "markdown",
   "id": "76ee65eb",
   "metadata": {},
   "source": [
    ">###  nested list cannot be used for set"
   ]
  },
  {
   "cell_type": "code",
   "execution_count": 50,
   "id": "1fddcbf1",
   "metadata": {},
   "outputs": [
    {
     "ename": "TypeError",
     "evalue": "unhashable type: 'list'",
     "output_type": "error",
     "traceback": [
      "\u001b[1;31m---------------------------------------------------------------------------\u001b[0m",
      "\u001b[1;31mTypeError\u001b[0m                                 Traceback (most recent call last)",
      "\u001b[1;32m~\\AppData\\Local\\Temp/ipykernel_9512/496413834.py\u001b[0m in \u001b[0;36m<module>\u001b[1;34m\u001b[0m\n\u001b[1;32m----> 1\u001b[1;33m \u001b[0ms4\u001b[0m\u001b[1;33m=\u001b[0m\u001b[0mset\u001b[0m\u001b[1;33m(\u001b[0m\u001b[1;33m[\u001b[0m\u001b[1;36m1\u001b[0m\u001b[1;33m,\u001b[0m\u001b[1;36m2\u001b[0m\u001b[1;33m,\u001b[0m\u001b[1;36m5\u001b[0m\u001b[1;33m,\u001b[0m\u001b[1;36m6\u001b[0m\u001b[1;33m,\u001b[0m\u001b[1;33m[\u001b[0m\u001b[1;36m971\u001b[0m\u001b[1;33m,\u001b[0m\u001b[1;36m58\u001b[0m\u001b[1;33m,\u001b[0m\u001b[1;36m58\u001b[0m\u001b[1;33m]\u001b[0m\u001b[1;33m]\u001b[0m\u001b[1;33m)\u001b[0m\u001b[1;33m\u001b[0m\u001b[1;33m\u001b[0m\u001b[0m\n\u001b[0m",
      "\u001b[1;31mTypeError\u001b[0m: unhashable type: 'list'"
     ]
    }
   ],
   "source": [
    "s4=set([1,2,5,6,[971,58,58]])"
   ]
  },
  {
   "cell_type": "markdown",
   "id": "d73e01a8",
   "metadata": {},
   "source": [
    "###  built in fuctions"
   ]
  },
  {
   "cell_type": "code",
   "execution_count": 2,
   "id": "ca5984ed",
   "metadata": {},
   "outputs": [],
   "source": [
    "s5=set([1,2,5,97,7])"
   ]
  },
  {
   "cell_type": "code",
   "execution_count": 3,
   "id": "5487330a",
   "metadata": {},
   "outputs": [
    {
     "name": "stdout",
     "output_type": "stream",
     "text": [
      "{1, 2, 97, 4, 5, 7}\n"
     ]
    },
    {
     "data": {
      "text/plain": [
       "set"
      ]
     },
     "execution_count": 3,
     "metadata": {},
     "output_type": "execute_result"
    }
   ],
   "source": [
    "s5.add(4)\n",
    "print(s5)\n",
    "type(s5)"
   ]
  },
  {
   "cell_type": "markdown",
   "id": "2a4b929d",
   "metadata": {},
   "source": [
    "####  we cannot add multipe elements using add"
   ]
  },
  {
   "cell_type": "markdown",
   "id": "ab7d7340",
   "metadata": {},
   "source": [
    "# update"
   ]
  },
  {
   "cell_type": "code",
   "execution_count": 1,
   "id": "702a4e85",
   "metadata": {},
   "outputs": [],
   "source": [
    "s6={188,9,5,6,7,1,7}"
   ]
  },
  {
   "cell_type": "code",
   "execution_count": 2,
   "id": "bd9d09c8",
   "metadata": {},
   "outputs": [
    {
     "name": "stdout",
     "output_type": "stream",
     "text": [
      "{1, 5, 6, 7, 9, 'a', 'f', 'h', 188}\n"
     ]
    }
   ],
   "source": [
    "s6.update({\"a\",\"f\",\"h\"})\n",
    "print(s6)"
   ]
  },
  {
   "cell_type": "code",
   "execution_count": 45,
   "id": "70cc6f7f",
   "metadata": {},
   "outputs": [
    {
     "name": "stdout",
     "output_type": "stream",
     "text": [
      "{1, 5, 6, 7, 9, 'a', 'kf', 'jh', 'h', 'aa', 188, 'f'}\n"
     ]
    }
   ],
   "source": [
    "s6.update([\"aa\",\"kf\",\"jh\"])\n",
    "print(s6)"
   ]
  },
  {
   "cell_type": "code",
   "execution_count": 49,
   "id": "649a9937",
   "metadata": {},
   "outputs": [
    {
     "name": "stdout",
     "output_type": "stream",
     "text": [
      "{1, 'dhfg', 5, 6, 7, 9, 11, 12, 13, 'fff', 'a', 'kf', 'jh', 'h', 'aa', 'djkfjh', 188, 'f'}\n"
     ]
    }
   ],
   "source": [
    "s6.update([11,12,13],{\"fff\",\"djkfjh\",\"dhfg\"})\n",
    "print(s6)"
   ]
  },
  {
   "cell_type": "markdown",
   "id": "75c9a685",
   "metadata": {},
   "source": [
    "#  sort\n",
    "#### we can convert set to list & tuple"
   ]
  },
  {
   "cell_type": "code",
   "execution_count": 59,
   "id": "d5bba355",
   "metadata": {},
   "outputs": [],
   "source": [
    "a={465,5,84,5,2,61,84}"
   ]
  },
  {
   "cell_type": "code",
   "execution_count": 60,
   "id": "2d79e363",
   "metadata": {},
   "outputs": [
    {
     "data": {
      "text/plain": [
       "[2, 5, 61, 84, 465]"
      ]
     },
     "execution_count": 60,
     "metadata": {},
     "output_type": "execute_result"
    }
   ],
   "source": [
    "sorted(a)"
   ]
  },
  {
   "cell_type": "code",
   "execution_count": 64,
   "id": "f7f6f82a",
   "metadata": {},
   "outputs": [],
   "source": [
    "a2=list(a)\n",
    "a3=tuple(a)"
   ]
  },
  {
   "cell_type": "code",
   "execution_count": 65,
   "id": "4adde7ca",
   "metadata": {},
   "outputs": [
    {
     "name": "stdout",
     "output_type": "stream",
     "text": [
      "[465, 2, 84, 5, 61]\n",
      "(465, 2, 84, 5, 61)\n"
     ]
    }
   ],
   "source": [
    "print(a2)\n",
    "print(a3)"
   ]
  },
  {
   "cell_type": "code",
   "execution_count": 71,
   "id": "6917ce78",
   "metadata": {},
   "outputs": [],
   "source": [
    "a2={\"a\",\"d\",\"g\",\"f\",\"b\",\"ab\"}"
   ]
  },
  {
   "cell_type": "code",
   "execution_count": 72,
   "id": "3098bef6",
   "metadata": {},
   "outputs": [
    {
     "data": {
      "text/plain": [
       "{'a', 'ab', 'b', 'd', 'f', 'g'}"
      ]
     },
     "execution_count": 72,
     "metadata": {},
     "output_type": "execute_result"
    }
   ],
   "source": [
    "a2"
   ]
  },
  {
   "cell_type": "code",
   "execution_count": 97,
   "id": "31f6595c",
   "metadata": {},
   "outputs": [],
   "source": [
    "a3={\"a\",\"d\",\"g\",\"f\",\"b\",\"ab\",4,6,7,8,}"
   ]
  },
  {
   "cell_type": "code",
   "execution_count": 98,
   "id": "19f95a36",
   "metadata": {},
   "outputs": [
    {
     "ename": "TypeError",
     "evalue": "'<' not supported between instances of 'str' and 'int'",
     "output_type": "error",
     "traceback": [
      "\u001b[1;31m---------------------------------------------------------------------------\u001b[0m",
      "\u001b[1;31mTypeError\u001b[0m                                 Traceback (most recent call last)",
      "\u001b[1;32m~\\AppData\\Local\\Temp/ipykernel_312/1745749179.py\u001b[0m in \u001b[0;36m<module>\u001b[1;34m\u001b[0m\n\u001b[1;32m----> 1\u001b[1;33m \u001b[0msorted\u001b[0m\u001b[1;33m(\u001b[0m\u001b[0ma3\u001b[0m\u001b[1;33m)\u001b[0m\u001b[1;33m\u001b[0m\u001b[1;33m\u001b[0m\u001b[0m\n\u001b[0m",
      "\u001b[1;31mTypeError\u001b[0m: '<' not supported between instances of 'str' and 'int'"
     ]
    }
   ],
   "source": [
    "sorted(a3)"
   ]
  },
  {
   "cell_type": "code",
   "execution_count": 92,
   "id": "095fe2d2",
   "metadata": {},
   "outputs": [],
   "source": [
    "s5={1,2,588,89644,5,5}"
   ]
  },
  {
   "cell_type": "code",
   "execution_count": 93,
   "id": "2147cc85",
   "metadata": {},
   "outputs": [],
   "source": [
    "s6=sorted(s5,reverse=True)"
   ]
  },
  {
   "cell_type": "code",
   "execution_count": 94,
   "id": "fe495342",
   "metadata": {},
   "outputs": [
    {
     "data": {
      "text/plain": [
       "[89644, 588, 5, 2, 1]"
      ]
     },
     "execution_count": 94,
     "metadata": {},
     "output_type": "execute_result"
    }
   ],
   "source": [
    "s6"
   ]
  },
  {
   "cell_type": "code",
   "execution_count": 95,
   "id": "fbf4bc99",
   "metadata": {},
   "outputs": [],
   "source": [
    "s6=sorted(s5,reverse=False)"
   ]
  },
  {
   "cell_type": "code",
   "execution_count": 96,
   "id": "b1c332c7",
   "metadata": {},
   "outputs": [
    {
     "data": {
      "text/plain": [
       "[1, 2, 5, 588, 89644]"
      ]
     },
     "execution_count": 96,
     "metadata": {},
     "output_type": "execute_result"
    }
   ],
   "source": [
    "s6"
   ]
  },
  {
   "cell_type": "markdown",
   "id": "e4ddfbfa",
   "metadata": {},
   "source": [
    "### discard"
   ]
  },
  {
   "cell_type": "code",
   "execution_count": 15,
   "id": "36847a44",
   "metadata": {},
   "outputs": [],
   "source": [
    "a1={1,2,8,5,9,7,\"a\",\"g\",\"h\"}"
   ]
  },
  {
   "cell_type": "code",
   "execution_count": 16,
   "id": "9d321aaa",
   "metadata": {},
   "outputs": [
    {
     "name": "stdout",
     "output_type": "stream",
     "text": [
      "{1, 2, 5, 7, 8, 9, 'g', 'h'}\n"
     ]
    }
   ],
   "source": [
    "a1.discard(\"a\")\n",
    "print(a1)"
   ]
  },
  {
   "cell_type": "code",
   "execution_count": 17,
   "id": "be4d2679",
   "metadata": {},
   "outputs": [
    {
     "name": "stdout",
     "output_type": "stream",
     "text": [
      "{1, 2, 5, 7, 9, 'g', 'h'}\n"
     ]
    }
   ],
   "source": [
    "a1.discard(8)\n",
    "print(a1)"
   ]
  },
  {
   "cell_type": "markdown",
   "id": "d3294178",
   "metadata": {},
   "source": [
    "### it takes only one argument to delete"
   ]
  },
  {
   "cell_type": "code",
   "execution_count": 18,
   "id": "cb30f307",
   "metadata": {},
   "outputs": [
    {
     "ename": "TypeError",
     "evalue": "set.discard() takes exactly one argument (2 given)",
     "output_type": "error",
     "traceback": [
      "\u001b[1;31m---------------------------------------------------------------------------\u001b[0m",
      "\u001b[1;31mTypeError\u001b[0m                                 Traceback (most recent call last)",
      "\u001b[1;32m~\\AppData\\Local\\Temp/ipykernel_9512/3101719295.py\u001b[0m in \u001b[0;36m<module>\u001b[1;34m\u001b[0m\n\u001b[1;32m----> 1\u001b[1;33m \u001b[0ma1\u001b[0m\u001b[1;33m.\u001b[0m\u001b[0mdiscard\u001b[0m\u001b[1;33m(\u001b[0m\u001b[1;36m1\u001b[0m\u001b[1;33m,\u001b[0m\u001b[1;36m9\u001b[0m\u001b[1;33m)\u001b[0m\u001b[1;33m\u001b[0m\u001b[1;33m\u001b[0m\u001b[0m\n\u001b[0m",
      "\u001b[1;31mTypeError\u001b[0m: set.discard() takes exactly one argument (2 given)"
     ]
    }
   ],
   "source": [
    "a1.discard(1,9)"
   ]
  },
  {
   "cell_type": "code",
   "execution_count": 19,
   "id": "0424245a",
   "metadata": {},
   "outputs": [],
   "source": [
    "a1.remove(2)"
   ]
  },
  {
   "cell_type": "code",
   "execution_count": 20,
   "id": "5647f827",
   "metadata": {},
   "outputs": [
    {
     "data": {
      "text/plain": [
       "{1, 5, 7, 9, 'g', 'h'}"
      ]
     },
     "execution_count": 20,
     "metadata": {},
     "output_type": "execute_result"
    }
   ],
   "source": [
    "a1"
   ]
  },
  {
   "cell_type": "code",
   "execution_count": 21,
   "id": "45c56511",
   "metadata": {},
   "outputs": [],
   "source": [
    "a1.remove(\"g\")"
   ]
  },
  {
   "cell_type": "code",
   "execution_count": 22,
   "id": "31e6caec",
   "metadata": {},
   "outputs": [
    {
     "name": "stdout",
     "output_type": "stream",
     "text": [
      "{1, 5, 7, 9, 'h'}\n"
     ]
    }
   ],
   "source": [
    "print(a1)"
   ]
  },
  {
   "cell_type": "code",
   "execution_count": null,
   "id": "b9a1cacc",
   "metadata": {},
   "outputs": [],
   "source": []
  },
  {
   "cell_type": "code",
   "execution_count": 23,
   "id": "d69c1207",
   "metadata": {},
   "outputs": [],
   "source": [
    "b1={\"a\",2,5,6,9,\"ab\",\"hfh\"}"
   ]
  },
  {
   "cell_type": "code",
   "execution_count": 24,
   "id": "ce85124d",
   "metadata": {},
   "outputs": [
    {
     "data": {
      "text/plain": [
       "5"
      ]
     },
     "execution_count": 24,
     "metadata": {},
     "output_type": "execute_result"
    }
   ],
   "source": [
    "b1.pop()\n",
    "b1.pop()"
   ]
  },
  {
   "cell_type": "code",
   "execution_count": 25,
   "id": "9ce2e9c4",
   "metadata": {},
   "outputs": [
    {
     "data": {
      "text/plain": [
       "6"
      ]
     },
     "execution_count": 25,
     "metadata": {},
     "output_type": "execute_result"
    }
   ],
   "source": [
    "b1.pop()"
   ]
  },
  {
   "cell_type": "code",
   "execution_count": 26,
   "id": "3b8ffa09",
   "metadata": {},
   "outputs": [
    {
     "data": {
      "text/plain": [
       "'hfh'"
      ]
     },
     "execution_count": 26,
     "metadata": {},
     "output_type": "execute_result"
    }
   ],
   "source": [
    "b1.pop()"
   ]
  },
  {
   "cell_type": "code",
   "execution_count": 27,
   "id": "315280b5",
   "metadata": {},
   "outputs": [
    {
     "data": {
      "text/plain": [
       "'a'"
      ]
     },
     "execution_count": 27,
     "metadata": {},
     "output_type": "execute_result"
    }
   ],
   "source": [
    "b1.pop()"
   ]
  },
  {
   "cell_type": "code",
   "execution_count": 28,
   "id": "76258d31",
   "metadata": {},
   "outputs": [],
   "source": [
    "b1={\"a\",2,2.0,5,6,9,\"ab\",\"hfh\"}"
   ]
  },
  {
   "cell_type": "code",
   "execution_count": 29,
   "id": "233c91c6",
   "metadata": {},
   "outputs": [
    {
     "data": {
      "text/plain": [
       "2"
      ]
     },
     "execution_count": 29,
     "metadata": {},
     "output_type": "execute_result"
    }
   ],
   "source": [
    "b1.pop()"
   ]
  },
  {
   "cell_type": "markdown",
   "id": "6870f183",
   "metadata": {},
   "source": [
    "# clear"
   ]
  },
  {
   "cell_type": "code",
   "execution_count": 55,
   "id": "e8071fad",
   "metadata": {},
   "outputs": [],
   "source": [
    "c1={\"a\",2,2.0,5,6,9,\"ab\",\"hfh\",\"fvfj\"}"
   ]
  },
  {
   "cell_type": "code",
   "execution_count": 56,
   "id": "1454a15e",
   "metadata": {},
   "outputs": [
    {
     "name": "stdout",
     "output_type": "stream",
     "text": [
      "set()\n"
     ]
    }
   ],
   "source": [
    "c1.clear()\n",
    "print(c1)"
   ]
  },
  {
   "cell_type": "markdown",
   "id": "b65b78e1",
   "metadata": {},
   "source": [
    "##### once   u clear  set   again if u command it will throw into error "
   ]
  },
  {
   "cell_type": "code",
   "execution_count": 57,
   "id": "8000621f",
   "metadata": {},
   "outputs": [
    {
     "ename": "NameError",
     "evalue": "name 'c1' is not defined",
     "output_type": "error",
     "traceback": [
      "\u001b[1;31m---------------------------------------------------------------------------\u001b[0m",
      "\u001b[1;31mNameError\u001b[0m                                 Traceback (most recent call last)",
      "\u001b[1;32m~\\AppData\\Local\\Temp/ipykernel_9512/495850513.py\u001b[0m in \u001b[0;36m<module>\u001b[1;34m\u001b[0m\n\u001b[0;32m      1\u001b[0m \u001b[1;32mdel\u001b[0m \u001b[0mc1\u001b[0m\u001b[1;33m\u001b[0m\u001b[1;33m\u001b[0m\u001b[0m\n\u001b[1;32m----> 2\u001b[1;33m \u001b[0mprint\u001b[0m\u001b[1;33m(\u001b[0m\u001b[0mc1\u001b[0m\u001b[1;33m)\u001b[0m\u001b[1;33m\u001b[0m\u001b[1;33m\u001b[0m\u001b[0m\n\u001b[0m",
      "\u001b[1;31mNameError\u001b[0m: name 'c1' is not defined"
     ]
    }
   ],
   "source": [
    "del c1\n",
    "print(c1)"
   ]
  },
  {
   "cell_type": "markdown",
   "id": "0d11e258",
   "metadata": {},
   "source": [
    "# other set operators"
   ]
  },
  {
   "cell_type": "code",
   "execution_count": 33,
   "id": "ad66b8cb",
   "metadata": {},
   "outputs": [],
   "source": [
    "d={1,2,3,5,6,8}\n",
    "e={4,7,9,10,11,12}"
   ]
  },
  {
   "cell_type": "code",
   "execution_count": 34,
   "id": "3d32593e",
   "metadata": {},
   "outputs": [
    {
     "name": "stdout",
     "output_type": "stream",
     "text": [
      "{1, 2, 3, 4, 5, 6, 7, 8, 9, 10, 11, 12}\n"
     ]
    }
   ],
   "source": [
    "print(d|e)\n",
    "f=e|d"
   ]
  },
  {
   "cell_type": "code",
   "execution_count": 35,
   "id": "5282d854",
   "metadata": {},
   "outputs": [
    {
     "name": "stdout",
     "output_type": "stream",
     "text": [
      "{1, 2, 3, 5, 6, 8}\n",
      "{4, 7, 9, 10, 11, 12}\n",
      "{1, 2, 3, 4, 5, 6, 7, 8, 9, 10, 11, 12}\n"
     ]
    }
   ],
   "source": [
    "print(d)\n",
    "print(e)\n",
    "print(f)"
   ]
  },
  {
   "cell_type": "code",
   "execution_count": 36,
   "id": "c03e32fd",
   "metadata": {},
   "outputs": [
    {
     "name": "stdout",
     "output_type": "stream",
     "text": [
      "{1, 2, 3, 4, 5, 6, 7, 8, 9, 10, 11, 12}\n"
     ]
    }
   ],
   "source": [
    "f1=d.union(e) \n",
    "print(f1)"
   ]
  },
  {
   "cell_type": "code",
   "execution_count": 37,
   "id": "95e62b4d",
   "metadata": {},
   "outputs": [
    {
     "name": "stdout",
     "output_type": "stream",
     "text": [
      "{1, 2, 3, 4, 5, 6, 7, 8, 9, 10, 11, 12}\n"
     ]
    }
   ],
   "source": [
    "f2=e.union(d)\n",
    "print(f2)"
   ]
  },
  {
   "cell_type": "markdown",
   "id": "0ac0bb33",
   "metadata": {},
   "source": [
    "# intersection"
   ]
  },
  {
   "cell_type": "code",
   "execution_count": 38,
   "id": "9cd19788",
   "metadata": {},
   "outputs": [],
   "source": [
    "z={1,2,3,5,6,8}\n",
    "y={4,7,5,10,8,12}"
   ]
  },
  {
   "cell_type": "code",
   "execution_count": 39,
   "id": "166dbf82",
   "metadata": {},
   "outputs": [
    {
     "name": "stdout",
     "output_type": "stream",
     "text": [
      "{8, 5}\n",
      "{1, 2, 3, 5, 6, 8}\n",
      "{4, 5, 7, 8, 10, 12}\n"
     ]
    }
   ],
   "source": [
    "print(z&y)\n",
    "print(z)\n",
    "print(y)"
   ]
  },
  {
   "cell_type": "markdown",
   "id": "6513e054",
   "metadata": {},
   "source": [
    "## difference"
   ]
  },
  {
   "cell_type": "code",
   "execution_count": 40,
   "id": "5f48d225",
   "metadata": {},
   "outputs": [
    {
     "name": "stdout",
     "output_type": "stream",
     "text": [
      "{1, 2, 3, 6}\n"
     ]
    }
   ],
   "source": [
    "print(z-y)"
   ]
  },
  {
   "cell_type": "code",
   "execution_count": 41,
   "id": "fece4cf7",
   "metadata": {},
   "outputs": [
    {
     "name": "stdout",
     "output_type": "stream",
     "text": [
      "{10, 4, 12, 7}\n"
     ]
    }
   ],
   "source": [
    "print(y-z)"
   ]
  },
  {
   "cell_type": "code",
   "execution_count": 42,
   "id": "f952519f",
   "metadata": {},
   "outputs": [],
   "source": [
    "a={1,2,3,4,6,5,12,56,89,}\n",
    "b={5,6,7,8,9,10,56,8,9,5,}"
   ]
  },
  {
   "cell_type": "code",
   "execution_count": 43,
   "id": "e1467333",
   "metadata": {},
   "outputs": [
    {
     "data": {
      "text/plain": [
       "{1, 2, 3, 4, 12, 89}"
      ]
     },
     "execution_count": 43,
     "metadata": {},
     "output_type": "execute_result"
    }
   ],
   "source": [
    "a.difference(b)"
   ]
  },
  {
   "cell_type": "code",
   "execution_count": 44,
   "id": "601ec3de",
   "metadata": {},
   "outputs": [
    {
     "data": {
      "text/plain": [
       "{7, 8, 9, 10}"
      ]
     },
     "execution_count": 44,
     "metadata": {},
     "output_type": "execute_result"
    }
   ],
   "source": [
    "b.difference(a)"
   ]
  },
  {
   "cell_type": "markdown",
   "id": "77f28e31",
   "metadata": {},
   "source": [
    "## symmetric difference"
   ]
  },
  {
   "cell_type": "code",
   "execution_count": 45,
   "id": "64e7c832",
   "metadata": {},
   "outputs": [],
   "source": [
    "a={1,2,3,4,6,5,12,56,89,}\n",
    "b={5,6,7,8,9,10,56,8,9,5,}"
   ]
  },
  {
   "cell_type": "code",
   "execution_count": 46,
   "id": "7da58df4",
   "metadata": {},
   "outputs": [
    {
     "name": "stdout",
     "output_type": "stream",
     "text": [
      "{1, 2, 3, 4, 7, 8, 9, 10, 12, 89}\n"
     ]
    }
   ],
   "source": [
    "print(a^b)"
   ]
  },
  {
   "cell_type": "code",
   "execution_count": 47,
   "id": "f6905842",
   "metadata": {},
   "outputs": [
    {
     "name": "stdout",
     "output_type": "stream",
     "text": [
      "{1, 2, 3, 4, 7, 8, 9, 10, 12, 89}\n"
     ]
    }
   ],
   "source": [
    "print(b^a)"
   ]
  },
  {
   "cell_type": "code",
   "execution_count": 48,
   "id": "38919ebd",
   "metadata": {},
   "outputs": [
    {
     "data": {
      "text/plain": [
       "{1, 2, 3, 4, 7, 8, 9, 10, 12, 89}"
      ]
     },
     "execution_count": 48,
     "metadata": {},
     "output_type": "execute_result"
    }
   ],
   "source": [
    "a.symmetric_difference(b)"
   ]
  },
  {
   "cell_type": "code",
   "execution_count": 49,
   "id": "47b1e0aa",
   "metadata": {},
   "outputs": [
    {
     "data": {
      "text/plain": [
       "{1, 2, 3, 4, 7, 8, 9, 10, 12, 89}"
      ]
     },
     "execution_count": 49,
     "metadata": {},
     "output_type": "execute_result"
    }
   ],
   "source": [
    "b.symmetric_difference(a)"
   ]
  },
  {
   "cell_type": "code",
   "execution_count": null,
   "id": "c11782a2",
   "metadata": {},
   "outputs": [],
   "source": []
  }
 ],
 "metadata": {
  "kernelspec": {
   "display_name": "Python 3 (ipykernel)",
   "language": "python",
   "name": "python3"
  },
  "language_info": {
   "codemirror_mode": {
    "name": "ipython",
    "version": 3
   },
   "file_extension": ".py",
   "mimetype": "text/x-python",
   "name": "python",
   "nbconvert_exporter": "python",
   "pygments_lexer": "ipython3",
   "version": "3.9.7"
  }
 },
 "nbformat": 4,
 "nbformat_minor": 5
}
