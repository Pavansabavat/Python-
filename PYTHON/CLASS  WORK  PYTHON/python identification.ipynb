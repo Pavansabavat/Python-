{
 "cells": [
  {
   "cell_type": "markdown",
   "id": "9c2c803c",
   "metadata": {},
   "source": [
    "# PYTHON CONDITION"
   ]
  },
  {
   "cell_type": "code",
   "execution_count": 1,
   "id": "7d2f74a4",
   "metadata": {},
   "outputs": [
    {
     "name": "stdout",
     "output_type": "stream",
     "text": [
      "yes\n"
     ]
    }
   ],
   "source": [
    "a=6\n",
    "b=1\n",
    "if(a>b):\n",
    "    print(\"yes\")"
   ]
  },
  {
   "cell_type": "code",
   "execution_count": 2,
   "id": "d98cdec7",
   "metadata": {},
   "outputs": [],
   "source": [
    "a=7\n",
    "b=15\n",
    "if(a>b):\n",
    "    print(\"yes\")"
   ]
  },
  {
   "cell_type": "code",
   "execution_count": 3,
   "id": "cf788011",
   "metadata": {},
   "outputs": [
    {
     "name": "stdout",
     "output_type": "stream",
     "text": [
      "b greater than equal to a\n"
     ]
    }
   ],
   "source": [
    "a=7\n",
    "b=15\n",
    "if(a>b):\n",
    "    print(\"a greater than b\")\n",
    "else:\n",
    "    print(\"b greater than equal to a\")"
   ]
  },
  {
   "cell_type": "code",
   "execution_count": 5,
   "id": "2c19ff54",
   "metadata": {},
   "outputs": [
    {
     "name": "stdout",
     "output_type": "stream",
     "text": [
      "a greater than equal to b \n"
     ]
    }
   ],
   "source": [
    "a=6\n",
    "b=6\n",
    "if(a>=b):\n",
    "    print(\"a greater than equal to b \")\n",
    "else:\n",
    "    print(\"b greater than a\")"
   ]
  },
  {
   "cell_type": "code",
   "execution_count": null,
   "id": "3b235109",
   "metadata": {},
   "outputs": [],
   "source": []
  }
 ],
 "metadata": {
  "kernelspec": {
   "display_name": "Python 3 (ipykernel)",
   "language": "python",
   "name": "python3"
  },
  "language_info": {
   "codemirror_mode": {
    "name": "ipython",
    "version": 3
   },
   "file_extension": ".py",
   "mimetype": "text/x-python",
   "name": "python",
   "nbconvert_exporter": "python",
   "pygments_lexer": "ipython3",
   "version": "3.9.7"
  }
 },
 "nbformat": 4,
 "nbformat_minor": 5
}
