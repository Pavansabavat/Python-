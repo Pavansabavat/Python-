{
 "cells": [
  {
   "cell_type": "markdown",
   "id": "9f65f603",
   "metadata": {},
   "source": [
    "ARTHEMATIC OPERATORS "
   ]
  },
  {
   "cell_type": "code",
   "execution_count": 12,
   "id": "bc1ce356",
   "metadata": {},
   "outputs": [
    {
     "name": "stdout",
     "output_type": "stream",
     "text": [
      "x+y= 19\n",
      "x-y= 11\n",
      "x/y= 3.75\n",
      "x//y= 3\n",
      "x*y= 60\n",
      "x**y= 50625\n"
     ]
    }
   ],
   "source": [
    "x=15\n",
    "y=4\n",
    "print('x+y=',x+y)\n",
    "print('x-y=',x-y)\n",
    "print('x/y=',x/y)\n",
    "print('x//y=',x//y)\n",
    "print('x*y=',x*y)\n",
    "print('x**y=',x**y)"
   ]
  },
  {
   "cell_type": "code",
   "execution_count": 13,
   "id": "48fdf3b8",
   "metadata": {},
   "outputs": [
    {
     "name": "stdout",
     "output_type": "stream",
     "text": [
      "x%y= 3\n"
     ]
    }
   ],
   "source": [
    "print('x%y=',x%y)"
   ]
  },
  {
   "cell_type": "code",
   "execution_count": 17,
   "id": "9a2463b3",
   "metadata": {},
   "outputs": [
    {
     "name": "stdout",
     "output_type": "stream",
     "text": [
      "x>y is False\n",
      "x<y is True\n",
      "x==y is False\n",
      "x!=y is True\n",
      "x>=y is False\n",
      "x<=y is True\n"
     ]
    }
   ],
   "source": [
    "x=10\n",
    "y=12\n",
    "print('x>y is',x>y)\n",
    "print('x<y is',x<y)\n",
    "print('x==y is',x==y)\n",
    "print('x!=y is',x!=y)\n",
    "print('x>=y is',x>=y)\n",
    "print('x<=y is',x<=y)"
   ]
  },
  {
   "cell_type": "code",
   "execution_count": 21,
   "id": "64c9e7fe",
   "metadata": {},
   "outputs": [
    {
     "name": "stdout",
     "output_type": "stream",
     "text": [
      "x and y is False\n",
      "x or y is False\n",
      "not x is False\n"
     ]
    }
   ],
   "source": [
    "x=True\n",
    "y=False\n",
    "print('x and y is',x and y)\n",
    "print('x or y is',x and y)\n",
    "print('not x is',not x)"
   ]
  },
  {
   "cell_type": "code",
   "execution_count": 22,
   "id": "414f30d7",
   "metadata": {},
   "outputs": [
    {
     "data": {
      "text/plain": [
       "'0b10'"
      ]
     },
     "execution_count": 22,
     "metadata": {},
     "output_type": "execute_result"
    }
   ],
   "source": [
    "bin(2)"
   ]
  },
  {
   "cell_type": "code",
   "execution_count": 23,
   "id": "d10540c1",
   "metadata": {},
   "outputs": [
    {
     "data": {
      "text/plain": [
       "'0b10100'"
      ]
     },
     "execution_count": 23,
     "metadata": {},
     "output_type": "execute_result"
    }
   ],
   "source": [
    "bin(20)"
   ]
  },
  {
   "cell_type": "markdown",
   "id": "b01f982f",
   "metadata": {},
   "source": [
    "#BITWISE"
   ]
  },
  {
   "cell_type": "code",
   "execution_count": 34,
   "id": "65b7634b",
   "metadata": {},
   "outputs": [
    {
     "name": "stdout",
     "output_type": "stream",
     "text": [
      "x&y= 4\n",
      "x|y= 20\n",
      "x^y= 16\n",
      "~x= -21\n",
      "x<<2= 80\n",
      "x>>2= 5\n"
     ]
    }
   ],
   "source": [
    "x=20\n",
    "y=4\n",
    "print('x&y=',x&y)\n",
    "print('x|y=',x|y)\n",
    "print('x^y=',x^y)\n",
    "print('~x=',~x)\n",
    "print('x<<2=',x<<2)\n",
    "print('x>>2=',x>>2)"
   ]
  },
  {
   "cell_type": "code",
   "execution_count": 26,
   "id": "093ede82",
   "metadata": {},
   "outputs": [
    {
     "data": {
      "text/plain": [
       "'0b10000'"
      ]
     },
     "execution_count": 26,
     "metadata": {},
     "output_type": "execute_result"
    }
   ],
   "source": [
    "bin(16)"
   ]
  },
  {
   "cell_type": "code",
   "execution_count": 31,
   "id": "679a4c42",
   "metadata": {},
   "outputs": [
    {
     "data": {
      "text/plain": [
       "16"
      ]
     },
     "execution_count": 31,
     "metadata": {},
     "output_type": "execute_result"
    }
   ],
   "source": [
    "int(\"0b10000\",2)"
   ]
  },
  {
   "cell_type": "markdown",
   "id": "2327cf47",
   "metadata": {},
   "source": [
    "IDENTITY OPERATORS"
   ]
  },
  {
   "cell_type": "code",
   "execution_count": 39,
   "id": "f3c79272",
   "metadata": {},
   "outputs": [
    {
     "name": "stdout",
     "output_type": "stream",
     "text": [
      "True\n",
      "True\n",
      "False\n"
     ]
    }
   ],
   "source": [
    "x1=5\n",
    "y1=5\n",
    "x2='hello'\n",
    "y2='hello'\n",
    "x3=(1,2,3)\n",
    "y3=(1,2,3)\n",
    "print(x1 is y1)\n",
    "print(x2 is y2)\n",
    "print(x3 is y3)\n"
   ]
  },
  {
   "cell_type": "markdown",
   "id": "ba475945",
   "metadata": {},
   "source": [
    "ASSIGMENT OPERATORS"
   ]
  },
  {
   "cell_type": "code",
   "execution_count": 40,
   "id": "9b115c95",
   "metadata": {},
   "outputs": [
    {
     "name": "stdout",
     "output_type": "stream",
     "text": [
      "x= 4\n",
      "x+=y= 19\n",
      "x-=y= 15\n",
      "x*=y 60\n",
      "x/y= 15.0\n",
      "x//=y 3.0\n",
      "x**=y 81.0\n"
     ]
    }
   ],
   "source": [
    "x=15\n",
    "y=4\n",
    "print('x=',y)\n",
    "x+=y\n",
    "print('x+=y=',x)\n",
    "x-=y\n",
    "print('x-=y=',x)\n",
    "x*=y\n",
    "print('x*=y',x)\n",
    "x/=y\n",
    "print('x/y=',x)\n",
    "x//=y\n",
    "print('x//=y',x)\n",
    "x**=y\n",
    "print('x**=y',x)"
   ]
  },
  {
   "cell_type": "markdown",
   "id": "a6f4d032",
   "metadata": {},
   "source": [
    "MEMEBER SHIP OPERATORS"
   ]
  },
  {
   "cell_type": "code",
   "execution_count": 43,
   "id": "d8925883",
   "metadata": {},
   "outputs": [
    {
     "name": "stdout",
     "output_type": "stream",
     "text": [
      "x*=y,x\n"
     ]
    }
   ],
   "source": [
    "x=0\n",
    "y=0\n",
    "print('x*=y,x')"
   ]
  },
  {
   "cell_type": "code",
   "execution_count": 50,
   "id": "55c3186b",
   "metadata": {},
   "outputs": [
    {
     "name": "stdout",
     "output_type": "stream",
     "text": [
      "True\n",
      "True\n"
     ]
    }
   ],
   "source": [
    "x=\"hello world\"\n",
    "print('h' in x)\n",
    "print('Hello' not in x)"
   ]
  },
  {
   "cell_type": "code",
   "execution_count": 53,
   "id": "75e1b51a",
   "metadata": {},
   "outputs": [
    {
     "name": "stdout",
     "output_type": "stream",
     "text": [
      "True\n",
      "False\n"
     ]
    }
   ],
   "source": [
    "y={1:'a',2:'b'}\n",
    "print(1 in y)\n",
    "print('a' in y)"
   ]
  }
 ],
 "metadata": {
  "kernelspec": {
   "display_name": "Python 3 (ipykernel)",
   "language": "python",
   "name": "python3"
  },
  "language_info": {
   "codemirror_mode": {
    "name": "ipython",
    "version": 3
   },
   "file_extension": ".py",
   "mimetype": "text/x-python",
   "name": "python",
   "nbconvert_exporter": "python",
   "pygments_lexer": "ipython3",
   "version": "3.9.7"
  }
 },
 "nbformat": 4,
 "nbformat_minor": 5
}
