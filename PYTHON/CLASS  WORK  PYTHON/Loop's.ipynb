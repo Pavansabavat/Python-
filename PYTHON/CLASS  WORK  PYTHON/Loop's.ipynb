{
 "cells": [
  {
   "cell_type": "markdown",
   "id": "dfd2c6ef",
   "metadata": {},
   "source": [
    "# Loops"
   ]
  },
  {
   "cell_type": "markdown",
   "id": "7ec1e33b",
   "metadata": {},
   "source": [
    "### infinite loop"
   ]
  },
  {
   "cell_type": "code",
   "execution_count": 1,
   "id": "0849bdc4",
   "metadata": {},
   "outputs": [
    {
     "name": "stdout",
     "output_type": "stream",
     "text": [
      "greater than x\n",
      "y value 11\n",
      "greater than x\n",
      "y value 12\n",
      "greater than x\n",
      "y value 13\n",
      "greater than x\n",
      "y value 14\n",
      "greater than x\n",
      "y value 15\n"
     ]
    }
   ],
   "source": [
    "x=15\n",
    "y=10\n",
    "while(x>y):\n",
    "    print(\"greater than x\")\n",
    "    y=y+1\n",
    "    print(\"y value\",y)"
   ]
  },
  {
   "cell_type": "code",
   "execution_count": 2,
   "id": "03744ff2",
   "metadata": {},
   "outputs": [
    {
     "name": "stdout",
     "output_type": "stream",
     "text": [
      "1\n",
      "2\n",
      "3\n",
      "4\n",
      "5\n",
      "6\n",
      "7\n",
      "8\n",
      "9\n",
      "10\n"
     ]
    }
   ],
   "source": [
    "i=0\n",
    "while i<10:\n",
    "    i+=1\n",
    "    print(i)"
   ]
  },
  {
   "cell_type": "code",
   "execution_count": 3,
   "id": "2b003afb",
   "metadata": {},
   "outputs": [
    {
     "name": "stdout",
     "output_type": "stream",
     "text": [
      "**********\n",
      "*********\n",
      "********\n",
      "*******\n",
      "******\n",
      "*****\n",
      "****\n",
      "***\n",
      "**\n",
      "*\n"
     ]
    }
   ],
   "source": [
    "i=10\n",
    "while i>0:\n",
    "    print(\"*\"*i)\n",
    "    i-=1"
   ]
  },
  {
   "cell_type": "markdown",
   "id": "5937987f",
   "metadata": {},
   "source": [
    "## Control flow statements (pass, break & continue)"
   ]
  },
  {
   "cell_type": "markdown",
   "id": "f0ac5513",
   "metadata": {},
   "source": [
    "## Pass"
   ]
  },
  {
   "cell_type": "code",
   "execution_count": 4,
   "id": "a1dfd390",
   "metadata": {},
   "outputs": [
    {
     "name": "stdout",
     "output_type": "stream",
     "text": [
      "value of a is : 8\n",
      "value of a is : 7\n",
      "value of a is : 6\n",
      "value of a is : 4\n",
      "value of a is : 3\n",
      "value of a is : 2\n",
      "value of a is : 1\n",
      "value of a is : 0\n"
     ]
    }
   ],
   "source": [
    "a=9\n",
    "while a>0:\n",
    "    a-=1\n",
    "    if a==5:\n",
    "        continue\n",
    "        print(\"Statement after continue\")\n",
    "    else:\n",
    "        print(\"value of a is :\",a)"
   ]
  },
  {
   "cell_type": "code",
   "execution_count": 5,
   "id": "8e4c54f9",
   "metadata": {},
   "outputs": [
    {
     "name": "stdout",
     "output_type": "stream",
     "text": [
      "value of a is : 8\n",
      "value of a is : 7\n",
      "value of a is : 6\n",
      "Statement after Pass\n",
      "value of a is : 4\n",
      "value of a is : 3\n",
      "value of a is : 2\n",
      "value of a is : 1\n",
      "value of a is : 0\n"
     ]
    }
   ],
   "source": [
    "a=9\n",
    "while a>0:\n",
    "    a-=1\n",
    "    if a==5:\n",
    "        pass\n",
    "        print(\"Statement after Pass\")\n",
    "    else:\n",
    "        print(\"value of a is :\",a)"
   ]
  },
  {
   "cell_type": "markdown",
   "id": "ef2004ef",
   "metadata": {},
   "source": [
    "### Break"
   ]
  },
  {
   "cell_type": "code",
   "execution_count": 6,
   "id": "4c1bfb5a",
   "metadata": {},
   "outputs": [
    {
     "name": "stdout",
     "output_type": "stream",
     "text": [
      "greater than x1\n"
     ]
    }
   ],
   "source": [
    "x1=20\n",
    "y1=10\n",
    "while(x1>y1):\n",
    "    print(\"greater than x1\")\n",
    "    break"
   ]
  },
  {
   "cell_type": "code",
   "execution_count": 7,
   "id": "eac82f1b",
   "metadata": {},
   "outputs": [
    {
     "name": "stdout",
     "output_type": "stream",
     "text": [
      "greater than x2\n",
      "value of y2 is 15\n",
      "greater than x2\n",
      "value of y2 is 16\n",
      "greater than x2\n",
      "value of y2 is 17\n",
      "greater than x2\n",
      "value of y2 is 18\n",
      "greater than x2\n",
      "value of y2 is 19\n",
      "greater than x2\n",
      "value of y2 is 20\n"
     ]
    }
   ],
   "source": [
    "x2=30\n",
    "y2=15\n",
    "\n",
    "while(x2>y2):\n",
    "    print(\"greater than x2\")\n",
    "    print(\"value of y2 is\",y2)\n",
    "    if(y2==20):\n",
    "        break\n",
    "    y2+=1\n",
    "    "
   ]
  },
  {
   "cell_type": "code",
   "execution_count": 8,
   "id": "522e5c84",
   "metadata": {},
   "outputs": [
    {
     "name": "stdout",
     "output_type": "stream",
     "text": [
      "**********\n",
      "*********\n",
      "********\n",
      "*******\n",
      "******\n",
      "*****\n"
     ]
    }
   ],
   "source": [
    "i1=10\n",
    "while i1>0:\n",
    "    if i1==4:\n",
    "        break\n",
    "    print(\"*\"*i1)\n",
    "    i1-=1"
   ]
  },
  {
   "cell_type": "markdown",
   "id": "41494b0e",
   "metadata": {},
   "source": [
    "### Continue"
   ]
  },
  {
   "cell_type": "code",
   "execution_count": 9,
   "id": "7fa70f6e",
   "metadata": {},
   "outputs": [
    {
     "name": "stdout",
     "output_type": "stream",
     "text": [
      "1\n",
      "2\n",
      "3\n",
      "4\n",
      "6\n",
      "7\n",
      "8\n",
      "9\n",
      "10\n"
     ]
    }
   ],
   "source": [
    "x=0\n",
    "while x<10:\n",
    "    x+=1\n",
    "    if x==5:\n",
    "        continue\n",
    "    print(x)"
   ]
  },
  {
   "cell_type": "code",
   "execution_count": 10,
   "id": "92311717",
   "metadata": {},
   "outputs": [
    {
     "name": "stdout",
     "output_type": "stream",
     "text": [
      "value of i: 10\n",
      "**********\n",
      "value of i: 8\n",
      "********\n",
      "value of i: 7\n",
      "*******\n",
      "value of i: 5\n",
      "*****\n",
      "value of i: 4\n",
      "****\n",
      "value of i: 2\n",
      "**\n",
      "value of i: 1\n",
      "*\n"
     ]
    }
   ],
   "source": [
    "i=11\n",
    "while i>0:\n",
    "    i-=1\n",
    "    if i%3==0:\n",
    "        continue\n",
    "        \n",
    "    print(\"value of i:\",i)\n",
    "    print(\"*\"*i)"
   ]
  },
  {
   "cell_type": "code",
   "execution_count": 11,
   "id": "3710bece",
   "metadata": {},
   "outputs": [
    {
     "name": "stdout",
     "output_type": "stream",
     "text": [
      "y=value 1\n",
      "y=value 2\n",
      "y=value 4\n",
      "y=value 5\n",
      "y=value 6\n",
      "x=value 0\n",
      "\n",
      "y=value 1\n",
      "y=value 2\n",
      "y=value 4\n",
      "y=value 5\n",
      "y=value 6\n",
      "x=value 1\n",
      "\n",
      "y=value 1\n",
      "y=value 2\n",
      "y=value 4\n",
      "y=value 5\n",
      "y=value 6\n",
      "x=value 2\n",
      "\n",
      "y=value 1\n",
      "y=value 2\n",
      "y=value 4\n",
      "y=value 5\n",
      "y=value 6\n",
      "x=value 3\n",
      "\n",
      "y=value 1\n",
      "y=value 2\n",
      "y=value 4\n",
      "y=value 5\n",
      "y=value 6\n",
      "x=value 4\n",
      "\n"
     ]
    }
   ],
   "source": [
    "x=0\n",
    "while x<5:\n",
    "    y=0\n",
    "    while y<6:\n",
    "        y=y+1\n",
    "        if y==3:\n",
    "            continue\n",
    "        print(\"y=value\",y)\n",
    "    print(\"x=value\",x,end=\"\\n\\n\")\n",
    "    x=x+1"
   ]
  },
  {
   "cell_type": "code",
   "execution_count": 12,
   "id": "7b1055e3",
   "metadata": {},
   "outputs": [
    {
     "name": "stdout",
     "output_type": "stream",
     "text": [
      "ball : 1\n",
      "ball : 2\n",
      "ball : 3\n",
      "ball : 4\n",
      "ball : 5\n",
      "ball : 6\n",
      "over : 0\n",
      "\n",
      "ball : 1\n",
      "ball : 2\n",
      "ball : 3\n",
      "ball : 4\n",
      "ball : 5\n",
      "ball : 6\n",
      "over : 1\n",
      "\n",
      "ball : 1\n",
      "ball : 2\n",
      "ball : 3\n",
      "ball : 4\n",
      "ball : 5\n",
      "ball : 6\n",
      "over : 2\n",
      "\n",
      "ball : 1\n",
      "ball : 2\n",
      "ball : 3\n",
      "ball : 4\n",
      "ball : 5\n",
      "ball : 6\n",
      "over : 3\n",
      "\n",
      "ball : 1\n",
      "ball : 2\n",
      "ball : 3\n",
      "ball : 4\n",
      "ball : 5\n",
      "ball : 6\n",
      "over : 4\n",
      "\n"
     ]
    }
   ],
   "source": [
    "over=0\n",
    "while over<5:\n",
    "    ball=0\n",
    "    while ball<6:\n",
    "        ball=ball+1\n",
    "    \n",
    "        print(\"ball :\",ball)\n",
    "    print(\"over :\",over,end=\"\\n\\n\")\n",
    "    over=over+1"
   ]
  },
  {
   "cell_type": "markdown",
   "id": "c8ebb312",
   "metadata": {},
   "source": [
    "### program to print even nums using while loop"
   ]
  },
  {
   "cell_type": "code",
   "execution_count": 13,
   "id": "e9a86ce0",
   "metadata": {},
   "outputs": [
    {
     "name": "stdout",
     "output_type": "stream",
     "text": [
      "15\n",
      "20\n",
      "25\n",
      "30\n",
      "35\n",
      "40\n",
      "45\n",
      "50\n",
      "55\n"
     ]
    }
   ],
   "source": [
    "x=15\n",
    "while x<60:\n",
    "    if x%5==0:\n",
    "        print(x)\n",
    "    x+=1"
   ]
  },
  {
   "cell_type": "markdown",
   "id": "c6aebb66",
   "metadata": {},
   "source": [
    "### For Loop"
   ]
  },
  {
   "cell_type": "code",
   "execution_count": 14,
   "id": "ed3dbdec",
   "metadata": {},
   "outputs": [
    {
     "name": "stdout",
     "output_type": "stream",
     "text": [
      "10\n",
      "20\n",
      "30\n",
      "40\n",
      "50\n",
      "60\n",
      "70\n",
      "80\n"
     ]
    }
   ],
   "source": [
    "a=[10,20,30,40,50,60,70,80]\n",
    "for i in a:\n",
    "    print(i)"
   ]
  },
  {
   "cell_type": "code",
   "execution_count": 15,
   "id": "29e0ba7f",
   "metadata": {},
   "outputs": [
    {
     "name": "stdout",
     "output_type": "stream",
     "text": [
      "value of i is  0\n",
      "56\n",
      "value of i is  1\n",
      "47\n",
      "value of i is  2\n",
      "3\n",
      "value of i is  3\n",
      "41\n",
      "value of i is  4\n",
      "747\n",
      "value of i is  5\n",
      "69\n",
      "value of i is  6\n",
      "7\n",
      "iterating over elements of the list\n",
      "value of j  is  56\n",
      "value of j  is  47\n",
      "value of j  is  3\n",
      "value of j  is  41\n",
      "value of j  is  747\n",
      "value of j  is  69\n",
      "value of j  is  7\n"
     ]
    }
   ],
   "source": [
    "aa=[56,47,3,41,747,69,7]\n",
    "for i in range(0,len(aa)):\n",
    "    print(\"value of i is \",i)\n",
    "    print(aa[i])\n",
    "    \n",
    "    \n",
    "print(\"iterating over elements of the list\")\n",
    "for j in aa:\n",
    "    print(\"value of j  is \",j)"
   ]
  },
  {
   "cell_type": "markdown",
   "id": "977b6cd0",
   "metadata": {},
   "source": [
    "### Range"
   ]
  },
  {
   "cell_type": "code",
   "execution_count": 16,
   "id": "ec269080",
   "metadata": {},
   "outputs": [
    {
     "data": {
      "text/plain": [
       "range(0, 5)"
      ]
     },
     "execution_count": 16,
     "metadata": {},
     "output_type": "execute_result"
    }
   ],
   "source": [
    "range(5)"
   ]
  },
  {
   "cell_type": "code",
   "execution_count": 17,
   "id": "b09ff032",
   "metadata": {},
   "outputs": [
    {
     "data": {
      "text/plain": [
       "[0, 1, 2, 3, 4]"
      ]
     },
     "execution_count": 17,
     "metadata": {},
     "output_type": "execute_result"
    }
   ],
   "source": [
    "list(range(5))"
   ]
  },
  {
   "cell_type": "code",
   "execution_count": 18,
   "id": "15bc9c40",
   "metadata": {},
   "outputs": [
    {
     "data": {
      "text/plain": [
       "[5, 6, 7, 8, 9, 10, 11, 12, 13, 14]"
      ]
     },
     "execution_count": 18,
     "metadata": {},
     "output_type": "execute_result"
    }
   ],
   "source": [
    "list(range(5,15))"
   ]
  },
  {
   "cell_type": "code",
   "execution_count": 19,
   "id": "846eb7bb",
   "metadata": {},
   "outputs": [
    {
     "data": {
      "text/plain": [
       "[5, 10, 15, 20, 25, 30, 35, 40, 45]"
      ]
     },
     "execution_count": 19,
     "metadata": {},
     "output_type": "execute_result"
    }
   ],
   "source": [
    "list(range(5,50,5))"
   ]
  },
  {
   "cell_type": "code",
   "execution_count": 20,
   "id": "6d93fb71",
   "metadata": {},
   "outputs": [
    {
     "data": {
      "text/plain": [
       "[50, 45, 40, 35, 30, 25, 20, 15, 10]"
      ]
     },
     "execution_count": 20,
     "metadata": {},
     "output_type": "execute_result"
    }
   ],
   "source": [
    "list(range(50,5,-5))"
   ]
  },
  {
   "cell_type": "code",
   "execution_count": 21,
   "id": "c9c02f75",
   "metadata": {},
   "outputs": [
    {
     "name": "stdout",
     "output_type": "stream",
     "text": [
      "5\n",
      "10\n",
      "15\n",
      "20\n",
      "25\n",
      "30\n",
      "35\n",
      "40\n",
      "45\n",
      "50\n",
      "45\n",
      "40\n",
      "35\n",
      "30\n",
      "25\n",
      "20\n",
      "15\n",
      "10\n",
      "5\n"
     ]
    }
   ],
   "source": [
    "for x in range(5,50,5):\n",
    "    print(x)\n",
    "for x in range(50,0,-5):\n",
    "    print(x)"
   ]
  },
  {
   "cell_type": "markdown",
   "id": "6da60525",
   "metadata": {},
   "source": [
    "### Using Calculations in (For Loop)"
   ]
  },
  {
   "cell_type": "code",
   "execution_count": 22,
   "id": "69c659d5",
   "metadata": {},
   "outputs": [
    {
     "name": "stdout",
     "output_type": "stream",
     "text": [
      "square of a: 4\n",
      "division of a:  1.0\n",
      "addition of a:  4\n",
      "mutliply of a: 4\n",
      "\n",
      "square of a: 25\n",
      "division of a:  2.5\n",
      "addition of a:  7\n",
      "mutliply of a: 10\n",
      "\n",
      "square of a: 16\n",
      "division of a:  2.0\n",
      "addition of a:  6\n",
      "mutliply of a: 8\n",
      "\n",
      "square of a: 64\n",
      "division of a:  4.0\n",
      "addition of a:  10\n",
      "mutliply of a: 16\n",
      "\n",
      "square of a: 81\n",
      "division of a:  4.5\n",
      "addition of a:  11\n",
      "mutliply of a: 18\n",
      "\n",
      "square of a: 144\n",
      "division of a:  6.0\n",
      "addition of a:  14\n",
      "mutliply of a: 24\n",
      "\n"
     ]
    }
   ],
   "source": [
    "a=[2,5,4,8,9,12]\n",
    "for l in a:\n",
    "    print(\"square of a:\",l**2)\n",
    "    print(\"division of a: \",l/2)\n",
    "    print(\"addition of a: \",l+2)\n",
    "    print(\"mutliply of a:\",l*2,end=\"\\n\\n\")"
   ]
  },
  {
   "cell_type": "markdown",
   "id": "7dfa1a6e",
   "metadata": {},
   "source": [
    "### Using append in (For Loop)"
   ]
  },
  {
   "cell_type": "code",
   "execution_count": 23,
   "id": "522da28a",
   "metadata": {},
   "outputs": [
    {
     "name": "stdout",
     "output_type": "stream",
     "text": [
      "['end']\n"
     ]
    }
   ],
   "source": [
    "b=[47,408,58,609,21,105,7,747]\n",
    "grade=[\"end\"]\n",
    "for i in range(0,len(b)):\n",
    "    if b[i]>=100:\n",
    "        b.append(\"Pass\")\n",
    "    else:\n",
    "        b.append(\"Fail\")\n",
    "print(grade)"
   ]
  },
  {
   "cell_type": "code",
   "execution_count": 24,
   "id": "813b7537",
   "metadata": {},
   "outputs": [
    {
     "name": "stdout",
     "output_type": "stream",
     "text": [
      "[47, 408, 58, 609, 21, 105, 7, 747, 'Fail', 'Pass', 'Fail', 'Pass', 'Fail', 'Pass', 'Fail', 'Pass']\n"
     ]
    }
   ],
   "source": [
    "print(b)"
   ]
  },
  {
   "cell_type": "code",
   "execution_count": 25,
   "id": "cbb2729c",
   "metadata": {},
   "outputs": [
    {
     "name": "stdout",
     "output_type": "stream",
     "text": [
      "['end', 'Fail', 'Pass', 'Fail', 'Pass', 'Fail', 'Pass', 'Fail', 'Pass']\n"
     ]
    }
   ],
   "source": [
    "c=[47,408,58,609,21,105,7,747]\n",
    "grade=[\"end\"]\n",
    "for i in range(0,len(c)):\n",
    "    if c[i]>=100:\n",
    "        grade.append(\"Pass\")\n",
    "    else:\n",
    "        grade.append(\"Fail\")\n",
    "print(grade)"
   ]
  },
  {
   "cell_type": "markdown",
   "id": "fcb260ca",
   "metadata": {},
   "source": [
    "### Making two lists Using (For loop)"
   ]
  },
  {
   "cell_type": "code",
   "execution_count": 26,
   "id": "5939aed4",
   "metadata": {},
   "outputs": [
    {
     "name": "stdout",
     "output_type": "stream",
     "text": [
      "Even list =  [2, 4, 6, 8]\n",
      "Odd list =  [1, 3, 5, 7]\n"
     ]
    }
   ],
   "source": [
    "a=[1,2,3,4,5,6,7,8]\n",
    "b=[]\n",
    "c=[]\n",
    "for i in a:\n",
    "    if i%2==0:\n",
    "        b.append(i)\n",
    "    else:\n",
    "        c.append(i)\n",
    "print(\"Even list = \", b)\n",
    "print(\"Odd list = \", c)"
   ]
  },
  {
   "cell_type": "code",
   "execution_count": 35,
   "id": "9bd013de",
   "metadata": {},
   "outputs": [
    {
     "name": "stdout",
     "output_type": "stream",
     "text": [
      "even  no : [3, 5, 9, 7, 55, 99, 77, 5, 1, 3]\n",
      "odd no : [2, 4, 6, 8, 6, 4]\n"
     ]
    }
   ],
   "source": [
    "a=[2,3,4,5,6,9,7,8,55,99,77,5,6,4,1,3]\n",
    "b=[]\n",
    "c=[]\n",
    "for t in a:\n",
    "    if t%2==0:\n",
    "        b.append(t)\n",
    "    else:\n",
    "        c.append(t)\n",
    "print(\"even  no :\",c)\n",
    "print(\"odd no :\",b)"
   ]
  },
  {
   "cell_type": "code",
   "execution_count": null,
   "id": "e98dd0f0",
   "metadata": {},
   "outputs": [],
   "source": []
  },
  {
   "cell_type": "code",
   "execution_count": null,
   "id": "384523ba",
   "metadata": {},
   "outputs": [],
   "source": []
  },
  {
   "cell_type": "code",
   "execution_count": 36,
   "id": "353dc38c",
   "metadata": {},
   "outputs": [
    {
     "name": "stdout",
     "output_type": "stream",
     "text": [
      "Pass list =  [86, 38, 41, 72, 58]\n",
      "Fail list =  [26, 25, 16]\n"
     ]
    }
   ],
   "source": [
    "a=[86,26,38,41,25,16,72,58]\n",
    "b=[]\n",
    "c=[]\n",
    "for i in a:\n",
    "    if i>=35:\n",
    "        b.append(i)\n",
    "    else:\n",
    "        c.append(i)\n",
    "print(\"Pass list = \", b)\n",
    "print(\"Fail list = \", c)"
   ]
  },
  {
   "cell_type": "markdown",
   "id": "fc1d53c1",
   "metadata": {},
   "source": [
    "### Using append for calculations in (For Loop)"
   ]
  },
  {
   "cell_type": "code",
   "execution_count": 37,
   "id": "b3e08992",
   "metadata": {},
   "outputs": [
    {
     "name": "stdout",
     "output_type": "stream",
     "text": [
      "[2, 1, 4, 4, 6, 9, 8, 16, 10, 25]\n"
     ]
    }
   ],
   "source": [
    "a=[1,2,3,4,5]\n",
    "b=[]\n",
    "for i in a:\n",
    "    b.append(i*2)\n",
    "    b.append(i**2)\n",
    "print(b)"
   ]
  },
  {
   "cell_type": "code",
   "execution_count": 38,
   "id": "114dd895",
   "metadata": {},
   "outputs": [
    {
     "name": "stdout",
     "output_type": "stream",
     "text": [
      "[2, 4, 6, 8, 10]\n"
     ]
    }
   ],
   "source": [
    "a=[1,2,3,4,5]\n",
    "b=[]\n",
    "for i in a:\n",
    "    b.append(i*2)\n",
    "print(b)"
   ]
  },
  {
   "cell_type": "code",
   "execution_count": 39,
   "id": "ff38dc3a",
   "metadata": {},
   "outputs": [
    {
     "name": "stdout",
     "output_type": "stream",
     "text": [
      "[1, 4, 9, 16, 25]\n"
     ]
    }
   ],
   "source": [
    "a=[1,2,3,4,5]\n",
    "b=[]\n",
    "for i in a:\n",
    "    b.append(i**2)\n",
    "print(b)"
   ]
  },
  {
   "cell_type": "code",
   "execution_count": 40,
   "id": "6d94e59a",
   "metadata": {},
   "outputs": [
    {
     "name": "stdout",
     "output_type": "stream",
     "text": [
      "[1, 8, 27, 64, 125]\n"
     ]
    }
   ],
   "source": [
    "a=[1,2,3,4,5]\n",
    "b=[]\n",
    "for i in a:\n",
    "    b.append(i**3)\n",
    "print(b)"
   ]
  },
  {
   "cell_type": "markdown",
   "id": "afdeb887",
   "metadata": {},
   "source": [
    "### For one line or Single statements in (For Loops)"
   ]
  },
  {
   "cell_type": "code",
   "execution_count": 41,
   "id": "edaa76b6",
   "metadata": {},
   "outputs": [
    {
     "name": "stdout",
     "output_type": "stream",
     "text": [
      "[1, 4, 9, 16]\n"
     ]
    }
   ],
   "source": [
    "a=[1,2,3,4]\n",
    "b=[i**2 for i in a]\n",
    "print(b)"
   ]
  },
  {
   "cell_type": "code",
   "execution_count": 42,
   "id": "65d556a6",
   "metadata": {},
   "outputs": [
    {
     "name": "stdout",
     "output_type": "stream",
     "text": [
      "['pass', 'pass', 'pass', 'Fail', 'Fail', 'pass', 'pass']\n"
     ]
    }
   ],
   "source": [
    "a=[47,86,54,25,26,85,91]\n",
    "grade=[\"pass\" if i>=35 else \"Fail\" for i in a]\n",
    "print(grade)"
   ]
  },
  {
   "cell_type": "markdown",
   "id": "0b5b9e59",
   "metadata": {},
   "source": [
    "### Selecting of elements more than 35"
   ]
  },
  {
   "cell_type": "code",
   "execution_count": null,
   "id": "22c7a926",
   "metadata": {},
   "outputs": [],
   "source": []
  },
  {
   "cell_type": "code",
   "execution_count": 43,
   "id": "d769537f",
   "metadata": {},
   "outputs": [
    {
     "name": "stdout",
     "output_type": "stream",
     "text": [
      "Passed Marks:  [47, 86, 54, 85, 91]\n"
     ]
    }
   ],
   "source": [
    "a=[47,86,54,25,26,85,91]\n",
    "Passed=[i for i in a if i>=35]\n",
    "print(\"Passed Marks: \",Passed)"
   ]
  },
  {
   "cell_type": "code",
   "execution_count": 44,
   "id": "379686ea",
   "metadata": {},
   "outputs": [
    {
     "name": "stdout",
     "output_type": "stream",
     "text": [
      "Failed Marks:  [25, 26]\n"
     ]
    }
   ],
   "source": [
    "a=[47,86,54,25,26,85,91]\n",
    "Failed=[i for i in a if i<=35]\n",
    "print(\"Failed Marks: \",Failed)"
   ]
  },
  {
   "cell_type": "markdown",
   "id": "f285329b",
   "metadata": {},
   "source": [
    "### Using dictionaries in (For Loop)"
   ]
  },
  {
   "cell_type": "code",
   "execution_count": 45,
   "id": "bacf0965",
   "metadata": {},
   "outputs": [
    {
     "name": "stdout",
     "output_type": "stream",
     "text": [
      "dict_items([('jp', 47), ('simha', 86), ('tillu', 54), ('club', 25), ('classic', 26), ('vijay', 91)])\n"
     ]
    }
   ],
   "source": [
    "m={\"jp\":47,\"simha\":86,\"tillu\":54,\"club\":25,\"classic\":26,\"vijay\":91}\n",
    "print(m.items())"
   ]
  },
  {
   "cell_type": "code",
   "execution_count": 46,
   "id": "e3c92ee9",
   "metadata": {},
   "outputs": [
    {
     "name": "stdout",
     "output_type": "stream",
     "text": [
      "{'jp': 'pass', 'simha': 'pass', 'tillu': 'pass', 'club': 'fail', 'classic': 'fail', 'vijay': 'pass'}\n"
     ]
    }
   ],
   "source": [
    "m={\"jp\":47,\"simha\":86,\"tillu\":54,\"club\":25,\"classic\":26,\"vijay\":91}\n",
    "t={}\n",
    "for name, marks in m.items():\n",
    "    grade=\"pass\" if marks>=35 else \"fail\"\n",
    "    t[name]=grade\n",
    "print(t)"
   ]
  },
  {
   "cell_type": "code",
   "execution_count": 47,
   "id": "c5d897d3",
   "metadata": {},
   "outputs": [
    {
     "data": {
      "text/plain": [
       "dict_keys(['jp', 'simha', 'tillu', 'club', 'classic', 'vijay'])"
      ]
     },
     "execution_count": 47,
     "metadata": {},
     "output_type": "execute_result"
    }
   ],
   "source": [
    "m.keys()"
   ]
  },
  {
   "cell_type": "code",
   "execution_count": 48,
   "id": "05ca1c26",
   "metadata": {},
   "outputs": [
    {
     "name": "stdout",
     "output_type": "stream",
     "text": [
      "{'jp': 'pass', 'simha': 'pass', 'tillu': 'pass', 'club': 'fail', 'classic': 'fail', 'vijay': 'pass'}\n"
     ]
    }
   ],
   "source": [
    "d={\"jp\":47,\"simha\":86,\"tillu\":54,\"club\":25,\"classic\":26,\"vijay\":91}\n",
    "t={}\n",
    "for key in d.keys():\n",
    "    grade=\"pass\" if d[key]>=35 else \"fail\"\n",
    "    t[key]=grade\n",
    "print(t)"
   ]
  },
  {
   "cell_type": "markdown",
   "id": "677d3187",
   "metadata": {},
   "source": [
    "### Some hands on programs using (For loop)"
   ]
  },
  {
   "cell_type": "code",
   "execution_count": 49,
   "id": "41481b65",
   "metadata": {},
   "outputs": [
    {
     "name": "stdout",
     "output_type": "stream",
     "text": [
      "Enter the marks of student \n",
      "\n"
     ]
    }
   ],
   "source": [
    "enteredinput=input(\"Enter the marks of student \")\n",
    "print(enteredinput)"
   ]
  },
  {
   "cell_type": "code",
   "execution_count": 50,
   "id": "a394867c",
   "metadata": {},
   "outputs": [
    {
     "name": "stdout",
     "output_type": "stream",
     "text": [
      "\n"
     ]
    }
   ],
   "source": [
    "a=enteredinput\n",
    "print(a)"
   ]
  },
  {
   "cell_type": "code",
   "execution_count": 51,
   "id": "74ac05f3",
   "metadata": {},
   "outputs": [
    {
     "name": "stdout",
     "output_type": "stream",
     "text": [
      "['']\n"
     ]
    }
   ],
   "source": [
    "b=a.split(\",\")\n",
    "print(b)"
   ]
  },
  {
   "cell_type": "code",
   "execution_count": 52,
   "id": "8b9b26ad",
   "metadata": {},
   "outputs": [
    {
     "data": {
      "text/plain": [
       "''"
      ]
     },
     "execution_count": 52,
     "metadata": {},
     "output_type": "execute_result"
    }
   ],
   "source": [
    "b.pop()"
   ]
  },
  {
   "cell_type": "code",
   "execution_count": 53,
   "id": "9fda149d",
   "metadata": {},
   "outputs": [
    {
     "data": {
      "text/plain": [
       "[]"
      ]
     },
     "execution_count": 53,
     "metadata": {},
     "output_type": "execute_result"
    }
   ],
   "source": [
    "b"
   ]
  },
  {
   "cell_type": "code",
   "execution_count": 54,
   "id": "13422c32",
   "metadata": {},
   "outputs": [
    {
     "name": "stdout",
     "output_type": "stream",
     "text": [
      "<map object at 0x000001A36B472A60>\n",
      "[]\n"
     ]
    }
   ],
   "source": [
    "b1=map(float,b)\n",
    "print(b1)\n",
    "print(list(b1))"
   ]
  },
  {
   "cell_type": "markdown",
   "id": "4252374f",
   "metadata": {},
   "source": [
    "### problem on Grade list using (for loop) "
   ]
  },
  {
   "cell_type": "code",
   "execution_count": 55,
   "id": "3252e6e0",
   "metadata": {},
   "outputs": [
    {
     "name": "stdout",
     "output_type": "stream",
     "text": [
      "Enter the marks of student\n"
     ]
    },
    {
     "ename": "ValueError",
     "evalue": "could not convert string to float: ''",
     "output_type": "error",
     "traceback": [
      "\u001b[1;31m---------------------------------------------------------------------------\u001b[0m",
      "\u001b[1;31mValueError\u001b[0m                                Traceback (most recent call last)",
      "\u001b[1;32m~\\AppData\\Local\\Temp/ipykernel_12496/3338216305.py\u001b[0m in \u001b[0;36m<module>\u001b[1;34m\u001b[0m\n\u001b[0;32m      1\u001b[0m \u001b[0mmarks\u001b[0m\u001b[1;33m=\u001b[0m\u001b[0minput\u001b[0m\u001b[1;33m(\u001b[0m\u001b[1;34m\"Enter the marks of student\"\u001b[0m\u001b[1;33m)\u001b[0m\u001b[1;33m.\u001b[0m\u001b[0msplit\u001b[0m\u001b[1;33m(\u001b[0m\u001b[1;34m\",\"\u001b[0m\u001b[1;33m)\u001b[0m\u001b[1;33m\u001b[0m\u001b[1;33m\u001b[0m\u001b[0m\n\u001b[1;32m----> 2\u001b[1;33m \u001b[0mmarks\u001b[0m\u001b[1;33m=\u001b[0m\u001b[0mlist\u001b[0m\u001b[1;33m(\u001b[0m\u001b[0mmap\u001b[0m\u001b[1;33m(\u001b[0m\u001b[0mfloat\u001b[0m\u001b[1;33m,\u001b[0m\u001b[0mmarks\u001b[0m\u001b[1;33m)\u001b[0m\u001b[1;33m)\u001b[0m\u001b[1;33m\u001b[0m\u001b[1;33m\u001b[0m\u001b[0m\n\u001b[0m\u001b[0;32m      3\u001b[0m \u001b[0mgrade\u001b[0m\u001b[1;33m=\u001b[0m\u001b[1;33m[\u001b[0m\u001b[1;33m]\u001b[0m\u001b[1;33m\u001b[0m\u001b[1;33m\u001b[0m\u001b[0m\n\u001b[0;32m      4\u001b[0m \u001b[1;32mfor\u001b[0m \u001b[0mmark\u001b[0m \u001b[1;32min\u001b[0m \u001b[0mmarks\u001b[0m\u001b[1;33m:\u001b[0m\u001b[1;33m\u001b[0m\u001b[1;33m\u001b[0m\u001b[0m\n\u001b[0;32m      5\u001b[0m     \u001b[1;32mif\u001b[0m \u001b[1;33m(\u001b[0m\u001b[0mmark\u001b[0m\u001b[1;33m>=\u001b[0m\u001b[1;36m35\u001b[0m\u001b[1;33m)\u001b[0m \u001b[1;33m&\u001b[0m \u001b[1;33m(\u001b[0m\u001b[0mmark\u001b[0m\u001b[1;33m<=\u001b[0m\u001b[1;36m100\u001b[0m\u001b[1;33m)\u001b[0m\u001b[1;33m:\u001b[0m\u001b[1;33m\u001b[0m\u001b[1;33m\u001b[0m\u001b[0m\n",
      "\u001b[1;31mValueError\u001b[0m: could not convert string to float: ''"
     ]
    }
   ],
   "source": [
    "marks=input(\"Enter the marks of student\").split(\",\")\n",
    "marks=list(map(float,marks))\n",
    "grade=[]\n",
    "for mark in marks:\n",
    "    if (mark>=35) & (mark<=100):\n",
    "        if (mark>=35) & (mark<=50):\n",
    "            grade.append(\"D\")\n",
    "        elif (mark>=50) & (mark<=65):\n",
    "            grade.append(\"C\")\n",
    "        elif (mark>=65) & (mark<=75):\n",
    "            grade.append(\"B\")\n",
    "        elif (mark>=75) & (mark<=90):\n",
    "            grade.append(\"A\")\n",
    "        elif (mark>=90) & (mark<=100):\n",
    "            grade.append(\"A+\")\n",
    "        else:\n",
    "            grade.append(\"F\")\n",
    "    elif (mark<0)|(mark>100):\n",
    "        grade.append(\"Error\")\n",
    "    else:\n",
    "        grade.append(\"Fail\")\n",
    "        \n",
    "marks_grade=dict(zip(marks,grade))\n",
    "print(marks_grade)"
   ]
  },
  {
   "cell_type": "markdown",
   "id": "50df2a8f",
   "metadata": {},
   "source": [
    " ## Creating dictionary by zip"
   ]
  },
  {
   "cell_type": "code",
   "execution_count": 56,
   "id": "f55b9480",
   "metadata": {},
   "outputs": [],
   "source": [
    "l1=[\"a\",\"b\",\"c\"]\n",
    "l2=[1,2,3]"
   ]
  },
  {
   "cell_type": "code",
   "execution_count": 57,
   "id": "0837c4da",
   "metadata": {},
   "outputs": [
    {
     "data": {
      "text/plain": [
       "<zip at 0x1a36b37e6c0>"
      ]
     },
     "execution_count": 57,
     "metadata": {},
     "output_type": "execute_result"
    }
   ],
   "source": [
    "zip(l1,l2)"
   ]
  },
  {
   "cell_type": "code",
   "execution_count": null,
   "id": "2414c344",
   "metadata": {},
   "outputs": [],
   "source": [
    "dict(zip(l1,l2))"
   ]
  },
  {
   "cell_type": "markdown",
   "id": "82a7f90b",
   "metadata": {},
   "source": [
    "### another Way"
   ]
  },
  {
   "cell_type": "code",
   "execution_count": null,
   "id": "e77cd5af",
   "metadata": {},
   "outputs": [],
   "source": [
    "print(l1)\n",
    "print(l2)"
   ]
  },
  {
   "cell_type": "code",
   "execution_count": null,
   "id": "c0aee589",
   "metadata": {},
   "outputs": [],
   "source": [
    "dict1={}\n",
    "for i in range(0,len(l1)):\n",
    "    dict1[l1[i]]=l2[i]\n",
    "print(dict1)"
   ]
  },
  {
   "cell_type": "code",
   "execution_count": null,
   "id": "d63c57d5",
   "metadata": {},
   "outputs": [],
   "source": [
    "dict1[\"d\"]=5"
   ]
  },
  {
   "cell_type": "code",
   "execution_count": null,
   "id": "c8e3528b",
   "metadata": {},
   "outputs": [],
   "source": [
    "dict1"
   ]
  },
  {
   "cell_type": "code",
   "execution_count": null,
   "id": "2f55128f",
   "metadata": {},
   "outputs": [],
   "source": [
    "var1=dict1[\"a\"]\n",
    "dict1[\"e\"]=var1\n",
    "del dict1[\"a\"]"
   ]
  },
  {
   "cell_type": "code",
   "execution_count": null,
   "id": "67f94c19",
   "metadata": {},
   "outputs": [],
   "source": [
    "dict1"
   ]
  },
  {
   "cell_type": "code",
   "execution_count": null,
   "id": "4102ec07",
   "metadata": {},
   "outputs": [],
   "source": [
    "dict1[\"j\"]=dict1.pop(\"b\")"
   ]
  },
  {
   "cell_type": "code",
   "execution_count": null,
   "id": "4eca8ac4",
   "metadata": {},
   "outputs": [],
   "source": [
    "dict1"
   ]
  },
  {
   "cell_type": "markdown",
   "id": "97ce2a3d",
   "metadata": {},
   "source": [
    "### without using map"
   ]
  },
  {
   "cell_type": "code",
   "execution_count": null,
   "id": "fdb805bc",
   "metadata": {},
   "outputs": [],
   "source": [
    "l3=[\"2.0\",\"3.5\",\"8.9\"]\n",
    "l5=[]\n",
    "for i in range(0,len(l3)):\n",
    "    l5.append(float(l3[i]))\n",
    "print(l5)"
   ]
  },
  {
   "cell_type": "code",
   "execution_count": null,
   "id": "b4fc3912",
   "metadata": {},
   "outputs": [],
   "source": [
    "for i in range(0,10):\n",
    "    print(\"*\"*i)"
   ]
  },
  {
   "cell_type": "code",
   "execution_count": null,
   "id": "20f0d76d",
   "metadata": {},
   "outputs": [],
   "source": [
    "for i in range(0,10):\n",
    "    print(\"*\"*i,end=\" \")"
   ]
  },
  {
   "cell_type": "code",
   "execution_count": null,
   "id": "705b5753",
   "metadata": {},
   "outputs": [],
   "source": [
    "a=[2,3,5,1,7,8]\n",
    "target=10\n",
    "for i in range(len(a)):\n",
    "    print(\"value of i\",i)\n",
    "    print(\"output of a[i+1:]\",a[i+1:])\n",
    "    for j in a[i+1:]:\n",
    "        print(\"value of j\",j)\n",
    "        if (i+j)==10:\n",
    "            print(i,j)\n",
    "    print(\"***************\")"
   ]
  },
  {
   "cell_type": "code",
   "execution_count": null,
   "id": "65e50b38",
   "metadata": {},
   "outputs": [],
   "source": []
  }
 ],
 "metadata": {
  "kernelspec": {
   "display_name": "Python 3 (ipykernel)",
   "language": "python",
   "name": "python3"
  },
  "language_info": {
   "codemirror_mode": {
    "name": "ipython",
    "version": 3
   },
   "file_extension": ".py",
   "mimetype": "text/x-python",
   "name": "python",
   "nbconvert_exporter": "python",
   "pygments_lexer": "ipython3",
   "version": "3.9.7"
  }
 },
 "nbformat": 4,
 "nbformat_minor": 5
}
