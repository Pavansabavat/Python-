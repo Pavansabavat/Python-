{
 "cells": [
  {
   "cell_type": "code",
   "execution_count": 7,
   "id": "950cf6cb",
   "metadata": {},
   "outputs": [
    {
     "name": "stdout",
     "output_type": "stream",
     "text": [
      "inside the if block\n",
      "7\n",
      "this is outside the if block\n"
     ]
    }
   ],
   "source": [
    "i=7\n",
    "if(i<10):\n",
    "    print('inside the if block')\n",
    "    print(i)\n",
    "print(\"this is outside the if block\")"
   ]
  },
  {
   "cell_type": "code",
   "execution_count": 8,
   "id": "2f2f8e5e",
   "metadata": {},
   "outputs": [
    {
     "name": "stdout",
     "output_type": "stream",
     "text": [
      "this is outside the if block\n"
     ]
    }
   ],
   "source": [
    "i1=15\n",
    "if(i1<10):\n",
    "    print('inside the if block')\n",
    "    print(i1)\n",
    "print(\"this is outside the if block\")"
   ]
  },
  {
   "cell_type": "markdown",
   "id": "9a4e608a",
   "metadata": {},
   "source": [
    "#  operators in IF"
   ]
  },
  {
   "cell_type": "code",
   "execution_count": 1,
   "id": "2f134570",
   "metadata": {},
   "outputs": [
    {
     "name": "stdout",
     "output_type": "stream",
     "text": [
      "88\n",
      "pavan present in list\n"
     ]
    }
   ],
   "source": [
    "a=[11,25,9,88,77]\n",
    "i=88\n",
    "if( i in a):\n",
    "    print(i)\n",
    "print(\"pavan present in list\")\n"
   ]
  },
  {
   "cell_type": "code",
   "execution_count": null,
   "id": "5e7632fc",
   "metadata": {},
   "outputs": [],
   "source": [
    "a=[11,25,9,88,77,]\n",
    "i=89\n",
    "if( i in a):\n",
    "    print(i)\n",
    "print(\"element not present in list\")"
   ]
  },
  {
   "cell_type": "markdown",
   "id": "b380891e",
   "metadata": {},
   "source": [
    "## example"
   ]
  },
  {
   "cell_type": "code",
   "execution_count": 4,
   "id": "2a41274d",
   "metadata": {},
   "outputs": [
    {
     "name": "stdout",
     "output_type": "stream",
     "text": [
      "enter the marks:37\n",
      "result:pass\n"
     ]
    }
   ],
   "source": [
    "cutoffscore=35\n",
    "marksscored=input(\"enter the marks:\")\n",
    "if(int(marksscored)>=cutoffscore):\n",
    "    print(\"result:pass\")"
   ]
  },
  {
   "cell_type": "code",
   "execution_count": 4,
   "id": "4a29c254",
   "metadata": {},
   "outputs": [
    {
     "name": "stdout",
     "output_type": "stream",
     "text": [
      "enter the marks:33\n",
      "result:fail\n"
     ]
    }
   ],
   "source": [
    "cutoffscore=35\n",
    "marksscored=input(\"enter the marks:\")\n",
    "if(int(marksscored)<=cutoffscore):\n",
    "    print(\"result:fail\")"
   ]
  },
  {
   "cell_type": "code",
   "execution_count": 5,
   "id": "a419d750",
   "metadata": {},
   "outputs": [
    {
     "name": "stdout",
     "output_type": "stream",
     "text": [
      "enter the marks:38\n",
      "result:pass\n"
     ]
    }
   ],
   "source": [
    "cutoffscore=35\n",
    "marksscored=input(\"enter the marks:\")\n",
    "if(int(marksscored)>=cutoffscore):\n",
    "    print(\"result:pass\")"
   ]
  },
  {
   "cell_type": "code",
   "execution_count": 1,
   "id": "b8beb050",
   "metadata": {},
   "outputs": [
    {
     "name": "stdout",
     "output_type": "stream",
     "text": [
      "enter the marks:33\n"
     ]
    }
   ],
   "source": [
    "cutoffscore=35\n",
    "marksscored=input(\"enter the marks:\")\n",
    "if(int(marksscored)>=cutoffscore):\n",
    "    print(\"result:pass\")"
   ]
  },
  {
   "cell_type": "markdown",
   "id": "edebd9aa",
   "metadata": {},
   "source": [
    "## if else"
   ]
  },
  {
   "cell_type": "code",
   "execution_count": 2,
   "id": "ffee8110",
   "metadata": {},
   "outputs": [
    {
     "name": "stdout",
     "output_type": "stream",
     "text": [
      "enter the marks:36\n",
      "result:pass\n"
     ]
    }
   ],
   "source": [
    "cutoffscore=35\n",
    "marksscored=input(\"enter the marks:\")\n",
    "if(int(marksscored) >=cutoffscore):\n",
    "    print(\"result:pass\")\n",
    "else:\n",
    "    print(\"resulu:fail\")   \n",
    "    \n",
    "    "
   ]
  },
  {
   "cell_type": "code",
   "execution_count": 3,
   "id": "b4e4d542",
   "metadata": {},
   "outputs": [
    {
     "name": "stdout",
     "output_type": "stream",
     "text": [
      "enter the marks:27\n",
      "resulu:fail\n"
     ]
    }
   ],
   "source": [
    "marksscored=input(\"enter the marks:\")\n",
    "if(int(marksscored) >=cutoffscore):\n",
    "    print(\"result:pass\")\n",
    "else:\n",
    "    print(\"resulu:fail\") "
   ]
  },
  {
   "cell_type": "markdown",
   "id": "0ee45418",
   "metadata": {},
   "source": [
    "# even & odd"
   ]
  },
  {
   "cell_type": "markdown",
   "id": "458e143f",
   "metadata": {},
   "source": [
    "## method 1"
   ]
  },
  {
   "cell_type": "code",
   "execution_count": 6,
   "id": "89f5a706",
   "metadata": {},
   "outputs": [
    {
     "name": "stdout",
     "output_type": "stream",
     "text": [
      "enter a number:12\n",
      "number is even\n"
     ]
    }
   ],
   "source": [
    " "
   ]
  },
  {
   "cell_type": "code",
   "execution_count": 4,
   "id": "658c1f31",
   "metadata": {},
   "outputs": [
    {
     "name": "stdout",
     "output_type": "stream",
     "text": [
      "enter a number:9\n",
      "number is even\n"
     ]
    }
   ],
   "source": [
    "num=int(input(\"enter a number:\"))\n",
    "if num%3==0:\n",
    "    print('number is even')\n",
    "else:\n",
    "    print('number is odd')"
   ]
  },
  {
   "cell_type": "code",
   "execution_count": 10,
   "id": "c5b44e22",
   "metadata": {},
   "outputs": [
    {
     "name": "stdout",
     "output_type": "stream",
     "text": [
      "enter a number:17\n",
      "number is odd\n"
     ]
    }
   ],
   "source": [
    "num=int(input(\"enter a number:\"))\n",
    "if num%9==0:\n",
    "    print('number is even')\n",
    "else:\n",
    "    print('number is odd')"
   ]
  },
  {
   "cell_type": "code",
   "execution_count": 14,
   "id": "eaa8e25c",
   "metadata": {},
   "outputs": [
    {
     "name": "stdout",
     "output_type": "stream",
     "text": [
      "enter a number:98\n",
      "number is odd\n",
      "enter a number:16\n",
      "number is odd\n",
      "enter a number:32\n",
      "number is even\n"
     ]
    }
   ],
   "source": [
    "num=int(input(\"enter a number:\"))\n",
    "if num%9==0:\n",
    "    print('number is even')\n",
    "else:\n",
    "    print('number is odd')\n",
    "num=int(input(\"enter a number:\"))\n",
    "if num%9==0:\n",
    "    print('number is even')\n",
    "else:\n",
    "    print('number is odd')\n",
    "num=int(input(\"enter a number:\"))\n",
    "if num%8==0:\n",
    "    print('number is even')\n",
    "else:\n",
    "    print('number is odd')"
   ]
  },
  {
   "cell_type": "markdown",
   "id": "82ed8e29",
   "metadata": {},
   "source": [
    "## method 2"
   ]
  },
  {
   "cell_type": "code",
   "execution_count": 4,
   "id": "7fe3c51d",
   "metadata": {},
   "outputs": [
    {
     "name": "stdout",
     "output_type": "stream",
     "text": [
      "enter a number:18\n",
      "number is even\n",
      "enter a number:16\n",
      "number is even\n",
      "enter a number:17\n",
      "number is odd\n"
     ]
    }
   ],
   "source": [
    "num=int(input(\"enter a number:\"))\n",
    "print(\"number is even\") if num%2==0 else print(\"number is odd\")\n",
    " \n",
    "num=int(input(\"enter a number:\"))\n",
    "print(\"number is even\") if num%4==0 else print(\"number is odd\")\n",
    "\n",
    "num=int(input(\"enter a number:\"))\n",
    "print(\"number is even\") if num%3==0 else print(\"number is odd\")"
   ]
  },
  {
   "cell_type": "code",
   "execution_count": null,
   "id": "a7a98176",
   "metadata": {},
   "outputs": [],
   "source": [
    "cutoffscore=35\n",
    "distinctioncutoff=75\n",
    "marksscored=int(input(\"enter the marks:\"))\n",
    "if(int(marksscored) < cutoffscore):\n",
    "    print(\"result:fail\")\n",
    "elif(marksscored>=distincutoff):\n",
    "    print('result: pass with distinction')\n",
    "else:\n",
    "        print(\"result:pass\")\n",
    "distinctioncutoff=75\n",
    "marksscored=int(input(\"enter the marks:\"))\n",
    "if(int(marksscored) > cutoffscore):\n",
    "    print(\"result:pass\")\n",
    "elif(marksscored>=distincutoff):\n",
    "    print('result: pass with distinction')\n",
    "else:\n",
    "        print(\"result:pass\")\n",
    "        \n",
    "distinctioncutoff=75\n",
    "marksscored=int(input(\"enter the marks:\"))\n",
    "if(int(marksscored) > cutoffscore):\n",
    "    print(\"result:pass\")\n",
    "elif(marksscored>=distinctioncutoff):\n",
    "    print('result: pass with distinction')\n",
    "else:\n",
    "        print(\"result:pass\")"
   ]
  },
  {
   "cell_type": "markdown",
   "id": "079de903",
   "metadata": {},
   "source": [
    "# nested if & else"
   ]
  },
  {
   "cell_type": "code",
   "execution_count": 3,
   "id": "11be5985",
   "metadata": {},
   "outputs": [
    {
     "name": "stdout",
     "output_type": "stream",
     "text": [
      "enter the marks:45\n",
      "result:pass\n",
      "inside first if\n"
     ]
    }
   ],
   "source": [
    "cutoffscore=35\n",
    "distinctioncutoff=75\n",
    "marksscored=int(input(\"enter the marks:\"))\n",
    "if(marksscored>cutoffscore):\n",
    "    print(\"result:pass\")\n",
    "    if(marksscored>=distinctioncutoff):\n",
    "        print(\"result:pass with distinction\")\n",
    "    print(\"inside first if\")"
   ]
  },
  {
   "cell_type": "code",
   "execution_count": 2,
   "id": "0c4193f7",
   "metadata": {},
   "outputs": [
    {
     "name": "stdout",
     "output_type": "stream",
     "text": [
      "enter the marks:78\n",
      "result:pass\n",
      "result:pass with distinction\n",
      "inside first if\n"
     ]
    }
   ],
   "source": [
    "cutoffscore=35\n",
    "distinctioncutoff=75\n",
    "marksscored=int(input(\"enter the marks:\"))\n",
    "if(marksscored>cutoffscore):\n",
    "    print(\"result:pass\")\n",
    "    if(marksscored>=distinctioncutoff):\n",
    "        print(\"result:pass with distinction\")\n",
    "    print(\"inside first if\")"
   ]
  },
  {
   "cell_type": "code",
   "execution_count": 17,
   "id": "574231c5",
   "metadata": {},
   "outputs": [
    {
     "name": "stdout",
     "output_type": "stream",
     "text": [
      "enter the marks:34\n",
      "result:fail\n",
      "inside first if\n"
     ]
    }
   ],
   "source": [
    "cutoffscore=35\n",
    "distinctioncutoff=75\n",
    "marksscored=int(input(\"enter the marks:\"))\n",
    "if(marksscored<cutoffscore):\n",
    "    print(\"result:fail\")\n",
    "    if(marksscored>=distinctioncutoff):\n",
    "        print(\"result:pass with distinction\")\n",
    "    print(\"inside first if\")"
   ]
  },
  {
   "cell_type": "code",
   "execution_count": 18,
   "id": "dc62e768",
   "metadata": {},
   "outputs": [
    {
     "name": "stdout",
     "output_type": "stream",
     "text": [
      "enter the marks:46\n",
      "result:pass\n",
      "inside first if\n"
     ]
    }
   ],
   "source": [
    "cutoffscore=35\n",
    "distinctioncutoff=75\n",
    "marksscored=int(input(\"enter the marks:\"))\n",
    "if(marksscored>cutoffscore):\n",
    "    print(\"result:pass\")\n",
    "    if(marksscored>=distinctioncutoff):\n",
    "        print(\"result:pass with distinction\")\n",
    "    print(\"inside first if\")"
   ]
  },
  {
   "cell_type": "code",
   "execution_count": 26,
   "id": "de341024",
   "metadata": {},
   "outputs": [
    {
     "name": "stdout",
     "output_type": "stream",
     "text": [
      "enter the marks:33\n"
     ]
    }
   ],
   "source": [
    "cutoffscore=35\n",
    "distinctioncutoff=75\n",
    "marksscored=int(input(\"enter the marks:\"))\n",
    "if(marksscored>cutoffscore):\n",
    "    print(\"result:pass\")\n",
    "    if(marksscored>=distinctioncutoff):\n",
    "        print(\"result:pass with distinction\")\n",
    "    print(\"inside first if\")"
   ]
  },
  {
   "cell_type": "code",
   "execution_count": 34,
   "id": "daab0da5",
   "metadata": {},
   "outputs": [
    {
     "name": "stdout",
     "output_type": "stream",
     "text": [
      "enter the marks:66\n",
      "result:pass\n",
      "result:pass with satisfactory\n"
     ]
    }
   ],
   "source": [
    "cutoffscore=35\n",
    "distinctioncutoff=75\n",
    "satisfactory=65\n",
    "marksscored=int(input(\"enter the marks:\"))\n",
    "if(marksscored>cutoffscore):\n",
    "    print(\"result:pass\")\n",
    "    if(marksscored>=distinctioncutoff):\n",
    "        print(\"result:pass with distinction\")\n",
    "    else:\n",
    "        print(\"result:pass with satisfactory\")"
   ]
  },
  {
   "cell_type": "code",
   "execution_count": 32,
   "id": "60630d6d",
   "metadata": {},
   "outputs": [
    {
     "name": "stdout",
     "output_type": "stream",
     "text": [
      "enter the marks:56\n",
      "result:pass\n",
      "result:pass with satisfactory\n"
     ]
    }
   ],
   "source": [
    "cutoffscore=35\n",
    "distinctioncutoff=75\n",
    "satisfactory=65\n",
    "marksscored=int(input(\"enter the marks:\"))\n",
    "if(marksscored>cutoffscore):\n",
    "    print(\"result:pass\")\n",
    "    if(marksscored>=distinctioncutoff):\n",
    "        print(\"result:pass with distinction\")\n",
    "    else:\n",
    "        print(\"result:pass with satisfactory\")"
   ]
  },
  {
   "cell_type": "code",
   "execution_count": 33,
   "id": "90182260",
   "metadata": {},
   "outputs": [
    {
     "name": "stdout",
     "output_type": "stream",
     "text": [
      "enter the marks:33\n"
     ]
    }
   ],
   "source": [
    "cutoffscore=35\n",
    "distinctioncutoff=75\n",
    "satisfactory=65\n",
    "marksscored=int(input(\"enter the marks:\"))\n",
    "if(marksscored>cutoffscore):\n",
    "    print(\"result:pass\")\n",
    "    if(marksscored>=distinctioncutoff):\n",
    "        print(\"result:pass with distinction\")\n",
    "    else:\n",
    "        print(\"result:pass with satisfactory\")"
   ]
  },
  {
   "cell_type": "code",
   "execution_count": 35,
   "id": "9b228198",
   "metadata": {},
   "outputs": [
    {
     "name": "stdout",
     "output_type": "stream",
     "text": [
      "enter the marks:78\n",
      "result:pass\n",
      "result:pass with distinction\n"
     ]
    }
   ],
   "source": [
    "cutoffscore=35\n",
    "distinctioncutoff=75\n",
    "satisfactory=65\n",
    "marksscored=int(input(\"enter the marks:\"))\n",
    "if(marksscored>cutoffscore):\n",
    "    print(\"result:pass\")\n",
    "    if(marksscored>=distinctioncutoff):\n",
    "        print(\"result:pass with distinction\")\n",
    "    else:\n",
    "        print(\"result:pass with satisfactory\")"
   ]
  },
  {
   "cell_type": "markdown",
   "id": "572e973d",
   "metadata": {},
   "source": [
    "#  problem on taxes"
   ]
  },
  {
   "cell_type": "code",
   "execution_count": 6,
   "id": "76b965d3",
   "metadata": {},
   "outputs": [
    {
     "name": "stdout",
     "output_type": "stream",
     "text": [
      "enter the taxable income11\n",
      "slab is30% and tax payable is3.3\n"
     ]
    }
   ],
   "source": [
    "taxable_income=float(input('enter the taxable income'))\n",
    "#taxable_income=taxable_income/100000\n",
    "if(taxable_income>=10):\n",
    "    print('slab is{} and tax payable is{}'.format('30%',taxable_income*0.3))\n",
    "else:\n",
    "    if(taxable_income<10 and taxable_income>=5):\n",
    "        print('slab is{} and tax payable is{}'.format('20%',taxable_income*0.2))\n",
    "    else:\n",
    "        if(taxable_income<5 and taxable_income>=2.5):\n",
    "             print('slab is {} and tax payable is{}'.format('5%',taxable_income*0.05))\n",
    "        else:\n",
    "             print('slab is{} and tax payable is{}'.format('0%',0))\n",
    "    "
   ]
  },
  {
   "cell_type": "code",
   "execution_count": 6,
   "id": "4b78cc8b",
   "metadata": {},
   "outputs": [
    {
     "name": "stdout",
     "output_type": "stream",
     "text": [
      "enter the taxable income15\n",
      "slab is30% and tax payable is4.5\n"
     ]
    }
   ],
   "source": [
    "taxable_income=float(input('enter the taxable income'))\n",
    "# taxable_income=taxable_income/100000\n",
    "if(taxable_income>=10):\n",
    "    print('slab is{} and tax payable is{}'.format('30%',taxable_income*0.3))\n",
    "else:\n",
    "    if(taxable_income<10 and taxable_income>=5):\n",
    "        print('slab is{} and tax payable is{}'.format('20%',taxable_income*0.2))\n",
    "    else:\n",
    "        if(taxable_income<5 and taxable_income>=2.5):\n",
    "             print('slab is {} and tax payable is{}'.format('5%',taxable_income*0.05))\n",
    "        else:\n",
    "             print('slab is{} and tax payable is{}'.format('0%',0))\n",
    "    "
   ]
  },
  {
   "cell_type": "code",
   "execution_count": 5,
   "id": "6bd78839",
   "metadata": {},
   "outputs": [
    {
     "name": "stdout",
     "output_type": "stream",
     "text": [
      "enter the taxable income11\n",
      "slab is30% and tax payable is3.3\n"
     ]
    }
   ],
   "source": [
    "taxable_income=float(input('enter the taxable income'))\n",
    "# taxable_income=taxable_income/100000\n",
    "if(taxable_income>=10):\n",
    "    print('slab is{} and tax payable is{}'.format('30%',taxable_income*0.3))\n",
    "else:\n",
    "    if(taxable_income<10 and taxable_income>=5):\n",
    "        print('slab is{} and tax payable is{}'.format('20%',taxable_income*0.2))\n",
    "    else:\n",
    "        if(taxable_income<5 and taxable_income>=2.5):\n",
    "             print('slab is {} and tax payable is{}'.format('gjj5%',taxable_income*0.05))\n",
    "        else:\n",
    "             print('slab is{} and tax payable is{}'.format('0%',0))"
   ]
  },
  {
   "cell_type": "code",
   "execution_count": 10,
   "id": "d6195ca3",
   "metadata": {},
   "outputs": [
    {
     "name": "stdout",
     "output_type": "stream",
     "text": [
      "enter the taxable income5.7\n",
      "slab is20%and tax payable is 1.1400000000000001\n"
     ]
    }
   ],
   "source": [
    "taxable_income=float(input(\"enter the taxable income\"))\n",
    "# taxable_income=taxable_income/100000\n",
    "if(taxable_income>=10):\n",
    "    print('slab is{} and taxable payable is{}'.format('30%',taxable_income*0.3))\n",
    "else:\n",
    "    if(taxable_income<10 and taxable_income>=5):\n",
    "        print('slab is{}and tax payable is {}'.format('20%', taxable_income*0.2))\n",
    "    else:\n",
    "        if(taxable_income>5 and taxable_income>=2.5):\n",
    "            print('slab is{} and tax payable is {}'.format('10%',taxable_income*0.05))\n",
    "        else:\n",
    "            print('slab is {} and tax payable is{}'.formart('0%',0))\n"
   ]
  },
  {
   "cell_type": "code",
   "execution_count": null,
   "id": "60b3953d",
   "metadata": {},
   "outputs": [],
   "source": []
  }
 ],
 "metadata": {
  "kernelspec": {
   "display_name": "Python 3 (ipykernel)",
   "language": "python",
   "name": "python3"
  },
  "language_info": {
   "codemirror_mode": {
    "name": "ipython",
    "version": 3
   },
   "file_extension": ".py",
   "mimetype": "text/x-python",
   "name": "python",
   "nbconvert_exporter": "python",
   "pygments_lexer": "ipython3",
   "version": "3.9.7"
  }
 },
 "nbformat": 4,
 "nbformat_minor": 5
}
