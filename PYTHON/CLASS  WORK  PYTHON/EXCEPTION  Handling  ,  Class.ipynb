{
 "cells": [
  {
   "cell_type": "markdown",
   "id": "7df7d8b0",
   "metadata": {},
   "source": [
    "## EXCEPTION HANDLING"
   ]
  },
  {
   "cell_type": "markdown",
   "id": "fb9306fa",
   "metadata": {},
   "source": [
    "### zero division error    while it is   not divided by 0"
   ]
  },
  {
   "cell_type": "code",
   "execution_count": 1,
   "id": "8d9b9ec8",
   "metadata": {},
   "outputs": [
    {
     "name": "stdout",
     "output_type": "stream",
     "text": [
      "ener the second  number 0\n",
      "your entered value is getting zero\n"
     ]
    }
   ],
   "source": [
    "a=2\n",
    "b=int(input(\"ener the second  number \"))\n",
    "try:\n",
    "    c=a/b\n",
    "    print(c)\n",
    "except ZeroDivisionError:\n",
    "    print(\"your entered value is getting zero\")\n"
   ]
  },
  {
   "cell_type": "code",
   "execution_count": 3,
   "id": "a8bba77c",
   "metadata": {},
   "outputs": [
    {
     "name": "stdout",
     "output_type": "stream",
     "text": [
      "enter a integer  0\n"
     ]
    },
    {
     "ename": "ZeroDivisionError",
     "evalue": "division by zero",
     "output_type": "error",
     "traceback": [
      "\u001b[1;31m---------------------------------------------------------------------------\u001b[0m",
      "\u001b[1;31mZeroDivisionError\u001b[0m                         Traceback (most recent call last)",
      "\u001b[1;32m~\\AppData\\Local\\Temp/ipykernel_10116/3605298242.py\u001b[0m in \u001b[0;36m<module>\u001b[1;34m\u001b[0m\n\u001b[0;32m      1\u001b[0m \u001b[0ma\u001b[0m\u001b[1;33m=\u001b[0m\u001b[1;36m2\u001b[0m\u001b[1;33m\u001b[0m\u001b[1;33m\u001b[0m\u001b[0m\n\u001b[0;32m      2\u001b[0m \u001b[0mb\u001b[0m\u001b[1;33m=\u001b[0m\u001b[0mint\u001b[0m\u001b[1;33m(\u001b[0m\u001b[0minput\u001b[0m\u001b[1;33m(\u001b[0m\u001b[1;34m\"enter a integer  \"\u001b[0m\u001b[1;33m)\u001b[0m\u001b[1;33m)\u001b[0m\u001b[1;33m\u001b[0m\u001b[1;33m\u001b[0m\u001b[0m\n\u001b[1;32m----> 3\u001b[1;33m \u001b[0mc\u001b[0m\u001b[1;33m=\u001b[0m\u001b[0ma\u001b[0m\u001b[1;33m/\u001b[0m\u001b[0mb\u001b[0m\u001b[1;33m\u001b[0m\u001b[1;33m\u001b[0m\u001b[0m\n\u001b[0m\u001b[0;32m      4\u001b[0m \u001b[0mprint\u001b[0m\u001b[1;33m(\u001b[0m\u001b[0mc\u001b[0m\u001b[1;33m)\u001b[0m\u001b[1;33m\u001b[0m\u001b[1;33m\u001b[0m\u001b[0m\n",
      "\u001b[1;31mZeroDivisionError\u001b[0m: division by zero"
     ]
    }
   ],
   "source": [
    "a=2\n",
    "b=int(input(\"enter a integer  \"))\n",
    "    c=a/b\n",
    "    print(c)"
   ]
  },
  {
   "cell_type": "code",
   "execution_count": 9,
   "id": "0f4f290a",
   "metadata": {},
   "outputs": [],
   "source": [
    "a=4\n",
    "if(a<3):\n",
    "    print(a)"
   ]
  },
  {
   "cell_type": "code",
   "execution_count": 4,
   "id": "1487a95e",
   "metadata": {},
   "outputs": [
    {
     "ename": "SyntaxError",
     "evalue": "invalid syntax (Temp/ipykernel_8624/389164902.py, line 2)",
     "output_type": "error",
     "traceback": [
      "\u001b[1;36m  File \u001b[1;32m\"C:\\Users\\DELL\\AppData\\Local\\Temp/ipykernel_8624/389164902.py\"\u001b[1;36m, line \u001b[1;32m2\u001b[0m\n\u001b[1;33m    if(a<3)\u001b[0m\n\u001b[1;37m           ^\u001b[0m\n\u001b[1;31mSyntaxError\u001b[0m\u001b[1;31m:\u001b[0m invalid syntax\n"
     ]
    }
   ],
   "source": [
    "a=2\n",
    "if(a<3)\n",
    "    print(a)"
   ]
  },
  {
   "cell_type": "code",
   "execution_count": 26,
   "id": "03c95bba",
   "metadata": {},
   "outputs": [
    {
     "name": "stdout",
     "output_type": "stream",
     "text": [
      "the entry is a\n",
      "oops! <class 'ValueError'> occured.\n",
      "next entry\n",
      "\n",
      "the entry is 2\n",
      "the reciprocal of 2 is 0.5\n"
     ]
    }
   ],
   "source": [
    "import sys\n",
    "randomlist=[\"a\",2,\"5.2\"]\n",
    "for entry in randomlist:\n",
    "    try:\n",
    "        print(\"the entry is\",entry)\n",
    "        r = 1/int(entry)\n",
    "        break\n",
    "    except:\n",
    "        print(\"oops!\",sys.exc_info()[0],\"occured.\")\n",
    "        print(\"next entry\")\n",
    "        print()\n",
    "print(\"the reciprocal of\",entry,\"is\",r)"
   ]
  },
  {
   "cell_type": "code",
   "execution_count": 24,
   "id": "aacec090",
   "metadata": {},
   "outputs": [
    {
     "name": "stdout",
     "output_type": "stream",
     "text": [
      "the entry is a\n",
      "oops! <class 'ValueError'> occured.\n",
      "next entry\n",
      "\n",
      "the entry is 2\n",
      "the reciprocal of 2 is 0.5\n",
      "the entry is 1.5\n",
      "oops! <class 'ValueError'> occured.\n",
      "next entry\n",
      "\n",
      "the entry is 0\n",
      "oops! <class 'ZeroDivisionError'> occured.\n",
      "next entry\n",
      "\n"
     ]
    }
   ],
   "source": [
    "import sys\n",
    "randomlist=[\"a\",2,\"1.5\",0]\n",
    "for entry in randomlist:\n",
    "    try:\n",
    "        print(\"the entry is\",entry)\n",
    "        r = 1/int(entry)\n",
    "        print(\"the reciprocal of\",entry,\"is\",r)\n",
    "        pass\n",
    "    except:\n",
    "        print(\"oops!\",sys.exc_info()[0],\"occured.\")\n",
    "        print(\"next entry\")\n",
    "        print()\n",
    "        \n"
   ]
  },
  {
   "cell_type": "code",
   "execution_count": 16,
   "id": "934461f0",
   "metadata": {},
   "outputs": [
    {
     "name": "stdout",
     "output_type": "stream",
     "text": [
      "the entry is a\n",
      "oops! <class 'ValueError'> occured.\n",
      "\n",
      "next entry\n",
      "the entry is 2\n",
      "the reciprocal of 2 is 0.5\n",
      "the entry is 1.5\n",
      "oops! <class 'ValueError'> occured.\n",
      "\n",
      "next entry\n",
      "the entry is 0\n",
      "oops! <class 'ZeroDivisionError'> occured.\n",
      "\n",
      "next entry\n",
      "\n"
     ]
    }
   ],
   "source": [
    "import sys\n",
    "randomlist=[\"a\",2,\"1.5\",0]\n",
    "for entry in randomlist:\n",
    "    try:\n",
    "        print(\"the entry is\",entry)\n",
    "        r = 1/int(entry)\n",
    "        print(\"the reciprocal of\",entry,\"is\",r)\n",
    "    except:\n",
    "        print(\"oops!\",sys.exc_info()[0],\"occured.\")\n",
    "        print()\n",
    "        print(\"next entry\")\n",
    "    \n",
    "print()"
   ]
  },
  {
   "cell_type": "code",
   "execution_count": 4,
   "id": "69c53d4d",
   "metadata": {},
   "outputs": [
    {
     "name": "stdout",
     "output_type": "stream",
     "text": [
      "a value is not acceptable\n",
      "0.25\n",
      "0 value is not acceptable\n",
      "1.5 value is not acceptable\n",
      "0.16666666666666666\n"
     ]
    }
   ],
   "source": [
    "def function(value):\n",
    "    \n",
    "    if (value==0):\n",
    "        return False\n",
    "    elif((type(value)== str) or (type(value)==float)):\n",
    "        return False\n",
    "    \n",
    "    else:\n",
    "        return True\n",
    "    \n",
    "randomlist=['a',4,0,'1.5',6]\n",
    "for entry in randomlist:\n",
    "    if(function(entry)):\n",
    "        r=1/(int(entry))\n",
    "        print(r)\n",
    "    else:\n",
    "        print(\"{} value is not acceptable\".format(entry)) \n",
    "        \n",
    "        "
   ]
  },
  {
   "cell_type": "markdown",
   "id": "07bf4351",
   "metadata": {},
   "source": [
    "### Raising  exceptions"
   ]
  },
  {
   "cell_type": "markdown",
   "id": "e714231d",
   "metadata": {},
   "source": [
    "## chemistry Ph  examples\n"
   ]
  },
  {
   "cell_type": "code",
   "execution_count": 5,
   "id": "26be4234",
   "metadata": {},
   "outputs": [
    {
     "name": "stdout",
     "output_type": "stream",
     "text": [
      "value in range of 0 - 14 is 17\n",
      "enter value is invalid \n"
     ]
    }
   ],
   "source": [
    "value=float(input(\"value in range of 0 - 14 is \"))\n",
    "try:\n",
    "    if ((value < 0) or (value> 14 )):\n",
    "        raise ValueError(\"enter value is invalid \")\n",
    "    else:\n",
    "        print(\"Ph value is valid is :\",value) \n",
    "except ValueError as  ph:\n",
    "    print(ph)\n",
    "       \n",
    "        "
   ]
  },
  {
   "cell_type": "code",
   "execution_count": 6,
   "id": "ddd5361c",
   "metadata": {},
   "outputs": [
    {
     "name": "stdout",
     "output_type": "stream",
     "text": [
      "value in range of 0 - 14 is 8\n",
      "Ph value is valid is : 8.0\n"
     ]
    }
   ],
   "source": [
    "value=float(input(\"value in range of 0 - 14 is \"))\n",
    "try:\n",
    "    if ((value < 0) or (value> 14 )):\n",
    "        raise ValueError(\"enter value is invalid \")\n",
    "    else:\n",
    "        print(\"Ph value is valid is :\",value) \n",
    "except ValueError as  ph:\n",
    "    print(ph)\n",
    "       "
   ]
  },
  {
   "cell_type": "markdown",
   "id": "4e77792b",
   "metadata": {},
   "source": [
    "## contine day 2"
   ]
  },
  {
   "cell_type": "markdown",
   "id": "226ea0b4",
   "metadata": {},
   "source": [
    "#### in eval  we cannot give  a & b   as input  \n",
    " ##### it is used for mathematical  calculation"
   ]
  },
  {
   "cell_type": "code",
   "execution_count": 6,
   "id": "e33a7109",
   "metadata": {},
   "outputs": [
    {
     "name": "stdout",
     "output_type": "stream",
     "text": [
      "enter two numbers ,seperated by some operator:10+21\n",
      "31\n"
     ]
    }
   ],
   "source": [
    "tr1=eval(input(\"enter two numbers ,seperated by some operator:\"))\n",
    "print(tr1)"
   ]
  },
  {
   "cell_type": "code",
   "execution_count": 1,
   "id": "ba190d68",
   "metadata": {},
   "outputs": [
    {
     "name": "stdout",
     "output_type": "stream",
     "text": [
      "enter two numbers ,seperated by some operator:10+10\n",
      "10+10\n"
     ]
    }
   ],
   "source": [
    "tr2=(input(\"enter two numbers ,seperated by some operator:\"))\n",
    "print(tr2)"
   ]
  },
  {
   "cell_type": "code",
   "execution_count": 7,
   "id": "ce3d97a6",
   "metadata": {},
   "outputs": [
    {
     "name": "stdout",
     "output_type": "stream",
     "text": [
      "enter two numbers ,seperated by some operator:10,20\n",
      "(10, 20)\n"
     ]
    }
   ],
   "source": [
    "tr1=eval(input(\"enter two numbers ,seperated by some operator:\"))\n",
    "print(tr1)"
   ]
  },
  {
   "cell_type": "code",
   "execution_count": 7,
   "id": "ddae68c7",
   "metadata": {},
   "outputs": [
    {
     "name": "stdout",
     "output_type": "stream",
     "text": [
      "enter two numbers ,seperated by some operator:3x+6\n",
      "3x+6\n",
      "<class 'str'>\n"
     ]
    }
   ],
   "source": [
    "tr2=(input(\"enter two numbers ,seperated by some operator:\"))\n",
    "print(tr2)\n",
    "print(type(tr2))"
   ]
  },
  {
   "cell_type": "code",
   "execution_count": 9,
   "id": "acb4c683",
   "metadata": {},
   "outputs": [
    {
     "name": "stdout",
     "output_type": "stream",
     "text": [
      "enter the two numbers,seperated by comma:10,30\n",
      "str1 10,30\n",
      "['10', '30']\n",
      "num1 10\n",
      "num2 30\n"
     ]
    }
   ],
   "source": [
    "str1=input(\"enter the two numbers,seperated by comma:\")\n",
    "print(\"str1\",str1)\n",
    "strlist=str1.split(\",\")\n",
    "print(strlist)\n",
    "num1=strlist[0]\n",
    "num2=strlist[1]\n",
    "print(\"num1\",num1)\n",
    "print(\"num2\",num2)"
   ]
  },
  {
   "cell_type": "code",
   "execution_count": 12,
   "id": "2453db2b",
   "metadata": {},
   "outputs": [
    {
     "name": "stdout",
     "output_type": "stream",
     "text": [
      "enter the two numbers,seperated by comma:10,20\n",
      "10\n",
      "20\n"
     ]
    }
   ],
   "source": [
    "x,y=eval(input(\"enter the two numbers,seperated by comma:\"))\n",
    "print(x)\n",
    "print(y)"
   ]
  },
  {
   "cell_type": "code",
   "execution_count": 7,
   "id": "3964ab71",
   "metadata": {},
   "outputs": [
    {
     "name": "stdout",
     "output_type": "stream",
     "text": [
      "enter the two numbers,seperated btwn comma:10,2\n",
      "result is 5.0\n",
      "no exceptions\n",
      "whatever circumstances,i will be executed\n"
     ]
    }
   ],
   "source": [
    "try:\n",
    "    num1,num2=eval(input(\"enter the two numbers,seperated btwn comma:\"))\n",
    "    result=num1/num2\n",
    "    print(\"result is\",result)\n",
    "except ZeroDivisionError:\n",
    "    print(\"Division by zero!\")\n",
    "except SyntaxError:\n",
    "    print(\"A comma may be missing in the input\")\n",
    "except:\n",
    "    print(\"something wrong in the input\")\n",
    "else:\n",
    "    print(\"no exceptions\")\n",
    "finally:\n",
    "    print(\"whatever circumstances,i will be executed\")"
   ]
  },
  {
   "cell_type": "code",
   "execution_count": 5,
   "id": "def11e49",
   "metadata": {},
   "outputs": [
    {
     "name": "stdout",
     "output_type": "stream",
     "text": [
      "enter the two numbers:10,12\n",
      "result is 0.8333333333333334\n",
      "no exceptions\n",
      "whatever circumstances,i will be executed\n"
     ]
    }
   ],
   "source": [
    "try:\n",
    "    num1,num2=eval(input(\"enter the two numbers:\"))\n",
    "    result=num1/num2\n",
    "    print(\"result is\",result)\n",
    "except ZeroDivisionError:\n",
    "    num2+=1\n",
    "    result=num1/num2\n",
    "    print(\"result is\",result)\n",
    "    print(\"Division by zero!\")\n",
    "except SyntaxError:\n",
    "    print(\"A comma may be missing in the input\")\n",
    "except:\n",
    "    print(\"something wrong in the input\")\n",
    "else:\n",
    "    print(\"no exceptions\")\n",
    "finally:\n",
    "    print(\"whatever circumstances,i will be executed\")"
   ]
  },
  {
   "cell_type": "markdown",
   "id": "d3be8c6c",
   "metadata": {},
   "source": [
    "## class exception"
   ]
  },
  {
   "cell_type": "code",
   "execution_count": 20,
   "id": "57b3f206",
   "metadata": {},
   "outputs": [],
   "source": [
    "class Dog:\n",
    "    pass"
   ]
  },
  {
   "cell_type": "code",
   "execution_count": 21,
   "id": "b2e8f535",
   "metadata": {},
   "outputs": [],
   "source": [
    "dog1=Dog()\n",
    "dog2=Dog()\n",
    "dog3=Dog()\n",
    "dog4=Dog()\n",
    "dog5=Dog()"
   ]
  },
  {
   "cell_type": "code",
   "execution_count": 33,
   "id": "a1a999e3",
   "metadata": {},
   "outputs": [
    {
     "name": "stdout",
     "output_type": "stream",
     "text": [
      "mammal\n",
      "dog\n",
      "jp is a mammal\n",
      "narsimha is a dog\n"
     ]
    }
   ],
   "source": [
    " class Dog:\n",
    "        # a simple class\n",
    "        # attribute\n",
    "        attr1='mammal'\n",
    "        attr2=\"dog\"\n",
    "         \n",
    "        # a sample method\n",
    "        def fun(self):\n",
    "            print(\"jp is a\",self.attr1)\n",
    "            print(\"narsimha is a\",self.attr2)\n",
    "            \n",
    "# driver code\n",
    "# object instantation\n",
    "rodger=Dog()\n",
    "rex=Dog()\n",
    "trixy=Dog()\n",
    "\n",
    "print(rodger.attr1)\n",
    "print(rex.attr2)\n",
    "trixy.fun()\n"
   ]
  },
  {
   "cell_type": "markdown",
   "id": "0c920cfb",
   "metadata": {},
   "source": [
    "###  init function is used to differentiate names\n",
    "   ###  always  init has to be two underscores"
   ]
  },
  {
   "cell_type": "code",
   "execution_count": 50,
   "id": "67f9f6bc",
   "metadata": {},
   "outputs": [
    {
     "name": "stdout",
     "output_type": "stream",
     "text": [
      "p1: pavan 27 5.5\n",
      "p2: jp 24 5.3\n",
      "p3: narasimha 25 5.7\n",
      "updated_name : nikhil\n",
      "age_increment: 26\n",
      "pavan : tillu\n"
     ]
    }
   ],
   "source": [
    "class Person:\n",
    "    pavan=\"tillu\"\n",
    "    #init method or constructor\n",
    "    def __init__(self,name,age,height):\n",
    "        self.name=name\n",
    "        self.age=age\n",
    "        self.height=height\n",
    "        \n",
    "    def say_hi(self):\n",
    "        print(\"hello my name is\",self.name)\n",
    "        \n",
    "    def name_changed(self):\n",
    "        self.name=\"nikhil\"\n",
    "        \n",
    "    def age_increment(self):\n",
    "        self.age+=1\n",
    "        \n",
    "            \n",
    "p1=Person(\"pavan\",27,5.5)\n",
    "p2=Person(\"jp\",24,5.3)\n",
    "p3=Person('narasimha',25,5.7)\n",
    "\n",
    "print(\"p1:\",p1.name,p1.age,p1.height)\n",
    "print(\"p2:\",p2.name,p2.age,p2.height)\n",
    "print(\"p3:\",p3.name,p3.age,p3.height)\n",
    "\n",
    "p2.name_changed()\n",
    "print(\"updated_name :\",p2.name)\n",
    "p3.age_increment()\n",
    "print(\"age_increment:\",p3.age)\n",
    "print(\"pavan :\",p1.pavan)"
   ]
  },
  {
   "cell_type": "markdown",
   "id": "6b1c1876",
   "metadata": {},
   "source": [
    "#### another way to update"
   ]
  },
  {
   "cell_type": "markdown",
   "id": "6dadfaab",
   "metadata": {},
   "source": [
    "init  function is used to give a variables"
   ]
  },
  {
   "cell_type": "code",
   "execution_count": 39,
   "id": "07ccdb81",
   "metadata": {},
   "outputs": [
    {
     "name": "stdout",
     "output_type": "stream",
     "text": [
      "oldname: pavan\n",
      "new name: psyco\n",
      "p1 psyco 27 5.5\n",
      "p2 jp 24 5.3\n",
      "p3 narasimha 25 5.7\n",
      "age_increment: 26\n",
      "specie: sapiens\n"
     ]
    }
   ],
   "source": [
    "class Person:\n",
    "    \n",
    "    #class variable\n",
    "    specie=\"sapiens\"\n",
    "    #init method or constructor\n",
    "    def __init__(self,name,age,height):\n",
    "        self.name=name\n",
    "        self.age=age\n",
    "        self.height=height\n",
    "        \n",
    "    def say_hi(self):\n",
    "        print(\"hello my name is\",self.name)\n",
    "        \n",
    "    def name_changed(self,new_name):\n",
    "        self.name=new_name\n",
    "        \n",
    "    def age_increment(self):\n",
    "        self.age+=1\n",
    "        \n",
    "            \n",
    "p1=Person(\"pavan\",27,5.5)\n",
    "p2=Person(\"jp\",24,5.3)\n",
    "p3=Person('narasimha',25,5.7)\n",
    "\n",
    "print(\"oldname:\",p1.name)\n",
    "p1.name_changed(\"psyco\")\n",
    "print(\"new name:\",p1.name)\n",
    "\n",
    "print(\"p1\",p1.name,p1.age,p1.height)\n",
    "print(\"p2\",p2.name,p2.age,p2.height)\n",
    "print(\"p3\",p3.name,p3.age,p3.height)\n",
    "p3.age_increment()\n",
    "print(\"age_increment:\",p3.age)\n",
    "\n",
    "print(\"specie:\",p1.specie)"
   ]
  },
  {
   "cell_type": "markdown",
   "id": "1171ce43",
   "metadata": {},
   "source": [
    "###  continue   day 3"
   ]
  },
  {
   "cell_type": "code",
   "execution_count": 14,
   "id": "8d8f7a4c",
   "metadata": {},
   "outputs": [],
   "source": [
    " class  student_info:\n",
    "        def __init__ (self,name,age,marks):\n",
    "            self.name=name\n",
    "            self.age=age\n",
    "            self.marks=marks\n",
    "        def gradeGrade(self):\n",
    "            print(\"self.marks\",self.marks)\n",
    "            if((self.marks <0)  and (self.marks > 100)):\n",
    "                print(\"invalid score\")\n",
    "                grade=None\n",
    "            elif((self.marks>95)  and (self.marks<=100)):\n",
    "                grade=(\"A\")\n",
    "            elif((self.marks >85)  and (self.marks<=95)):\n",
    "                grade=(\"B\")\n",
    "            elif((self.marks >70)  and (self.marks<85)):\n",
    "                grade=(\"C\")\n",
    "            elif((self.marks >50)  and (self.marks <=70)):\n",
    "                grade=(\"D\")\n",
    "            else:\n",
    "                grade=\"fail\"\n",
    "            return grade"
   ]
  },
  {
   "cell_type": "code",
   "execution_count": 18,
   "id": "94062ffc",
   "metadata": {},
   "outputs": [
    {
     "name": "stdout",
     "output_type": "stream",
     "text": [
      "24\n",
      "self.marks 50\n",
      "fail\n"
     ]
    }
   ],
   "source": [
    "s1=student_info(\"pavan\",24,50)\n",
    "print(s1.age)\n",
    "print(s1.gradeGrade())"
   ]
  },
  {
   "cell_type": "code",
   "execution_count": 50,
   "id": "110314ab",
   "metadata": {},
   "outputs": [],
   "source": [
    "import random\n",
    "class  student_info:\n",
    "        def __init__ (self,name,age,marks):\n",
    "            self.name=name\n",
    "            self.age=age\n",
    "            self.marks=marks\n",
    "        def gradeGrade(self):\n",
    "            print(\"self.marks\",self.marks)\n",
    "            if((self.marks <0)   and (self.marks > 100)):\n",
    "                print(\"invalid score\")\n",
    "                grade=None\n",
    "            elif((self.marks>95)  and (self.marks<=100)):\n",
    "                grade=\"A\"\n",
    "            elif((self.marks >85)  and (self.marks<=95)):\n",
    "                grade=\"B\"\n",
    "            elif((self.marks >70)  and (self.marks<85)):\n",
    "                grade=\"C\"\n",
    "            elif((self.marks >50)  and (self.marks <=70)):\n",
    "                grade=\"D\"\n",
    "            else:\n",
    "                grade=\"fail\"\n",
    "            return grade\n",
    "        def modifyMarks(self):\n",
    "            self.marks=random.randint(0,100)\n",
    "            "
   ]
  },
  {
   "cell_type": "code",
   "execution_count": 51,
   "id": "94dfb779",
   "metadata": {},
   "outputs": [
    {
     "name": "stdout",
     "output_type": "stream",
     "text": [
      "25\n",
      "self.marks 77\n",
      "before update C\n",
      "marks_attined 10\n"
     ]
    }
   ],
   "source": [
    "s1=student_info(\"pavan\",25,77)\n",
    "print(s1.age)\n",
    "print(\"before update\",s1.gradeGrade())\n",
    "s1.modifyMarks()\n",
    "print(\"marks_attined\",s1.marks)"
   ]
  },
  {
   "cell_type": "markdown",
   "id": "f30110ca",
   "metadata": {},
   "source": [
    "####  new xample with +5 marks"
   ]
  },
  {
   "cell_type": "code",
   "execution_count": 67,
   "id": "c45959c5",
   "metadata": {},
   "outputs": [],
   "source": [
    "class  student_info:\n",
    "        def __init__ (self,name,age,marks):\n",
    "            self.name=name\n",
    "            self.age=age\n",
    "            self.marks=marks\n",
    "        def gradeGrade(self):\n",
    "            print(\"self.marks\",self.marks)\n",
    "            if((self.marks <0)   and (self.marks > 100)):\n",
    "                print(\"invalid score\")\n",
    "                grade=None\n",
    "            elif((self.marks>95)  and (self.marks<=100)):\n",
    "                grade=\"A\"\n",
    "            elif((self.marks >85)  and (self.marks<=95)):\n",
    "                grade=\"B\"\n",
    "            elif((self.marks >70)  and (self.marks<85)):\n",
    "                grade=\"C\"\n",
    "            elif((self.marks >50)  and (self.marks <=70)):\n",
    "                grade=\"D\"\n",
    "            else:\n",
    "                grade=\"fail\"\n",
    "            return grade\n",
    "        \n",
    "        def updated_Marks(self):\n",
    "            if (self.marks >=50) and (self.marks<=70):\n",
    "                self.marks=self.marks+5"
   ]
  },
  {
   "cell_type": "code",
   "execution_count": 71,
   "id": "194cadda",
   "metadata": {},
   "outputs": [
    {
     "name": "stdout",
     "output_type": "stream",
     "text": [
      "pavan\n",
      "71\n"
     ]
    }
   ],
   "source": [
    "s1=student_info(\"pavan\",25,66)\n",
    "print(s1.name)\n",
    "s1.updated_Marks()\n",
    "print(s1.marks)"
   ]
  },
  {
   "cell_type": "markdown",
   "id": "af07e93a",
   "metadata": {},
   "source": [
    "##  Inheritance in Python\n",
    " it is reusable"
   ]
  },
  {
   "cell_type": "code",
   "execution_count": 79,
   "id": "f2bfc56b",
   "metadata": {},
   "outputs": [
    {
     "name": "stdout",
     "output_type": "stream",
     "text": [
      "pavan False\n",
      "nayak True\n"
     ]
    }
   ],
   "source": [
    "class person (object):\n",
    "    \n",
    "    def __init__(self,name):\n",
    "        self.name=name\n",
    "        \n",
    "            \n",
    "    def getName(self):\n",
    "        \n",
    "        return self.name\n",
    "        \n",
    "    def isEmployee(self):\n",
    "        return False\n",
    "    \n",
    "    \n",
    "class Employee(person): \n",
    "    \n",
    "    def isEmployee(self):\n",
    "        return True\n",
    "    \n",
    "emp=person(\"pavan\")\n",
    "print(emp.getName(),emp.isEmployee())\n",
    "\n",
    "emp1=Employee(\"nayak\")\n",
    "print(emp1.getName(),emp1.isEmployee())"
   ]
  },
  {
   "cell_type": "code",
   "execution_count": 19,
   "id": "8e390ca2",
   "metadata": {},
   "outputs": [],
   "source": [
    "\n",
    "class person(object):\n",
    "    \n",
    "    def __init__(self,name,age):\n",
    "        self.name=name\n",
    "        self.age=age\n",
    "        \n",
    "            \n",
    "    def getName(self):\n",
    "        \n",
    "        return self.name\n",
    "        \n",
    "    def isEmployee(self):\n",
    "        return False\n",
    "    def incrementage(self):\n",
    "        self.age +=1\n",
    "        \n",
    "    def ModifyName(self,newName):\n",
    "    \n",
    "        self.name=newName\n",
    "    def Employee2(self):\n",
    "        return False\n",
    "    \n",
    "    \n",
    "class Employee(person): \n",
    "    def __init__(self,name,age,designation,salary):\n",
    "        self.designation=designation\n",
    "        self.salary=salary\n",
    "        person.__init__(self,name,age)\n",
    "    \n",
    "    def isEmployee(self):\n",
    "        return True\n",
    "    \n",
    "class Employee2(person):\n",
    "    def __init__(self,name,designation,salary):\n",
    "        self.designation=designation\n",
    "        self.salary=salary\n",
    "        person.__init__(self,name,age)"
   ]
  },
  {
   "cell_type": "code",
   "execution_count": 20,
   "id": "08a37247",
   "metadata": {},
   "outputs": [
    {
     "name": "stdout",
     "output_type": "stream",
     "text": [
      "pavan True developer 8 lakhs\n",
      "tillu True python 9lpa\n"
     ]
    }
   ],
   "source": [
    "\n",
    "emp1=Employee(\"pavan\",35,\"developer\",\"8 lakhs\")\n",
    "print(emp1.getName(),emp1.isEmployee(),emp1.designation,emp1.salary)\n",
    "emp2=Employee(\"tillu\",36,\"python\",\"9lpa\")\n",
    "print(emp2.getName(),emp2.isEmployee(),emp2.designation,emp2.salary)"
   ]
  },
  {
   "cell_type": "code",
   "execution_count": null,
   "id": "88893696",
   "metadata": {},
   "outputs": [],
   "source": []
  },
  {
   "cell_type": "code",
   "execution_count": null,
   "id": "52bbcfcb",
   "metadata": {},
   "outputs": [],
   "source": []
  }
 ],
 "metadata": {
  "kernelspec": {
   "display_name": "Python 3 (ipykernel)",
   "language": "python",
   "name": "python3"
  },
  "language_info": {
   "codemirror_mode": {
    "name": "ipython",
    "version": 3
   },
   "file_extension": ".py",
   "mimetype": "text/x-python",
   "name": "python",
   "nbconvert_exporter": "python",
   "pygments_lexer": "ipython3",
   "version": "3.9.7"
  }
 },
 "nbformat": 4,
 "nbformat_minor": 5
}
