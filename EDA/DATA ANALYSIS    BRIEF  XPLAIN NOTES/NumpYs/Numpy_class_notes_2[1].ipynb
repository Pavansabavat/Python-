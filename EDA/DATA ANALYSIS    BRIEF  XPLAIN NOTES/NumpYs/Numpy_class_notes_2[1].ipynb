{
 "cells": [
  {
   "cell_type": "markdown",
   "metadata": {},
   "source": [
    "Python containers such as lists and dicts are versatile, allowing for the storage of heterogeneous elements. However, each value in these containers is its own object and reserves its own space in memory. The Python variable just points to the locations in memory. This method is not as efficient for storing data of the same type. A NumPy array reserves a space in memory and stores data of the size -in bits- side by side, which is more efficient and faster when you need to obtain the values."
   ]
  },
  {
   "cell_type": "code",
   "execution_count": 1,
   "metadata": {},
   "outputs": [],
   "source": [
    "import time"
   ]
  },
  {
   "cell_type": "code",
   "execution_count": null,
   "metadata": {},
   "outputs": [],
   "source": [
    "time.time()"
   ]
  },
  {
   "cell_type": "code",
   "execution_count": null,
   "metadata": {},
   "outputs": [],
   "source": [
    "l1 = [1,2,3]\n",
    "l2 = [4,5,6]\n",
    "result=[x+y for x,y in zip(l1,l2)]\n",
    "print(result)"
   ]
  },
  {
   "cell_type": "code",
   "execution_count": 2,
   "metadata": {},
   "outputs": [
    {
     "name": "stdout",
     "output_type": "stream",
     "text": [
      "11.232092380523682\n"
     ]
    }
   ],
   "source": [
    "\n",
    " \n",
    "test = 100000000\n",
    " \n",
    "list1= range(test)\n",
    "list2= range(test)\n",
    "\n",
    "#print(\"list1\",list)\n",
    "start= time.time()\n",
    "#print(\"start time\",start)\n",
    "\n",
    "result=[x+y for x,y in zip(list1,list2)]\n",
    "end_time = time.time()\n",
    "print((end_time-start))"
   ]
  },
  {
   "cell_type": "code",
   "execution_count": 3,
   "metadata": {},
   "outputs": [],
   "source": [
    "import numpy as np"
   ]
  },
  {
   "cell_type": "code",
   "execution_count": 4,
   "metadata": {},
   "outputs": [
    {
     "name": "stdout",
     "output_type": "stream",
     "text": [
      "1.1280100345611572\n"
     ]
    }
   ],
   "source": [
    "array1= np.arange(test)\n",
    "array2=np.arange(test)\n",
    "\n",
    "start=time.time()\n",
    "\n",
    "result= array1+array2\n",
    "\n",
    "print((time.time()-start))"
   ]
  },
  {
   "cell_type": "markdown",
   "metadata": {},
   "source": [
    "NumPy arrays are:   \n",
    "more compact, especially when there’s more than one dimension   \n",
    "faster than lists when the operation can be vectorized   \n",
    "slower than lists when you append elements to the end   \n",
    "usually homogeneous: can only work fast with elements of one type   \n",
    "\n",
    "\n",
    "NumPy arrays cannot grow the way a Python list does: No space is reserved at the end of the array to facilitate quick appends.   So it is a common practice to either grow a Python list and convert it to a NumPy array when it is ready or to preallocate the necessary space with np.zeros or np.empty  \n",
    "\n",
    "To create an ndarray, we can pass a list, tuple or any array-like object into the array() method, and it will be converted into an ndarray:   \n",
    "\n",
    "Nested Array: are arrays that have arrays as their elements.   \n",
    "\n",
    "In NumPy, dimensions are called axes. "
   ]
  },
  {
   "cell_type": "code",
   "execution_count": null,
   "metadata": {},
   "outputs": [],
   "source": [
    "arr = np.array([[1, 2, 3, 4, 5],[1, 2, 3, 4, 5]])\n",
    "print(arr.ndim)\n",
    "print(arr.size)\n",
    "print(arr.shape)"
   ]
  },
  {
   "cell_type": "code",
   "execution_count": 6,
   "metadata": {},
   "outputs": [],
   "source": [
    "list1 = [1,2.0,\"a\",(1,2,3),[4,5,6]]"
   ]
  },
  {
   "cell_type": "code",
   "execution_count": 7,
   "metadata": {},
   "outputs": [
    {
     "name": "stdout",
     "output_type": "stream",
     "text": [
      "[1, 2.0, 'a', (1, 2, 3), [4, 5, 6]]\n"
     ]
    }
   ],
   "source": [
    "print(list1)"
   ]
  },
  {
   "cell_type": "code",
   "execution_count": 8,
   "metadata": {},
   "outputs": [
    {
     "name": "stdout",
     "output_type": "stream",
     "text": [
      "numpy array n1 [1. 2. 3.]\n",
      "numpy array n2 ['1' '2' 'a']\n"
     ]
    }
   ],
   "source": [
    "l1 = [1,2,3.0]\n",
    "l2 = [1,2,\"a\"]\n",
    "n1 = np.array(l1)\n",
    "print(\"numpy array n1\",n1)\n",
    "n2 = np.array(l2)\n",
    "print(\"numpy array n2\",n2)"
   ]
  },
  {
   "cell_type": "code",
   "execution_count": 9,
   "metadata": {},
   "outputs": [
    {
     "data": {
      "text/plain": [
       "dtype('<U11')"
      ]
     },
     "execution_count": 9,
     "metadata": {},
     "output_type": "execute_result"
    }
   ],
   "source": [
    "n2.dtype"
   ]
  },
  {
   "cell_type": "code",
   "execution_count": 10,
   "metadata": {},
   "outputs": [],
   "source": [
    "n3 = np.array(l1,dtype ='<U11' )"
   ]
  },
  {
   "cell_type": "code",
   "execution_count": 11,
   "metadata": {},
   "outputs": [
    {
     "name": "stdout",
     "output_type": "stream",
     "text": [
      "['1' '2' '3.0']\n"
     ]
    }
   ],
   "source": [
    "print(n3)"
   ]
  },
  {
   "cell_type": "code",
   "execution_count": 12,
   "metadata": {},
   "outputs": [],
   "source": [
    "n4 = np.array(l1,dtype = \"int\")"
   ]
  },
  {
   "cell_type": "code",
   "execution_count": 13,
   "metadata": {},
   "outputs": [
    {
     "data": {
      "text/plain": [
       "array([1, 2, 3])"
      ]
     },
     "execution_count": 13,
     "metadata": {},
     "output_type": "execute_result"
    }
   ],
   "source": [
    "n4"
   ]
  },
  {
   "cell_type": "code",
   "execution_count": 14,
   "metadata": {},
   "outputs": [],
   "source": [
    "n5 = np.array([[1,2,3],[4,5,6],[7,8,9]])"
   ]
  },
  {
   "cell_type": "code",
   "execution_count": 15,
   "metadata": {},
   "outputs": [
    {
     "data": {
      "text/plain": [
       "array([[1, 2, 3],\n",
       "       [4, 5, 6],\n",
       "       [7, 8, 9]])"
      ]
     },
     "execution_count": 15,
     "metadata": {},
     "output_type": "execute_result"
    }
   ],
   "source": [
    "n5"
   ]
  },
  {
   "cell_type": "code",
   "execution_count": 16,
   "metadata": {},
   "outputs": [
    {
     "name": "stdout",
     "output_type": "stream",
     "text": [
      "n5[0][2] 3\n",
      "n5[1][1] 5\n",
      "n5[2][0] 7\n"
     ]
    }
   ],
   "source": [
    "print(\"n5[0][2]\",n5[0][2])\n",
    "print(\"n5[1][1]\",n5[1][1])\n",
    "print(\"n5[2][0]\",n5[2][0])"
   ]
  },
  {
   "cell_type": "code",
   "execution_count": null,
   "metadata": {},
   "outputs": [],
   "source": []
  }
 ],
 "metadata": {
  "kernelspec": {
   "display_name": "Python 3 (ipykernel)",
   "language": "python",
   "name": "python3"
  },
  "language_info": {
   "codemirror_mode": {
    "name": "ipython",
    "version": 3
   },
   "file_extension": ".py",
   "mimetype": "text/x-python",
   "name": "python",
   "nbconvert_exporter": "python",
   "pygments_lexer": "ipython3",
   "version": "3.9.7"
  }
 },
 "nbformat": 4,
 "nbformat_minor": 2
}
