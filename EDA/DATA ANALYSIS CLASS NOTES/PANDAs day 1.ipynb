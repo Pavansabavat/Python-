{
 "cells": [
  {
   "cell_type": "markdown",
   "id": "683d2835",
   "metadata": {},
   "source": [
    "## Data frame"
   ]
  },
  {
   "cell_type": "code",
   "execution_count": 2,
   "id": "76205287",
   "metadata": {},
   "outputs": [],
   "source": [
    "import pandas as pd"
   ]
  },
  {
   "cell_type": "code",
   "execution_count": 3,
   "id": "42abb98f",
   "metadata": {},
   "outputs": [
    {
     "data": {
      "text/plain": [
       "pandas.core.frame.DataFrame"
      ]
     },
     "execution_count": 3,
     "metadata": {},
     "output_type": "execute_result"
    }
   ],
   "source": [
    "df=pd.DataFrame()\n",
    "type(df)"
   ]
  },
  {
   "cell_type": "code",
   "execution_count": 4,
   "id": "09d150f5",
   "metadata": {},
   "outputs": [
    {
     "data": {
      "text/html": [
       "<div>\n",
       "<style scoped>\n",
       "    .dataframe tbody tr th:only-of-type {\n",
       "        vertical-align: middle;\n",
       "    }\n",
       "\n",
       "    .dataframe tbody tr th {\n",
       "        vertical-align: top;\n",
       "    }\n",
       "\n",
       "    .dataframe thead th {\n",
       "        text-align: right;\n",
       "    }\n",
       "</style>\n",
       "<table border=\"1\" class=\"dataframe\">\n",
       "  <thead>\n",
       "    <tr style=\"text-align: right;\">\n",
       "      <th></th>\n",
       "      <th>0</th>\n",
       "    </tr>\n",
       "  </thead>\n",
       "  <tbody>\n",
       "    <tr>\n",
       "      <th>0</th>\n",
       "      <td>100</td>\n",
       "    </tr>\n",
       "    <tr>\n",
       "      <th>1</th>\n",
       "      <td>120</td>\n",
       "    </tr>\n",
       "    <tr>\n",
       "      <th>2</th>\n",
       "      <td>130</td>\n",
       "    </tr>\n",
       "    <tr>\n",
       "      <th>3</th>\n",
       "      <td>140</td>\n",
       "    </tr>\n",
       "    <tr>\n",
       "      <th>4</th>\n",
       "      <td>150</td>\n",
       "    </tr>\n",
       "    <tr>\n",
       "      <th>5</th>\n",
       "      <td>160</td>\n",
       "    </tr>\n",
       "  </tbody>\n",
       "</table>\n",
       "</div>"
      ],
      "text/plain": [
       "     0\n",
       "0  100\n",
       "1  120\n",
       "2  130\n",
       "3  140\n",
       "4  150\n",
       "5  160"
      ]
     },
     "execution_count": 4,
     "metadata": {},
     "output_type": "execute_result"
    }
   ],
   "source": [
    "ids=[100,120,130,140,150,160]\n",
    "df=pd.DataFrame(ids)\n",
    "df"
   ]
  },
  {
   "cell_type": "code",
   "execution_count": 5,
   "id": "5c010d87",
   "metadata": {},
   "outputs": [
    {
     "data": {
      "text/html": [
       "<div>\n",
       "<style scoped>\n",
       "    .dataframe tbody tr th:only-of-type {\n",
       "        vertical-align: middle;\n",
       "    }\n",
       "\n",
       "    .dataframe tbody tr th {\n",
       "        vertical-align: top;\n",
       "    }\n",
       "\n",
       "    .dataframe thead th {\n",
       "        text-align: right;\n",
       "    }\n",
       "</style>\n",
       "<table border=\"1\" class=\"dataframe\">\n",
       "  <thead>\n",
       "    <tr style=\"text-align: right;\">\n",
       "      <th></th>\n",
       "      <th>ids</th>\n",
       "    </tr>\n",
       "  </thead>\n",
       "  <tbody>\n",
       "    <tr>\n",
       "      <th>0</th>\n",
       "      <td>100</td>\n",
       "    </tr>\n",
       "    <tr>\n",
       "      <th>1</th>\n",
       "      <td>120</td>\n",
       "    </tr>\n",
       "    <tr>\n",
       "      <th>2</th>\n",
       "      <td>130</td>\n",
       "    </tr>\n",
       "    <tr>\n",
       "      <th>3</th>\n",
       "      <td>140</td>\n",
       "    </tr>\n",
       "    <tr>\n",
       "      <th>4</th>\n",
       "      <td>150</td>\n",
       "    </tr>\n",
       "    <tr>\n",
       "      <th>5</th>\n",
       "      <td>160</td>\n",
       "    </tr>\n",
       "  </tbody>\n",
       "</table>\n",
       "</div>"
      ],
      "text/plain": [
       "   ids\n",
       "0  100\n",
       "1  120\n",
       "2  130\n",
       "3  140\n",
       "4  150\n",
       "5  160"
      ]
     },
     "execution_count": 5,
     "metadata": {},
     "output_type": "execute_result"
    }
   ],
   "source": [
    "ids=[100,120,130,140,150,160]\n",
    "df=pd.DataFrame(ids,columns=[\"ids\"])\n",
    "df"
   ]
  },
  {
   "cell_type": "code",
   "execution_count": 7,
   "id": "8392ea03",
   "metadata": {},
   "outputs": [
    {
     "data": {
      "text/html": [
       "<div>\n",
       "<style scoped>\n",
       "    .dataframe tbody tr th:only-of-type {\n",
       "        vertical-align: middle;\n",
       "    }\n",
       "\n",
       "    .dataframe tbody tr th {\n",
       "        vertical-align: top;\n",
       "    }\n",
       "\n",
       "    .dataframe thead th {\n",
       "        text-align: right;\n",
       "    }\n",
       "</style>\n",
       "<table border=\"1\" class=\"dataframe\">\n",
       "  <thead>\n",
       "    <tr style=\"text-align: right;\">\n",
       "      <th></th>\n",
       "      <th>names</th>\n",
       "      <th>marks</th>\n",
       "    </tr>\n",
       "  </thead>\n",
       "  <tbody>\n",
       "    <tr>\n",
       "      <th>0</th>\n",
       "      <td>pavan</td>\n",
       "      <td>100</td>\n",
       "    </tr>\n",
       "    <tr>\n",
       "      <th>1</th>\n",
       "      <td>kumar</td>\n",
       "      <td>120</td>\n",
       "    </tr>\n",
       "    <tr>\n",
       "      <th>2</th>\n",
       "      <td>jp</td>\n",
       "      <td>130</td>\n",
       "    </tr>\n",
       "    <tr>\n",
       "      <th>3</th>\n",
       "      <td>simha</td>\n",
       "      <td>140</td>\n",
       "    </tr>\n",
       "    <tr>\n",
       "      <th>4</th>\n",
       "      <td>nikhil</td>\n",
       "      <td>150</td>\n",
       "    </tr>\n",
       "    <tr>\n",
       "      <th>5</th>\n",
       "      <td>tillu</td>\n",
       "      <td>160</td>\n",
       "    </tr>\n",
       "  </tbody>\n",
       "</table>\n",
       "</div>"
      ],
      "text/plain": [
       "    names  marks\n",
       "0   pavan    100\n",
       "1   kumar    120\n",
       "2      jp    130\n",
       "3   simha    140\n",
       "4  nikhil    150\n",
       "5   tillu    160"
      ]
     },
     "execution_count": 7,
     "metadata": {},
     "output_type": "execute_result"
    }
   ],
   "source": [
    "marks=[100,120,130,140,150,160]\n",
    "names=[\"pavan\",\"kumar\",\"jp\",\"simha\",\"nikhil\",\"tillu\"]\n",
    "\n",
    "df=pd.DataFrame(list(zip(names,marks)),\n",
    "               columns=[\"names\",\"marks\"])\n",
    "df"
   ]
  },
  {
   "cell_type": "code",
   "execution_count": 9,
   "id": "75807d58",
   "metadata": {},
   "outputs": [
    {
     "data": {
      "text/html": [
       "<div>\n",
       "<style scoped>\n",
       "    .dataframe tbody tr th:only-of-type {\n",
       "        vertical-align: middle;\n",
       "    }\n",
       "\n",
       "    .dataframe tbody tr th {\n",
       "        vertical-align: top;\n",
       "    }\n",
       "\n",
       "    .dataframe thead th {\n",
       "        text-align: right;\n",
       "    }\n",
       "</style>\n",
       "<table border=\"1\" class=\"dataframe\">\n",
       "  <thead>\n",
       "    <tr style=\"text-align: right;\">\n",
       "      <th></th>\n",
       "      <th>names</th>\n",
       "      <th>marks</th>\n",
       "      <th>grades</th>\n",
       "    </tr>\n",
       "  </thead>\n",
       "  <tbody>\n",
       "    <tr>\n",
       "      <th>0</th>\n",
       "      <td>pavan</td>\n",
       "      <td>100</td>\n",
       "      <td>a</td>\n",
       "    </tr>\n",
       "    <tr>\n",
       "      <th>1</th>\n",
       "      <td>kumar</td>\n",
       "      <td>120</td>\n",
       "      <td>b</td>\n",
       "    </tr>\n",
       "    <tr>\n",
       "      <th>2</th>\n",
       "      <td>jp</td>\n",
       "      <td>130</td>\n",
       "      <td>c</td>\n",
       "    </tr>\n",
       "    <tr>\n",
       "      <th>3</th>\n",
       "      <td>simha</td>\n",
       "      <td>140</td>\n",
       "      <td>d</td>\n",
       "    </tr>\n",
       "    <tr>\n",
       "      <th>4</th>\n",
       "      <td>nikhil</td>\n",
       "      <td>150</td>\n",
       "      <td>e</td>\n",
       "    </tr>\n",
       "    <tr>\n",
       "      <th>5</th>\n",
       "      <td>tillu</td>\n",
       "      <td>160</td>\n",
       "      <td>f</td>\n",
       "    </tr>\n",
       "  </tbody>\n",
       "</table>\n",
       "</div>"
      ],
      "text/plain": [
       "    names  marks grades\n",
       "0   pavan    100      a\n",
       "1   kumar    120      b\n",
       "2      jp    130      c\n",
       "3   simha    140      d\n",
       "4  nikhil    150      e\n",
       "5   tillu    160      f"
      ]
     },
     "execution_count": 9,
     "metadata": {},
     "output_type": "execute_result"
    }
   ],
   "source": [
    "marks=[100,120,130,140,150,160]\n",
    "names=[\"pavan\",\"kumar\",\"jp\",\"simha\",\"nikhil\",\"tillu\"]\n",
    "grades=[\"a\",\"b\",\"c\",\"d\",\"e\",\"f\"]\n",
    "\n",
    "df=pd.DataFrame(list(zip(names,marks,grades)),\n",
    "               columns=[\"names\",\"marks\",\"grades\"])\n",
    "df"
   ]
  },
  {
   "cell_type": "markdown",
   "id": "4fe4f24d",
   "metadata": {},
   "source": [
    "## create data drom dictionary"
   ]
  },
  {
   "cell_type": "code",
   "execution_count": 5,
   "id": "121bb2bf",
   "metadata": {},
   "outputs": [
    {
     "data": {
      "text/html": [
       "<div>\n",
       "<style scoped>\n",
       "    .dataframe tbody tr th:only-of-type {\n",
       "        vertical-align: middle;\n",
       "    }\n",
       "\n",
       "    .dataframe tbody tr th {\n",
       "        vertical-align: top;\n",
       "    }\n",
       "\n",
       "    .dataframe thead th {\n",
       "        text-align: right;\n",
       "    }\n",
       "</style>\n",
       "<table border=\"1\" class=\"dataframe\">\n",
       "  <thead>\n",
       "    <tr style=\"text-align: right;\">\n",
       "      <th></th>\n",
       "      <th>names</th>\n",
       "      <th>marks</th>\n",
       "    </tr>\n",
       "  </thead>\n",
       "  <tbody>\n",
       "    <tr>\n",
       "      <th>0</th>\n",
       "      <td>pavan</td>\n",
       "      <td>100</td>\n",
       "    </tr>\n",
       "    <tr>\n",
       "      <th>1</th>\n",
       "      <td>kumar</td>\n",
       "      <td>120</td>\n",
       "    </tr>\n",
       "    <tr>\n",
       "      <th>2</th>\n",
       "      <td>jp</td>\n",
       "      <td>130</td>\n",
       "    </tr>\n",
       "    <tr>\n",
       "      <th>3</th>\n",
       "      <td>narsimha</td>\n",
       "      <td>140</td>\n",
       "    </tr>\n",
       "    <tr>\n",
       "      <th>4</th>\n",
       "      <td>nikhil</td>\n",
       "      <td>150</td>\n",
       "    </tr>\n",
       "    <tr>\n",
       "      <th>5</th>\n",
       "      <td>tillu</td>\n",
       "      <td>160</td>\n",
       "    </tr>\n",
       "  </tbody>\n",
       "</table>\n",
       "</div>"
      ],
      "text/plain": [
       "      names  marks\n",
       "0     pavan    100\n",
       "1     kumar    120\n",
       "2        jp    130\n",
       "3  narsimha    140\n",
       "4    nikhil    150\n",
       "5     tillu    160"
      ]
     },
     "execution_count": 5,
     "metadata": {},
     "output_type": "execute_result"
    }
   ],
   "source": [
    "dict1={\"names\":[\"pavan\",\"kumar\",\"jp\",\"narsimha\",\"nikhil\",\"tillu\"],\"marks\":[100,120,130,140,150,160]}\n",
    "df=pd.DataFrame(dict1)\n",
    "df"
   ]
  },
  {
   "cell_type": "code",
   "execution_count": 6,
   "id": "6d88ddf9",
   "metadata": {},
   "outputs": [
    {
     "data": {
      "text/plain": [
       "0       pavan\n",
       "1       kumar\n",
       "2          jp\n",
       "3    narsimha\n",
       "4      nikhil\n",
       "5       tillu\n",
       "Name: names, dtype: object"
      ]
     },
     "execution_count": 6,
     "metadata": {},
     "output_type": "execute_result"
    }
   ],
   "source": [
    "df[\"names\"]"
   ]
  },
  {
   "cell_type": "code",
   "execution_count": 7,
   "id": "5e31ba76",
   "metadata": {},
   "outputs": [
    {
     "data": {
      "text/html": [
       "<div>\n",
       "<style scoped>\n",
       "    .dataframe tbody tr th:only-of-type {\n",
       "        vertical-align: middle;\n",
       "    }\n",
       "\n",
       "    .dataframe tbody tr th {\n",
       "        vertical-align: top;\n",
       "    }\n",
       "\n",
       "    .dataframe thead th {\n",
       "        text-align: right;\n",
       "    }\n",
       "</style>\n",
       "<table border=\"1\" class=\"dataframe\">\n",
       "  <thead>\n",
       "    <tr style=\"text-align: right;\">\n",
       "      <th></th>\n",
       "      <th>names</th>\n",
       "      <th>marks</th>\n",
       "      <th>grades</th>\n",
       "      <th>address</th>\n",
       "    </tr>\n",
       "  </thead>\n",
       "  <tbody>\n",
       "    <tr>\n",
       "      <th>0</th>\n",
       "      <td>pavan</td>\n",
       "      <td>100</td>\n",
       "      <td>a</td>\n",
       "      <td>hyd</td>\n",
       "    </tr>\n",
       "    <tr>\n",
       "      <th>1</th>\n",
       "      <td>kumar</td>\n",
       "      <td>120</td>\n",
       "      <td>b</td>\n",
       "      <td>nzb</td>\n",
       "    </tr>\n",
       "    <tr>\n",
       "      <th>2</th>\n",
       "      <td>jp</td>\n",
       "      <td>130</td>\n",
       "      <td>c</td>\n",
       "      <td>wrgl</td>\n",
       "    </tr>\n",
       "    <tr>\n",
       "      <th>3</th>\n",
       "      <td>narsimha</td>\n",
       "      <td>140</td>\n",
       "      <td>d</td>\n",
       "      <td>mnchl</td>\n",
       "    </tr>\n",
       "    <tr>\n",
       "      <th>4</th>\n",
       "      <td>nikhil</td>\n",
       "      <td>150</td>\n",
       "      <td>e</td>\n",
       "      <td>hyd2</td>\n",
       "    </tr>\n",
       "    <tr>\n",
       "      <th>5</th>\n",
       "      <td>tillu</td>\n",
       "      <td>160</td>\n",
       "      <td>f</td>\n",
       "      <td>tanda</td>\n",
       "    </tr>\n",
       "  </tbody>\n",
       "</table>\n",
       "</div>"
      ],
      "text/plain": [
       "      names  marks grades address\n",
       "0     pavan    100      a     hyd\n",
       "1     kumar    120      b     nzb\n",
       "2        jp    130      c    wrgl\n",
       "3  narsimha    140      d   mnchl\n",
       "4    nikhil    150      e    hyd2\n",
       "5     tillu    160      f   tanda"
      ]
     },
     "execution_count": 7,
     "metadata": {},
     "output_type": "execute_result"
    }
   ],
   "source": [
    "marks=[100,120,130,140,150,160]\n",
    "names=[\"pavan\",\"kumar\",\"jp\",\"narsimha\",\"nikhil\",\"tillu\"]\n",
    "grades=[\"a\",\"b\",\"c\",\"d\",\"e\",\"f\"]\n",
    "address=[\"hyd\",\"nzb\",\"wrgl\",\"mnchl\",\"hyd2\",\"tanda\"]\n",
    "\n",
    "\n",
    "df=pd.DataFrame(list(zip(names,marks,grades,address)),\n",
    "               columns=[\"names\",\"marks\",\"grades\",\"address\"])\n",
    "df"
   ]
  },
  {
   "cell_type": "code",
   "execution_count": 9,
   "id": "914e8a53",
   "metadata": {},
   "outputs": [
    {
     "name": "stdout",
     "output_type": "stream",
     "text": [
      "column names 0       pavan\n",
      "1       kumar\n",
      "2          jp\n",
      "3    narsimha\n",
      "4      nikhil\n",
      "5       tillu\n",
      "Name: names, dtype: object\n"
     ]
    }
   ],
   "source": [
    "print(\"column names\",df[\"names\"])"
   ]
  },
  {
   "cell_type": "markdown",
   "id": "991a3983",
   "metadata": {},
   "source": [
    "### converting list of tuples to data frame"
   ]
  },
  {
   "cell_type": "code",
   "execution_count": 44,
   "id": "26b96073",
   "metadata": {},
   "outputs": [
    {
     "data": {
      "text/html": [
       "<div>\n",
       "<style scoped>\n",
       "    .dataframe tbody tr th:only-of-type {\n",
       "        vertical-align: middle;\n",
       "    }\n",
       "\n",
       "    .dataframe tbody tr th {\n",
       "        vertical-align: top;\n",
       "    }\n",
       "\n",
       "    .dataframe thead th {\n",
       "        text-align: right;\n",
       "    }\n",
       "</style>\n",
       "<table border=\"1\" class=\"dataframe\">\n",
       "  <thead>\n",
       "    <tr style=\"text-align: right;\">\n",
       "      <th></th>\n",
       "      <th>0</th>\n",
       "      <th>1</th>\n",
       "      <th>2</th>\n",
       "    </tr>\n",
       "  </thead>\n",
       "  <tbody>\n",
       "    <tr>\n",
       "      <th>0</th>\n",
       "      <td>pavan</td>\n",
       "      <td>2</td>\n",
       "      <td>nzb</td>\n",
       "    </tr>\n",
       "    <tr>\n",
       "      <th>1</th>\n",
       "      <td>jp</td>\n",
       "      <td>3</td>\n",
       "      <td>hyd</td>\n",
       "    </tr>\n",
       "    <tr>\n",
       "      <th>2</th>\n",
       "      <td>narsimha</td>\n",
       "      <td>4</td>\n",
       "      <td>outoff</td>\n",
       "    </tr>\n",
       "  </tbody>\n",
       "</table>\n",
       "</div>"
      ],
      "text/plain": [
       "          0  1       2\n",
       "0     pavan  2     nzb\n",
       "1        jp  3     hyd\n",
       "2  narsimha  4  outoff"
      ]
     },
     "execution_count": 44,
     "metadata": {},
     "output_type": "execute_result"
    }
   ],
   "source": [
    "l1=[(\"pavan\",2,\"nzb\"),(\"jp\",3,\"hyd\"),(\"narsimha\",4,\"outoff\")]\n",
    "df2=pd.DataFrame(l1)\n",
    "df2"
   ]
  },
  {
   "cell_type": "code",
   "execution_count": 43,
   "id": "17627f39",
   "metadata": {},
   "outputs": [
    {
     "data": {
      "text/html": [
       "<div>\n",
       "<style scoped>\n",
       "    .dataframe tbody tr th:only-of-type {\n",
       "        vertical-align: middle;\n",
       "    }\n",
       "\n",
       "    .dataframe tbody tr th {\n",
       "        vertical-align: top;\n",
       "    }\n",
       "\n",
       "    .dataframe thead th {\n",
       "        text-align: right;\n",
       "    }\n",
       "</style>\n",
       "<table border=\"1\" class=\"dataframe\">\n",
       "  <thead>\n",
       "    <tr style=\"text-align: right;\">\n",
       "      <th></th>\n",
       "      <th>names</th>\n",
       "      <th>marks</th>\n",
       "      <th>address</th>\n",
       "    </tr>\n",
       "  </thead>\n",
       "  <tbody>\n",
       "    <tr>\n",
       "      <th>0</th>\n",
       "      <td>pavan</td>\n",
       "      <td>35</td>\n",
       "      <td>nzb</td>\n",
       "    </tr>\n",
       "    <tr>\n",
       "      <th>1</th>\n",
       "      <td>jp</td>\n",
       "      <td>38</td>\n",
       "      <td>hyd</td>\n",
       "    </tr>\n",
       "    <tr>\n",
       "      <th>2</th>\n",
       "      <td>narsimha</td>\n",
       "      <td>45</td>\n",
       "      <td>nlg</td>\n",
       "    </tr>\n",
       "  </tbody>\n",
       "</table>\n",
       "</div>"
      ],
      "text/plain": [
       "      names  marks address\n",
       "0     pavan     35     nzb\n",
       "1        jp     38     hyd\n",
       "2  narsimha     45     nlg"
      ]
     },
     "execution_count": 43,
     "metadata": {},
     "output_type": "execute_result"
    }
   ],
   "source": [
    "l1=[(\"pavan\",35,\"nzb\"),(\"jp\",38,\"hyd\"),(\"narsimha\",45,\"nlg\")]\n",
    "df2=pd.DataFrame(l1,columns=[\"names\",\"marks\",\"address\"])\n",
    "df2"
   ]
  },
  {
   "cell_type": "markdown",
   "id": "8e3d72fa",
   "metadata": {},
   "source": [
    "## Series"
   ]
  },
  {
   "cell_type": "code",
   "execution_count": 49,
   "id": "5eeec020",
   "metadata": {},
   "outputs": [
    {
     "data": {
      "text/plain": [
       "pandas.core.series.Series"
      ]
     },
     "execution_count": 49,
     "metadata": {},
     "output_type": "execute_result"
    }
   ],
   "source": [
    "s=pd.Series([100,120,130,140,150,160])\n",
    "type(s)"
   ]
  },
  {
   "cell_type": "code",
   "execution_count": 50,
   "id": "236f4498",
   "metadata": {},
   "outputs": [
    {
     "data": {
      "text/plain": [
       "0    100\n",
       "1    120\n",
       "2    130\n",
       "3    140\n",
       "4    150\n",
       "5    160\n",
       "dtype: int64"
      ]
     },
     "execution_count": 50,
     "metadata": {},
     "output_type": "execute_result"
    }
   ],
   "source": [
    "s"
   ]
  },
  {
   "cell_type": "code",
   "execution_count": 56,
   "id": "71ec323c",
   "metadata": {},
   "outputs": [],
   "source": [
    "dict1={\"names\":[\"pavan\",\"kumar\",\"jp\",\"narsimha\",\"nikhil\",\"tillu\"],\"marks\":[100,120,130,140,150,160],\"address\":[\"hyd\",\"nzb\",\"nlg\",\"hyd2\",\"tanda\",\"nzb2\"]}"
   ]
  },
  {
   "cell_type": "code",
   "execution_count": 59,
   "id": "bd7202d5",
   "metadata": {},
   "outputs": [
    {
     "data": {
      "text/plain": [
       "0       pavan\n",
       "1       kumar\n",
       "2          jp\n",
       "3    narsimha\n",
       "4      nikhil\n",
       "5       tillu\n",
       "dtype: object"
      ]
     },
     "execution_count": 59,
     "metadata": {},
     "output_type": "execute_result"
    }
   ],
   "source": [
    "s1=pd.Series(dict1[\"names\"])\n",
    "s1"
   ]
  },
  {
   "cell_type": "code",
   "execution_count": 61,
   "id": "8538cae5",
   "metadata": {},
   "outputs": [
    {
     "data": {
      "text/plain": [
       "names      [pavan, kumar, jp, narsimha, nikhil, tillu]\n",
       "marks                   [100, 120, 130, 140, 150, 160]\n",
       "address             [hyd, nzb, nlg, hyd2, tanda, nzb2]\n",
       "dtype: object"
      ]
     },
     "execution_count": 61,
     "metadata": {},
     "output_type": "execute_result"
    }
   ],
   "source": [
    "s2=pd.Series(dict1)\n",
    "s2"
   ]
  },
  {
   "cell_type": "markdown",
   "id": "37c075cb",
   "metadata": {},
   "source": [
    "## xmple"
   ]
  },
  {
   "cell_type": "code",
   "execution_count": 72,
   "id": "ad42d23e",
   "metadata": {},
   "outputs": [],
   "source": [
    "s1=pd.Series(dict1[\"names\"])\n",
    "s2=pd.Series(dict1[\"marks\"])\n",
    "s3=pd.Series(dict1[\"address\"])"
   ]
  },
  {
   "cell_type": "code",
   "execution_count": 73,
   "id": "bada0eea",
   "metadata": {},
   "outputs": [
    {
     "data": {
      "text/html": [
       "<div>\n",
       "<style scoped>\n",
       "    .dataframe tbody tr th:only-of-type {\n",
       "        vertical-align: middle;\n",
       "    }\n",
       "\n",
       "    .dataframe tbody tr th {\n",
       "        vertical-align: top;\n",
       "    }\n",
       "\n",
       "    .dataframe thead th {\n",
       "        text-align: right;\n",
       "    }\n",
       "</style>\n",
       "<table border=\"1\" class=\"dataframe\">\n",
       "  <thead>\n",
       "    <tr style=\"text-align: right;\">\n",
       "      <th></th>\n",
       "      <th>0</th>\n",
       "      <th>1</th>\n",
       "      <th>2</th>\n",
       "    </tr>\n",
       "  </thead>\n",
       "  <tbody>\n",
       "    <tr>\n",
       "      <th>0</th>\n",
       "      <td>pavan</td>\n",
       "      <td>100</td>\n",
       "      <td>hyd</td>\n",
       "    </tr>\n",
       "    <tr>\n",
       "      <th>1</th>\n",
       "      <td>kumar</td>\n",
       "      <td>120</td>\n",
       "      <td>nzb</td>\n",
       "    </tr>\n",
       "    <tr>\n",
       "      <th>2</th>\n",
       "      <td>jp</td>\n",
       "      <td>130</td>\n",
       "      <td>nlg</td>\n",
       "    </tr>\n",
       "    <tr>\n",
       "      <th>3</th>\n",
       "      <td>narsimha</td>\n",
       "      <td>140</td>\n",
       "      <td>hyd2</td>\n",
       "    </tr>\n",
       "    <tr>\n",
       "      <th>4</th>\n",
       "      <td>nikhil</td>\n",
       "      <td>150</td>\n",
       "      <td>tanda</td>\n",
       "    </tr>\n",
       "    <tr>\n",
       "      <th>5</th>\n",
       "      <td>tillu</td>\n",
       "      <td>160</td>\n",
       "      <td>nzb2</td>\n",
       "    </tr>\n",
       "  </tbody>\n",
       "</table>\n",
       "</div>"
      ],
      "text/plain": [
       "          0    1      2\n",
       "0     pavan  100    hyd\n",
       "1     kumar  120    nzb\n",
       "2        jp  130    nlg\n",
       "3  narsimha  140   hyd2\n",
       "4    nikhil  150  tanda\n",
       "5     tillu  160   nzb2"
      ]
     },
     "execution_count": 73,
     "metadata": {},
     "output_type": "execute_result"
    }
   ],
   "source": [
    "ds=pd.concat([s1,s2,s3],axis=1)\n",
    "ds"
   ]
  },
  {
   "cell_type": "code",
   "execution_count": 86,
   "id": "ac41d864",
   "metadata": {},
   "outputs": [
    {
     "data": {
      "text/html": [
       "<div>\n",
       "<style scoped>\n",
       "    .dataframe tbody tr th:only-of-type {\n",
       "        vertical-align: middle;\n",
       "    }\n",
       "\n",
       "    .dataframe tbody tr th {\n",
       "        vertical-align: top;\n",
       "    }\n",
       "\n",
       "    .dataframe thead th {\n",
       "        text-align: right;\n",
       "    }\n",
       "</style>\n",
       "<table border=\"1\" class=\"dataframe\">\n",
       "  <thead>\n",
       "    <tr style=\"text-align: right;\">\n",
       "      <th></th>\n",
       "      <th>0</th>\n",
       "      <th>1</th>\n",
       "      <th>2</th>\n",
       "      <th>3</th>\n",
       "      <th>4</th>\n",
       "      <th>5</th>\n",
       "    </tr>\n",
       "  </thead>\n",
       "  <tbody>\n",
       "    <tr>\n",
       "      <th>0</th>\n",
       "      <td>pavan</td>\n",
       "      <td>kumar</td>\n",
       "      <td>jp</td>\n",
       "      <td>narsimha</td>\n",
       "      <td>nikhil</td>\n",
       "      <td>tillu</td>\n",
       "    </tr>\n",
       "    <tr>\n",
       "      <th>1</th>\n",
       "      <td>100</td>\n",
       "      <td>120</td>\n",
       "      <td>130</td>\n",
       "      <td>140</td>\n",
       "      <td>150</td>\n",
       "      <td>160</td>\n",
       "    </tr>\n",
       "    <tr>\n",
       "      <th>2</th>\n",
       "      <td>hyd</td>\n",
       "      <td>nzb</td>\n",
       "      <td>nlg</td>\n",
       "      <td>hyd2</td>\n",
       "      <td>tanda</td>\n",
       "      <td>nzb2</td>\n",
       "    </tr>\n",
       "  </tbody>\n",
       "</table>\n",
       "</div>"
      ],
      "text/plain": [
       "       0      1    2         3       4      5\n",
       "0  pavan  kumar   jp  narsimha  nikhil  tillu\n",
       "1    100    120  130       140     150    160\n",
       "2    hyd    nzb  nlg      hyd2   tanda   nzb2"
      ]
     },
     "execution_count": 86,
     "metadata": {},
     "output_type": "execute_result"
    }
   ],
   "source": [
    "ds2=pd.DataFrame([s1,s2,s3])\n",
    "ds2"
   ]
  },
  {
   "cell_type": "code",
   "execution_count": 85,
   "id": "aff88cbc",
   "metadata": {},
   "outputs": [
    {
     "data": {
      "text/plain": [
       "0       pavan\n",
       "1       kumar\n",
       "2          jp\n",
       "3    narsimha\n",
       "4      nikhil\n",
       "5       tillu\n",
       "0         100\n",
       "1         120\n",
       "2         130\n",
       "3         140\n",
       "4         150\n",
       "5         160\n",
       "0         hyd\n",
       "1         nzb\n",
       "2         nlg\n",
       "3        hyd2\n",
       "4       tanda\n",
       "5        nzb2\n",
       "dtype: object"
      ]
     },
     "execution_count": 85,
     "metadata": {},
     "output_type": "execute_result"
    }
   ],
   "source": [
    "ds1=pd.concat([s1,s2,s3],axis=0)\n",
    "ds1"
   ]
  },
  {
   "cell_type": "markdown",
   "id": "21832b17",
   "metadata": {},
   "source": [
    "###  file  saving  as csv file"
   ]
  },
  {
   "cell_type": "code",
   "execution_count": 88,
   "id": "d8a6e937",
   "metadata": {},
   "outputs": [],
   "source": [
    "path=r\"C:\\Users\\DELL\\DATA SCIENCE\""
   ]
  },
  {
   "cell_type": "code",
   "execution_count": 91,
   "id": "51861623",
   "metadata": {},
   "outputs": [
    {
     "name": "stdout",
     "output_type": "stream",
     "text": [
      "C:\\Users\\DELL\\DATA SCIENCE\\pandas_convert1.csv\n"
     ]
    }
   ],
   "source": [
    "file_name=path+\"\\\\pandas_convert1.csv\"\n",
    "print(file_name)"
   ]
  },
  {
   "cell_type": "code",
   "execution_count": 92,
   "id": "db0b9cf1",
   "metadata": {},
   "outputs": [],
   "source": [
    "ds2.to_csv(file_name)"
   ]
  },
  {
   "cell_type": "markdown",
   "id": "e50f432a",
   "metadata": {},
   "source": [
    "### reverse processs from csv file to panda data frame"
   ]
  },
  {
   "cell_type": "code",
   "execution_count": 15,
   "id": "e09213dd",
   "metadata": {},
   "outputs": [],
   "source": [
    "r=pd.read_csv(r\"C:\\Users\\DELL\\DATA SCIENCE\\\\pandas_convert12.csv\")"
   ]
  },
  {
   "cell_type": "code",
   "execution_count": 16,
   "id": "f6feb28e",
   "metadata": {},
   "outputs": [
    {
     "data": {
      "text/html": [
       "<div>\n",
       "<style scoped>\n",
       "    .dataframe tbody tr th:only-of-type {\n",
       "        vertical-align: middle;\n",
       "    }\n",
       "\n",
       "    .dataframe tbody tr th {\n",
       "        vertical-align: top;\n",
       "    }\n",
       "\n",
       "    .dataframe thead th {\n",
       "        text-align: right;\n",
       "    }\n",
       "</style>\n",
       "<table border=\"1\" class=\"dataframe\">\n",
       "  <thead>\n",
       "    <tr style=\"text-align: right;\">\n",
       "      <th></th>\n",
       "      <th>Unnamed: 0</th>\n",
       "      <th>0</th>\n",
       "      <th>1</th>\n",
       "      <th>2</th>\n",
       "      <th>3</th>\n",
       "      <th>4</th>\n",
       "      <th>5</th>\n",
       "    </tr>\n",
       "  </thead>\n",
       "  <tbody>\n",
       "    <tr>\n",
       "      <th>0</th>\n",
       "      <td>0</td>\n",
       "      <td>pavan</td>\n",
       "      <td>kumar</td>\n",
       "      <td>jp</td>\n",
       "      <td>narsimha</td>\n",
       "      <td>nikhil</td>\n",
       "      <td>tillu</td>\n",
       "    </tr>\n",
       "    <tr>\n",
       "      <th>1</th>\n",
       "      <td>1</td>\n",
       "      <td>100</td>\n",
       "      <td>120</td>\n",
       "      <td>130</td>\n",
       "      <td>140</td>\n",
       "      <td>150</td>\n",
       "      <td>160</td>\n",
       "    </tr>\n",
       "    <tr>\n",
       "      <th>2</th>\n",
       "      <td>2</td>\n",
       "      <td>hyd</td>\n",
       "      <td>nzb</td>\n",
       "      <td>nlg</td>\n",
       "      <td>hyd2</td>\n",
       "      <td>tanda</td>\n",
       "      <td>nzb2</td>\n",
       "    </tr>\n",
       "    <tr>\n",
       "      <th>3</th>\n",
       "      <td>3</td>\n",
       "      <td>thanda</td>\n",
       "      <td>mike</td>\n",
       "      <td>jp</td>\n",
       "      <td>msk</td>\n",
       "      <td>snh</td>\n",
       "      <td>bdc</td>\n",
       "    </tr>\n",
       "    <tr>\n",
       "      <th>4</th>\n",
       "      <td>4</td>\n",
       "      <td>pop</td>\n",
       "      <td>hop</td>\n",
       "      <td>job</td>\n",
       "      <td>kim</td>\n",
       "      <td>tom</td>\n",
       "      <td>mom</td>\n",
       "    </tr>\n",
       "  </tbody>\n",
       "</table>\n",
       "</div>"
      ],
      "text/plain": [
       "   Unnamed: 0       0      1    2         3       4      5\n",
       "0           0   pavan  kumar   jp  narsimha  nikhil  tillu\n",
       "1           1     100    120  130       140     150    160\n",
       "2           2     hyd    nzb  nlg      hyd2   tanda   nzb2\n",
       "3           3  thanda   mike   jp       msk     snh    bdc\n",
       "4           4     pop    hop  job       kim     tom    mom"
      ]
     },
     "execution_count": 16,
     "metadata": {},
     "output_type": "execute_result"
    }
   ],
   "source": [
    "r"
   ]
  },
  {
   "cell_type": "code",
   "execution_count": 17,
   "id": "30d3674f",
   "metadata": {},
   "outputs": [
    {
     "data": {
      "text/plain": [
       "5"
      ]
     },
     "execution_count": 17,
     "metadata": {},
     "output_type": "execute_result"
    }
   ],
   "source": [
    "len(r)"
   ]
  },
  {
   "cell_type": "code",
   "execution_count": 18,
   "id": "db26ca9e",
   "metadata": {},
   "outputs": [
    {
     "name": "stdout",
     "output_type": "stream",
     "text": [
      "length of list 5\n"
     ]
    }
   ],
   "source": [
    "r1=[11,12,13,14,15]\n",
    "print(\"length of list\",len(r1))\n",
    "s2=pd.Series(r1)\n",
    "df5=pd.concat([r,s2],axis=1)\n"
   ]
  },
  {
   "cell_type": "code",
   "execution_count": 19,
   "id": "e7a53262",
   "metadata": {},
   "outputs": [],
   "source": [
    "df5.to_csv(r\"C:\\Users\\DELL\\DATA SCIENCE\\\\pandas_convert122.csv\")"
   ]
  },
  {
   "cell_type": "code",
   "execution_count": 12,
   "id": "54fdb054",
   "metadata": {},
   "outputs": [
    {
     "data": {
      "text/html": [
       "<div>\n",
       "<style scoped>\n",
       "    .dataframe tbody tr th:only-of-type {\n",
       "        vertical-align: middle;\n",
       "    }\n",
       "\n",
       "    .dataframe tbody tr th {\n",
       "        vertical-align: top;\n",
       "    }\n",
       "\n",
       "    .dataframe thead th {\n",
       "        text-align: right;\n",
       "    }\n",
       "</style>\n",
       "<table border=\"1\" class=\"dataframe\">\n",
       "  <thead>\n",
       "    <tr style=\"text-align: right;\">\n",
       "      <th></th>\n",
       "      <th>Unnamed: 0</th>\n",
       "      <th>Unnamed: 0.1</th>\n",
       "      <th>0</th>\n",
       "      <th>1</th>\n",
       "      <th>2</th>\n",
       "      <th>3</th>\n",
       "      <th>4</th>\n",
       "      <th>5</th>\n",
       "      <th>0.1</th>\n",
       "    </tr>\n",
       "  </thead>\n",
       "  <tbody>\n",
       "    <tr>\n",
       "      <th>0</th>\n",
       "      <td>0</td>\n",
       "      <td>0</td>\n",
       "      <td>pavan</td>\n",
       "      <td>kumar</td>\n",
       "      <td>jp</td>\n",
       "      <td>narsimha</td>\n",
       "      <td>nikhil</td>\n",
       "      <td>tillu</td>\n",
       "      <td>11</td>\n",
       "    </tr>\n",
       "    <tr>\n",
       "      <th>1</th>\n",
       "      <td>1</td>\n",
       "      <td>1</td>\n",
       "      <td>100</td>\n",
       "      <td>120</td>\n",
       "      <td>130</td>\n",
       "      <td>140</td>\n",
       "      <td>150</td>\n",
       "      <td>160</td>\n",
       "      <td>12</td>\n",
       "    </tr>\n",
       "    <tr>\n",
       "      <th>2</th>\n",
       "      <td>2</td>\n",
       "      <td>2</td>\n",
       "      <td>hyd</td>\n",
       "      <td>nzb</td>\n",
       "      <td>nlg</td>\n",
       "      <td>hyd2</td>\n",
       "      <td>tanda</td>\n",
       "      <td>nzb2</td>\n",
       "      <td>13</td>\n",
       "    </tr>\n",
       "    <tr>\n",
       "      <th>3</th>\n",
       "      <td>3</td>\n",
       "      <td>3</td>\n",
       "      <td>thanda</td>\n",
       "      <td>mike</td>\n",
       "      <td>jp</td>\n",
       "      <td>msk</td>\n",
       "      <td>snh</td>\n",
       "      <td>bdc</td>\n",
       "      <td>14</td>\n",
       "    </tr>\n",
       "    <tr>\n",
       "      <th>4</th>\n",
       "      <td>4</td>\n",
       "      <td>4</td>\n",
       "      <td>pop</td>\n",
       "      <td>hop</td>\n",
       "      <td>job</td>\n",
       "      <td>kim</td>\n",
       "      <td>tom</td>\n",
       "      <td>mom</td>\n",
       "      <td>15</td>\n",
       "    </tr>\n",
       "  </tbody>\n",
       "</table>\n",
       "</div>"
      ],
      "text/plain": [
       "   Unnamed: 0  Unnamed: 0.1       0      1    2         3       4      5  0.1\n",
       "0           0             0   pavan  kumar   jp  narsimha  nikhil  tillu   11\n",
       "1           1             1     100    120  130       140     150    160   12\n",
       "2           2             2     hyd    nzb  nlg      hyd2   tanda   nzb2   13\n",
       "3           3             3  thanda   mike   jp       msk     snh    bdc   14\n",
       "4           4             4     pop    hop  job       kim     tom    mom   15"
      ]
     },
     "execution_count": 12,
     "metadata": {},
     "output_type": "execute_result"
    }
   ],
   "source": [
    "pd.read_csv(r\"C:\\Users\\DELL\\DATA SCIENCE\\\\pandas_convert122.csv\")"
   ]
  },
  {
   "cell_type": "code",
   "execution_count": null,
   "id": "bb26fa85",
   "metadata": {},
   "outputs": [],
   "source": []
  }
 ],
 "metadata": {
  "kernelspec": {
   "display_name": "Python 3 (ipykernel)",
   "language": "python",
   "name": "python3"
  },
  "language_info": {
   "codemirror_mode": {
    "name": "ipython",
    "version": 3
   },
   "file_extension": ".py",
   "mimetype": "text/x-python",
   "name": "python",
   "nbconvert_exporter": "python",
   "pygments_lexer": "ipython3",
   "version": "3.9.7"
  }
 },
 "nbformat": 4,
 "nbformat_minor": 5
}
