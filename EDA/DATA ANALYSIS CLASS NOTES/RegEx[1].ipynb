{
 "cells": [
  {
   "cell_type": "code",
   "execution_count": 3,
   "id": "a0f69bf9",
   "metadata": {},
   "outputs": [
    {
     "data": {
      "text/plain": [
       "'innomatics reseach labs'"
      ]
     },
     "execution_count": 3,
     "metadata": {},
     "output_type": "execute_result"
    }
   ],
   "source": [
    "text = \"!!!innomatics...## reseach labs\"\n",
    "a = text.replace(\"!\",\"\")\n",
    "b = a.replace(\".\",\"\")\n",
    "b.replace(\"#\",\"\")"
   ]
  },
  {
   "cell_type": "code",
   "execution_count": 6,
   "id": "1b070993",
   "metadata": {},
   "outputs": [
    {
     "data": {
      "text/plain": [
       "'innomatics reseach labs'"
      ]
     },
     "execution_count": 6,
     "metadata": {},
     "output_type": "execute_result"
    }
   ],
   "source": [
    "text.replace(\"!\",\"\").replace(\".\",\"\").replace(\"#\",\"\")"
   ]
  },
  {
   "cell_type": "raw",
   "id": "abfc9904",
   "metadata": {},
   "source": [
    "[]\n",
    "{}\n",
    "()\n",
    ".\n",
    "*\n",
    "\\w - character( small w)\n",
    "\\W - special character\n",
    "\\d - digits\n",
    "\\s - spaces\n",
    "\\b - boundary"
   ]
  },
  {
   "cell_type": "code",
   "execution_count": 7,
   "id": "b95a8545",
   "metadata": {},
   "outputs": [
    {
     "data": {
      "text/plain": [
       "'innomatics reseach labs'"
      ]
     },
     "execution_count": 7,
     "metadata": {},
     "output_type": "execute_result"
    }
   ],
   "source": [
    "import re\n",
    "re.sub(\"[!.#]\", \"\", text)"
   ]
  },
  {
   "cell_type": "code",
   "execution_count": 11,
   "id": "819b91cf",
   "metadata": {},
   "outputs": [
    {
     "data": {
      "text/plain": [
       "['innomatics', 'reseach', 'labs']"
      ]
     },
     "execution_count": 11,
     "metadata": {},
     "output_type": "execute_result"
    }
   ],
   "source": [
    "re.findall(\"\\w+\",text)"
   ]
  },
  {
   "cell_type": "code",
   "execution_count": 43,
   "id": "dc01a047",
   "metadata": {},
   "outputs": [],
   "source": [
    "text = \"\"\"\n",
    "Python is an interpreted, 1234 object-oriented, ramkumar@gmail.com high-level 465 programming language with dynamic \n",
    "semantics. Its high-level built in data structures, 9876543210 combined with 9878987896 dynamic typing and dynamic \n",
    "binding, make it very attractive for Rapid Application Development, as well as for use as a \n",
    "scripting or glue language to abc@gmail.com connect 1234567890 existing components together. Python's simple, easy \n",
    "to learn syntax emphasizes readability and therefore reduces the cost of program maintenance. \n",
    "Python supports modules and packages, which encourages program modularity and code reuse. \n",
    "The Python interpreter and the extensive standard library are available \n",
    "in source or binary form without charge for all major platforms, and can be freely distributed.\n",
    "\"\"\""
   ]
  },
  {
   "cell_type": "markdown",
   "id": "2b677a50",
   "metadata": {},
   "source": [
    "## findall()\n",
    "- syntax \n",
    "- findall (pattern, text)"
   ]
  },
  {
   "cell_type": "code",
   "execution_count": 18,
   "id": "17364635",
   "metadata": {},
   "outputs": [
    {
     "name": "stdout",
     "output_type": "stream",
     "text": [
      "['Python', 'is', 'an', 'interpreted', 'object', 'oriented', 'high', 'level', 'programming', 'language', 'with', 'dynamic', 'semantics', 'Its', 'high', 'level', 'built', 'in', 'data', 'structures', 'combined', 'with', 'dynamic', 'typing', 'and', 'dynamic', 'binding', 'make', 'it', 'very', 'attractive', 'for', 'Rapid', 'Application', 'Development', 'as', 'well', 'as', 'for', 'use', 'as', 'a', 'scripting', 'or', 'glue', 'language', 'to', 'connect', 'existing', 'components', 'together', 'Python', 's', 'simple', 'easy', 'to', 'learn', 'syntax', 'emphasizes', 'readability', 'and', 'therefore', 'reduces', 'the', 'cost', 'of', 'program', 'maintenance', 'Python', 'supports', 'modules', 'and', 'packages', 'which', 'encourages', 'program', 'modularity', 'and', 'code', 'reuse', 'The', 'Python', 'interpreter', 'and', 'the', 'extensive', 'standard', 'library', 'are', 'available', 'in', 'source', 'or', 'binary', 'form', 'without', 'charge', 'for', 'all', 'major', 'platforms', 'and', 'can', 'be', 'freely', 'distributed']\n"
     ]
    }
   ],
   "source": [
    "print(re.findall(\"\\w+\",text))"
   ]
  },
  {
   "cell_type": "code",
   "execution_count": 45,
   "id": "b6724b4b",
   "metadata": {},
   "outputs": [
    {
     "name": "stdout",
     "output_type": "stream",
     "text": [
      "['', 'Python', '', 'is', '', 'an', '', 'interpreted', '', '', '1234', '', 'object', '', 'oriented', '', '', 'ramkumar', '', 'gmail', '', 'com', '', 'high', '', 'level', '', '465', '', 'programming', '', 'language', '', 'with', '', 'dynamic', '', '', 'semantics', '', '', 'Its', '', 'high', '', 'level', '', 'built', '', 'in', '', 'data', '', 'structures', '', '', '9876543210', '', 'combined', '', 'with', '', '9878987896', '', 'dynamic', '', 'typing', '', 'and', '', 'dynamic', '', '', 'binding', '', '', 'make', '', 'it', '', 'very', '', 'attractive', '', 'for', '', 'Rapid', '', 'Application', '', 'Development', '', '', 'as', '', 'well', '', 'as', '', 'for', '', 'use', '', 'as', '', 'a', '', '', 'scripting', '', 'or', '', 'glue', '', 'language', '', 'to', '', 'abc', '', 'gmail', '', 'com', '', 'connect', '', '1234567890', '', 'existing', '', 'components', '', 'together', '', '', 'Python', '', 's', '', 'simple', '', '', 'easy', '', '', 'to', '', 'learn', '', 'syntax', '', 'emphasizes', '', 'readability', '', 'and', '', 'therefore', '', 'reduces', '', 'the', '', 'cost', '', 'of', '', 'program', '', 'maintenance', '', '', '', 'Python', '', 'supports', '', 'modules', '', 'and', '', 'packages', '', '', 'which', '', 'encourages', '', 'program', '', 'modularity', '', 'and', '', 'code', '', 'reuse', '', '', '', 'The', '', 'Python', '', 'interpreter', '', 'and', '', 'the', '', 'extensive', '', 'standard', '', 'library', '', 'are', '', 'available', '', '', 'in', '', 'source', '', 'or', '', 'binary', '', 'form', '', 'without', '', 'charge', '', 'for', '', 'all', '', 'major', '', 'platforms', '', '', 'and', '', 'can', '', 'be', '', 'freely', '', 'distributed', '', '', '']\n"
     ]
    }
   ],
   "source": [
    "print(re.findall(\"\\w*\",text))"
   ]
  },
  {
   "cell_type": "code",
   "execution_count": 21,
   "id": "e9b88f60",
   "metadata": {},
   "outputs": [
    {
     "name": "stdout",
     "output_type": "stream",
     "text": [
      "['1234', '465']\n"
     ]
    }
   ],
   "source": [
    "print(re.findall(\"\\d+\",text))"
   ]
  },
  {
   "cell_type": "code",
   "execution_count": 44,
   "id": "2df71dc9",
   "metadata": {},
   "outputs": [
    {
     "name": "stdout",
     "output_type": "stream",
     "text": [
      "['\\n', ' ', ' ', ' ', ', ', ' ', '-', ', ', '@', '.', ' ', '-', ' ', ' ', ' ', ' ', ' ', ' \\n', '. ', ' ', '-', ' ', ' ', ' ', ' ', ', ', ' ', ' ', ' ', ' ', ' ', ' ', ' ', ' \\n', ', ', ' ', ' ', ' ', ' ', ' ', ' ', ' ', ', ', ' ', ' ', ' ', ' ', ' ', ' ', ' \\n', ' ', ' ', ' ', ' ', ' ', '@', '.', ' ', ' ', ' ', ' ', ' ', '. ', \"'\", ' ', ', ', ' \\n', ' ', ' ', ' ', ' ', ' ', ' ', ' ', ' ', ' ', ' ', ' ', ' ', '. \\n', ' ', ' ', ' ', ' ', ', ', ' ', ' ', ' ', ' ', ' ', ' ', '. \\n', ' ', ' ', ' ', ' ', ' ', ' ', ' ', ' ', ' ', ' \\n', ' ', ' ', ' ', ' ', ' ', ' ', ' ', ' ', ' ', ' ', ', ', ' ', ' ', ' ', ' ', '.\\n']\n"
     ]
    }
   ],
   "source": [
    "print(re.findall(\"\\W+\",text))"
   ]
  },
  {
   "cell_type": "code",
   "execution_count": 24,
   "id": "f1f9faef",
   "metadata": {},
   "outputs": [
    {
     "name": "stdout",
     "output_type": "stream",
     "text": [
      "['object', 'oriented', 'or', 'of', 'or']\n"
     ]
    }
   ],
   "source": [
    "print(re.findall(r\"\\bo\\w+\",text))  ## \\bo  means   b=boundary and o means  letter starts with 'o'"
   ]
  },
  {
   "cell_type": "code",
   "execution_count": 25,
   "id": "b6c5d525",
   "metadata": {
    "collapsed": true
   },
   "outputs": [
    {
     "name": "stdout",
     "output_type": "stream",
     "text": [
      "['P', 'y', 't', 'h', 'o', 'n', ' ', 'i', 's', ' ', 'a', 'n', ' ', 'i', 'n', 't', 'e', 'r', 'p', 'r', 'e', 't', 'e', 'd', ',', ' ', '1', '2', '3', '4', ' ', 'o', 'b', 'j', 'e', 'c', 't', '-', 'o', 'r', 'i', 'e', 'n', 't', 'e', 'd', ',', ' ', 'h', 'i', 'g', 'h', '-', 'l', 'e', 'v', 'e', 'l', ' ', '4', '6', '5', ' ', 'p', 'r', 'o', 'g', 'r', 'a', 'm', 'm', 'i', 'n', 'g', ' ', 'l', 'a', 'n', 'g', 'u', 'a', 'g', 'e', ' ', 'w', 'i', 't', 'h', ' ', 'd', 'y', 'n', 'a', 'm', 'i', 'c', ' ', 's', 'e', 'm', 'a', 'n', 't', 'i', 'c', 's', '.', ' ', 'I', 't', 's', ' ', 'h', 'i', 'g', 'h', '-', 'l', 'e', 'v', 'e', 'l', ' ', 'b', 'u', 'i', 'l', 't', ' ', 'i', 'n', ' ', 'd', 'a', 't', 'a', ' ', 's', 't', 'r', 'u', 'c', 't', 'u', 'r', 'e', 's', ',', ' ', 'c', 'o', 'm', 'b', 'i', 'n', 'e', 'd', ' ', 'w', 'i', 't', 'h', ' ', 'd', 'y', 'n', 'a', 'm', 'i', 'c', ' ', 't', 'y', 'p', 'i', 'n', 'g', ' ', 'a', 'n', 'd', ' ', 'd', 'y', 'n', 'a', 'm', 'i', 'c', ' ', 'b', 'i', 'n', 'd', 'i', 'n', 'g', ',', ' ', 'm', 'a', 'k', 'e', ' ', 'i', 't', ' ', 'v', 'e', 'r', 'y', ' ', 'a', 't', 't', 'r', 'a', 'c', 't', 'i', 'v', 'e', ' ', 'f', 'o', 'r', ' ', 'R', 'a', 'p', 'i', 'd', ' ', 'A', 'p', 'p', 'l', 'i', 'c', 'a', 't', 'i', 'o', 'n', ' ', 'D', 'e', 'v', 'e', 'l', 'o', 'p', 'm', 'e', 'n', 't', ',', ' ', 'a', 's', ' ', 'w', 'e', 'l', 'l', ' ', 'a', 's', ' ', 'f', 'o', 'r', ' ', 'u', 's', 'e', ' ', 'a', 's', ' ', 'a', ' ', 's', 'c', 'r', 'i', 'p', 't', 'i', 'n', 'g', ' ', 'o', 'r', ' ', 'g', 'l', 'u', 'e', ' ', 'l', 'a', 'n', 'g', 'u', 'a', 'g', 'e', ' ', 't', 'o', ' ', 'c', 'o', 'n', 'n', 'e', 'c', 't', ' ', 'e', 'x', 'i', 's', 't', 'i', 'n', 'g', ' ', 'c', 'o', 'm', 'p', 'o', 'n', 'e', 'n', 't', 's', ' ', 't', 'o', 'g', 'e', 't', 'h', 'e', 'r', '.', ' ', 'P', 'y', 't', 'h', 'o', 'n', \"'\", 's', ' ', 's', 'i', 'm', 'p', 'l', 'e', ',', ' ', 'e', 'a', 's', 'y', ' ', 't', 'o', ' ', 'l', 'e', 'a', 'r', 'n', ' ', 's', 'y', 'n', 't', 'a', 'x', ' ', 'e', 'm', 'p', 'h', 'a', 's', 'i', 'z', 'e', 's', ' ', 'r', 'e', 'a', 'd', 'a', 'b', 'i', 'l', 'i', 't', 'y', ' ', 'a', 'n', 'd', ' ', 't', 'h', 'e', 'r', 'e', 'f', 'o', 'r', 'e', ' ', 'r', 'e', 'd', 'u', 'c', 'e', 's', ' ', 't', 'h', 'e', ' ', 'c', 'o', 's', 't', ' ', 'o', 'f', ' ', 'p', 'r', 'o', 'g', 'r', 'a', 'm', ' ', 'm', 'a', 'i', 'n', 't', 'e', 'n', 'a', 'n', 'c', 'e', '.', ' ', 'P', 'y', 't', 'h', 'o', 'n', ' ', 's', 'u', 'p', 'p', 'o', 'r', 't', 's', ' ', 'm', 'o', 'd', 'u', 'l', 'e', 's', ' ', 'a', 'n', 'd', ' ', 'p', 'a', 'c', 'k', 'a', 'g', 'e', 's', ',', ' ', 'w', 'h', 'i', 'c', 'h', ' ', 'e', 'n', 'c', 'o', 'u', 'r', 'a', 'g', 'e', 's', ' ', 'p', 'r', 'o', 'g', 'r', 'a', 'm', ' ', 'm', 'o', 'd', 'u', 'l', 'a', 'r', 'i', 't', 'y', ' ', 'a', 'n', 'd', ' ', 'c', 'o', 'd', 'e', ' ', 'r', 'e', 'u', 's', 'e', '.', ' ', 'T', 'h', 'e', ' ', 'P', 'y', 't', 'h', 'o', 'n', ' ', 'i', 'n', 't', 'e', 'r', 'p', 'r', 'e', 't', 'e', 'r', ' ', 'a', 'n', 'd', ' ', 't', 'h', 'e', ' ', 'e', 'x', 't', 'e', 'n', 's', 'i', 'v', 'e', ' ', 's', 't', 'a', 'n', 'd', 'a', 'r', 'd', ' ', 'l', 'i', 'b', 'r', 'a', 'r', 'y', ' ', 'a', 'r', 'e', ' ', 'a', 'v', 'a', 'i', 'l', 'a', 'b', 'l', 'e', ' ', 'i', 'n', ' ', 's', 'o', 'u', 'r', 'c', 'e', ' ', 'o', 'r', ' ', 'b', 'i', 'n', 'a', 'r', 'y', ' ', 'f', 'o', 'r', 'm', ' ', 'w', 'i', 't', 'h', 'o', 'u', 't', ' ', 'c', 'h', 'a', 'r', 'g', 'e', ' ', 'f', 'o', 'r', ' ', 'a', 'l', 'l', ' ', 'm', 'a', 'j', 'o', 'r', ' ', 'p', 'l', 'a', 't', 'f', 'o', 'r', 'm', 's', ',', ' ', 'a', 'n', 'd', ' ', 'c', 'a', 'n', ' ', 'b', 'e', ' ', 'f', 'r', 'e', 'e', 'l', 'y', ' ', 'd', 'i', 's', 't', 'r', 'i', 'b', 'u', 't', 'e', 'd', '.']\n"
     ]
    }
   ],
   "source": [
    "print(re.findall(\".\",text))"
   ]
  },
  {
   "cell_type": "code",
   "execution_count": 46,
   "id": "406bad6e",
   "metadata": {},
   "outputs": [
    {
     "name": "stdout",
     "output_type": "stream",
     "text": [
      "['is', 'an', 'interpreted', 'object', 'oriented', 'Its', 'in', 'and', 'it', 'attractive', 'Application', 'as', 'as', 'use', 'as', 'or', 'abc', 'existing', 'easy', 'emphasizes', 'and', 'of', 'and', 'encourages', 'and', 'interpreter', 'and', 'extensive', 'are', 'available', 'in', 'or', 'all', 'and']\n"
     ]
    }
   ],
   "source": [
    "print(re.findall(r\"\\b[aeiouAEIOU]\\w+\",text))"
   ]
  },
  {
   "cell_type": "code",
   "execution_count": 60,
   "id": "323f6924",
   "metadata": {},
   "outputs": [
    {
     "data": {
      "text/plain": [
       "['ramkumar@gmail.com', 'abc@gmail.com']"
      ]
     },
     "execution_count": 60,
     "metadata": {},
     "output_type": "execute_result"
    }
   ],
   "source": [
    "#abc@gmail.com\n",
    "re.findall(r\"\\w+@\\w+.\\w+\",text)"
   ]
  },
  {
   "cell_type": "code",
   "execution_count": 54,
   "id": "6c84ad4f",
   "metadata": {},
   "outputs": [
    {
     "data": {
      "text/plain": [
       "['gmail', 'gmail']"
      ]
     },
     "execution_count": 54,
     "metadata": {},
     "output_type": "execute_result"
    }
   ],
   "source": [
    "re.findall(r\"@(\\w+)\",text)"
   ]
  },
  {
   "cell_type": "code",
   "execution_count": 62,
   "id": "91113872",
   "metadata": {},
   "outputs": [
    {
     "data": {
      "text/plain": [
       "['1234', '465', '9876543210', '9878987896', '1234567890']"
      ]
     },
     "execution_count": 62,
     "metadata": {},
     "output_type": "execute_result"
    }
   ],
   "source": [
    "re.findall(r\"\\d+\",text)"
   ]
  },
  {
   "cell_type": "code",
   "execution_count": 64,
   "id": "a64b7b77",
   "metadata": {},
   "outputs": [
    {
     "data": {
      "text/plain": [
       "['9876543210', '9878987896']"
      ]
     },
     "execution_count": 64,
     "metadata": {},
     "output_type": "execute_result"
    }
   ],
   "source": [
    "re.findall(r\"[9876]{1}\\d{9}\",text)"
   ]
  },
  {
   "cell_type": "code",
   "execution_count": 77,
   "id": "7df110a0",
   "metadata": {},
   "outputs": [
    {
     "data": {
      "text/plain": [
       "['987-456-2342']"
      ]
     },
     "execution_count": 77,
     "metadata": {},
     "output_type": "execute_result"
    }
   ],
   "source": [
    "phone = \"my number is 987-456-2342 +919876543210 09876575644 8796745275 234623534\"\n",
    "re.findall(r\"\\d+-\\d+-\\d+\",phone)"
   ]
  },
  {
   "cell_type": "code",
   "execution_count": 85,
   "id": "f60939ff",
   "metadata": {},
   "outputs": [
    {
     "data": {
      "text/plain": [
       "['987-456-2342 ', ' 8796745275 ']"
      ]
     },
     "execution_count": 85,
     "metadata": {},
     "output_type": "execute_result"
    }
   ],
   "source": [
    "re.findall(r\"\\d+-\\d+-\\d+ | [0]{1}\\d{10} | [9876]{1}\\d{9} | [+91]{3}\\d+\",phone)"
   ]
  },
  {
   "cell_type": "code",
   "execution_count": 86,
   "id": "0e3e5ea9",
   "metadata": {},
   "outputs": [
    {
     "data": {
      "text/plain": [
       "['+91987654321']"
      ]
     },
     "execution_count": 86,
     "metadata": {},
     "output_type": "execute_result"
    }
   ],
   "source": [
    "re.findall(r\"[\\+91]{3}\\d+\",phone)"
   ]
  },
  {
   "cell_type": "code",
   "execution_count": 87,
   "id": "f584e782",
   "metadata": {},
   "outputs": [
    {
     "data": {
      "text/plain": [
       "['9198765432', '9876575644', '8796745275']"
      ]
     },
     "execution_count": 87,
     "metadata": {},
     "output_type": "execute_result"
    }
   ],
   "source": [
    "re.findall(\"[9876]{1}\\d{9}\",phone)"
   ]
  },
  {
   "cell_type": "code",
   "execution_count": null,
   "id": "40e44d5d",
   "metadata": {},
   "outputs": [],
   "source": []
  }
 ],
 "metadata": {
  "kernelspec": {
   "display_name": "Python 3 (ipykernel)",
   "language": "python",
   "name": "python3"
  },
  "language_info": {
   "codemirror_mode": {
    "name": "ipython",
    "version": 3
   },
   "file_extension": ".py",
   "mimetype": "text/x-python",
   "name": "python",
   "nbconvert_exporter": "python",
   "pygments_lexer": "ipython3",
   "version": "3.9.7"
  }
 },
 "nbformat": 4,
 "nbformat_minor": 5
}
