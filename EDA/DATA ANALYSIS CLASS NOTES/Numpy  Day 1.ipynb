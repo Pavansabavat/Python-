{
 "cells": [
  {
   "cell_type": "markdown",
   "id": "31a2de04",
   "metadata": {},
   "source": [
    "## Numpy"
   ]
  },
  {
   "cell_type": "code",
   "execution_count": 1,
   "id": "fcb9258a",
   "metadata": {},
   "outputs": [
    {
     "name": "stdout",
     "output_type": "stream",
     "text": [
      "Requirement already satisfied: numpy in c:\\users\\dell\\anaconda3\\lib\\site-packages (1.20.3)Note: you may need to restart the kernel to use updated packages.\n",
      "\n"
     ]
    }
   ],
   "source": [
    " pip install numpy"
   ]
  },
  {
   "cell_type": "markdown",
   "id": "3f0fd41a",
   "metadata": {},
   "source": [
    "### Built in functions"
   ]
  },
  {
   "cell_type": "code",
   "execution_count": 1,
   "id": "cbafb94d",
   "metadata": {},
   "outputs": [],
   "source": [
    "import numpy as np"
   ]
  },
  {
   "cell_type": "code",
   "execution_count": 3,
   "id": "2f734f2e",
   "metadata": {},
   "outputs": [
    {
     "data": {
      "text/plain": [
       "range(0, 5)"
      ]
     },
     "execution_count": 3,
     "metadata": {},
     "output_type": "execute_result"
    }
   ],
   "source": [
    "range(5)\n"
   ]
  },
  {
   "cell_type": "code",
   "execution_count": 4,
   "id": "fd27a5ae",
   "metadata": {},
   "outputs": [
    {
     "data": {
      "text/plain": [
       "array([  0,   5,  10,  15,  20,  25,  30,  35,  40,  45,  50,  55,  60,\n",
       "        65,  70,  75,  80,  85,  90,  95, 100, 105, 110, 115, 120, 125,\n",
       "       130, 135, 140, 145, 150, 155, 160, 165, 170, 175, 180, 185, 190,\n",
       "       195])"
      ]
     },
     "execution_count": 4,
     "metadata": {},
     "output_type": "execute_result"
    }
   ],
   "source": [
    "np.arange(0,200,5)"
   ]
  },
  {
   "cell_type": "markdown",
   "id": "59a05216",
   "metadata": {},
   "source": [
    "##  one dimensional array 1D"
   ]
  },
  {
   "cell_type": "code",
   "execution_count": 5,
   "id": "707b5c02",
   "metadata": {},
   "outputs": [],
   "source": [
    "m1=np.array([1,2,3,4,5])"
   ]
  },
  {
   "cell_type": "code",
   "execution_count": 6,
   "id": "a83a475b",
   "metadata": {},
   "outputs": [
    {
     "name": "stdout",
     "output_type": "stream",
     "text": [
      "[1 2 3 4 5]\n"
     ]
    }
   ],
   "source": [
    "print(m1)"
   ]
  },
  {
   "cell_type": "code",
   "execution_count": 7,
   "id": "40ec8879",
   "metadata": {},
   "outputs": [],
   "source": [
    "m2=np.array([6,7,8,9,10])"
   ]
  },
  {
   "cell_type": "code",
   "execution_count": 8,
   "id": "98b98cab",
   "metadata": {},
   "outputs": [
    {
     "name": "stdout",
     "output_type": "stream",
     "text": [
      "[ 7  9 11 13 15]\n"
     ]
    }
   ],
   "source": [
    "m3=print(m1+m2)"
   ]
  },
  {
   "cell_type": "code",
   "execution_count": 9,
   "id": "a8325e73",
   "metadata": {},
   "outputs": [
    {
     "data": {
      "text/plain": [
       "numpy.ndarray"
      ]
     },
     "execution_count": 9,
     "metadata": {},
     "output_type": "execute_result"
    }
   ],
   "source": [
    "type(m1)"
   ]
  },
  {
   "cell_type": "code",
   "execution_count": 10,
   "id": "a0cdcb39",
   "metadata": {},
   "outputs": [
    {
     "name": "stdout",
     "output_type": "stream",
     "text": [
      "[0. 0. 0. 0. 0.]\n"
     ]
    }
   ],
   "source": [
    "m2=np.zeros(5)\n",
    "print(m2)"
   ]
  },
  {
   "cell_type": "markdown",
   "id": "0ce10cf7",
   "metadata": {},
   "source": [
    "## 2D"
   ]
  },
  {
   "cell_type": "code",
   "execution_count": 14,
   "id": "9161ba77",
   "metadata": {},
   "outputs": [],
   "source": [
    "m7=np.array([[1,3],[2,4]])"
   ]
  },
  {
   "cell_type": "code",
   "execution_count": 15,
   "id": "670b4b98",
   "metadata": {},
   "outputs": [
    {
     "data": {
      "text/plain": [
       "array([[1, 3],\n",
       "       [2, 4]])"
      ]
     },
     "execution_count": 15,
     "metadata": {},
     "output_type": "execute_result"
    }
   ],
   "source": [
    "m7"
   ]
  },
  {
   "cell_type": "code",
   "execution_count": 16,
   "id": "c855385c",
   "metadata": {},
   "outputs": [],
   "source": [
    "m8=np.array([[8,6],[9,3]])"
   ]
  },
  {
   "cell_type": "code",
   "execution_count": 17,
   "id": "5967eece",
   "metadata": {},
   "outputs": [
    {
     "data": {
      "text/plain": [
       "array([[8, 6],\n",
       "       [9, 3]])"
      ]
     },
     "execution_count": 17,
     "metadata": {},
     "output_type": "execute_result"
    }
   ],
   "source": [
    "m8"
   ]
  },
  {
   "cell_type": "code",
   "execution_count": 18,
   "id": "bac02df4",
   "metadata": {},
   "outputs": [
    {
     "data": {
      "text/plain": [
       "array([[ 9,  9],\n",
       "       [11,  7]])"
      ]
     },
     "execution_count": 18,
     "metadata": {},
     "output_type": "execute_result"
    }
   ],
   "source": [
    "m7+m8"
   ]
  },
  {
   "cell_type": "markdown",
   "id": "a222b6c0",
   "metadata": {},
   "source": [
    "### matrics  should be same for adding,subtract "
   ]
  },
  {
   "cell_type": "code",
   "execution_count": 22,
   "id": "95a625be",
   "metadata": {},
   "outputs": [],
   "source": [
    "m9=np.array([[1,2,3],[4,5,6]])"
   ]
  },
  {
   "cell_type": "code",
   "execution_count": 23,
   "id": "68ba9131",
   "metadata": {},
   "outputs": [
    {
     "ename": "ValueError",
     "evalue": "operands could not be broadcast together with shapes (2,3) (2,2) ",
     "output_type": "error",
     "traceback": [
      "\u001b[1;31m---------------------------------------------------------------------------\u001b[0m",
      "\u001b[1;31mValueError\u001b[0m                                Traceback (most recent call last)",
      "\u001b[1;32m~\\AppData\\Local\\Temp/ipykernel_7340/811593533.py\u001b[0m in \u001b[0;36m<module>\u001b[1;34m\u001b[0m\n\u001b[1;32m----> 1\u001b[1;33m \u001b[0mm9\u001b[0m\u001b[1;33m+\u001b[0m\u001b[0mm8\u001b[0m\u001b[1;33m\u001b[0m\u001b[1;33m\u001b[0m\u001b[0m\n\u001b[0m",
      "\u001b[1;31mValueError\u001b[0m: operands could not be broadcast together with shapes (2,3) (2,2) "
     ]
    }
   ],
   "source": [
    "m9+m8"
   ]
  },
  {
   "cell_type": "code",
   "execution_count": 2,
   "id": "bae5f14c",
   "metadata": {},
   "outputs": [],
   "source": [
    "m10=np.array([[1,2,3],[4,5,6],[8,7,9]])"
   ]
  },
  {
   "cell_type": "code",
   "execution_count": 3,
   "id": "55c5896d",
   "metadata": {},
   "outputs": [],
   "source": [
    "m11=np.array([[4,5,6],[9,8,7],[2,5,8]])"
   ]
  },
  {
   "cell_type": "code",
   "execution_count": 4,
   "id": "b9d61a0c",
   "metadata": {},
   "outputs": [
    {
     "data": {
      "text/plain": [
       "(3, 3)"
      ]
     },
     "execution_count": 4,
     "metadata": {},
     "output_type": "execute_result"
    }
   ],
   "source": [
    "m11.shape"
   ]
  },
  {
   "cell_type": "code",
   "execution_count": 5,
   "id": "ae84845a",
   "metadata": {},
   "outputs": [
    {
     "data": {
      "text/plain": [
       "array([[1, 2, 3],\n",
       "       [4, 5, 6],\n",
       "       [8, 7, 9]])"
      ]
     },
     "execution_count": 5,
     "metadata": {},
     "output_type": "execute_result"
    }
   ],
   "source": [
    "m10"
   ]
  },
  {
   "cell_type": "code",
   "execution_count": 6,
   "id": "82396853",
   "metadata": {},
   "outputs": [
    {
     "data": {
      "text/plain": [
       "array([[4, 5, 6],\n",
       "       [9, 8, 7],\n",
       "       [2, 5, 8]])"
      ]
     },
     "execution_count": 6,
     "metadata": {},
     "output_type": "execute_result"
    }
   ],
   "source": [
    "m11"
   ]
  },
  {
   "cell_type": "code",
   "execution_count": 7,
   "id": "14bd15a3",
   "metadata": {},
   "outputs": [
    {
     "data": {
      "text/plain": [
       "array([[ 5,  7,  9],\n",
       "       [13, 13, 13],\n",
       "       [10, 12, 17]])"
      ]
     },
     "execution_count": 7,
     "metadata": {},
     "output_type": "execute_result"
    }
   ],
   "source": [
    "m10+m11"
   ]
  },
  {
   "cell_type": "code",
   "execution_count": 8,
   "id": "6a71d2e0",
   "metadata": {},
   "outputs": [
    {
     "data": {
      "text/plain": [
       "array([[ 4, 10, 18],\n",
       "       [36, 40, 42],\n",
       "       [16, 35, 72]])"
      ]
     },
     "execution_count": 8,
     "metadata": {},
     "output_type": "execute_result"
    }
   ],
   "source": [
    "m10*m11"
   ]
  },
  {
   "cell_type": "markdown",
   "id": "9d7e75bb",
   "metadata": {},
   "source": [
    "### random"
   ]
  },
  {
   "cell_type": "code",
   "execution_count": 9,
   "id": "c6bf621d",
   "metadata": {},
   "outputs": [],
   "source": [
    "arr=np.random.rand(2,3)"
   ]
  },
  {
   "cell_type": "code",
   "execution_count": 10,
   "id": "f81fc9e8",
   "metadata": {},
   "outputs": [
    {
     "data": {
      "text/plain": [
       "array([[0.80208558, 0.94183591, 0.30169551],\n",
       "       [0.51818895, 0.52821287, 0.06499082]])"
      ]
     },
     "execution_count": 10,
     "metadata": {},
     "output_type": "execute_result"
    }
   ],
   "source": [
    "arr"
   ]
  },
  {
   "cell_type": "markdown",
   "id": "a4464613",
   "metadata": {},
   "source": [
    "## Randint"
   ]
  },
  {
   "cell_type": "code",
   "execution_count": 21,
   "id": "4787b623",
   "metadata": {},
   "outputs": [
    {
     "data": {
      "text/plain": [
       "array([4, 9, 5, 4, 9])"
      ]
     },
     "execution_count": 21,
     "metadata": {},
     "output_type": "execute_result"
    }
   ],
   "source": [
    "np.random.randint(1,10,5)"
   ]
  },
  {
   "cell_type": "code",
   "execution_count": 23,
   "id": "3758d119",
   "metadata": {},
   "outputs": [
    {
     "data": {
      "text/plain": [
       "array([[2, 8, 4, 4],\n",
       "       [1, 7, 8, 5]])"
      ]
     },
     "execution_count": 23,
     "metadata": {},
     "output_type": "execute_result"
    }
   ],
   "source": [
    "np.random.randint(1,10,(2,4))"
   ]
  },
  {
   "cell_type": "code",
   "execution_count": 24,
   "id": "bce66b70",
   "metadata": {},
   "outputs": [
    {
     "data": {
      "text/plain": [
       "array([[ 6, 19, 50],\n",
       "       [86, 70, 33]])"
      ]
     },
     "execution_count": 24,
     "metadata": {},
     "output_type": "execute_result"
    }
   ],
   "source": [
    "np.random.randint(100,size=(2,3))"
   ]
  },
  {
   "cell_type": "code",
   "execution_count": 24,
   "id": "62a51b9a",
   "metadata": {},
   "outputs": [
    {
     "ename": "ValueError",
     "evalue": "low >= high",
     "output_type": "error",
     "traceback": [
      "\u001b[1;31m---------------------------------------------------------------------------\u001b[0m",
      "\u001b[1;31mValueError\u001b[0m                                Traceback (most recent call last)",
      "\u001b[1;32m~\\AppData\\Local\\Temp/ipykernel_7340/4133196886.py\u001b[0m in \u001b[0;36m<module>\u001b[1;34m\u001b[0m\n\u001b[1;32m----> 1\u001b[1;33m \u001b[0mnp\u001b[0m\u001b[1;33m.\u001b[0m\u001b[0mrandom\u001b[0m\u001b[1;33m.\u001b[0m\u001b[0mrandint\u001b[0m\u001b[1;33m(\u001b[0m\u001b[1;36m100\u001b[0m\u001b[1;33m,\u001b[0m\u001b[1;33m(\u001b[0m\u001b[1;36m2\u001b[0m\u001b[1;33m,\u001b[0m\u001b[1;36m3\u001b[0m\u001b[1;33m)\u001b[0m\u001b[1;33m)\u001b[0m\u001b[1;33m\u001b[0m\u001b[1;33m\u001b[0m\u001b[0m\n\u001b[0m",
      "\u001b[1;32mmtrand.pyx\u001b[0m in \u001b[0;36mnumpy.random.mtrand.RandomState.randint\u001b[1;34m()\u001b[0m\n",
      "\u001b[1;32m_bounded_integers.pyx\u001b[0m in \u001b[0;36mnumpy.random._bounded_integers._rand_int32\u001b[1;34m()\u001b[0m\n",
      "\u001b[1;32m_bounded_integers.pyx\u001b[0m in \u001b[0;36mnumpy.random._bounded_integers._rand_int32_broadcast\u001b[1;34m()\u001b[0m\n",
      "\u001b[1;31mValueError\u001b[0m: low >= high"
     ]
    }
   ],
   "source": [
    "np.random.randint(100,(2,3))"
   ]
  },
  {
   "cell_type": "markdown",
   "id": "11d05dc7",
   "metadata": {},
   "source": [
    "####  randint  will give int values  and  rand  will give float values"
   ]
  },
  {
   "cell_type": "code",
   "execution_count": 25,
   "id": "9ec3dd7a",
   "metadata": {},
   "outputs": [
    {
     "data": {
      "text/plain": [
       "array([[65.45342708, 79.2375986 , 31.13520163],\n",
       "       [61.98293107,  0.63932141, 50.68023408]])"
      ]
     },
     "execution_count": 25,
     "metadata": {},
     "output_type": "execute_result"
    }
   ],
   "source": [
    "np.random.rand(2,3)*100"
   ]
  },
  {
   "cell_type": "code",
   "execution_count": 26,
   "id": "3a9c4226",
   "metadata": {},
   "outputs": [
    {
     "data": {
      "text/plain": [
       "300"
      ]
     },
     "execution_count": 26,
     "metadata": {},
     "output_type": "execute_result"
    }
   ],
   "source": [
    "np.random.randint(3,5)*100"
   ]
  },
  {
   "cell_type": "markdown",
   "id": "8fb1c5d7",
   "metadata": {},
   "source": [
    "## Randn"
   ]
  },
  {
   "cell_type": "markdown",
   "id": "703fc81d",
   "metadata": {},
   "source": [
    "#### ranges for  uniform distibution (-3 to +3)"
   ]
  },
  {
   "cell_type": "code",
   "execution_count": 27,
   "id": "5761e363",
   "metadata": {},
   "outputs": [
    {
     "data": {
      "text/plain": [
       "array([-0.35986929,  0.77088994, -0.23840296,  0.05691557, -0.55103651])"
      ]
     },
     "execution_count": 27,
     "metadata": {},
     "output_type": "execute_result"
    }
   ],
   "source": [
    "np.random.randn(5)"
   ]
  },
  {
   "cell_type": "code",
   "execution_count": 28,
   "id": "b36d72a0",
   "metadata": {},
   "outputs": [
    {
     "data": {
      "text/plain": [
       "array([[ 1.05335351,  1.26328837, -0.24918134],\n",
       "       [-0.13821029, -0.16062844,  0.91944688],\n",
       "       [ 1.07747266,  0.08436038,  0.85635437],\n",
       "       [ 1.01139338,  0.22416848, -0.40019456],\n",
       "       [ 0.2381109 ,  1.06269122, -1.37576762]])"
      ]
     },
     "execution_count": 28,
     "metadata": {},
     "output_type": "execute_result"
    }
   ],
   "source": [
    "np.random.randn(5,3)"
   ]
  },
  {
   "cell_type": "code",
   "execution_count": 29,
   "id": "ef6abf63",
   "metadata": {},
   "outputs": [
    {
     "name": "stdout",
     "output_type": "stream",
     "text": [
      "[1. 2. 3. 4. 5.]\n",
      "<class 'numpy.ndarray'>\n",
      "float64\n"
     ]
    }
   ],
   "source": [
    "arr=np.array([1.0,2.0,3.0,4.0,5.0])\n",
    "print(arr)\n",
    "print(type(arr))\n",
    "print(arr.dtype)"
   ]
  },
  {
   "cell_type": "code",
   "execution_count": 30,
   "id": "6f76d556",
   "metadata": {},
   "outputs": [
    {
     "name": "stdout",
     "output_type": "stream",
     "text": [
      "[1 2 3 4 5]\n",
      "<class 'numpy.ndarray'>\n",
      "int32\n"
     ]
    }
   ],
   "source": [
    "arr=np.array([1,2,3,4,5])\n",
    "print(arr)\n",
    "print(type(arr))\n",
    "print(arr.dtype)"
   ]
  },
  {
   "cell_type": "code",
   "execution_count": 31,
   "id": "f64b7d5f",
   "metadata": {},
   "outputs": [
    {
     "name": "stdout",
     "output_type": "stream",
     "text": [
      "[1 2 6 4 5]\n",
      "<class 'numpy.ndarray'>\n",
      "int32\n"
     ]
    }
   ],
   "source": [
    "arr=np.array([1,2,6,4,5])\n",
    "print(arr)\n",
    "print(type(arr))\n",
    "print(arr.dtype)"
   ]
  },
  {
   "cell_type": "markdown",
   "id": "6217cf51",
   "metadata": {},
   "source": [
    "## Identity matrics"
   ]
  },
  {
   "cell_type": "markdown",
   "id": "f8b77d42",
   "metadata": {},
   "source": [
    "### eye  is used only for identity matrics"
   ]
  },
  {
   "cell_type": "code",
   "execution_count": 32,
   "id": "2f1bc913",
   "metadata": {},
   "outputs": [
    {
     "data": {
      "text/plain": [
       "array([[1., 0., 0.],\n",
       "       [0., 1., 0.],\n",
       "       [0., 0., 1.]])"
      ]
     },
     "execution_count": 32,
     "metadata": {},
     "output_type": "execute_result"
    }
   ],
   "source": [
    "np.eye(3)"
   ]
  },
  {
   "cell_type": "code",
   "execution_count": 33,
   "id": "08645ee1",
   "metadata": {},
   "outputs": [],
   "source": [
    "i=np.eye(3)"
   ]
  },
  {
   "cell_type": "code",
   "execution_count": 34,
   "id": "d1ae4f61",
   "metadata": {},
   "outputs": [
    {
     "data": {
      "text/plain": [
       "dtype('float64')"
      ]
     },
     "execution_count": 34,
     "metadata": {},
     "output_type": "execute_result"
    }
   ],
   "source": [
    "i.dtype"
   ]
  },
  {
   "cell_type": "markdown",
   "id": "9ec0e7bf",
   "metadata": {},
   "source": [
    "## linspace"
   ]
  },
  {
   "cell_type": "code",
   "execution_count": 35,
   "id": "ef6ccea3",
   "metadata": {},
   "outputs": [
    {
     "data": {
      "text/plain": [
       "array([ 1.,  2.,  3.,  4.,  5.,  6.,  7.,  8.,  9., 10.])"
      ]
     },
     "execution_count": 35,
     "metadata": {},
     "output_type": "execute_result"
    }
   ],
   "source": [
    "np.linspace(1,10,10)"
   ]
  },
  {
   "cell_type": "code",
   "execution_count": 36,
   "id": "f764720c",
   "metadata": {},
   "outputs": [
    {
     "data": {
      "text/plain": [
       "array([ 1.        ,  1.47368421,  1.94736842,  2.42105263,  2.89473684,\n",
       "        3.36842105,  3.84210526,  4.31578947,  4.78947368,  5.26315789,\n",
       "        5.73684211,  6.21052632,  6.68421053,  7.15789474,  7.63157895,\n",
       "        8.10526316,  8.57894737,  9.05263158,  9.52631579, 10.        ])"
      ]
     },
     "execution_count": 36,
     "metadata": {},
     "output_type": "execute_result"
    }
   ],
   "source": [
    "np.linspace(1,10,20)"
   ]
  },
  {
   "cell_type": "markdown",
   "id": "68382ee2",
   "metadata": {},
   "source": [
    "## Array"
   ]
  },
  {
   "cell_type": "code",
   "execution_count": 37,
   "id": "c829c34d",
   "metadata": {},
   "outputs": [],
   "source": [
    "arr1=np.array([1,2,3])\n",
    "arr2=np.array([4,5,6])"
   ]
  },
  {
   "cell_type": "code",
   "execution_count": 38,
   "id": "755c6b5b",
   "metadata": {},
   "outputs": [
    {
     "name": "stdout",
     "output_type": "stream",
     "text": [
      "[5 7 9]\n",
      "[ 4 10 18]\n",
      "[  1  32 729]\n"
     ]
    }
   ],
   "source": [
    "print(arr1+arr2)\n",
    "print(arr1*arr2)\n",
    "print(arr1**arr2)\n"
   ]
  },
  {
   "cell_type": "markdown",
   "id": "0554fbdf",
   "metadata": {},
   "source": [
    "### zeros and onoes"
   ]
  },
  {
   "cell_type": "code",
   "execution_count": 39,
   "id": "5a3d756e",
   "metadata": {},
   "outputs": [
    {
     "data": {
      "text/plain": [
       "array([0., 0., 0.])"
      ]
     },
     "execution_count": 39,
     "metadata": {},
     "output_type": "execute_result"
    }
   ],
   "source": [
    "np.zeros(3)"
   ]
  },
  {
   "cell_type": "code",
   "execution_count": 40,
   "id": "ec1062a9",
   "metadata": {},
   "outputs": [
    {
     "data": {
      "text/plain": [
       "array([[0., 0., 0., 0.],\n",
       "       [0., 0., 0., 0.]])"
      ]
     },
     "execution_count": 40,
     "metadata": {},
     "output_type": "execute_result"
    }
   ],
   "source": [
    "np.zeros((2,4))"
   ]
  },
  {
   "cell_type": "code",
   "execution_count": 41,
   "id": "ee45fc23",
   "metadata": {},
   "outputs": [
    {
     "data": {
      "text/plain": [
       "array([1., 1., 1., 1.])"
      ]
     },
     "execution_count": 41,
     "metadata": {},
     "output_type": "execute_result"
    }
   ],
   "source": [
    "np.ones(4)"
   ]
  },
  {
   "cell_type": "code",
   "execution_count": 42,
   "id": "aa2e2c77",
   "metadata": {},
   "outputs": [
    {
     "data": {
      "text/plain": [
       "array([[1., 1., 1., 1.],\n",
       "       [1., 1., 1., 1.]])"
      ]
     },
     "execution_count": 42,
     "metadata": {},
     "output_type": "execute_result"
    }
   ],
   "source": [
    "np.ones((2,4))"
   ]
  },
  {
   "cell_type": "code",
   "execution_count": 43,
   "id": "c32cb885",
   "metadata": {},
   "outputs": [
    {
     "data": {
      "text/plain": [
       "array([[1., 1., 1., 1.],\n",
       "       [1., 1., 1., 1.],\n",
       "       [1., 1., 1., 1.],\n",
       "       [1., 1., 1., 1.]])"
      ]
     },
     "execution_count": 43,
     "metadata": {},
     "output_type": "execute_result"
    }
   ],
   "source": [
    "np.ones((4,4))"
   ]
  },
  {
   "cell_type": "markdown",
   "id": "6dae488c",
   "metadata": {},
   "source": [
    "## matrix multiplication"
   ]
  },
  {
   "cell_type": "code",
   "execution_count": 44,
   "id": "e468bb71",
   "metadata": {},
   "outputs": [],
   "source": [
    "A1 = np.array([[1,2],[3,4]])\n",
    "B1 = np.array([[5,6],[7,8]])"
   ]
  },
  {
   "cell_type": "code",
   "execution_count": 45,
   "id": "2ad13ad5",
   "metadata": {},
   "outputs": [
    {
     "data": {
      "text/plain": [
       "array([[19, 22],\n",
       "       [43, 50]])"
      ]
     },
     "execution_count": 45,
     "metadata": {},
     "output_type": "execute_result"
    }
   ],
   "source": [
    "np.matmul(A1,B1)"
   ]
  },
  {
   "cell_type": "code",
   "execution_count": 46,
   "id": "0adffe2e",
   "metadata": {},
   "outputs": [
    {
     "data": {
      "text/plain": [
       "array([[19, 22],\n",
       "       [43, 50]])"
      ]
     },
     "execution_count": 46,
     "metadata": {},
     "output_type": "execute_result"
    }
   ],
   "source": [
    "A1.dot(B1)"
   ]
  },
  {
   "cell_type": "code",
   "execution_count": 47,
   "id": "2d100d62",
   "metadata": {},
   "outputs": [],
   "source": [
    "arr = np.array([[1, 5, 6],\n",
    "                [4, 7, 2],\n",
    "                [3, 1, 9]])"
   ]
  },
  {
   "cell_type": "code",
   "execution_count": 48,
   "id": "2cc4c246",
   "metadata": {},
   "outputs": [
    {
     "name": "stdout",
     "output_type": "stream",
     "text": [
      "max values in array 9\n",
      "min values in array 1\n",
      "sum values in array 38\n"
     ]
    }
   ],
   "source": [
    "print(\"max values in array\",arr.max())\n",
    "print(\"min values in array\",arr.min())\n",
    "print(\"sum values in array\",arr.sum())"
   ]
  },
  {
   "cell_type": "markdown",
   "id": "5eef613d",
   "metadata": {},
   "source": [
    "## axis =1 is used for row wise operation , axis = 0 is used for column wise operation"
   ]
  },
  {
   "cell_type": "code",
   "execution_count": 49,
   "id": "434ad04e",
   "metadata": {},
   "outputs": [
    {
     "name": "stdout",
     "output_type": "stream",
     "text": [
      "Row-wise maximum max values  [6 7 9]\n",
      "Row-wise maximum min values [1 2 1]\n",
      "Row-wise maximum sum values [12 13 13]\n"
     ]
    }
   ],
   "source": [
    "print(\"Row-wise maximum max values \",arr.max(axis= 1))\n",
    "print(\"Row-wise maximum min values\",arr.min(axis= 1))\n",
    "print(\"Row-wise maximum sum values\",arr.sum(axis= 1))"
   ]
  },
  {
   "cell_type": "code",
   "execution_count": 50,
   "id": "c2b1e2d3",
   "metadata": {},
   "outputs": [
    {
     "name": "stdout",
     "output_type": "stream",
     "text": [
      "Row-wise maximum max values  [4 7 9]\n",
      "Row-wise maximum min values [1 1 2]\n",
      "Row-wise maximum sum values [ 8 13 17]\n"
     ]
    }
   ],
   "source": [
    "print(\"Row-wise maximum max values \",arr.max(axis= 0))\n",
    "print(\"Row-wise maximum min values\",arr.min(axis= 0))\n",
    "print(\"Row-wise maximum sum values\",arr.sum(axis= 0))"
   ]
  },
  {
   "cell_type": "code",
   "execution_count": 51,
   "id": "3d4f6f3b",
   "metadata": {},
   "outputs": [],
   "source": [
    "arr3=np.array([2,5,4,3,6])"
   ]
  },
  {
   "cell_type": "code",
   "execution_count": 52,
   "id": "a757a9e3",
   "metadata": {},
   "outputs": [
    {
     "data": {
      "text/plain": [
       "4.0"
      ]
     },
     "execution_count": 52,
     "metadata": {},
     "output_type": "execute_result"
    }
   ],
   "source": [
    "arr3.mean()"
   ]
  },
  {
   "cell_type": "code",
   "execution_count": 53,
   "id": "d1f7f28a",
   "metadata": {},
   "outputs": [
    {
     "data": {
      "text/plain": [
       "2.0"
      ]
     },
     "execution_count": 53,
     "metadata": {},
     "output_type": "execute_result"
    }
   ],
   "source": [
    "arr3.var()"
   ]
  },
  {
   "cell_type": "code",
   "execution_count": 54,
   "id": "e26353c1",
   "metadata": {},
   "outputs": [
    {
     "data": {
      "text/plain": [
       "1.4142135623730951"
      ]
     },
     "execution_count": 54,
     "metadata": {},
     "output_type": "execute_result"
    }
   ],
   "source": [
    "arr3.std()"
   ]
  },
  {
   "cell_type": "code",
   "execution_count": 55,
   "id": "0237a66f",
   "metadata": {},
   "outputs": [],
   "source": [
    "arr = np.array([[1, 5, 6],\n",
    "                [4, 7, 2],\n",
    "                [3, 1, 9]])"
   ]
  },
  {
   "cell_type": "code",
   "execution_count": 56,
   "id": "7a0e6a0b",
   "metadata": {},
   "outputs": [
    {
     "name": "stdout",
     "output_type": "stream",
     "text": [
      "mean [2.66666667 4.33333333 5.66666667]\n",
      "std [1.24721913 2.49443826 2.86744176]\n",
      "variance [1.55555556 6.22222222 8.22222222]\n"
     ]
    }
   ],
   "source": [
    "print(\"mean\",arr.mean(axis = 0))\n",
    "print(\"std\",arr.std(axis = 0))\n",
    "print(\"variance\",arr.var(axis = 0))"
   ]
  },
  {
   "cell_type": "code",
   "execution_count": 57,
   "id": "2592a27b",
   "metadata": {},
   "outputs": [
    {
     "name": "stdout",
     "output_type": "stream",
     "text": [
      "mean [4.         4.33333333 4.33333333]\n",
      "std [2.1602469  2.05480467 3.39934634]\n",
      "variance [ 4.66666667  4.22222222 11.55555556]\n"
     ]
    }
   ],
   "source": [
    "print(\"mean\",arr.mean(axis = 1))\n",
    "print(\"std\",arr.std(axis = 1))\n",
    "print(\"variance\",arr.var(axis = 1))"
   ]
  },
  {
   "cell_type": "code",
   "execution_count": 58,
   "id": "f11dfcf3",
   "metadata": {},
   "outputs": [],
   "source": [
    "m1=np.array([1,2,3,4,5,6])"
   ]
  },
  {
   "cell_type": "code",
   "execution_count": 59,
   "id": "c453f48d",
   "metadata": {},
   "outputs": [
    {
     "data": {
      "text/plain": [
       "array([[1, 2, 3],\n",
       "       [4, 5, 6]])"
      ]
     },
     "execution_count": 59,
     "metadata": {},
     "output_type": "execute_result"
    }
   ],
   "source": [
    "m1.reshape(2,3)"
   ]
  },
  {
   "cell_type": "code",
   "execution_count": 60,
   "id": "0fc6e96b",
   "metadata": {},
   "outputs": [
    {
     "data": {
      "text/plain": [
       "array([[1, 2],\n",
       "       [3, 4],\n",
       "       [5, 6]])"
      ]
     },
     "execution_count": 60,
     "metadata": {},
     "output_type": "execute_result"
    }
   ],
   "source": [
    "m1.reshape(3,2)"
   ]
  },
  {
   "cell_type": "code",
   "execution_count": 61,
   "id": "fffe18fc",
   "metadata": {},
   "outputs": [
    {
     "name": "stdout",
     "output_type": "stream",
     "text": [
      "(5, 2)\n",
      "[[1 2]\n",
      " [3 4]\n",
      " [2 3]\n",
      " [5 6]\n",
      " [8 5]]\n"
     ]
    }
   ],
   "source": [
    "m3=np.array([[1,2],[3,4],[2,3],[5,6],[8,5]])\n",
    "print(m3.shape)\n",
    "print(m3)"
   ]
  },
  {
   "cell_type": "code",
   "execution_count": 62,
   "id": "bd2369cd",
   "metadata": {},
   "outputs": [
    {
     "data": {
      "text/plain": [
       "array([[1, 2, 3, 4, 2],\n",
       "       [3, 5, 6, 8, 5]])"
      ]
     },
     "execution_count": 62,
     "metadata": {},
     "output_type": "execute_result"
    }
   ],
   "source": [
    "m3.reshape(2,5)"
   ]
  },
  {
   "cell_type": "markdown",
   "id": "b5ff33a5",
   "metadata": {},
   "source": [
    "## stacking arrays"
   ]
  },
  {
   "cell_type": "code",
   "execution_count": 63,
   "id": "811ab5dc",
   "metadata": {},
   "outputs": [],
   "source": [
    "arr1 = np.array([[1,2],[3,4]])   \n",
    "arr2 = np.array([[10,20],[30,40]]) "
   ]
  },
  {
   "cell_type": "code",
   "execution_count": 64,
   "id": "2342e195",
   "metadata": {},
   "outputs": [
    {
     "data": {
      "text/plain": [
       "array([[ 1,  2, 10, 20],\n",
       "       [ 3,  4, 30, 40]])"
      ]
     },
     "execution_count": 64,
     "metadata": {},
     "output_type": "execute_result"
    }
   ],
   "source": [
    "## horizantal stack\n",
    "np.hstack((arr1,arr2))"
   ]
  },
  {
   "cell_type": "code",
   "execution_count": 65,
   "id": "39242d97",
   "metadata": {},
   "outputs": [
    {
     "data": {
      "text/plain": [
       "array([[ 1,  2],\n",
       "       [ 3,  4],\n",
       "       [10, 20],\n",
       "       [30, 40]])"
      ]
     },
     "execution_count": 65,
     "metadata": {},
     "output_type": "execute_result"
    }
   ],
   "source": [
    "## vertical stack\n",
    "np.vstack((arr1,arr2))"
   ]
  },
  {
   "cell_type": "code",
   "execution_count": 66,
   "id": "846f8b9a",
   "metadata": {},
   "outputs": [
    {
     "data": {
      "text/plain": [
       "array([[ 1,  2],\n",
       "       [ 3,  4],\n",
       "       [10, 20],\n",
       "       [30, 40]])"
      ]
     },
     "execution_count": 66,
     "metadata": {},
     "output_type": "execute_result"
    }
   ],
   "source": [
    "np.concatenate((arr1,arr2),axis=0)"
   ]
  },
  {
   "cell_type": "code",
   "execution_count": 63,
   "id": "72b01439",
   "metadata": {},
   "outputs": [
    {
     "data": {
      "text/plain": [
       "array([[ 1,  2, 10, 20],\n",
       "       [ 3,  4, 30, 40]])"
      ]
     },
     "execution_count": 63,
     "metadata": {},
     "output_type": "execute_result"
    }
   ],
   "source": [
    "np.concatenate((arr1,arr2),axis=1)"
   ]
  },
  {
   "cell_type": "code",
   "execution_count": null,
   "id": "52b26d2c",
   "metadata": {},
   "outputs": [],
   "source": []
  },
  {
   "cell_type": "code",
   "execution_count": null,
   "id": "e63118a5",
   "metadata": {},
   "outputs": [],
   "source": []
  }
 ],
 "metadata": {
  "kernelspec": {
   "display_name": "Python 3 (ipykernel)",
   "language": "python",
   "name": "python3"
  },
  "language_info": {
   "codemirror_mode": {
    "name": "ipython",
    "version": 3
   },
   "file_extension": ".py",
   "mimetype": "text/x-python",
   "name": "python",
   "nbconvert_exporter": "python",
   "pygments_lexer": "ipython3",
   "version": "3.9.7"
  }
 },
 "nbformat": 4,
 "nbformat_minor": 5
}
