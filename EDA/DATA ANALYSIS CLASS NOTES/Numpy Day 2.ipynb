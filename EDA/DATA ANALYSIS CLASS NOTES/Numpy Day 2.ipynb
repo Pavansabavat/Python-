{
 "cells": [
  {
   "cell_type": "code",
   "execution_count": 1,
   "id": "601765cd",
   "metadata": {},
   "outputs": [],
   "source": [
    "import time"
   ]
  },
  {
   "cell_type": "code",
   "execution_count": 3,
   "id": "366beb84",
   "metadata": {},
   "outputs": [
    {
     "data": {
      "text/plain": [
       "1652071960.086004"
      ]
     },
     "execution_count": 3,
     "metadata": {},
     "output_type": "execute_result"
    }
   ],
   "source": [
    "time.time()"
   ]
  },
  {
   "cell_type": "code",
   "execution_count": 6,
   "id": "43ae5c5e",
   "metadata": {},
   "outputs": [
    {
     "data": {
      "text/plain": [
       "1652072002.924431"
      ]
     },
     "execution_count": 6,
     "metadata": {},
     "output_type": "execute_result"
    }
   ],
   "source": [
    "time.time()"
   ]
  },
  {
   "cell_type": "code",
   "execution_count": 13,
   "id": "2ed39bdc",
   "metadata": {},
   "outputs": [
    {
     "name": "stdout",
     "output_type": "stream",
     "text": [
      "2.4385316371917725\n"
     ]
    }
   ],
   "source": [
    "test=10000000\n",
    "l1=range(test)\n",
    "l2=range(test)\n",
    "start=time.time()\n",
    "reslt=[x+y for x,y in zip(l1,l2)]\n",
    "end_time=time.time()\n",
    "print((end_time-start))"
   ]
  },
  {
   "cell_type": "code",
   "execution_count": 12,
   "id": "10a5261d",
   "metadata": {},
   "outputs": [],
   "source": [
    "import numpy as np"
   ]
  },
  {
   "cell_type": "code",
   "execution_count": 15,
   "id": "682d78fa",
   "metadata": {},
   "outputs": [
    {
     "name": "stdout",
     "output_type": "stream",
     "text": [
      "0.026942968368530273\n"
     ]
    }
   ],
   "source": [
    "arr1=np.arange(test)\n",
    "arr2=np.arange(test)\n",
    "start=time.time()\n",
    "result=arr1+arr2\n",
    "print((time.time()-start))"
   ]
  },
  {
   "cell_type": "markdown",
   "id": "2b1b4d77",
   "metadata": {},
   "source": [
    "### in list  we can add any  int & float &string values it can store  any data\n",
    "#### bbut in numpy it can store  any one   but not mix"
   ]
  },
  {
   "cell_type": "code",
   "execution_count": 22,
   "id": "5564c449",
   "metadata": {},
   "outputs": [
    {
     "name": "stdout",
     "output_type": "stream",
     "text": [
      "numpy.array n1 [1. 2. 3.]\n",
      "numpy.array n2 ['1' '2' 'a']\n"
     ]
    }
   ],
   "source": [
    "l1=[1,2.0,3]\n",
    "l2=[1,2,'a']\n",
    "n1=np.array(l1)\n",
    "print(\"numpy.array n1\",n1)\n",
    "n2=np.array(l2)\n",
    "print(\"numpy.array n2\",n2)"
   ]
  },
  {
   "cell_type": "code",
   "execution_count": 23,
   "id": "6934d6c4",
   "metadata": {},
   "outputs": [
    {
     "data": {
      "text/plain": [
       "dtype('<U11')"
      ]
     },
     "execution_count": 23,
     "metadata": {},
     "output_type": "execute_result"
    }
   ],
   "source": [
    "n2.dtype"
   ]
  },
  {
   "cell_type": "code",
   "execution_count": 27,
   "id": "79432cc9",
   "metadata": {},
   "outputs": [
    {
     "name": "stdout",
     "output_type": "stream",
     "text": [
      "['1' '2.0' '3']\n"
     ]
    }
   ],
   "source": [
    "n3=np.array(l1,dtype='<U11')\n",
    "print(n3)"
   ]
  },
  {
   "cell_type": "code",
   "execution_count": 29,
   "id": "f1460999",
   "metadata": {},
   "outputs": [],
   "source": [
    "n4=np.array(l1,dtype=\"int\")"
   ]
  },
  {
   "cell_type": "code",
   "execution_count": 30,
   "id": "1ba33509",
   "metadata": {},
   "outputs": [
    {
     "data": {
      "text/plain": [
       "array([1, 2, 3])"
      ]
     },
     "execution_count": 30,
     "metadata": {},
     "output_type": "execute_result"
    }
   ],
   "source": [
    "n4"
   ]
  },
  {
   "cell_type": "markdown",
   "id": "1e428d6c",
   "metadata": {},
   "source": [
    "####  accesing the particular eement by using indexing"
   ]
  },
  {
   "cell_type": "code",
   "execution_count": 5,
   "id": "c7f96272",
   "metadata": {},
   "outputs": [],
   "source": [
    "n5=np.array([[1,2,3],[4,5,6],[7,8,9]])"
   ]
  },
  {
   "cell_type": "code",
   "execution_count": 6,
   "id": "923c006f",
   "metadata": {},
   "outputs": [
    {
     "data": {
      "text/plain": [
       "array([[1, 2, 3],\n",
       "       [4, 5, 6],\n",
       "       [7, 8, 9]])"
      ]
     },
     "execution_count": 6,
     "metadata": {},
     "output_type": "execute_result"
    }
   ],
   "source": [
    "n5"
   ]
  },
  {
   "cell_type": "code",
   "execution_count": 7,
   "id": "02354d1d",
   "metadata": {},
   "outputs": [],
   "source": [
    "import numpy as np"
   ]
  },
  {
   "cell_type": "code",
   "execution_count": 8,
   "id": "d29d8cea",
   "metadata": {},
   "outputs": [
    {
     "name": "stdout",
     "output_type": "stream",
     "text": [
      "['n5[0][2]', 3]\n",
      "['n5[2][1]', 8]\n",
      "['n5[1][0]', 4]\n"
     ]
    }
   ],
   "source": [
    "print([\"n5[0][2]\",n5[0][2]])\n",
    "print([\"n5[2][1]\",n5[2][1]])\n",
    "print([\"n5[1][0]\",n5[1][0]])"
   ]
  },
  {
   "cell_type": "markdown",
   "id": "071f2655",
   "metadata": {},
   "source": [
    "##  xmple"
   ]
  },
  {
   "cell_type": "code",
   "execution_count": 54,
   "id": "7578d7b6",
   "metadata": {},
   "outputs": [],
   "source": [
    "age=[10,56,89,74,45,14,50]"
   ]
  },
  {
   "cell_type": "code",
   "execution_count": 55,
   "id": "26d32705",
   "metadata": {},
   "outputs": [
    {
     "data": {
      "text/plain": [
       "array([10, 56, 89, 74, 45, 14, 50])"
      ]
     },
     "execution_count": 55,
     "metadata": {},
     "output_type": "execute_result"
    }
   ],
   "source": [
    "arr=np.array(age)\n",
    "arr"
   ]
  },
  {
   "cell_type": "code",
   "execution_count": 56,
   "id": "52451e42",
   "metadata": {},
   "outputs": [
    {
     "data": {
      "text/plain": [
       "array([False,  True,  True,  True, False, False,  True])"
      ]
     },
     "execution_count": 56,
     "metadata": {},
     "output_type": "execute_result"
    }
   ],
   "source": [
    "arr>45"
   ]
  },
  {
   "cell_type": "code",
   "execution_count": 57,
   "id": "86a6c960",
   "metadata": {},
   "outputs": [],
   "source": [
    "arr2=arr[arr>55]"
   ]
  },
  {
   "cell_type": "code",
   "execution_count": 58,
   "id": "0787e665",
   "metadata": {},
   "outputs": [
    {
     "data": {
      "text/plain": [
       "array([56, 89, 74])"
      ]
     },
     "execution_count": 58,
     "metadata": {},
     "output_type": "execute_result"
    }
   ],
   "source": [
    "arr2"
   ]
  },
  {
   "cell_type": "code",
   "execution_count": 60,
   "id": "924fd6e9",
   "metadata": {},
   "outputs": [],
   "source": [
    "age=[10,56,89,74,45,14,50,45,89,12,21,31]"
   ]
  },
  {
   "cell_type": "code",
   "execution_count": 61,
   "id": "7086adce",
   "metadata": {},
   "outputs": [
    {
     "data": {
      "text/plain": [
       "array([10, 89, 74, 14])"
      ]
     },
     "execution_count": 61,
     "metadata": {},
     "output_type": "execute_result"
    }
   ],
   "source": [
    "arr[(arr<17)|(arr>60)]"
   ]
  },
  {
   "cell_type": "code",
   "execution_count": 64,
   "id": "42c59b40",
   "metadata": {},
   "outputs": [
    {
     "data": {
      "text/plain": [
       "array([56, 74])"
      ]
     },
     "execution_count": 64,
     "metadata": {},
     "output_type": "execute_result"
    }
   ],
   "source": [
    "arr[((arr%2)==0)&(arr>55)]"
   ]
  },
  {
   "cell_type": "code",
   "execution_count": 83,
   "id": "a0fc5a77",
   "metadata": {},
   "outputs": [
    {
     "data": {
      "text/plain": [
       "array([45])"
      ]
     },
     "execution_count": 83,
     "metadata": {},
     "output_type": "execute_result"
    }
   ],
   "source": [
    "arr[((arr%3)==0)&(arr>15)]"
   ]
  },
  {
   "cell_type": "markdown",
   "id": "72f8e8e6",
   "metadata": {},
   "source": [
    "### flatten   ravel"
   ]
  },
  {
   "cell_type": "code",
   "execution_count": 98,
   "id": "c7ca240a",
   "metadata": {},
   "outputs": [
    {
     "data": {
      "text/plain": [
       "array([[1, 2, 3],\n",
       "       [4, 5, 6]])"
      ]
     },
     "execution_count": 98,
     "metadata": {},
     "output_type": "execute_result"
    }
   ],
   "source": [
    "arr=np.array([[1,2,3],[4,5,6]])\n",
    "arr"
   ]
  },
  {
   "cell_type": "code",
   "execution_count": 99,
   "id": "2a25d501",
   "metadata": {},
   "outputs": [
    {
     "name": "stdout",
     "output_type": "stream",
     "text": [
      "arr after flattering [1 2 3 4 5 6]\n",
      "arr after modify [ 1  2 14  4  5  6]\n",
      "actual array [[1 2 3]\n",
      " [4 5 6]]\n"
     ]
    }
   ],
   "source": [
    "a1=arr.flatten()\n",
    "print(\"arr after flattering\",a1)\n",
    "a1[2]=14\n",
    "print(\"arr after modify\",a1)\n",
    "print(\"actual array\",arr)"
   ]
  },
  {
   "cell_type": "code",
   "execution_count": 100,
   "id": "27911bc1",
   "metadata": {},
   "outputs": [
    {
     "name": "stdout",
     "output_type": "stream",
     "text": [
      "a1 after flattering [1 2 3 4 5 6]\n",
      "a1 after modify [ 1  2 14  4  5  6]\n",
      "actual array [[ 1  2 14]\n",
      " [ 4  5  6]]\n"
     ]
    }
   ],
   "source": [
    "a1=arr.ravel()\n",
    "print(\"a1 after flattering\",a1)\n",
    "a1[2]=14\n",
    "print(\"a1 after modify\",a1)\n",
    "print(\"actual array\",arr)"
   ]
  },
  {
   "cell_type": "markdown",
   "id": "99cb8fe7",
   "metadata": {},
   "source": [
    "### index slicing method"
   ]
  },
  {
   "cell_type": "code",
   "execution_count": 103,
   "id": "11e12bf5",
   "metadata": {},
   "outputs": [
    {
     "data": {
      "text/plain": [
       "array([[ 1,  2,  3,  4],\n",
       "       [ 5,  6,  7,  8],\n",
       "       [ 9, 10, 11, 12],\n",
       "       [13, 14, 15, 16]])"
      ]
     },
     "execution_count": 103,
     "metadata": {},
     "output_type": "execute_result"
    }
   ],
   "source": [
    "arr1=np.array([[1,2,3,4],[5,6,7,8],[9,10,11,12],[13,14,15,16]])\n",
    "arr1"
   ]
  },
  {
   "cell_type": "code",
   "execution_count": 111,
   "id": "8f0220d4",
   "metadata": {},
   "outputs": [
    {
     "data": {
      "text/plain": [
       "array([[ 6,  7],\n",
       "       [10, 11]])"
      ]
     },
     "execution_count": 111,
     "metadata": {},
     "output_type": "execute_result"
    }
   ],
   "source": [
    "arr1[1:3,1:3]"
   ]
  },
  {
   "cell_type": "code",
   "execution_count": 112,
   "id": "c9029d7d",
   "metadata": {},
   "outputs": [
    {
     "data": {
      "text/plain": [
       "array([[ 6,  7,  8],\n",
       "       [10, 11, 12],\n",
       "       [14, 15, 16]])"
      ]
     },
     "execution_count": 112,
     "metadata": {},
     "output_type": "execute_result"
    }
   ],
   "source": [
    "arr1[1:4,1:4]"
   ]
  },
  {
   "cell_type": "code",
   "execution_count": 113,
   "id": "2e245301",
   "metadata": {},
   "outputs": [
    {
     "data": {
      "text/plain": [
       "array([[ 5,  6,  7,  8],\n",
       "       [ 9, 10, 11, 12],\n",
       "       [13, 14, 15, 16]])"
      ]
     },
     "execution_count": 113,
     "metadata": {},
     "output_type": "execute_result"
    }
   ],
   "source": [
    "arr1[1::]"
   ]
  },
  {
   "cell_type": "markdown",
   "id": "59ac8a62",
   "metadata": {},
   "source": [
    "### transpose   chaging from rows to column"
   ]
  },
  {
   "cell_type": "code",
   "execution_count": 116,
   "id": "c372fea2",
   "metadata": {},
   "outputs": [
    {
     "data": {
      "text/plain": [
       "array([[1, 2, 3],\n",
       "       [4, 5, 6],\n",
       "       [7, 8, 9]])"
      ]
     },
     "execution_count": 116,
     "metadata": {},
     "output_type": "execute_result"
    }
   ],
   "source": [
    "arr=np.array([[1,2,3],[4,5,6],[7,8,9]])\n",
    "arr"
   ]
  },
  {
   "cell_type": "code",
   "execution_count": 118,
   "id": "bc058c62",
   "metadata": {},
   "outputs": [
    {
     "data": {
      "text/plain": [
       "array([[1, 4, 7],\n",
       "       [2, 5, 8],\n",
       "       [3, 6, 9]])"
      ]
     },
     "execution_count": 118,
     "metadata": {},
     "output_type": "execute_result"
    }
   ],
   "source": [
    "b=np.transpose(arr)\n",
    "b"
   ]
  },
  {
   "cell_type": "markdown",
   "id": "491e5a56",
   "metadata": {},
   "source": [
    "###  broadcasting"
   ]
  },
  {
   "cell_type": "code",
   "execution_count": 120,
   "id": "d2bb635c",
   "metadata": {},
   "outputs": [],
   "source": [
    "arr1=np.array([[2,3,4,8],[4,5,6,8]])\n",
    "arr2=np.array([4,5,6,9])"
   ]
  },
  {
   "cell_type": "code",
   "execution_count": 121,
   "id": "8b4a23d4",
   "metadata": {},
   "outputs": [
    {
     "data": {
      "text/plain": [
       "array([[ 6,  8, 10, 17],\n",
       "       [ 8, 10, 12, 17]])"
      ]
     },
     "execution_count": 121,
     "metadata": {},
     "output_type": "execute_result"
    }
   ],
   "source": [
    "arr1+arr2"
   ]
  },
  {
   "cell_type": "code",
   "execution_count": 13,
   "id": "eeee548e",
   "metadata": {},
   "outputs": [],
   "source": [
    "arr1=np.array([[2,3,4,8],[4,5,6,8]])\n",
    "arr2=np.array([[4,5,6,9],[8,4,7,5]])"
   ]
  },
  {
   "cell_type": "code",
   "execution_count": 14,
   "id": "658de75d",
   "metadata": {},
   "outputs": [
    {
     "data": {
      "text/plain": [
       "array([[ 6,  8, 10, 17],\n",
       "       [12,  9, 13, 13]])"
      ]
     },
     "execution_count": 14,
     "metadata": {},
     "output_type": "execute_result"
    }
   ],
   "source": [
    "arr1+arr2"
   ]
  },
  {
   "cell_type": "code",
   "execution_count": null,
   "id": "ad6e0628",
   "metadata": {},
   "outputs": [],
   "source": []
  }
 ],
 "metadata": {
  "kernelspec": {
   "display_name": "Python 3 (ipykernel)",
   "language": "python",
   "name": "python3"
  },
  "language_info": {
   "codemirror_mode": {
    "name": "ipython",
    "version": 3
   },
   "file_extension": ".py",
   "mimetype": "text/x-python",
   "name": "python",
   "nbconvert_exporter": "python",
   "pygments_lexer": "ipython3",
   "version": "3.9.7"
  }
 },
 "nbformat": 4,
 "nbformat_minor": 5
}
